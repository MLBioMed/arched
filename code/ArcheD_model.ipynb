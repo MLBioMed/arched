{
 "cells": [
  {
   "cell_type": "code",
   "execution_count": 1,
   "metadata": {},
   "outputs": [
    {
     "name": "stderr",
     "output_type": "stream",
     "text": [
      "2023-03-09 15:34:41.466163: I tensorflow/stream_executor/platform/default/dso_loader.cc:49] Successfully opened dynamic library libcudart.so.10.1\n"
     ]
    }
   ],
   "source": [
    "# import libraries\n",
    "import numpy as np # linear algebra\n",
    "import pandas as pd # data processing, CSV file I/O (e.g. pd.read_csv)\n",
    "import os\n",
    "import time\n",
    "import sys\n",
    "import glob\n",
    "\n",
    "import tensorflow as tf\n",
    "from tensorflow import keras \n",
    "from tensorflow.keras.utils import Sequence\n",
    "from tensorflow.keras.regularizers import l2\n",
    "from tensorflow.keras.initializers import glorot_uniform\n",
    "import tensorflow.keras.backend as K\n",
    "\n",
    "import matplotlib.pyplot as plt\n",
    "from PIL import Image\n",
    "import nibabel as nib\n",
    "\n",
    "from scipy import stats\n",
    "import math\n",
    "\n",
    "\n",
    "from sklearn.model_selection import StratifiedKFold\n",
    "from sklearn.model_selection import KFold\n",
    "\n",
    "import SimpleITK as sitk\n",
    "from dltk.io.augmentation import *\n",
    "from dltk.io.preprocessing import *\n",
    "\n",
    "from random import choice"
   ]
  },
  {
   "cell_type": "code",
   "execution_count": 2,
   "metadata": {},
   "outputs": [],
   "source": [
    "#define folder\n",
    "date = '20_10_22'\n"
   ]
  },
  {
   "cell_type": "code",
   "execution_count": 3,
   "metadata": {},
   "outputs": [],
   "source": [
    "#load metafile\n",
    "meta = pd.read_csv('/csc/epitkane/home/atagmazi/AD_DL_ADNI/metafile_completing/metafile_completed_adni_all_04_10_2022.csv')"
   ]
  },
  {
   "cell_type": "code",
   "execution_count": 4,
   "metadata": {},
   "outputs": [
    {
     "data": {
      "text/plain": [
       "(31431, 27)"
      ]
     },
     "execution_count": 4,
     "metadata": {},
     "output_type": "execute_result"
    }
   ],
   "source": [
    "meta.shape"
   ]
  },
  {
   "cell_type": "code",
   "execution_count": 5,
   "metadata": {},
   "outputs": [],
   "source": [
    "# delete damaged file\n",
    "meta = meta.loc[meta['Image_id'] != 'I280713']\n",
    "meta = meta.loc[meta['Image_id'] != 'I1217088']"
   ]
  },
  {
   "cell_type": "code",
   "execution_count": 6,
   "metadata": {},
   "outputs": [
    {
     "data": {
      "text/plain": [
       "(31429, 27)"
      ]
     },
     "execution_count": 6,
     "metadata": {},
     "output_type": "execute_result"
    }
   ],
   "source": [
    "meta.shape"
   ]
  },
  {
   "cell_type": "code",
   "execution_count": 7,
   "metadata": {
    "scrolled": true
   },
   "outputs": [
    {
     "data": {
      "text/html": [
       "<div>\n",
       "<style scoped>\n",
       "    .dataframe tbody tr th:only-of-type {\n",
       "        vertical-align: middle;\n",
       "    }\n",
       "\n",
       "    .dataframe tbody tr th {\n",
       "        vertical-align: top;\n",
       "    }\n",
       "\n",
       "    .dataframe thead th {\n",
       "        text-align: right;\n",
       "    }\n",
       "</style>\n",
       "<table border=\"1\" class=\"dataframe\">\n",
       "  <thead>\n",
       "    <tr style=\"text-align: right;\">\n",
       "      <th></th>\n",
       "      <th>Unnamed: 0.1</th>\n",
       "      <th>Unnamed: 0</th>\n",
       "      <th>Image_id</th>\n",
       "      <th>RID</th>\n",
       "      <th>Subject.ID</th>\n",
       "      <th>Project</th>\n",
       "      <th>Phase</th>\n",
       "      <th>Sex</th>\n",
       "      <th>Weight</th>\n",
       "      <th>Research.Group</th>\n",
       "      <th>...</th>\n",
       "      <th>Modality</th>\n",
       "      <th>pipeline</th>\n",
       "      <th>Description</th>\n",
       "      <th>pet_tracer</th>\n",
       "      <th>csf_method</th>\n",
       "      <th>ABETA</th>\n",
       "      <th>TAU</th>\n",
       "      <th>PTAU</th>\n",
       "      <th>CLASS</th>\n",
       "      <th>PATH</th>\n",
       "    </tr>\n",
       "  </thead>\n",
       "  <tbody>\n",
       "    <tr>\n",
       "      <th>0</th>\n",
       "      <td>1</td>\n",
       "      <td>6</td>\n",
       "      <td>I45107</td>\n",
       "      <td>295</td>\n",
       "      <td>002_S_0295</td>\n",
       "      <td>ADNI</td>\n",
       "      <td>ADNI 1</td>\n",
       "      <td>M</td>\n",
       "      <td>74.5</td>\n",
       "      <td>CN</td>\n",
       "      <td>...</td>\n",
       "      <td>MRI</td>\n",
       "      <td>MPR; GradWarp; B1 Correction; N3</td>\n",
       "      <td>MP-RAGE</td>\n",
       "      <td>NaN</td>\n",
       "      <td>NaN</td>\n",
       "      <td>NaN</td>\n",
       "      <td>NaN</td>\n",
       "      <td>NaN</td>\n",
       "      <td>NaN</td>\n",
       "      <td>/csc/epitkane/data/ADNI/AD_DL_16_04_22/ADNI_00...</td>\n",
       "    </tr>\n",
       "    <tr>\n",
       "      <th>1</th>\n",
       "      <td>9</td>\n",
       "      <td>18</td>\n",
       "      <td>I40965</td>\n",
       "      <td>295</td>\n",
       "      <td>002_S_0295</td>\n",
       "      <td>ADNI</td>\n",
       "      <td>ADNI 1</td>\n",
       "      <td>M</td>\n",
       "      <td>74.1</td>\n",
       "      <td>CN</td>\n",
       "      <td>...</td>\n",
       "      <td>MRI</td>\n",
       "      <td>MPR; GradWarp; B1 Correction; N3</td>\n",
       "      <td>MP-RAGE</td>\n",
       "      <td>NaN</td>\n",
       "      <td>NaN</td>\n",
       "      <td>NaN</td>\n",
       "      <td>NaN</td>\n",
       "      <td>NaN</td>\n",
       "      <td>NaN</td>\n",
       "      <td>/csc/epitkane/data/ADNI/AD_DL_16_04_22/ADNI_00...</td>\n",
       "    </tr>\n",
       "    <tr>\n",
       "      <th>2</th>\n",
       "      <td>15</td>\n",
       "      <td>24</td>\n",
       "      <td>I64023</td>\n",
       "      <td>295</td>\n",
       "      <td>002_S_0295</td>\n",
       "      <td>ADNI</td>\n",
       "      <td>ADNI 1</td>\n",
       "      <td>M</td>\n",
       "      <td>72.6</td>\n",
       "      <td>CN</td>\n",
       "      <td>...</td>\n",
       "      <td>MRI</td>\n",
       "      <td>MPR; GradWarp; B1 Correction; N3</td>\n",
       "      <td>MP-RAGE</td>\n",
       "      <td>NaN</td>\n",
       "      <td>Elecsys</td>\n",
       "      <td>858.3</td>\n",
       "      <td>399.5</td>\n",
       "      <td>39.29</td>\n",
       "      <td>3.0</td>\n",
       "      <td>/csc/epitkane/data/ADNI/AD_DL_16_04_22/ADNI_00...</td>\n",
       "    </tr>\n",
       "    <tr>\n",
       "      <th>3</th>\n",
       "      <td>20</td>\n",
       "      <td>37</td>\n",
       "      <td>I123684</td>\n",
       "      <td>295</td>\n",
       "      <td>002_S_0295</td>\n",
       "      <td>ADNI</td>\n",
       "      <td>ADNI 1</td>\n",
       "      <td>M</td>\n",
       "      <td>73.8</td>\n",
       "      <td>CN</td>\n",
       "      <td>...</td>\n",
       "      <td>MRI</td>\n",
       "      <td>MPR; GradWarp; B1 Correction; N3</td>\n",
       "      <td>MP-RAGE</td>\n",
       "      <td>NaN</td>\n",
       "      <td>NaN</td>\n",
       "      <td>NaN</td>\n",
       "      <td>NaN</td>\n",
       "      <td>NaN</td>\n",
       "      <td>NaN</td>\n",
       "      <td>/csc/epitkane/data/ADNI/AD_DL_16_04_22/ADNI_00...</td>\n",
       "    </tr>\n",
       "    <tr>\n",
       "      <th>4</th>\n",
       "      <td>25</td>\n",
       "      <td>42</td>\n",
       "      <td>I150176</td>\n",
       "      <td>295</td>\n",
       "      <td>002_S_0295</td>\n",
       "      <td>ADNI</td>\n",
       "      <td>ADNI 1</td>\n",
       "      <td>M</td>\n",
       "      <td>72.9</td>\n",
       "      <td>CN</td>\n",
       "      <td>...</td>\n",
       "      <td>MRI</td>\n",
       "      <td>MPR; GradWarp; B1 Correction; N3</td>\n",
       "      <td>MP-RAGE</td>\n",
       "      <td>NaN</td>\n",
       "      <td>Elecsys</td>\n",
       "      <td>708.6</td>\n",
       "      <td>381.3</td>\n",
       "      <td>38.72</td>\n",
       "      <td>3.0</td>\n",
       "      <td>/csc/epitkane/data/ADNI/AD_DL_16_04_22/ADNI_00...</td>\n",
       "    </tr>\n",
       "    <tr>\n",
       "      <th>...</th>\n",
       "      <td>...</td>\n",
       "      <td>...</td>\n",
       "      <td>...</td>\n",
       "      <td>...</td>\n",
       "      <td>...</td>\n",
       "      <td>...</td>\n",
       "      <td>...</td>\n",
       "      <td>...</td>\n",
       "      <td>...</td>\n",
       "      <td>...</td>\n",
       "      <td>...</td>\n",
       "      <td>...</td>\n",
       "      <td>...</td>\n",
       "      <td>...</td>\n",
       "      <td>...</td>\n",
       "      <td>...</td>\n",
       "      <td>...</td>\n",
       "      <td>...</td>\n",
       "      <td>...</td>\n",
       "      <td>...</td>\n",
       "      <td>...</td>\n",
       "    </tr>\n",
       "    <tr>\n",
       "      <th>31426</th>\n",
       "      <td>68816</td>\n",
       "      <td>85355</td>\n",
       "      <td>I1480672</td>\n",
       "      <td>6962</td>\n",
       "      <td>941_S_6962</td>\n",
       "      <td>ADNI</td>\n",
       "      <td>ADNI 3</td>\n",
       "      <td>F</td>\n",
       "      <td>48.1</td>\n",
       "      <td>AD</td>\n",
       "      <td>...</td>\n",
       "      <td>PET</td>\n",
       "      <td>FDG Co-registered, Averaged</td>\n",
       "      <td>PET Brain DYNAMIC 6x5MIN FDG</td>\n",
       "      <td>FDG</td>\n",
       "      <td>NaN</td>\n",
       "      <td>NaN</td>\n",
       "      <td>NaN</td>\n",
       "      <td>NaN</td>\n",
       "      <td>NaN</td>\n",
       "      <td>/csc/epitkane/data/ADNI/AD_DL_16_04_22/ADNI_94...</td>\n",
       "    </tr>\n",
       "    <tr>\n",
       "      <th>31427</th>\n",
       "      <td>68818</td>\n",
       "      <td>85357</td>\n",
       "      <td>I1482710</td>\n",
       "      <td>6962</td>\n",
       "      <td>941_S_6962</td>\n",
       "      <td>ADNI</td>\n",
       "      <td>ADNI 3</td>\n",
       "      <td>F</td>\n",
       "      <td>48.1</td>\n",
       "      <td>AD</td>\n",
       "      <td>...</td>\n",
       "      <td>PET</td>\n",
       "      <td>AV1451 Coreg, Avg, Standardized Image and Voxe...</td>\n",
       "      <td>PET Brain DYNAMIC 6x5MIN Tau</td>\n",
       "      <td>AV1451</td>\n",
       "      <td>NaN</td>\n",
       "      <td>NaN</td>\n",
       "      <td>NaN</td>\n",
       "      <td>NaN</td>\n",
       "      <td>NaN</td>\n",
       "      <td>/csc/epitkane/data/ADNI/AD_DL_16_04_22/ADNI_94...</td>\n",
       "    </tr>\n",
       "    <tr>\n",
       "      <th>31428</th>\n",
       "      <td>68820</td>\n",
       "      <td>85359</td>\n",
       "      <td>I1482712</td>\n",
       "      <td>6962</td>\n",
       "      <td>941_S_6962</td>\n",
       "      <td>ADNI</td>\n",
       "      <td>ADNI 3</td>\n",
       "      <td>F</td>\n",
       "      <td>48.1</td>\n",
       "      <td>AD</td>\n",
       "      <td>...</td>\n",
       "      <td>PET</td>\n",
       "      <td>AV1451 Co-registered, Averaged</td>\n",
       "      <td>PET Brain DYNAMIC 6x5MIN Tau</td>\n",
       "      <td>AV1451</td>\n",
       "      <td>NaN</td>\n",
       "      <td>NaN</td>\n",
       "      <td>NaN</td>\n",
       "      <td>NaN</td>\n",
       "      <td>NaN</td>\n",
       "      <td>/csc/epitkane/data/ADNI/AD_DL_16_04_22/ADNI_94...</td>\n",
       "    </tr>\n",
       "    <tr>\n",
       "      <th>31429</th>\n",
       "      <td>68822</td>\n",
       "      <td>85361</td>\n",
       "      <td>I1507283</td>\n",
       "      <td>6998</td>\n",
       "      <td>941_S_6998</td>\n",
       "      <td>ADNI</td>\n",
       "      <td>ADNI 3</td>\n",
       "      <td>M</td>\n",
       "      <td>68.0</td>\n",
       "      <td>CN</td>\n",
       "      <td>...</td>\n",
       "      <td>PET</td>\n",
       "      <td>FBB Coreg, Avg, Standardized Image and Voxel Size</td>\n",
       "      <td>PET Brain - DYNAMIC 4X5MIN FBB</td>\n",
       "      <td>FBB</td>\n",
       "      <td>NaN</td>\n",
       "      <td>NaN</td>\n",
       "      <td>NaN</td>\n",
       "      <td>NaN</td>\n",
       "      <td>NaN</td>\n",
       "      <td>/csc/epitkane/data/ADNI/AD_DL_16_04_22/ADNI_94...</td>\n",
       "    </tr>\n",
       "    <tr>\n",
       "      <th>31430</th>\n",
       "      <td>68824</td>\n",
       "      <td>85363</td>\n",
       "      <td>I1507285</td>\n",
       "      <td>6998</td>\n",
       "      <td>941_S_6998</td>\n",
       "      <td>ADNI</td>\n",
       "      <td>ADNI 3</td>\n",
       "      <td>M</td>\n",
       "      <td>68.0</td>\n",
       "      <td>CN</td>\n",
       "      <td>...</td>\n",
       "      <td>PET</td>\n",
       "      <td>FBB Co-registered, Averaged</td>\n",
       "      <td>PET Brain - DYNAMIC 4X5MIN FBB</td>\n",
       "      <td>FBB</td>\n",
       "      <td>NaN</td>\n",
       "      <td>NaN</td>\n",
       "      <td>NaN</td>\n",
       "      <td>NaN</td>\n",
       "      <td>NaN</td>\n",
       "      <td>/csc/epitkane/data/ADNI/AD_DL_16_04_22/ADNI_94...</td>\n",
       "    </tr>\n",
       "  </tbody>\n",
       "</table>\n",
       "<p>31429 rows × 27 columns</p>\n",
       "</div>"
      ],
      "text/plain": [
       "       Unnamed: 0.1  Unnamed: 0  Image_id   RID  Subject.ID Project   Phase  \\\n",
       "0                 1           6    I45107   295  002_S_0295    ADNI  ADNI 1   \n",
       "1                 9          18    I40965   295  002_S_0295    ADNI  ADNI 1   \n",
       "2                15          24    I64023   295  002_S_0295    ADNI  ADNI 1   \n",
       "3                20          37   I123684   295  002_S_0295    ADNI  ADNI 1   \n",
       "4                25          42   I150176   295  002_S_0295    ADNI  ADNI 1   \n",
       "...             ...         ...       ...   ...         ...     ...     ...   \n",
       "31426         68816       85355  I1480672  6962  941_S_6962    ADNI  ADNI 3   \n",
       "31427         68818       85357  I1482710  6962  941_S_6962    ADNI  ADNI 3   \n",
       "31428         68820       85359  I1482712  6962  941_S_6962    ADNI  ADNI 3   \n",
       "31429         68822       85361  I1507283  6998  941_S_6998    ADNI  ADNI 3   \n",
       "31430         68824       85363  I1507285  6998  941_S_6998    ADNI  ADNI 3   \n",
       "\n",
       "      Sex  Weight Research.Group  ...  Modality  \\\n",
       "0       M    74.5             CN  ...       MRI   \n",
       "1       M    74.1             CN  ...       MRI   \n",
       "2       M    72.6             CN  ...       MRI   \n",
       "3       M    73.8             CN  ...       MRI   \n",
       "4       M    72.9             CN  ...       MRI   \n",
       "...    ..     ...            ...  ...       ...   \n",
       "31426   F    48.1             AD  ...       PET   \n",
       "31427   F    48.1             AD  ...       PET   \n",
       "31428   F    48.1             AD  ...       PET   \n",
       "31429   M    68.0             CN  ...       PET   \n",
       "31430   M    68.0             CN  ...       PET   \n",
       "\n",
       "                                                pipeline  \\\n",
       "0                       MPR; GradWarp; B1 Correction; N3   \n",
       "1                       MPR; GradWarp; B1 Correction; N3   \n",
       "2                       MPR; GradWarp; B1 Correction; N3   \n",
       "3                       MPR; GradWarp; B1 Correction; N3   \n",
       "4                       MPR; GradWarp; B1 Correction; N3   \n",
       "...                                                  ...   \n",
       "31426                        FDG Co-registered, Averaged   \n",
       "31427  AV1451 Coreg, Avg, Standardized Image and Voxe...   \n",
       "31428                     AV1451 Co-registered, Averaged   \n",
       "31429  FBB Coreg, Avg, Standardized Image and Voxel Size   \n",
       "31430                        FBB Co-registered, Averaged   \n",
       "\n",
       "                           Description pet_tracer csf_method  ABETA    TAU  \\\n",
       "0                              MP-RAGE        NaN        NaN    NaN    NaN   \n",
       "1                              MP-RAGE        NaN        NaN    NaN    NaN   \n",
       "2                              MP-RAGE        NaN    Elecsys  858.3  399.5   \n",
       "3                              MP-RAGE        NaN        NaN    NaN    NaN   \n",
       "4                              MP-RAGE        NaN    Elecsys  708.6  381.3   \n",
       "...                                ...        ...        ...    ...    ...   \n",
       "31426     PET Brain DYNAMIC 6x5MIN FDG        FDG        NaN    NaN    NaN   \n",
       "31427     PET Brain DYNAMIC 6x5MIN Tau     AV1451        NaN    NaN    NaN   \n",
       "31428     PET Brain DYNAMIC 6x5MIN Tau     AV1451        NaN    NaN    NaN   \n",
       "31429   PET Brain - DYNAMIC 4X5MIN FBB        FBB        NaN    NaN    NaN   \n",
       "31430   PET Brain - DYNAMIC 4X5MIN FBB        FBB        NaN    NaN    NaN   \n",
       "\n",
       "        PTAU CLASS                                               PATH  \n",
       "0        NaN   NaN  /csc/epitkane/data/ADNI/AD_DL_16_04_22/ADNI_00...  \n",
       "1        NaN   NaN  /csc/epitkane/data/ADNI/AD_DL_16_04_22/ADNI_00...  \n",
       "2      39.29   3.0  /csc/epitkane/data/ADNI/AD_DL_16_04_22/ADNI_00...  \n",
       "3        NaN   NaN  /csc/epitkane/data/ADNI/AD_DL_16_04_22/ADNI_00...  \n",
       "4      38.72   3.0  /csc/epitkane/data/ADNI/AD_DL_16_04_22/ADNI_00...  \n",
       "...      ...   ...                                                ...  \n",
       "31426    NaN   NaN  /csc/epitkane/data/ADNI/AD_DL_16_04_22/ADNI_94...  \n",
       "31427    NaN   NaN  /csc/epitkane/data/ADNI/AD_DL_16_04_22/ADNI_94...  \n",
       "31428    NaN   NaN  /csc/epitkane/data/ADNI/AD_DL_16_04_22/ADNI_94...  \n",
       "31429    NaN   NaN  /csc/epitkane/data/ADNI/AD_DL_16_04_22/ADNI_94...  \n",
       "31430    NaN   NaN  /csc/epitkane/data/ADNI/AD_DL_16_04_22/ADNI_94...  \n",
       "\n",
       "[31429 rows x 27 columns]"
      ]
     },
     "execution_count": 7,
     "metadata": {},
     "output_type": "execute_result"
    }
   ],
   "source": [
    "meta"
   ]
  },
  {
   "cell_type": "code",
   "execution_count": 8,
   "metadata": {},
   "outputs": [],
   "source": [
    "# use only abeta scans\n",
    "meta_csf = meta[meta['ABETA'].notna()]"
   ]
  },
  {
   "cell_type": "code",
   "execution_count": 9,
   "metadata": {
    "scrolled": true
   },
   "outputs": [
    {
     "data": {
      "text/plain": [
       "(9749, 27)"
      ]
     },
     "execution_count": 9,
     "metadata": {},
     "output_type": "execute_result"
    }
   ],
   "source": [
    "meta_csf.shape"
   ]
  },
  {
   "cell_type": "code",
   "execution_count": 10,
   "metadata": {},
   "outputs": [],
   "source": [
    "meta_abeta = meta_csf.loc[meta_csf['pet_tracer'].isin(['AV45','FBB','PIB'])]"
   ]
  },
  {
   "cell_type": "code",
   "execution_count": 11,
   "metadata": {},
   "outputs": [],
   "source": [
    "meta_abeta = meta_abeta[meta_abeta['pipeline'].str.contains('Coreg, Avg, Standardized Image and Voxel Size', regex=False)]"
   ]
  },
  {
   "cell_type": "code",
   "execution_count": 12,
   "metadata": {},
   "outputs": [
    {
     "data": {
      "text/plain": [
       "(1870, 27)"
      ]
     },
     "execution_count": 12,
     "metadata": {},
     "output_type": "execute_result"
    }
   ],
   "source": [
    "meta_abeta.shape"
   ]
  },
  {
   "cell_type": "code",
   "execution_count": 14,
   "metadata": {
    "scrolled": true
   },
   "outputs": [
    {
     "name": "stdout",
     "output_type": "stream",
     "text": [
      "       Unnamed: 0.1  Unnamed: 0  Image_id   RID  Subject.ID Project    Phase  \\\n",
      "11               40          58   I240520   295  002_S_0295    ADNI   ADNI 2   \n",
      "70              224         336   I187802   685  002_S_0685    ADNI  ADNI GO   \n",
      "80              240         352   I323916   685  002_S_0685    ADNI   ADNI 2   \n",
      "98              302         449   I190159   729  002_S_0729    ADNI  ADNI GO   \n",
      "103             308         455   I324215   729  002_S_0729    ADNI   ADNI 2   \n",
      "...             ...         ...       ...   ...         ...     ...      ...   \n",
      "31371         68698       85237  I1049561  6546  941_S_6546    ADNI   ADNI 3   \n",
      "31375         68706       85245  I1049565  6570  941_S_6570    ADNI   ADNI 3   \n",
      "31379         68714       85253  I1078477  6574  941_S_6574    ADNI   ADNI 3   \n",
      "31395         68746       85285  I1081303  6580  941_S_6580    ADNI   ADNI 3   \n",
      "31403         68762       85301  I1051997  6581  941_S_6581    ADNI   ADNI 3   \n",
      "\n",
      "      Sex  Weight Research.Group  ...  Modality  \\\n",
      "11      M    73.0             CN  ...       PET   \n",
      "70      F    69.4             CN  ...       PET   \n",
      "80      F    68.9             CN  ...       PET   \n",
      "98      F    63.9            MCI  ...       PET   \n",
      "103     F    65.8            MCI  ...       PET   \n",
      "...    ..     ...            ...  ...       ...   \n",
      "31371   F    77.0             CN  ...       PET   \n",
      "31375   M    92.0             CN  ...       PET   \n",
      "31379   F    57.0             CN  ...       PET   \n",
      "31395   F    73.0             CN  ...       PET   \n",
      "31403   F    78.0             CN  ...       PET   \n",
      "\n",
      "                                                pipeline  \\\n",
      "11     AV45 Coreg, Avg, Standardized Image and Voxel ...   \n",
      "70     AV45 Coreg, Avg, Standardized Image and Voxel ...   \n",
      "80     AV45 Coreg, Avg, Standardized Image and Voxel ...   \n",
      "98     AV45 Coreg, Avg, Standardized Image and Voxel ...   \n",
      "103    AV45 Coreg, Avg, Standardized Image and Voxel ...   \n",
      "...                                                  ...   \n",
      "31371  FBB Coreg, Avg, Standardized Image and Voxel Size   \n",
      "31375  FBB Coreg, Avg, Standardized Image and Voxel Size   \n",
      "31379  FBB Coreg, Avg, Standardized Image and Voxel Size   \n",
      "31395  FBB Coreg, Avg, Standardized Image and Voxel Size   \n",
      "31403  FBB Coreg, Avg, Standardized Image and Voxel Size   \n",
      "\n",
      "                     Description pet_tracer csf_method   ABETA    TAU   PTAU  \\\n",
      "11      ADNI Brain PET: Raw AV45       AV45    Elecsys   621.9  390.4  42.87   \n",
      "70      ADNI Brain PET: Raw AV45       AV45    Elecsys  1632.0  284.3  25.14   \n",
      "80      ADNI Brain PET: Raw AV45       AV45    Elecsys  1998.0  288.8  25.98   \n",
      "98      ADNI Brain PET: Raw AV45       AV45    Elecsys   601.7  338.8  32.70   \n",
      "103     ADNI Brain PET: Raw AV45       AV45    Elecsys   827.9  332.3  31.94   \n",
      "...                          ...        ...        ...     ...    ...    ...   \n",
      "31371            ADNI3-BRAIN FBB        FBB    Elecsys  1325.0  207.7  18.23   \n",
      "31375            ADNI3-BRAIN FBB        FBB    Elecsys  2388.0  234.9  20.47   \n",
      "31379            ADNI3-BRAIN FBB        FBB    Elecsys   834.2  172.6  13.62   \n",
      "31395            ADNI3-BRAIN FBB        FBB    Elecsys   534.7  210.0  19.45   \n",
      "31403            ADNI3-BRAIN FBB        FBB    Elecsys  1071.0  163.4  13.40   \n",
      "\n",
      "      CLASS                                               PATH  \n",
      "11      3.0  /csc/epitkane/data/ADNI/AD_DL_16_04_22/ADNI_00...  \n",
      "70      1.0  /csc/epitkane/data/ADNI/AD_DL_16_04_22/ADNI_00...  \n",
      "80      1.0  /csc/epitkane/data/ADNI/AD_DL_16_04_22/ADNI_00...  \n",
      "98      3.0  /csc/epitkane/data/ADNI/AD_DL_16_04_22/ADNI_00...  \n",
      "103     3.0  /csc/epitkane/data/ADNI/AD_DL_16_04_22/ADNI_00...  \n",
      "...     ...                                                ...  \n",
      "31371   0.0  /csc/epitkane/data/ADNI/AD_DL_16_04_22/ADNI_94...  \n",
      "31375   0.0  /csc/epitkane/data/ADNI/AD_DL_16_04_22/ADNI_94...  \n",
      "31379   2.0  /csc/epitkane/data/ADNI/AD_DL_16_04_22/ADNI_94...  \n",
      "31395   2.0  /csc/epitkane/data/ADNI/AD_DL_16_04_22/ADNI_94...  \n",
      "31403   0.0  /csc/epitkane/data/ADNI/AD_DL_16_04_22/ADNI_94...  \n",
      "\n",
      "[1870 rows x 27 columns]\n"
     ]
    }
   ],
   "source": [
    "print(meta_abeta)"
   ]
  },
  {
   "cell_type": "code",
   "execution_count": 17,
   "metadata": {},
   "outputs": [],
   "source": [
    "# permutation !!!\n",
    "abeta_perm = meta_abeta.sample(frac=1)\n"
   ]
  },
  {
   "cell_type": "code",
   "execution_count": 20,
   "metadata": {
    "scrolled": true
   },
   "outputs": [
    {
     "data": {
      "text/plain": [
       "Research.Group\n",
       "CN      607\n",
       "EMCI    449\n",
       "LMCI    259\n",
       "MCI     220\n",
       "AD      190\n",
       "SMC     145\n",
       "dtype: int64"
      ]
     },
     "execution_count": 20,
     "metadata": {},
     "output_type": "execute_result"
    }
   ],
   "source": [
    "abeta_perm.value_counts('Research.Group')"
   ]
  },
  {
   "cell_type": "code",
   "execution_count": 85,
   "metadata": {},
   "outputs": [],
   "source": [
    "#split data on train and test subsets\n",
    "train_size = 0.8\n",
    "train_end = int(len(abeta_perm)*train_size)"
   ]
  },
  {
   "cell_type": "code",
   "execution_count": 88,
   "metadata": {},
   "outputs": [],
   "source": [
    "#save permutated metafile if needed\n",
    "#abeta_perm =  pd.read_csv(date+'/abeta_info_'+date+'.csv')"
   ]
  },
  {
   "cell_type": "code",
   "execution_count": 89,
   "metadata": {},
   "outputs": [
    {
     "name": "stdout",
     "output_type": "stream",
     "text": [
      "1496\n"
     ]
    }
   ],
   "source": [
    "print(train_end)"
   ]
  },
  {
   "cell_type": "code",
   "execution_count": 90,
   "metadata": {},
   "outputs": [],
   "source": [
    "abeta_train = abeta_perm[:train_end]\n",
    "abeta_test = abeta_perm[train_end:]"
   ]
  },
  {
   "cell_type": "code",
   "execution_count": 94,
   "metadata": {},
   "outputs": [],
   "source": [
    "# creat dictionaries with info for generator\n",
    "abeta_partition = dict()\n",
    "abeta_labels = dict()\n",
    "#abeta_all = dict()\n",
    "\n",
    "t = int(0.8*np.shape(abeta_train)[0]) #!!\n",
    "v = int(0.2*np.shape(abeta_train)[0]) \n",
    "#DATADIR = r\"/csc/epitkane/data/ADNI/AD_DL_03_11_2021/\"\n",
    "\n",
    "\n",
    "abeta_partition['train'] = abeta_perm.iloc[:t,-1].tolist() \n",
    "abeta_partition['validation'] = abeta_perm.iloc[t:train_end,-1].tolist()\n",
    "abeta_partition['test'] = abeta_perm.iloc[train_end:,-1].tolist() \n",
    "\n",
    "abeta_partition['all'] = abeta_perm.iloc[:,-1].tolist() \n",
    "#print(abeta_partition['train'])\n"
   ]
  },
  {
   "cell_type": "code",
   "execution_count": 97,
   "metadata": {},
   "outputs": [
    {
     "data": {
      "text/plain": [
       "1870"
      ]
     },
     "execution_count": 97,
     "metadata": {},
     "output_type": "execute_result"
    }
   ],
   "source": [
    "len(abeta_partition['all'])"
   ]
  },
  {
   "cell_type": "code",
   "execution_count": 24,
   "metadata": {},
   "outputs": [
    {
     "data": {
      "text/plain": [
       "1196"
      ]
     },
     "execution_count": 24,
     "metadata": {},
     "output_type": "execute_result"
    }
   ],
   "source": [
    "len(abeta_partition['train'])"
   ]
  },
  {
   "cell_type": "code",
   "execution_count": 25,
   "metadata": {},
   "outputs": [
    {
     "data": {
      "text/plain": [
       "14352"
      ]
     },
     "execution_count": 25,
     "metadata": {},
     "output_type": "execute_result"
    }
   ],
   "source": [
    "len(abeta_partition['train'])*12"
   ]
  },
  {
   "cell_type": "code",
   "execution_count": 39,
   "metadata": {},
   "outputs": [
    {
     "data": {
      "text/plain": [
       "False"
      ]
     },
     "execution_count": 39,
     "metadata": {},
     "output_type": "execute_result"
    }
   ],
   "source": [
    "#check NA\n",
    "any(np.isnan(val) for val in abeta_train['ABETA'])"
   ]
  },
  {
   "cell_type": "code",
   "execution_count": 98,
   "metadata": {},
   "outputs": [],
   "source": [
    "index = 0\n",
    "for img in abeta_perm['PATH']:\n",
    "    #print(img)\n",
    "    \n",
    "    abeta_labels[img] = np.log(abeta_perm.reset_index(drop=True).loc[index,'ABETA'])\n",
    "    index +=1"
   ]
  },
  {
   "cell_type": "code",
   "execution_count": 99,
   "metadata": {},
   "outputs": [
    {
     "data": {
      "text/plain": [
       "6.461936816524757"
      ]
     },
     "execution_count": 99,
     "metadata": {},
     "output_type": "execute_result"
    }
   ],
   "source": [
    "np.log(640.3)"
   ]
  },
  {
   "cell_type": "code",
   "execution_count": 100,
   "metadata": {},
   "outputs": [
    {
     "data": {
      "text/plain": [
       "{'/csc/epitkane/data/ADNI/AD_DL_16_04_22/ADNI_073_S_4777_PT_AV45_Coreg,_Avg,_Standardized_Image_and_Voxel_Size_Br_20120803192349604_51_S159438_I321667.nii': 7.217550221931332,\n",
       " '/csc/epitkane/data/ADNI/AD_DL_16_04_22/ADNI_137_S_4631_PT_AV45_Coreg,_Avg,_Standardized_Image_and_Voxel_Size_Br_20120622185554117_30_S153757_I312065.nii': 6.49664837818128,\n",
       " '/csc/epitkane/data/ADNI/AD_DL_16_04_22/ADNI_036_S_4538_PT_AV45_Coreg,_Avg,_Standardized_Image_and_Voxel_Size_Br_20120524084254146_62_S150972_I306226.nii': 6.352402772602529,\n",
       " '/csc/epitkane/data/ADNI/AD_DL_16_04_22/ADNI_130_S_5175_PT_AV45_Coreg,_Avg,_Standardized_Image_and_Voxel_Size_Br_20150616100807473_36_S262112_I497675.nii': 7.710653323501202,\n",
       " '/csc/epitkane/data/ADNI/AD_DL_16_04_22/ADNI_016_S_5251_PT_AV45_Coreg,_Avg,_Standardized_Image_and_Voxel_Size_Br_20131024073818270_18_S204429_I395766.nii': 6.222718095484271,\n",
       " '/csc/epitkane/data/ADNI/AD_DL_16_04_22/ADNI_041_S_4138_PT_AV45_Coreg,_Avg,_Standardized_Image_and_Voxel_Size_Br_20131001080709661_70_S201891_I392854.nii': 7.533693709848633,\n",
       " '/csc/epitkane/data/ADNI/AD_DL_16_04_22/ADNI_123_S_4526_PT_AV45_Coreg,_Avg,_Standardized_Image_and_Voxel_Size_Br_20140221084140221_9_S212927_I415121.nii': 5.766757273817589,\n",
       " '/csc/epitkane/data/ADNI/AD_DL_16_04_22/ADNI_024_S_1063_PT_PIB_Coreg,_Avg,_Standardized_Image_and_Voxel_Size_Br_20071126133139243_1_S42936_I83255.nii': 6.449838310871549,\n",
       " '/csc/epitkane/data/ADNI/AD_DL_16_04_22/ADNI_116_S_6550_PT_FBB_Coreg,_Avg,_Standardized_Image_and_Voxel_Size_Br_20180914095847789_27_S726668_I1048321.nii': 7.224753405767971,\n",
       " '/csc/epitkane/data/ADNI/AD_DL_16_04_22/ADNI_116_S_4167_PT_AV45_Coreg,_Avg,_Standardized_Image_and_Voxel_Size_Br_20110909104304140_48_S121456_I255251.nii': 6.317691809739312,\n",
       " '/csc/epitkane/data/ADNI/AD_DL_16_04_22/ADNI_003_S_6158_PT_AV45_Coreg,_Avg,_Standardized_Image_and_Voxel_Size_Br_20180317165633085_5_S662876_I974646.nii': 6.610022870676855,\n",
       " '/csc/epitkane/data/ADNI/AD_DL_16_04_22/ADNI_135_S_4863_PT_AV45_Coreg,_Avg,_Standardized_Image_and_Voxel_Size_Br_20120905171016047_62_S162963_I330786.nii': 5.934027816464538,\n",
       " '/csc/epitkane/data/ADNI/AD_DL_16_04_22/ADNI_006_S_4192_PT_AV45_Coreg,_Avg,_Standardized_Image_and_Voxel_Size_Br_20131015074733887_60_S203730_I394384.nii': 6.505634572124363,\n",
       " '/csc/epitkane/data/ADNI/AD_DL_16_04_22/ADNI_127_S_0112_PT_PIB_Coreg,_Avg,_Standardized_Image_and_Voxel_Size_Br_20090210075902668_1_S62435_I135557.nii': 5.910796644040527,\n",
       " '/csc/epitkane/data/ADNI/AD_DL_16_04_22/ADNI_137_S_4466_PT_AV45_Coreg,_Avg,_Standardized_Image_and_Voxel_Size_Br_20120305152610870_27_S141896_I287969.nii': 7.065299542549019,\n",
       " '/csc/epitkane/data/ADNI/AD_DL_16_04_22/ADNI_021_S_2125_PT_AV45_Coreg,_Avg,_Standardized_Image_and_Voxel_Size_Br_20101112175236186_52_S93716_I205035.nii': 6.459278280280682,\n",
       " '/csc/epitkane/data/ADNI/AD_DL_16_04_22/ADNI_036_S_6231_PT_AV45_Coreg,_Avg,_Standardized_Image_and_Voxel_Size_Br_20180419094646572_21_S677480_I987339.nii': 5.557214087568064,\n",
       " '/csc/epitkane/data/ADNI/AD_DL_16_04_22/ADNI_116_S_6775_PT_FBB_Coreg,_Avg,_Standardized_Image_and_Voxel_Size_Br_20191003082139617_58_S879683_I1235987.nii': 6.163946183619964,\n",
       " '/csc/epitkane/data/ADNI/AD_DL_16_04_22/ADNI_007_S_6323_PT_FBB_Coreg,_Avg,_Standardized_Image_and_Voxel_Size_Br_20180621064511135_40_S694779_I1012497.nii': 6.6564694217216465,\n",
       " '/csc/epitkane/data/ADNI/AD_DL_16_04_22/ADNI_011_S_4949_PT_AV45_Coreg,_Avg,_Standardized_Image_and_Voxel_Size_Br_20121024180242817_38_S171736_I342085.nii': 6.087197649308485,\n",
       " '/csc/epitkane/data/ADNI/AD_DL_16_04_22/ADNI_126_S_4514_PT_AV45_Coreg,_Avg,_Standardized_Image_and_Voxel_Size_Br_20120309113754960_95_S142746_I289534.nii': 7.314164838845976,\n",
       " '/csc/epitkane/data/ADNI/AD_DL_16_04_22/ADNI_053_S_4813_PT_AV45_Coreg,_Avg,_Standardized_Image_and_Voxel_Size_Br_20120907155131171_22_S158887_I332330.nii': 7.400925123560446,\n",
       " '/csc/epitkane/data/ADNI/AD_DL_16_04_22/ADNI_141_S_6116_PT_FBB_Coreg,_Avg,_Standardized_Image_and_Voxel_Size_Br_20191211110548604_11_S902170_I1264639.nii': 7.61085279039525,\n",
       " '/csc/epitkane/data/ADNI/AD_DL_16_04_22/ADNI_035_S_4582_PT_AV45_Coreg,_Avg,_Standardized_Image_and_Voxel_Size_Br_20120425102701460_28_S145185_I300400.nii': 6.306008354286792,\n",
       " '/csc/epitkane/data/ADNI/AD_DL_16_04_22/ADNI_033_S_6705_PT_FBB_Coreg,_Avg,_Standardized_Image_and_Voxel_Size_Br_20190503100138473_58_S818803_I1161202.nii': 6.914730892718563,\n",
       " '/csc/epitkane/data/ADNI/AD_DL_16_04_22/ADNI_022_S_6069_PT_FBB_Coreg,_Avg,_Standardized_Image_and_Voxel_Size_Br_20170922093416467_23_S608447_I907390.nii': 6.351234695954017,\n",
       " '/csc/epitkane/data/ADNI/AD_DL_16_04_22/ADNI_128_S_2123_PT_AV45_Coreg,_Avg,_Standardized_Image_and_Voxel_Size_Br_20101202145537039_9_S95490_I207323.nii': 7.10002716662926,\n",
       " '/csc/epitkane/data/ADNI/AD_DL_16_04_22/ADNI_127_S_0925_PT_PIB_Coreg,_Avg,_Standardized_Image_and_Voxel_Size_Br_20071207163601221_1_S43372_I84410.nii': 6.188469440812497,\n",
       " '/csc/epitkane/data/ADNI/AD_DL_16_04_22/ADNI_016_S_4601_PT_AV45_Coreg,_Avg,_Standardized_Image_and_Voxel_Size_Br_20120622184339847_80_S153268_I312042.nii': 7.22330027039934,\n",
       " '/csc/epitkane/data/ADNI/AD_DL_16_04_22/ADNI_012_S_5157_PT_AV45_Coreg,_Avg,_Standardized_Image_and_Voxel_Size_Br_20130628083401442_25_S192930_I378504.nii': 7.39673552266336,\n",
       " '/csc/epitkane/data/ADNI/AD_DL_16_04_22/ADNI_005_S_4707_PT_AV45_Coreg,_Avg,_Standardized_Image_and_Voxel_Size_Br_20120619172102843_60_S154277_I311315.nii': 6.270628437288027,\n",
       " '/csc/epitkane/data/ADNI/AD_DL_16_04_22/ADNI_021_S_5099_PT_AV45_Coreg,_Avg,_Standardized_Image_and_Voxel_Size_Br_20130420130203907_7_S184866_I368056.nii': 7.278305074299771,\n",
       " '/csc/epitkane/data/ADNI/AD_DL_16_04_22/ADNI_003_S_2374_PT_AV45_Coreg,_Avg,_Standardized_Image_and_Voxel_Size_Br_20130809084633028_2_S197132_I384858.nii': 7.7142311448490855,\n",
       " '/csc/epitkane/data/ADNI/AD_DL_16_04_22/ADNI_305_S_6871_PT_AV45_Coreg,_Avg,_Standardized_Image_and_Voxel_Size_Br_20200801090814632_12_S949258_I1326838.nii': 7.407924322559599,\n",
       " '/csc/epitkane/data/ADNI/AD_DL_16_04_22/ADNI_072_S_4941_PT_AV45_Coreg,_Avg,_Standardized_Image_and_Voxel_Size_Br_20121101110132598_76_S172550_I343424.nii': 7.273006349859105,\n",
       " '/csc/epitkane/data/ADNI/AD_DL_16_04_22/ADNI_031_S_4496_PT_AV45_Coreg,_Avg,_Standardized_Image_and_Voxel_Size_Br_20140319102440335_52_S213250_I417011.nii': 7.773594467360194,\n",
       " '/csc/epitkane/data/ADNI/AD_DL_16_04_22/ADNI_098_S_4506_PT_AV45_Coreg,_Avg,_Standardized_Image_and_Voxel_Size_Br_20140711100451358_57_S224501_I435143.nii': 6.837440105067111,\n",
       " '/csc/epitkane/data/ADNI/AD_DL_16_04_22/ADNI_305_S_6744_PT_AV45_Coreg,_Avg,_Standardized_Image_and_Voxel_Size_Br_20190820110218917_21_S859141_I1214031.nii': 7.55171221535131,\n",
       " '/csc/epitkane/data/ADNI/AD_DL_16_04_22/ADNI_153_S_4172_PT_AV45_Coreg,_Avg,_Standardized_Image_and_Voxel_Size_Br_20110920184252133_83_S122372_I257177.nii': 6.538947068282317,\n",
       " '/csc/epitkane/data/ADNI/AD_DL_16_04_22/ADNI_127_S_4624_PT_AV45_Coreg,_Avg,_Standardized_Image_and_Voxel_Size_Br_20120719173742234_7_S158065_I317037.nii': 5.998855570057966,\n",
       " '/csc/epitkane/data/ADNI/AD_DL_16_04_22/ADNI_035_S_6551_PT_AV45_Coreg,_Avg,_Standardized_Image_and_Voxel_Size_Br_20180910072032917_6_S724945_I1046439.nii': 6.134265345739653,\n",
       " '/csc/epitkane/data/ADNI/AD_DL_16_04_22/ADNI_014_S_4058_PT_AV45_Coreg,_Avg,_Standardized_Image_and_Voxel_Size_Br_20110726175215105_37_S111794_I246833.nii': 6.024205188481965,\n",
       " '/csc/epitkane/data/ADNI/AD_DL_16_04_22/ADNI_027_S_5169_PT_AV45_Coreg,_Avg,_Standardized_Image_and_Voxel_Size_Br_20130814085026163_2_S191421_I385384.nii': 7.112602609725235,\n",
       " '/csc/epitkane/data/ADNI/AD_DL_16_04_22/ADNI_135_S_6446_PT_FBB_Coreg,_Avg,_Standardized_Image_and_Voxel_Size_Br_20180720065500121_10_S703233_I1023504.nii': 7.195187320178709,\n",
       " '/csc/epitkane/data/ADNI/AD_DL_16_04_22/ADNI_130_S_4343_PT_AV45_Coreg,_Avg,_Standardized_Image_and_Voxel_Size_Br_20131212085624910_95_S206119_I401333.nii': 6.024657514463746,\n",
       " '/csc/epitkane/data/ADNI/AD_DL_16_04_22/ADNI_003_S_6606_PT_AV45_Coreg,_Avg,_Standardized_Image_and_Voxel_Size_Br_20190124075404041_39_S785221_I1119614.nii': 6.245719093447244,\n",
       " '/csc/epitkane/data/ADNI/AD_DL_16_04_22/ADNI_941_S_4365_PT_AV45_Coreg,_Avg,_Standardized_Image_and_Voxel_Size_Br_20140430083735503_49_S216945_I422986.nii': 6.911747300251674,\n",
       " '/csc/epitkane/data/ADNI/AD_DL_16_04_22/ADNI_067_S_4767_PT_AV45_Coreg,_Avg,_Standardized_Image_and_Voxel_Size_Br_20120705191637041_44_S156013_I315209.nii': 6.698199997249846,\n",
       " '/csc/epitkane/data/ADNI/AD_DL_16_04_22/ADNI_130_S_4468_PT_AV45_Coreg,_Avg,_Standardized_Image_and_Voxel_Size_Br_20140320094722312_50_S213468_I417330.nii': 7.535830462798367,\n",
       " '/csc/epitkane/data/ADNI/AD_DL_16_04_22/ADNI_023_S_4164_PT_AV45_Coreg,_Avg,_Standardized_Image_and_Voxel_Size_Br_20111215103944374_16_S131451_I271959.nii': 7.245843396780722,\n",
       " '/csc/epitkane/data/ADNI/AD_DL_16_04_22/ADNI_128_S_2220_PT_AV45_Coreg,_Avg,_Standardized_Image_and_Voxel_Size_Br_20150223094009320_36_S249272_I474319.nii': 7.403670290012373,\n",
       " '/csc/epitkane/data/ADNI/AD_DL_16_04_22/ADNI_033_S_5235_PT_AV45_Coreg,_Avg,_Standardized_Image_and_Voxel_Size_Br_20130802084639765_88_S196323_I384139.nii': 7.324018914629786,\n",
       " '/csc/epitkane/data/ADNI/AD_DL_16_04_22/ADNI_029_S_5219_PT_AV45_Coreg,_Avg,_Standardized_Image_and_Voxel_Size_Br_20130818103829898_62_S198060_I385860.nii': 6.8333366280062755,\n",
       " '/csc/epitkane/data/ADNI/AD_DL_16_04_22/ADNI_067_S_4072_PT_AV45_Coreg,_Avg,_Standardized_Image_and_Voxel_Size_Br_20110720161608299_44_S114384_I245847.nii': 7.267663209602652,\n",
       " '/csc/epitkane/data/ADNI/AD_DL_16_04_22/ADNI_094_S_4162_PT_AV45_Coreg,_Avg,_Standardized_Image_and_Voxel_Size_Br_20110927154259577_45_S123105_I258429.nii': 6.363857937188993,\n",
       " '/csc/epitkane/data/ADNI/AD_DL_16_04_22/ADNI_116_S_4092_PT_AV45_Coreg,_Avg,_Standardized_Image_and_Voxel_Size_Br_20110726114453990_23_S115545_I246718.nii': 6.375254624614218,\n",
       " '/csc/epitkane/data/ADNI/AD_DL_16_04_22/ADNI_027_S_0835_PT_AV45_Coreg,_Avg,_Standardized_Image_and_Voxel_Size_Br_20120101161924379_78_S130092_I274755.nii': 6.629759476119777,\n",
       " '/csc/epitkane/data/ADNI/AD_DL_16_04_22/ADNI_129_S_6146_PT_AV45_Coreg,_Avg,_Standardized_Image_and_Voxel_Size_Br_20180127152613600_11_S652843_I957707.nii': 7.3427791893318455,\n",
       " '/csc/epitkane/data/ADNI/AD_DL_16_04_22/ADNI_126_S_4712_PT_AV45_Coreg,_Avg,_Standardized_Image_and_Voxel_Size_Br_20120601151811558_30_S151632_I307680.nii': 6.67915816750621,\n",
       " '/csc/epitkane/data/ADNI/AD_DL_16_04_22/ADNI_024_S_4905_PT_AV45_Coreg,_Avg,_Standardized_Image_and_Voxel_Size_Br_20120918115117270_27_S167596_I335062.nii': 6.124636237935064,\n",
       " '/csc/epitkane/data/ADNI/AD_DL_16_04_22/ADNI_128_S_4745_PT_AV45_Coreg,_Avg,_Standardized_Image_and_Voxel_Size_Br_20120804180053403_67_S157793_I321696.nii': 7.176000396371445,\n",
       " '/csc/epitkane/data/ADNI/AD_DL_16_04_22/ADNI_031_S_4149_PT_AV45_Coreg,_Avg,_Standardized_Image_and_Voxel_Size_Br_20130829084113696_65_S198901_I387979.nii': 6.596053700686136,\n",
       " '/csc/epitkane/data/ADNI/AD_DL_16_04_22/ADNI_024_S_4169_PT_AV45_Coreg,_Avg,_Standardized_Image_and_Voxel_Size_Br_20150909091330428_32_S272068_I509943.nii': 7.504391559161238,\n",
       " '/csc/epitkane/data/ADNI/AD_DL_16_04_22/ADNI_127_S_4210_PT_AV45_Coreg,_Avg,_Standardized_Image_and_Voxel_Size_Br_20150920144451776_94_S274790_I514736.nii': 7.355001921105257,\n",
       " '/csc/epitkane/data/ADNI/AD_DL_16_04_22/ADNI_037_S_4308_PT_AV45_Coreg,_Avg,_Standardized_Image_and_Voxel_Size_Br_20160314101140117_22_S385685_I654462.nii': 7.450079569807499,\n",
       " '/csc/epitkane/data/ADNI/AD_DL_16_04_22/ADNI_094_S_6275_PT_FBB_Coreg,_Avg,_Standardized_Image_and_Voxel_Size_Br_20180514071548683_74_S683733_I996705.nii': 6.914730892718563,\n",
       " '/csc/epitkane/data/ADNI/AD_DL_16_04_22/ADNI_002_S_0685_PT_AV45_Coreg,_Avg,_Standardized_Image_and_Voxel_Size_Br_20100728160645643_54_S89330_I187802.nii': 7.397561535524052,\n",
       " '/csc/epitkane/data/ADNI/AD_DL_16_04_22/ADNI_127_S_4198_PT_AV45_Coreg,_Avg,_Standardized_Image_and_Voxel_Size_Br_20131002083633943_73_S202564_I393019.nii': 6.56512411504534,\n",
       " '/csc/epitkane/data/ADNI/AD_DL_16_04_22/ADNI_052_S_4885_PT_AV45_Coreg,_Avg,_Standardized_Image_and_Voxel_Size_Br_20120907154729907_52_S166345_I332319.nii': 5.821461509951848,\n",
       " '/csc/epitkane/data/ADNI/AD_DL_16_04_22/ADNI_012_S_5121_PT_AV45_Coreg,_Avg,_Standardized_Image_and_Voxel_Size_Br_20150519090153600_57_S257081_I493326.nii': 7.333676395657684,\n",
       " '/csc/epitkane/data/ADNI/AD_DL_16_04_22/ADNI_012_S_6073_PT_AV45_Coreg,_Avg,_Standardized_Image_and_Voxel_Size_Br_20191014064714452_8_S883038_I1240095.nii': 5.568344503761097,\n",
       " '/csc/epitkane/data/ADNI/AD_DL_16_04_22/ADNI_072_S_2093_PT_AV45_Coreg,_Avg,_Standardized_Image_and_Voxel_Size_Br_20101112175428220_6_S94460_I205039.nii': 7.661997558901893,\n",
       " '/csc/epitkane/data/ADNI/AD_DL_16_04_22/ADNI_305_S_6188_PT_AV45_Coreg,_Avg,_Standardized_Image_and_Voxel_Size_Br_20200831081633058_10_S954144_I1332061.nii': 6.9865664594064265,\n",
       " '/csc/epitkane/data/ADNI/AD_DL_16_04_22/ADNI_023_S_0042_PT_AV45_Coreg,_Avg,_Standardized_Image_and_Voxel_Size_Br_20110418090906637_49_S104239_I228060.nii': 7.301822342137932,\n",
       " '/csc/epitkane/data/ADNI/AD_DL_16_04_22/ADNI_130_S_0285_PT_AV45_Coreg,_Avg,_Standardized_Image_and_Voxel_Size_Br_20130813090358986_3_S188518_I385221.nii': 6.357668941262844,\n",
       " '/csc/epitkane/data/ADNI/AD_DL_16_04_22/ADNI_301_S_6777_PT_AV45_Coreg,_Avg,_Standardized_Image_and_Voxel_Size_Br_20190906111252858_25_S870403_I1223816.nii': 6.177321513636175,\n",
       " '/csc/epitkane/data/ADNI/AD_DL_16_04_22/ADNI_099_S_4157_PT_AV45_Coreg,_Avg,_Standardized_Image_and_Voxel_Size_Br_20110926120449239_73_S123051_I257980.nii': 6.630478027412372,\n",
       " '/csc/epitkane/data/ADNI/AD_DL_16_04_22/ADNI_033_S_1016_PT_AV45_Coreg,_Avg,_Standardized_Image_and_Voxel_Size_Br_20121115110711860_70_S174295_I346765.nii': 6.494661143709481,\n",
       " '/csc/epitkane/data/ADNI/AD_DL_16_04_22/ADNI_127_S_4240_PT_AV45_Coreg,_Avg,_Standardized_Image_and_Voxel_Size_Br_20111014164026083_46_S124537_I260999.nii': 5.77425695157727,\n",
       " '/csc/epitkane/data/ADNI/AD_DL_16_04_22/ADNI_137_S_4520_PT_AV45_Coreg,_Avg,_Standardized_Image_and_Voxel_Size_Br_20140417085832906_11_S215329_I420452.nii': 7.6324011266014535,\n",
       " '/csc/epitkane/data/ADNI/AD_DL_16_04_22/ADNI_137_S_4596_PT_AV45_Coreg,_Avg,_Standardized_Image_and_Voxel_Size_Br_20140418085108484_5_S215994_I420639.nii': 6.169192234891709,\n",
       " '/csc/epitkane/data/ADNI/AD_DL_16_04_22/ADNI_014_S_4093_PT_AV45_Coreg,_Avg,_Standardized_Image_and_Voxel_Size_Br_20110729170650913_34_S116247_I247743.nii': 6.640337499755368,\n",
       " '/csc/epitkane/data/ADNI/AD_DL_16_04_22/ADNI_006_S_4153_PT_AV45_Coreg,_Avg,_Standardized_Image_and_Voxel_Size_Br_20110915194831730_19_S122079_I256251.nii': 6.024205188481965,\n",
       " '/csc/epitkane/data/ADNI/AD_DL_16_04_22/ADNI_073_S_4393_PT_AV45_Coreg,_Avg,_Standardized_Image_and_Voxel_Size_Br_20120116180736542_53_S134889_I278323.nii': 7.278305074299771,\n",
       " '/csc/epitkane/data/ADNI/AD_DL_16_04_22/ADNI_009_S_2208_PT_AV45_Coreg,_Avg,_Standardized_Image_and_Voxel_Size_Br_20110118114328187_93_S96982_I212826.nii': 7.340186835320115,\n",
       " '/csc/epitkane/data/ADNI/AD_DL_16_04_22/ADNI_002_S_5256_PT_AV45_Coreg,_Avg,_Standardized_Image_and_Voxel_Size_Br_20130814082427518_12_S197501_I385370.nii': 6.431345570161379,\n",
       " '/csc/epitkane/data/ADNI/AD_DL_16_04_22/ADNI_127_S_2234_PT_AV45_Coreg,_Avg,_Standardized_Image_and_Voxel_Size_Br_20110104135515537_35_S97027_I209722.nii': 7.4977617006225685,\n",
       " '/csc/epitkane/data/ADNI/AD_DL_16_04_22/ADNI_126_S_4743_PT_AV45_Coreg,_Avg,_Standardized_Image_and_Voxel_Size_Br_20120917120736005_78_S166706_I334539.nii': 6.453358795303845,\n",
       " '/csc/epitkane/data/ADNI/AD_DL_16_04_22/ADNI_073_S_2264_PT_AV45_Coreg,_Avg,_Standardized_Image_and_Voxel_Size_Br_20110405121917524_1_S102917_I226098.nii': 6.732806476517595,\n",
       " '/csc/epitkane/data/ADNI/AD_DL_16_04_22/ADNI_027_S_4869_PT_AV45_Coreg,_Avg,_Standardized_Image_and_Voxel_Size_Br_20121011090449320_47_S168138_I339495.nii': 7.267663209602652,\n",
       " '/csc/epitkane/data/ADNI/AD_DL_16_04_22/ADNI_123_S_4780_PT_AV45_Coreg,_Avg,_Standardized_Image_and_Voxel_Size_Br_20120730181725855_72_S158619_I319691.nii': 6.659871035609611,\n",
       " '/csc/epitkane/data/ADNI/AD_DL_16_04_22/ADNI_070_S_4719_PT_AV45_Coreg,_Avg,_Standardized_Image_and_Voxel_Size_Br_20120713094348350_53_S156619_I316168.nii': 6.375254624614218,\n",
       " '/csc/epitkane/data/ADNI/AD_DL_16_04_22/ADNI_136_S_4433_PT_AV45_Coreg,_Avg,_Standardized_Image_and_Voxel_Size_Br_20120427182701565_84_S148494_I301012.nii': 6.234771789951698,\n",
       " '/csc/epitkane/data/ADNI/AD_DL_16_04_22/ADNI_137_S_4756_PT_AV45_Coreg,_Avg,_Standardized_Image_and_Voxel_Size_Br_20120717134615439_7_S155361_I316555.nii': 6.363857937188993,\n",
       " '/csc/epitkane/data/ADNI/AD_DL_16_04_22/ADNI_037_S_6144_PT_FBB_Coreg,_Avg,_Standardized_Image_and_Voxel_Size_Br_20180110100547864_18_S647555_I952060.nii': 6.018349875889364,\n",
       " '/csc/epitkane/data/ADNI/AD_DL_16_04_22/ADNI_941_S_4292_PT_AV45_Coreg,_Avg,_Standardized_Image_and_Voxel_Size_Br_20120117134356294_87_S136131_I278426.nii': 7.05834020883328,\n",
       " '/csc/epitkane/data/ADNI/AD_DL_16_04_22/ADNI_129_S_4220_PT_AV45_Coreg,_Avg,_Standardized_Image_and_Voxel_Size_Br_20131009084850811_80_S203135_I393791.nii': 7.776954403322442,\n",
       " '/csc/epitkane/data/ADNI/AD_DL_16_04_22/ADNI_011_S_6465_PT_AV45_Coreg,_Avg,_Standardized_Image_and_Voxel_Size_Br_20180828064405240_42_S712841_I1043003.nii': 6.7039240387003005,\n",
       " '/csc/epitkane/data/ADNI/AD_DL_16_04_22/ADNI_009_S_4958_PT_AV45_Coreg,_Avg,_Standardized_Image_and_Voxel_Size_Br_20121126141052203_2_S172505_I347793.nii': 6.735552818378036,\n",
       " '/csc/epitkane/data/ADNI/AD_DL_16_04_22/ADNI_011_S_4893_PT_AV45_Coreg,_Avg,_Standardized_Image_and_Voxel_Size_Br_20161007102221876_31_S502327_I782060.nii': 6.7051493788854755,\n",
       " '/csc/epitkane/data/ADNI/AD_DL_16_04_22/ADNI_024_S_5290_PT_AV45_Coreg,_Avg,_Standardized_Image_and_Voxel_Size_Br_20190911093450001_16_S871528_I1225479.nii': 6.715262166866686,\n",
       " '/csc/epitkane/data/ADNI/AD_DL_16_04_22/ADNI_072_S_4445_PT_AV45_Coreg,_Avg,_Standardized_Image_and_Voxel_Size_Br_20120202161548813_26_S139006_I282454.nii': 7.0993374407188625,\n",
       " '/csc/epitkane/data/ADNI/AD_DL_16_04_22/ADNI_032_S_0214_PT_PIB_Coreg,_Avg,_Standardized_Image_and_Voxel_Size_Br_20070821165140953_1_S32546_I69518.nii': 6.595643892607181,\n",
       " '/csc/epitkane/data/ADNI/AD_DL_16_04_22/ADNI_128_S_2002_PT_AV45_Coreg,_Avg,_Standardized_Image_and_Voxel_Size_Br_20120707143523808_48_S156742_I315395.nii': 7.5406215286571525,\n",
       " '/csc/epitkane/data/ADNI/AD_DL_16_04_22/ADNI_098_S_6658_PT_FBB_Coreg,_Avg,_Standardized_Image_and_Voxel_Size_Br_20190422102727247_13_S817075_I1156831.nii': 6.474199290707447,\n",
       " '/csc/epitkane/data/ADNI/AD_DL_16_04_22/ADNI_013_S_4395_PT_AV45_Coreg,_Avg,_Standardized_Image_and_Voxel_Size_Br_20140128082634934_89_S211277_I408956.nii': 6.967909201801884,\n",
       " '/csc/epitkane/data/ADNI/AD_DL_16_04_22/ADNI_114_S_6813_PT_AV45_Coreg,_Avg,_Standardized_Image_and_Voxel_Size_Br_20191202081810954_40_S900566_I1261257.nii': 7.465655310134056,\n",
       " '/csc/epitkane/data/ADNI/AD_DL_16_04_22/ADNI_127_S_4604_PT_AV45_Coreg,_Avg,_Standardized_Image_and_Voxel_Size_Br_20120514123822703_1_S146585_I303319.nii': 7.245843396780722,\n",
       " '/csc/epitkane/data/ADNI/AD_DL_16_04_22/ADNI_022_S_4196_PT_AV45_Coreg,_Avg,_Standardized_Image_and_Voxel_Size_Br_20111111142622025_80_S128394_I266094.nii': 6.610573160240232,\n",
       " '/csc/epitkane/data/ADNI/AD_DL_16_04_22/ADNI_007_S_4467_PT_AV45_Coreg,_Avg,_Standardized_Image_and_Voxel_Size_Br_20140214091624937_78_S212228_I414316.nii': 6.603537237890257,\n",
       " '/csc/epitkane/data/ADNI/AD_DL_16_04_22/ADNI_041_S_4014_PT_AV45_Coreg,_Avg,_Standardized_Image_and_Voxel_Size_Br_20150519090705932_74_S259803_I493342.nii': 6.192566967545312,\n",
       " '/csc/epitkane/data/ADNI/AD_DL_16_04_22/ADNI_029_S_4290_PT_AV45_Coreg,_Avg,_Standardized_Image_and_Voxel_Size_Br_20131206082227859_87_S206148_I400382.nii': 6.764231268896094,\n",
       " '/csc/epitkane/data/ADNI/AD_DL_16_04_22/ADNI_005_S_0223_PT_PIB_Coreg,_Avg,_Standardized_Image_and_Voxel_Size_Br_20080620145216278_1_S51758_I110254.nii': 6.312641838693557,\n",
       " '/csc/epitkane/data/ADNI/AD_DL_16_04_22/ADNI_032_S_5289_PT_AV45_Coreg,_Avg,_Standardized_Image_and_Voxel_Size_Br_20131221152445882_21_S206681_I403558.nii': 7.19408773621922,\n",
       " '/csc/epitkane/data/ADNI/AD_DL_16_04_22/ADNI_031_S_2018_PT_AV45_Coreg,_Avg,_Standardized_Image_and_Voxel_Size_Br_20101129120716694_47_S91253_I206750.nii': 7.637234388789473,\n",
       " '/csc/epitkane/data/ADNI/AD_DL_16_04_22/ADNI_006_S_4867_PT_AV45_Coreg,_Avg,_Standardized_Image_and_Voxel_Size_Br_20120831131520479_40_S162605_I329599.nii': 6.186268233196032,\n",
       " '/csc/epitkane/data/ADNI/AD_DL_16_04_22/ADNI_031_S_2018_PT_AV45_Coreg,_Avg,_Standardized_Image_and_Voxel_Size_Br_20120629131330697_77_S153970_I313497.nii': 7.562681246721884,\n",
       " '/csc/epitkane/data/ADNI/AD_DL_16_04_22/ADNI_003_S_6260_PT_AV45_Coreg,_Avg,_Standardized_Image_and_Voxel_Size_Br_20180704133940149_39_S700932_I1017077.nii': 6.918695219020472,\n",
       " '/csc/epitkane/data/ADNI/AD_DL_16_04_22/ADNI_130_S_6612_PT_FBB_Coreg,_Avg,_Standardized_Image_and_Voxel_Size_Br_20190213113107791_22_S780584_I1130069.nii': 6.399426535414734,\n",
       " '/csc/epitkane/data/ADNI/AD_DL_16_04_22/ADNI_024_S_1063_PT_AV45_Coreg,_Avg,_Standardized_Image_and_Voxel_Size_Br_20101124121543009_25_S94459_I206563.nii': 6.33930054237951,\n",
       " '/csc/epitkane/data/ADNI/AD_DL_16_04_22/ADNI_012_S_4188_PT_AV45_Coreg,_Avg,_Standardized_Image_and_Voxel_Size_Br_20111020184515282_46_S125135_I261887.nii': 6.306008354286792,\n",
       " '/csc/epitkane/data/ADNI/AD_DL_16_04_22/ADNI_073_S_4311_PT_AV45_Coreg,_Avg,_Standardized_Image_and_Voxel_Size_Br_20111213124326745_3_S132567_I271476.nii': 6.771940738837513,\n",
       " '/csc/epitkane/data/ADNI/AD_DL_16_04_22/ADNI_114_S_6251_PT_AV45_Coreg,_Avg,_Standardized_Image_and_Voxel_Size_Br_20180705085143057_64_S700618_I1017123.nii': 6.570882962339584,\n",
       " '/csc/epitkane/data/ADNI/AD_DL_16_04_22/ADNI_041_S_4874_PT_AV45_Coreg,_Avg,_Standardized_Image_and_Voxel_Size_Br_20120830144039196_34_S163033_I328100.nii': 7.413246987310045,\n",
       " '/csc/epitkane/data/ADNI/AD_DL_16_04_22/ADNI_073_S_4382_PT_AV45_Coreg,_Avg,_Standardized_Image_and_Voxel_Size_Br_20140105132642321_26_S208370_I403881.nii': 7.872073979866873,\n",
       " '/csc/epitkane/data/ADNI/AD_DL_16_04_22/ADNI_052_S_4944_PT_AV45_Coreg,_Avg,_Standardized_Image_and_Voxel_Size_Br_20150120104119782_62_S244608_I468910.nii': 6.500388363584376,\n",
       " '/csc/epitkane/data/ADNI/AD_DL_16_04_22/ADNI_012_S_4094_PT_AV45_Coreg,_Avg,_Standardized_Image_and_Voxel_Size_Br_20130717081739105_47_S194954_I380925.nii': 7.334981878871814,\n",
       " '/csc/epitkane/data/ADNI/AD_DL_16_04_22/ADNI_129_S_2347_PT_AV45_Coreg,_Avg,_Standardized_Image_and_Voxel_Size_Br_20130416150627092_36_S186247_I367457.nii': 6.985641817639208,\n",
       " '/csc/epitkane/data/ADNI/AD_DL_16_04_22/ADNI_027_S_4729_PT_AV45_Coreg,_Avg,_Standardized_Image_and_Voxel_Size_Br_20120628101948654_35_S153977_I313242.nii': 6.60052759466379,\n",
       " '/csc/epitkane/data/ADNI/AD_DL_16_04_22/ADNI_072_S_4063_PT_AV45_Coreg,_Avg,_Standardized_Image_and_Voxel_Size_Br_20110817161729933_88_S116084_I251265.nii': 7.240275836323785,\n",
       " '/csc/epitkane/data/ADNI/AD_DL_16_04_22/ADNI_003_S_4524_PT_AV45_Coreg,_Avg,_Standardized_Image_and_Voxel_Size_Br_20120803190312353_20_S159096_I321629.nii': 6.317691809739312,\n",
       " '/csc/epitkane/data/ADNI/AD_DL_16_04_22/ADNI_031_S_4024_PT_AV45_Coreg,_Avg,_Standardized_Image_and_Voxel_Size_Br_20110516125935984_24_S108066_I235142.nii': 6.4642736021903815,\n",
       " '/csc/epitkane/data/ADNI/AD_DL_16_04_22/ADNI_137_S_0668_PT_AV45_Coreg,_Avg,_Standardized_Image_and_Voxel_Size_Br_20140929091133760_63_S231314_I445359.nii': 7.351158226430694,\n",
       " '/csc/epitkane/data/ADNI/AD_DL_16_04_22/ADNI_082_S_6283_PT_AV45_Coreg,_Avg,_Standardized_Image_and_Voxel_Size_Br_20180703064958851_45_S699495_I1016435.nii': 6.661982609607565,\n",
       " '/csc/epitkane/data/ADNI/AD_DL_16_04_22/ADNI_037_S_6115_PT_FBB_Coreg,_Avg,_Standardized_Image_and_Voxel_Size_Br_20180221090526521_54_S656969_I966237.nii': 7.272398392570047,\n",
       " '/csc/epitkane/data/ADNI/AD_DL_16_04_22/ADNI_032_S_2119_PT_AV45_Coreg,_Avg,_Standardized_Image_and_Voxel_Size_Br_20101028181312990_77_S93798_I200239.nii': 7.878155336503324,\n",
       " '/csc/epitkane/data/ADNI/AD_DL_16_04_22/ADNI_014_S_6148_PT_FBB_Coreg,_Avg,_Standardized_Image_and_Voxel_Size_Br_20180226093414107_8_S661318_I968119.nii': 7.620214770574455,\n",
       " '/csc/epitkane/data/ADNI/AD_DL_16_04_22/ADNI_022_S_4805_PT_AV45_Coreg,_Avg,_Standardized_Image_and_Voxel_Size_Br_20120920111520567_95_S158166_I335887.nii': 6.610573160240232,\n",
       " '/csc/epitkane/data/ADNI/AD_DL_16_04_22/ADNI_072_S_2116_PT_AV45_Coreg,_Avg,_Standardized_Image_and_Voxel_Size_Br_20121204144803281_1_S176012_I349160.nii': 7.335633981927201,\n",
       " '/csc/epitkane/data/ADNI/AD_DL_16_04_22/ADNI_022_S_2263_PT_AV45_Coreg,_Avg,_Standardized_Image_and_Voxel_Size_Br_20150519090305980_24_S259277_I493330.nii': 7.055312843339752,\n",
       " '/csc/epitkane/data/ADNI/AD_DL_16_04_22/ADNI_127_S_4301_PT_AV45_Coreg,_Avg,_Standardized_Image_and_Voxel_Size_Br_20111115122112786_72_S129037_I266574.nii': 6.8918921464044685,\n",
       " '/csc/epitkane/data/ADNI/AD_DL_16_04_22/ADNI_123_S_4806_PT_AV45_Coreg,_Avg,_Standardized_Image_and_Voxel_Size_Br_20120724164914889_95_S158294_I317957.nii': 7.092630293437552,\n",
       " '/csc/epitkane/data/ADNI/AD_DL_16_04_22/ADNI_031_S_4021_PT_AV45_Coreg,_Avg,_Standardized_Image_and_Voxel_Size_Br_20110615151658099_42_S108110_I240246.nii': 6.82474151847688,\n",
       " '/csc/epitkane/data/ADNI/AD_DL_16_04_22/ADNI_018_S_4399_PT_AV45_Coreg,_Avg,_Standardized_Image_and_Voxel_Size_Br_20140129091844867_79_S211469_I410145.nii': 7.628031126930335,\n",
       " '/csc/epitkane/data/ADNI/AD_DL_16_04_22/ADNI_041_S_5244_PT_AV45_Coreg,_Avg,_Standardized_Image_and_Voxel_Size_Br_20150807084747020_21_S268116_I504377.nii': 7.254177846456518,\n",
       " '/csc/epitkane/data/ADNI/AD_DL_16_04_22/ADNI_128_S_0266_PT_PIB_Coreg,_Avg,_Standardized_Image_and_Voxel_Size_Br_20100525172641131_47_S85249_I174616.nii': 5.887769310769217,\n",
       " '/csc/epitkane/data/ADNI/AD_DL_16_04_22/ADNI_007_S_6455_PT_FBB_Coreg,_Avg,_Standardized_Image_and_Voxel_Size_Br_20180719093646322_57_S703868_I1022851.nii': 7.546446273746024,\n",
       " '/csc/epitkane/data/ADNI/AD_DL_16_04_22/ADNI_073_S_0746_PT_AV45_Coreg,_Avg,_Standardized_Image_and_Voxel_Size_Br_20140213083018648_43_S212001_I413991.nii': 7.5953872788539725,\n",
       " '/csc/epitkane/data/ADNI/AD_DL_16_04_22/ADNI_130_S_5231_PT_AV45_Coreg,_Avg,_Standardized_Image_and_Voxel_Size_Br_20130815084004094_7_S196873_I385565.nii': 6.549366214220032,\n",
       " '/csc/epitkane/data/ADNI/AD_DL_16_04_22/ADNI_027_S_5093_PT_AV45_Coreg,_Avg,_Standardized_Image_and_Voxel_Size_Br_20150310084523905_3_S250645_I476830.nii': 7.633369649679584,\n",
       " '/csc/epitkane/data/ADNI/AD_DL_16_04_22/ADNI_070_S_5040_PT_AV45_Coreg,_Avg,_Standardized_Image_and_Voxel_Size_Br_20130117104516959_25_S178595_I355440.nii': 7.008181082971354,\n",
       " '/csc/epitkane/data/ADNI/AD_DL_16_04_22/ADNI_941_S_6333_PT_FBB_Coreg,_Avg,_Standardized_Image_and_Voxel_Size_Br_20180605071119711_78_S691362_I1005479.nii': 6.784909448983291,\n",
       " '/csc/epitkane/data/ADNI/AD_DL_16_04_22/ADNI_023_S_6702_PT_AV45_Coreg,_Avg,_Standardized_Image_and_Voxel_Size_Br_20190430124941335_16_S819103_I1159914.nii': 7.052721049232323,\n",
       " '/csc/epitkane/data/ADNI/AD_DL_16_04_22/ADNI_002_S_1268_PT_AV45_Coreg,_Avg,_Standardized_Image_and_Voxel_Size_Br_20130328155423554_78_S185086_I364745.nii': 6.095148658384864,\n",
       " '/csc/epitkane/data/ADNI/AD_DL_16_04_22/ADNI_114_S_6524_PT_AV45_Coreg,_Avg,_Standardized_Image_and_Voxel_Size_Br_20190122080932261_55_S785793_I1118623.nii': 7.01301578963963,\n",
       " '/csc/epitkane/data/ADNI/AD_DL_16_04_22/ADNI_041_S_5082_PT_AV45_Coreg,_Avg,_Standardized_Image_and_Voxel_Size_Br_20130418154943153_24_S184696_I367861.nii': 6.98589810931039,\n",
       " '/csc/epitkane/data/ADNI/AD_DL_16_04_22/ADNI_072_S_4057_PT_AV45_Coreg,_Avg,_Standardized_Image_and_Voxel_Size_Br_20110627144745680_52_S112400_I241906.nii': 6.528465655697906,\n",
       " '/csc/epitkane/data/ADNI/AD_DL_16_04_22/ADNI_018_S_4399_PT_AV45_Coreg,_Avg,_Standardized_Image_and_Voxel_Size_Br_20190816123430048_47_S856463_I1211596.nii': 7.143617602704121,\n",
       " '/csc/epitkane/data/ADNI/AD_DL_16_04_22/ADNI_305_S_6378_PT_AV45_Coreg,_Avg,_Standardized_Image_and_Voxel_Size_Br_20180830065314017_38_S723062_I1043815.nii': 7.404887575616125,\n",
       " '/csc/epitkane/data/ADNI/AD_DL_16_04_22/ADNI_012_S_5213_PT_AV45_Coreg,_Avg,_Standardized_Image_and_Voxel_Size_Br_20150913153920170_21_S272941_I511392.nii': 7.856319571406588,\n",
       " '/csc/epitkane/data/ADNI/AD_DL_16_04_22/ADNI_100_S_6349_PT_FBB_Coreg,_Avg,_Standardized_Image_and_Voxel_Size_Br_20180604082513156_59_S690839_I1004975.nii': 7.2640301428995295,\n",
       " '/csc/epitkane/data/ADNI/AD_DL_16_04_22/ADNI_126_S_4494_PT_AV45_Coreg,_Avg,_Standardized_Image_and_Voxel_Size_Br_20120301162646904_11_S142124_I287415.nii': 5.76442860520391,\n",
       " '/csc/epitkane/data/ADNI/AD_DL_16_04_22/ADNI_037_S_4750_PT_AV45_Coreg,_Avg,_Standardized_Image_and_Voxel_Size_Br_20120928175420472_1_S160653_I337226.nii': 7.413246987310045,\n",
       " '/csc/epitkane/data/ADNI/AD_DL_16_04_22/ADNI_137_S_4331_PT_AV45_Coreg,_Avg,_Standardized_Image_and_Voxel_Size_Br_20111222105308812_62_S131979_I274056.nii': 6.8918921464044685,\n",
       " '/csc/epitkane/data/ADNI/AD_DL_16_04_22/ADNI_002_S_4799_PT_AV45_Coreg,_Avg,_Standardized_Image_and_Voxel_Size_Br_20140725094959156_15_S225271_I436777.nii': 6.574657342999874,\n",
       " '/csc/epitkane/data/ADNI/AD_DL_16_04_22/ADNI_024_S_2239_PT_AV45_Coreg,_Avg,_Standardized_Image_and_Voxel_Size_Br_20101214181256725_62_S96318_I208628.nii': 7.4318919168078,\n",
       " '/csc/epitkane/data/ADNI/AD_DL_16_04_22/ADNI_072_S_5207_PT_AV45_Coreg,_Avg,_Standardized_Image_and_Voxel_Size_Br_20130801080359641_37_S196986_I383990.nii': 7.176000396371445,\n",
       " '/csc/epitkane/data/ADNI/AD_DL_16_04_22/ADNI_023_S_4501_PT_AV45_Coreg,_Avg,_Standardized_Image_and_Voxel_Size_Br_20120518123413274_12_S149054_I305218.nii': 6.32931912553131,\n",
       " '/csc/epitkane/data/ADNI/AD_DL_16_04_22/ADNI_098_S_4018_PT_AV45_Coreg,_Avg,_Standardized_Image_and_Voxel_Size_Br_20130614092512720_88_S191961_I376564.nii': 7.298445101508147,\n",
       " '/csc/epitkane/data/ADNI/AD_DL_16_04_22/ADNI_011_S_4120_PT_AV45_Coreg,_Avg,_Standardized_Image_and_Voxel_Size_Br_20150806085842616_28_S267007_I504169.nii': 6.367500844525334,\n",
       " '/csc/epitkane/data/ADNI/AD_DL_16_04_22/ADNI_007_S_5265_PT_AV45_Coreg,_Avg,_Standardized_Image_and_Voxel_Size_Br_20130818101506292_66_S197835_I385830.nii': 6.1370438556179545,\n",
       " '/csc/epitkane/data/ADNI/AD_DL_16_04_22/ADNI_041_S_4060_PT_AV45_Coreg,_Avg,_Standardized_Image_and_Voxel_Size_Br_20110627144557588_86_S112430_I241902.nii': 6.669545336564935,\n",
       " '/csc/epitkane/data/ADNI/AD_DL_16_04_22/ADNI_094_S_2216_PT_AV45_Coreg,_Avg,_Standardized_Image_and_Voxel_Size_Br_20110308164457763_44_S100562_I223007.nii': 6.272877006546167,\n",
       " '/csc/epitkane/data/ADNI/AD_DL_16_04_22/ADNI_024_S_4223_PT_AV45_Coreg,_Avg,_Standardized_Image_and_Voxel_Size_Br_20110927153122768_44_S122744_I258381.nii': 6.68870967079612,\n",
       " '/csc/epitkane/data/ADNI/AD_DL_16_04_22/ADNI_041_S_4876_PT_AV45_Coreg,_Avg,_Standardized_Image_and_Voxel_Size_Br_20140814095300113_50_S227186_I439306.nii': 6.943122422819428,\n",
       " '/csc/epitkane/data/ADNI/AD_DL_16_04_22/ADNI_153_S_4159_PT_AV45_Coreg,_Avg,_Standardized_Image_and_Voxel_Size_Br_20110920184102037_1_S121566_I257171.nii': 6.947687911091067,\n",
       " '/csc/epitkane/data/ADNI/AD_DL_16_04_22/ADNI_137_S_4816_PT_AV45_Coreg,_Avg,_Standardized_Image_and_Voxel_Size_Br_20120917161954801_25_S166714_I334655.nii': 6.198465093683384,\n",
       " '/csc/epitkane/data/ADNI/AD_DL_16_04_22/ADNI_137_S_4623_PT_AV45_Coreg,_Avg,_Standardized_Image_and_Voxel_Size_Br_20140516083247536_22_S218587_I424908.nii': 6.539007753809136,\n",
       " '/csc/epitkane/data/ADNI/AD_DL_16_04_22/ADNI_003_S_4900_PT_AV45_Coreg,_Avg,_Standardized_Image_and_Voxel_Size_Br_20120917113435131_80_S166317_I334506.nii': 7.0993374407188625,\n",
       " '/csc/epitkane/data/ADNI/AD_DL_16_04_22/ADNI_305_S_6313_PT_AV45_Coreg,_Avg,_Standardized_Image_and_Voxel_Size_Br_20200723064738342_77_S949247_I1322527.nii': 7.455876687491824,\n",
       " '/csc/epitkane/data/ADNI/AD_DL_16_04_22/ADNI_027_S_4943_PT_AV45_Coreg,_Avg,_Standardized_Image_and_Voxel_Size_Br_20121101105355015_26_S170631_I343416.nii': 5.97345173590158,\n",
       " '/csc/epitkane/data/ADNI/AD_DL_16_04_22/ADNI_023_S_4448_PT_AV45_Coreg,_Avg,_Standardized_Image_and_Voxel_Size_Br_20120221170523068_17_S141243_I285967.nii': 7.324018914629786,\n",
       " '/csc/epitkane/data/ADNI/AD_DL_16_04_22/ADNI_002_S_4270_PT_AV45_Coreg,_Avg,_Standardized_Image_and_Voxel_Size_Br_20111121125422356_23_S130102_I267787.nii': 6.11219140577398,\n",
       " '/csc/epitkane/data/ADNI/AD_DL_16_04_22/ADNI_037_S_0627_PT_PIB_Coreg,_Avg,_Standardized_Image_and_Voxel_Size_Br_20071005140741634_1_S40987_I76912.nii': 5.914853444736141,\n",
       " '/csc/epitkane/data/ADNI/AD_DL_16_04_22/ADNI_072_S_4103_PT_AV45_Coreg,_Avg,_Standardized_Image_and_Voxel_Size_Br_20110923132908839_63_S122955_I257606.nii': 7.240275836323785,\n",
       " '/csc/epitkane/data/ADNI/AD_DL_16_04_22/ADNI_037_S_0552_PT_PIB_Coreg,_Avg,_Standardized_Image_and_Voxel_Size_Br_20070822091519581_96_S33452_I69746.nii': 6.30755184406493,\n",
       " '/csc/epitkane/data/ADNI/AD_DL_16_04_22/ADNI_067_S_6045_PT_FBB_Coreg,_Avg,_Standardized_Image_and_Voxel_Size_Br_20170829075002959_27_S595255_I896672.nii': 7.558516743045645,\n",
       " '/csc/epitkane/data/ADNI/AD_DL_16_04_22/ADNI_116_S_4483_PT_AV45_Coreg,_Avg,_Standardized_Image_and_Voxel_Size_Br_20140225080007314_57_S212196_I415302.nii': 7.4360278163518485,\n",
       " '/csc/epitkane/data/ADNI/AD_DL_16_04_22/ADNI_036_S_4491_PT_AV45_Coreg,_Avg,_Standardized_Image_and_Voxel_Size_Br_20120224152232977_62_S141394_I286470.nii': 7.314164838845976,\n",
       " '/csc/epitkane/data/ADNI/AD_DL_16_04_22/ADNI_941_S_6094_PT_FBB_Coreg,_Avg,_Standardized_Image_and_Voxel_Size_Br_20180216102352095_7_S656968_I965144.nii': 7.756623334538858,\n",
       " '/csc/epitkane/data/ADNI/AD_DL_16_04_22/ADNI_005_S_0222_PT_PIB_Coreg,_Avg,_Standardized_Image_and_Voxel_Size_Br_20080606164853273_1_S51083_I108642.nii': 6.306822582410002,\n",
       " '/csc/epitkane/data/ADNI/AD_DL_16_04_22/ADNI_021_S_5177_PT_AV45_Coreg,_Avg,_Standardized_Image_and_Voxel_Size_Br_20130630120908977_70_S191625_I378773.nii': 7.125670367259865,\n",
       " '/csc/epitkane/data/ADNI/AD_DL_16_04_22/ADNI_023_S_0031_PT_AV45_Coreg,_Avg,_Standardized_Image_and_Voxel_Size_Br_20101207122821353_58_S95742_I207682.nii': 6.828387343598564,\n",
       " '/csc/epitkane/data/ADNI/AD_DL_16_04_22/ADNI_011_S_4366_PT_AV45_Coreg,_Avg,_Standardized_Image_and_Voxel_Size_Br_20111208170932672_14_S131220_I270602.nii': 6.258727978508186,\n",
       " '/csc/epitkane/data/ADNI/AD_DL_16_04_22/ADNI_024_S_6005_PT_FBB_Coreg,_Avg,_Standardized_Image_and_Voxel_Size_Br_20170527171814279_75_S555463_I856453.nii': 7.088408778675395,\n",
       " '/csc/epitkane/data/ADNI/AD_DL_16_04_22/ADNI_135_S_6411_PT_FBB_Coreg,_Avg,_Standardized_Image_and_Voxel_Size_Br_20180712082702374_7_S700827_I1020083.nii': 6.229496710915942,\n",
       " '/csc/epitkane/data/ADNI/AD_DL_16_04_22/ADNI_114_S_6063_PT_AV45_Coreg,_Avg,_Standardized_Image_and_Voxel_Size_Br_20180317170144034_21_S667357_I974658.nii': 6.762845107186329,\n",
       " '/csc/epitkane/data/ADNI/AD_DL_16_04_22/ADNI_021_S_4254_PT_AV45_Coreg,_Avg,_Standardized_Image_and_Voxel_Size_Br_20111111142359102_3_S128885_I266086.nii': 6.538947068282317,\n",
       " '/csc/epitkane/data/ADNI/AD_DL_16_04_22/ADNI_006_S_5153_PT_AV45_Coreg,_Avg,_Standardized_Image_and_Voxel_Size_Br_20130605084604405_1_S191261_I375107.nii': 7.472780568128646,\n",
       " '/csc/epitkane/data/ADNI/AD_DL_16_04_22/ADNI_128_S_4774_PT_AV45_Coreg,_Avg,_Standardized_Image_and_Voxel_Size_Br_20120807092337329_72_S159533_I321790.nii': 6.431345570161379,\n",
       " '/csc/epitkane/data/ADNI/AD_DL_16_04_22/ADNI_137_S_4672_PT_AV45_Coreg,_Avg,_Standardized_Image_and_Voxel_Size_Br_20140529083147447_7_S218119_I427827.nii': 6.208590026096629,\n",
       " '/csc/epitkane/data/ADNI/AD_DL_16_04_22/ADNI_114_S_2392_PT_AV45_Coreg,_Avg,_Standardized_Image_and_Voxel_Size_Br_20191217082922925_29_S905409_I1267563.nii': 6.413950639550449,\n",
       " '/csc/epitkane/data/ADNI/AD_DL_16_04_22/ADNI_082_S_2307_PT_AV45_Coreg,_Avg,_Standardized_Image_and_Voxel_Size_Br_20110307150247356_34_S100208_I222704.nii': 6.608405401662674,\n",
       " '/csc/epitkane/data/ADNI/AD_DL_16_04_22/ADNI_011_S_2274_PT_AV45_Coreg,_Avg,_Standardized_Image_and_Voxel_Size_Br_20130304104047397_9_S183296_I361864.nii': 6.45110213410454,\n",
       " '/csc/epitkane/data/ADNI/AD_DL_16_04_22/ADNI_067_S_2304_PT_AV45_Coreg,_Avg,_Standardized_Image_and_Voxel_Size_Br_20110318162250832_29_S101589_I224349.nii': 7.354362330421477,\n",
       " '/csc/epitkane/data/ADNI/AD_DL_16_04_22/ADNI_007_S_4488_PT_AV45_Coreg,_Avg,_Standardized_Image_and_Voxel_Size_Br_20160308091717429_81_S383479_I648358.nii': 7.4770384723196965,\n",
       " '/csc/epitkane/data/ADNI/AD_DL_16_04_22/ADNI_305_S_6313_PT_AV45_Coreg,_Avg,_Standardized_Image_and_Voxel_Size_Br_20180507135731433_29_S682404_I993387.nii': 7.461065514354283,\n",
       " '/csc/epitkane/data/ADNI/AD_DL_16_04_22/ADNI_032_S_1169_PT_AV45_Coreg,_Avg,_Standardized_Image_and_Voxel_Size_Br_20120213151902827_70_S140285_I284296.nii': 8.002359546252707,\n",
       " '/csc/epitkane/data/ADNI/AD_DL_16_04_22/ADNI_023_S_4115_PT_AV45_Coreg,_Avg,_Standardized_Image_and_Voxel_Size_Br_20131009083349380_58_S202852_I393753.nii': 7.602900462204755,\n",
       " '/csc/epitkane/data/ADNI/AD_DL_16_04_22/ADNI_053_S_2357_PT_AV45_Coreg,_Avg,_Standardized_Image_and_Voxel_Size_Br_20130614091131703_42_S191793_I376550.nii': 7.675546002537848,\n",
       " '/csc/epitkane/data/ADNI/AD_DL_16_04_22/ADNI_033_S_4179_PT_AV45_Coreg,_Avg,_Standardized_Image_and_Voxel_Size_Br_20110920183317843_10_S121053_I257145.nii': 5.784127150676138,\n",
       " '/csc/epitkane/data/ADNI/AD_DL_16_04_22/ADNI_027_S_6034_PT_FBB_Coreg,_Avg,_Standardized_Image_and_Voxel_Size_Br_20171011090126870_17_S617379_I916044.nii': 7.222566018822171,\n",
       " '/csc/epitkane/data/ADNI/AD_DL_16_04_22/ADNI_018_S_4809_PT_AV45_Coreg,_Avg,_Standardized_Image_and_Voxel_Size_Br_20120917161740970_55_S167181_I334649.nii': 6.610573160240232,\n",
       " '/csc/epitkane/data/ADNI/AD_DL_16_04_22/ADNI_027_S_6002_PT_FBB_Coreg,_Avg,_Standardized_Image_and_Voxel_Size_Br_20170527175549868_59_S549869_I856523.nii': 7.238496840894365,\n",
       " '/csc/epitkane/data/ADNI/AD_DL_16_04_22/ADNI_036_S_2380_PT_AV45_Coreg,_Avg,_Standardized_Image_and_Voxel_Size_Br_20110814135924311_34_S118027_I250322.nii': 6.54606779321986,\n",
       " '/csc/epitkane/data/ADNI/AD_DL_16_04_22/ADNI_041_S_4200_PT_AV45_Coreg,_Avg,_Standardized_Image_and_Voxel_Size_Br_20151013154346527_74_S283454_I525012.nii': 7.367077059881012,\n",
       " '/csc/epitkane/data/ADNI/AD_DL_16_04_22/ADNI_012_S_4012_PT_AV45_Coreg,_Avg,_Standardized_Image_and_Voxel_Size_Br_20130503131813244_65_S188602_I370034.nii': 6.985641817639208,\n",
       " '/csc/epitkane/data/ADNI/AD_DL_16_04_22/ADNI_035_S_4785_PT_AV45_Coreg,_Avg,_Standardized_Image_and_Voxel_Size_Br_20130718083257022_33_S193957_I381289.nii': 7.361724188603925,\n",
       " '/csc/epitkane/data/ADNI/AD_DL_16_04_22/ADNI_941_S_6054_PT_FBB_Coreg,_Avg,_Standardized_Image_and_Voxel_Size_Br_20190815094914373_29_S854292_I1208983.nii': 6.468009236897099,\n",
       " '/csc/epitkane/data/ADNI/AD_DL_16_04_22/ADNI_037_S_4030_PT_AV45_Coreg,_Avg,_Standardized_Image_and_Voxel_Size_Br_20110801141658796_40_S112399_I247943.nii': 6.124636237935064,\n",
       " '/csc/epitkane/data/ADNI/AD_DL_16_04_22/ADNI_141_S_4232_PT_AV45_Coreg,_Avg,_Standardized_Image_and_Voxel_Size_Br_20120103111455633_65_S134986_I274806.nii': 6.59041984815834,\n",
       " '/csc/epitkane/data/ADNI/AD_DL_16_04_22/ADNI_022_S_4444_PT_AV45_Coreg,_Avg,_Standardized_Image_and_Voxel_Size_Br_20120316085448502_16_S143850_I290549.nii': 6.82474151847688,\n",
       " '/csc/epitkane/data/ADNI/AD_DL_16_04_22/ADNI_141_S_6240_PT_FBB_Coreg,_Avg,_Standardized_Image_and_Voxel_Size_Br_20180516095932839_30_S672479_I998029.nii': 6.937314081223682,\n",
       " '/csc/epitkane/data/ADNI/AD_DL_16_04_22/ADNI_007_S_4272_PT_AV45_Coreg,_Avg,_Standardized_Image_and_Voxel_Size_Br_20131103125100325_79_S205187_I396944.nii': 6.457554277032581,\n",
       " '/csc/epitkane/data/ADNI/AD_DL_16_04_22/ADNI_135_S_6104_PT_FBB_Coreg,_Avg,_Standardized_Image_and_Voxel_Size_Br_20171128113703651_46_S631978_I938624.nii': 7.07326971745971,\n",
       " '/csc/epitkane/data/ADNI/AD_DL_16_04_22/ADNI_022_S_2167_PT_AV45_Coreg,_Avg,_Standardized_Image_and_Voxel_Size_Br_20110125111624108_82_S96996_I213959.nii': 6.723832440821209,\n",
       " '/csc/epitkane/data/ADNI/AD_DL_16_04_22/ADNI_141_S_4053_PT_AV45_Coreg,_Avg,_Standardized_Image_and_Voxel_Size_Br_20110624185923319_70_S112431_I241722.nii': 6.282475886685669,\n",
       " '/csc/epitkane/data/ADNI/AD_DL_16_04_22/ADNI_128_S_0272_PT_AV45_Coreg,_Avg,_Standardized_Image_and_Voxel_Size_Br_20120625155121480_28_S155069_I312408.nii': 7.22983877815125,\n",
       " '/csc/epitkane/data/ADNI/AD_DL_16_04_22/ADNI_114_S_0378_PT_AV45_Coreg,_Avg,_Standardized_Image_and_Voxel_Size_Br_20120126174108847_73_S138537_I280949.nii': 6.218600119691729,\n",
       " '/csc/epitkane/data/ADNI/AD_DL_16_04_22/ADNI_127_S_4210_PT_AV45_Coreg,_Avg,_Standardized_Image_and_Voxel_Size_Br_20111011123415731_3_S123821_I260485.nii': 6.993378885495651,\n",
       " '/csc/epitkane/data/ADNI/AD_DL_16_04_22/ADNI_018_S_4889_PT_AV45_Coreg,_Avg,_Standardized_Image_and_Voxel_Size_Br_20120927180602471_48_S167183_I337070.nii': 6.993378885495651,\n",
       " '/csc/epitkane/data/ADNI/AD_DL_16_04_22/ADNI_153_S_4133_PT_AV45_Coreg,_Avg,_Standardized_Image_and_Voxel_Size_Br_20110909121108153_43_S119038_I255328.nii': 6.8754471930610315,\n",
       " '/csc/epitkane/data/ADNI/AD_DL_16_04_22/ADNI_098_S_4059_PT_AV45_Coreg,_Avg,_Standardized_Image_and_Voxel_Size_Br_20110909194718957_95_S114132_I255373.nii': 5.935299611227946,\n",
       " '/csc/epitkane/data/ADNI/AD_DL_16_04_22/ADNI_073_S_0089_PT_AV45_Coreg,_Avg,_Standardized_Image_and_Voxel_Size_Br_20121019175535531_70_S171371_I341357.nii': 7.1808311990445555,\n",
       " '/csc/epitkane/data/ADNI/AD_DL_16_04_22/ADNI_016_S_4688_PT_AV45_Coreg,_Avg,_Standardized_Image_and_Voxel_Size_Br_20120724163938589_8_S158363_I317939.nii': 6.640337499755368,\n",
       " '/csc/epitkane/data/ADNI/AD_DL_16_04_22/ADNI_027_S_4938_PT_AV45_Coreg,_Avg,_Standardized_Image_and_Voxel_Size_Br_20121127165156121_94_S169560_I348052.nii': 6.841873762017173,\n",
       " '/csc/epitkane/data/ADNI/AD_DL_16_04_22/ADNI_024_S_4158_PT_AV45_Coreg,_Avg,_Standardized_Image_and_Voxel_Size_Br_20130912082600188_91_S199757_I389656.nii': 7.415175109613295,\n",
       " '/csc/epitkane/data/ADNI/AD_DL_16_04_22/ADNI_073_S_4300_PT_AV45_Coreg,_Avg,_Standardized_Image_and_Voxel_Size_Br_20111221164728248_11_S132966_I273899.nii': 6.420247654181435,\n",
       " '/csc/epitkane/data/ADNI/AD_DL_16_04_22/ADNI_027_S_4801_PT_AV45_Coreg,_Avg,_Standardized_Image_and_Voxel_Size_Br_20120723212813459_83_S157878_I317847.nii': 6.1370438556179545,\n",
       " '/csc/epitkane/data/ADNI/AD_DL_16_04_22/ADNI_123_S_4127_PT_AV45_Coreg,_Avg,_Standardized_Image_and_Voxel_Size_Br_20131030084844999_64_S203037_I396472.nii': 6.607190580699342,\n",
       " '/csc/epitkane/data/ADNI/AD_DL_16_04_22/ADNI_127_S_4928_PT_AV45_Coreg,_Avg,_Standardized_Image_and_Voxel_Size_Br_20140916100330781_53_S230795_I443779.nii': 6.537705576094927,\n",
       " '/csc/epitkane/data/ADNI/AD_DL_16_04_22/ADNI_094_S_4089_PT_AV45_Coreg,_Avg,_Standardized_Image_and_Voxel_Size_Br_20110818173441822_76_S118582_I251707.nii': 6.375254624614218,\n",
       " '/csc/epitkane/data/ADNI/AD_DL_16_04_22/ADNI_007_S_4272_PT_AV45_Coreg,_Avg,_Standardized_Image_and_Voxel_Size_Br_20111116182026916_55_S128225_I266946.nii': 6.397870701733002,\n",
       " '/csc/epitkane/data/ADNI/AD_DL_16_04_22/ADNI_941_S_6254_PT_FBB_Coreg,_Avg,_Standardized_Image_and_Voxel_Size_Br_20190730090256995_18_S840991_I1192848.nii': 6.760530559225612,\n",
       " '/csc/epitkane/data/ADNI/AD_DL_16_04_22/ADNI_022_S_4444_PT_AV45_Coreg,_Avg,_Standardized_Image_and_Voxel_Size_Br_20170605091827229_58_S569889_I858357.nii': 6.698514632836919,\n",
       " '/csc/epitkane/data/ADNI/AD_DL_16_04_22/ADNI_033_S_1116_PT_AV45_Coreg,_Avg,_Standardized_Image_and_Voxel_Size_Br_20101123161922270_30_S94898_I206378.nii': 5.552571912887299,\n",
       " '/csc/epitkane/data/ADNI/AD_DL_16_04_22/ADNI_007_S_6521_PT_FBB_Coreg,_Avg,_Standardized_Image_and_Voxel_Size_Br_20181129071343940_27_S748037_I1079398.nii': 7.097548850614793,\n",
       " '/csc/epitkane/data/ADNI/AD_DL_16_04_22/ADNI_068_S_2248_PT_AV45_Coreg,_Avg,_Standardized_Image_and_Voxel_Size_Br_20110125120544585_81_S98018_I213991.nii': 6.4721917230499395,\n",
       " '/csc/epitkane/data/ADNI/AD_DL_16_04_22/ADNI_114_S_1106_PT_AV45_Coreg,_Avg,_Standardized_Image_and_Voxel_Size_Br_20120319095529312_28_S142041_I290824.nii': 6.720220155135295,\n",
       " '/csc/epitkane/data/ADNI/AD_DL_16_04_22/ADNI_082_S_5029_PT_AV45_Coreg,_Avg,_Standardized_Image_and_Voxel_Size_Br_20121210165611488_59_S176698_I350496.nii': 5.692383568100491,\n",
       " '/csc/epitkane/data/ADNI/AD_DL_16_04_22/ADNI_002_S_4521_PT_AV45_Coreg,_Avg,_Standardized_Image_and_Voxel_Size_Br_20140404084204996_2_S214912_I418815.nii': 6.8509732648831525,\n",
       " '/csc/epitkane/data/ADNI/AD_DL_16_04_22/ADNI_123_S_0106_PT_AV45_Coreg,_Avg,_Standardized_Image_and_Voxel_Size_Br_20150227095551834_71_S249765_I474969.nii': 6.540741357248225,\n",
       " '/csc/epitkane/data/ADNI/AD_DL_16_04_22/ADNI_131_S_5138_PT_AV45_Coreg,_Avg,_Standardized_Image_and_Voxel_Size_Br_20130511101357458_75_S188931_I372002.nii': 7.375166226329119,\n",
       " '/csc/epitkane/data/ADNI/AD_DL_16_04_22/ADNI_011_S_2274_PT_AV45_Coreg,_Avg,_Standardized_Image_and_Voxel_Size_Br_20110221150200308_77_S99964_I218381.nii': 6.166467723094256,\n",
       " '/csc/epitkane/data/ADNI/AD_DL_16_04_22/ADNI_002_S_0729_PT_AV45_Coreg,_Avg,_Standardized_Image_and_Voxel_Size_Br_20120816152743820_59_S159618_I324215.nii': 6.71889237414476,\n",
       " '/csc/epitkane/data/ADNI/AD_DL_16_04_22/ADNI_305_S_6378_PT_AV45_Coreg,_Avg,_Standardized_Image_and_Voxel_Size_Br_20200630111947772_48_S948280_I1319272.nii': 7.699389406256737,\n",
       " '/csc/epitkane/data/ADNI/AD_DL_16_04_22/ADNI_002_S_5178_PT_AV45_Coreg,_Avg,_Standardized_Image_and_Voxel_Size_Br_20130614085410606_37_S191496_I376520.nii': 7.319113451068358,\n",
       " '/csc/epitkane/data/ADNI/AD_DL_16_04_22/ADNI_137_S_4672_PT_AV45_Coreg,_Avg,_Standardized_Image_and_Voxel_Size_Br_20120514124741117_35_S149539_I303343.nii': 6.099711221855781,\n",
       " '/csc/epitkane/data/ADNI/AD_DL_16_04_22/ADNI_067_S_5160_PT_AV45_Coreg,_Avg,_Standardized_Image_and_Voxel_Size_Br_20130620090257683_6_S191619_I377455.nii': 7.182076591629798,\n",
       " '/csc/epitkane/data/ADNI/AD_DL_16_04_22/ADNI_099_S_2042_PT_AV45_Coreg,_Avg,_Standardized_Image_and_Voxel_Size_Br_20100922112235891_31_S92296_I193250.nii': 6.718529945871388,\n",
       " '/csc/epitkane/data/ADNI/AD_DL_16_04_22/ADNI_007_S_4467_PT_AV45_Coreg,_Avg,_Standardized_Image_and_Voxel_Size_Br_20120216140016617_15_S140483_I285205.nii': 6.2467754342304405,\n",
       " '/csc/epitkane/data/ADNI/AD_DL_16_04_22/ADNI_100_S_4469_PT_AV45_Coreg,_Avg,_Standardized_Image_and_Voxel_Size_Br_20191106080148370_95_S893394_I1253310.nii': 7.944492163932159,\n",
       " '/csc/epitkane/data/ADNI/AD_DL_16_04_22/ADNI_036_S_4715_PT_AV45_Coreg,_Avg,_Standardized_Image_and_Voxel_Size_Br_20120611095401423_37_S153014_I309768.nii': 6.570017614974209,\n",
       " '/csc/epitkane/data/ADNI/AD_DL_16_04_22/ADNI_072_S_2083_PT_AV45_Coreg,_Avg,_Standardized_Image_and_Voxel_Size_Br_20101025153656114_73_S93563_I199179.nii': 6.940222469119639,\n",
       " '/csc/epitkane/data/ADNI/AD_DL_16_04_22/ADNI_116_S_4199_PT_AV45_Coreg,_Avg,_Standardized_Image_and_Voxel_Size_Br_20111005192744062_73_S123913_I259655.nii': 7.092630293437552,\n",
       " '/csc/epitkane/data/ADNI/AD_DL_16_04_22/ADNI_027_S_2336_PT_AV45_Coreg,_Avg,_Standardized_Image_and_Voxel_Size_Br_20150417090850827_48_S255691_I487265.nii': 6.669371178251643,\n",
       " '/csc/epitkane/data/ADNI/AD_DL_16_04_22/ADNI_130_S_4660_PT_AV45_Coreg,_Avg,_Standardized_Image_and_Voxel_Size_Br_20140727192937034_23_S217617_I437162.nii': 6.633318433280377,\n",
       " '/csc/epitkane/data/ADNI/AD_DL_16_04_22/ADNI_128_S_4742_PT_AV45_Coreg,_Avg,_Standardized_Image_and_Voxel_Size_Br_20140721170824951_58_S225300_I436113.nii': 6.787055493744353,\n",
       " '/csc/epitkane/data/ADNI/AD_DL_16_04_22/ADNI_072_S_2083_PT_AV45_Coreg,_Avg,_Standardized_Image_and_Voxel_Size_Br_20121009155648408_14_S169905_I339134.nii': 7.097548850614793,\n",
       " '/csc/epitkane/data/ADNI/AD_DL_16_04_22/ADNI_073_S_4614_PT_AV45_Coreg,_Avg,_Standardized_Image_and_Voxel_Size_Br_20140419114839842_2_S216542_I420686.nii': 7.241366283322318,\n",
       " '/csc/epitkane/data/ADNI/AD_DL_16_04_22/ADNI_027_S_4757_PT_AV45_Coreg,_Avg,_Standardized_Image_and_Voxel_Size_Br_20140708090348967_13_S223082_I434713.nii': 6.213006817055218,\n",
       " '/csc/epitkane/data/ADNI/AD_DL_16_04_22/ADNI_098_S_4201_PT_AV45_Coreg,_Avg,_Standardized_Image_and_Voxel_Size_Br_20111021171229737_36_S125631_I262005.nii': 6.517922022484526,\n",
       " '/csc/epitkane/data/ADNI/AD_DL_16_04_22/ADNI_153_S_2109_PT_AV45_Coreg,_Avg,_Standardized_Image_and_Voxel_Size_Br_20101029122006471_44_S93558_I200287.nii': 6.276831441602324,\n",
       " '/csc/epitkane/data/ADNI/AD_DL_16_04_22/ADNI_022_S_2263_PT_AV45_Coreg,_Avg,_Standardized_Image_and_Voxel_Size_Br_20190430124838629_76_S818249_I1159910.nii': 6.573680166960646,\n",
       " '/csc/epitkane/data/ADNI/AD_DL_16_04_22/ADNI_007_S_4637_PT_AV45_Coreg,_Avg,_Standardized_Image_and_Voxel_Size_Br_20140509091340518_71_S217974_I424182.nii': 5.800606659291741,\n",
       " '/csc/epitkane/data/ADNI/AD_DL_16_04_22/ADNI_041_S_4271_PT_AV45_Coreg,_Avg,_Standardized_Image_and_Voxel_Size_Br_20151016081304579_43_S285321_I526989.nii': 7.1252830915107115,\n",
       " '/csc/epitkane/data/ADNI/AD_DL_16_04_22/ADNI_067_S_4767_PT_AV45_Coreg,_Avg,_Standardized_Image_and_Voxel_Size_Br_20140619093751353_22_S222194_I431585.nii': 6.51352680279996,\n",
       " '/csc/epitkane/data/ADNI/AD_DL_16_04_22/ADNI_014_S_6199_PT_FBB_Coreg,_Avg,_Standardized_Image_and_Voxel_Size_Br_20180324173242184_27_S669172_I977379.nii': 5.937008361311923,\n",
       " '/csc/epitkane/data/ADNI/AD_DL_16_04_22/ADNI_127_S_4604_PT_AV45_Coreg,_Avg,_Standardized_Image_and_Voxel_Size_Br_20160528124912536_89_S413810_I718410.nii': 7.002155954403621,\n",
       " '/csc/epitkane/data/ADNI/AD_DL_16_04_22/ADNI_022_S_4291_PT_AV45_Coreg,_Avg,_Standardized_Image_and_Voxel_Size_Br_20140226085052427_27_S212313_I415367.nii': 6.519884479274924,\n",
       " '/csc/epitkane/data/ADNI/AD_DL_16_04_22/ADNI_011_S_4235_PT_AV45_Coreg,_Avg,_Standardized_Image_and_Voxel_Size_Br_20151013154122048_40_S281941_I525008.nii': 6.347214062970213,\n",
       " '/csc/epitkane/data/ADNI/AD_DL_16_04_22/ADNI_128_S_4653_PT_AV45_Coreg,_Avg,_Standardized_Image_and_Voxel_Size_Br_20120710180024896_78_S156973_I315806.nii': 6.98589810931039,\n",
       " '/csc/epitkane/data/ADNI/AD_DL_16_04_22/ADNI_114_S_0166_PT_AV45_Coreg,_Avg,_Standardized_Image_and_Voxel_Size_Br_20150327081345839_35_S250788_I480647.nii': 6.15209419303295,\n",
       " '/csc/epitkane/data/ADNI/AD_DL_16_04_22/ADNI_070_S_6542_PT_FBB_Coreg,_Avg,_Standardized_Image_and_Voxel_Size_Br_20181008072136636_27_S732447_I1057212.nii': 7.368339686311381,\n",
       " '/csc/epitkane/data/ADNI/AD_DL_16_04_22/ADNI_094_S_4503_PT_AV45_Coreg,_Avg,_Standardized_Image_and_Voxel_Size_Br_20140423084729422_93_S216256_I421292.nii': 7.29505641646263,\n",
       " '/csc/epitkane/data/ADNI/AD_DL_16_04_22/ADNI_099_S_4076_PT_AV45_Coreg,_Avg,_Standardized_Image_and_Voxel_Size_Br_20130807092702715_58_S197201_I384715.nii': 7.506591780070841,\n",
       " '/csc/epitkane/data/ADNI/AD_DL_16_04_22/ADNI_020_S_5140_PT_AV45_Coreg,_Avg,_Standardized_Image_and_Voxel_Size_Br_20150710085333485_26_S264975_I500320.nii': 6.832169292025542,\n",
       " '/csc/epitkane/data/ADNI/AD_DL_16_04_22/ADNI_067_S_4184_PT_AV45_Coreg,_Avg,_Standardized_Image_and_Voxel_Size_Br_20111011171441386_65_S124829_I260649.nii': 6.908111802517708,\n",
       " '/csc/epitkane/data/ADNI/AD_DL_16_04_22/ADNI_057_S_5292_PT_AV45_Coreg,_Avg,_Standardized_Image_and_Voxel_Size_Br_20131126084229717_32_S206507_I399557.nii': 6.570017614974209,\n",
       " '/csc/epitkane/data/ADNI/AD_DL_16_04_22/ADNI_123_S_4806_PT_AV45_Coreg,_Avg,_Standardized_Image_and_Voxel_Size_Br_20140902105817259_72_S228749_I442340.nii': 6.4261647804844815,\n",
       " '/csc/epitkane/data/ADNI/AD_DL_16_04_22/ADNI_018_S_4399_PT_AV45_Coreg,_Avg,_Standardized_Image_and_Voxel_Size_Br_20120817144754818_4_S161132_I324438.nii': 7.19408773621922,\n",
       " '/csc/epitkane/data/ADNI/AD_DL_16_04_22/ADNI_032_S_1169_PT_AV45_Coreg,_Avg,_Standardized_Image_and_Voxel_Size_Br_20140122090045802_31_S210287_I405683.nii': 7.905072849498666,\n",
       " '/csc/epitkane/data/ADNI/AD_DL_16_04_22/ADNI_032_S_6700_PT_AV45_Coreg,_Avg,_Standardized_Image_and_Voxel_Size_Br_20191115142355222_43_S895131_I1256892.nii': 6.084043728401075,\n",
       " '/csc/epitkane/data/ADNI/AD_DL_16_04_22/ADNI_032_S_5263_PT_AV45_Coreg,_Avg,_Standardized_Image_and_Voxel_Size_Br_20131022094850461_57_S204202_I395410.nii': 6.32931912553131,\n",
       " '/csc/epitkane/data/ADNI/AD_DL_16_04_22/ADNI_073_S_2182_PT_AV45_Coreg,_Avg,_Standardized_Image_and_Voxel_Size_Br_20110722155138136_2_S100396_I246330.nii': 7.687080155783135,\n",
       " '/csc/epitkane/data/ADNI/AD_DL_16_04_22/ADNI_022_S_6013_PT_FBB_Coreg,_Avg,_Standardized_Image_and_Voxel_Size_Br_20170609094046595_56_S569888_I860672.nii': 6.877192973399497,\n",
       " '/csc/epitkane/data/ADNI/AD_DL_16_04_22/ADNI_098_S_0896_PT_AV45_Coreg,_Avg,_Standardized_Image_and_Voxel_Size_Br_20160120080307605_52_S343818_I608643.nii': 6.778898656857133,\n",
       " '/csc/epitkane/data/ADNI/AD_DL_16_04_22/ADNI_005_S_6427_PT_AV45_Coreg,_Avg,_Standardized_Image_and_Voxel_Size_Br_20180829064420885_84_S717171_I1043468.nii': 7.642524134232902,\n",
       " '/csc/epitkane/data/ADNI/AD_DL_16_04_22/ADNI_033_S_6266_PT_FBB_Coreg,_Avg,_Standardized_Image_and_Voxel_Size_Br_20180519114948786_66_S677753_I999901.nii': 7.088408778675395,\n",
       " '/csc/epitkane/data/ADNI/AD_DL_16_04_22/ADNI_127_S_4992_PT_AV45_Coreg,_Avg,_Standardized_Image_and_Voxel_Size_Br_20121204150731629_77_S176121_I349198.nii': 6.087197649308485,\n",
       " '/csc/epitkane/data/ADNI/AD_DL_16_04_22/ADNI_003_S_4354_PT_AV45_Coreg,_Avg,_Standardized_Image_and_Voxel_Size_Br_20120214151224792_45_S140523_I284775.nii': 6.978363897788424,\n",
       " '/csc/epitkane/data/ADNI/AD_DL_16_04_22/ADNI_009_S_4543_PT_AV45_Coreg,_Avg,_Standardized_Image_and_Voxel_Size_Br_20120315121625188_40_S143782_I290395.nii': 7.262275500643767,\n",
       " '/csc/epitkane/data/ADNI/AD_DL_16_04_22/ADNI_127_S_6024_PT_FBB_Coreg,_Avg,_Standardized_Image_and_Voxel_Size_Br_20171201085524115_58_S639698_I940863.nii': 7.098375638590786,\n",
       " '/csc/epitkane/data/ADNI/AD_DL_16_04_22/ADNI_127_S_4148_PT_AV45_Coreg,_Avg,_Standardized_Image_and_Voxel_Size_Br_20110829172014045_85_S120380_I253198.nii': 7.008181082971354,\n",
       " '/csc/epitkane/data/ADNI/AD_DL_16_04_22/ADNI_128_S_4599_PT_AV45_Coreg,_Avg,_Standardized_Image_and_Voxel_Size_Br_20120707144334002_1_S156148_I315405.nii': 6.762933544731261,\n",
       " '/csc/epitkane/data/ADNI/AD_DL_16_04_22/ADNI_009_S_1030_PT_AV45_Coreg,_Avg,_Standardized_Image_and_Voxel_Size_Br_20101214181025905_47_S96157_I208622.nii': 6.893453494271277,\n",
       " '/csc/epitkane/data/ADNI/AD_DL_16_04_22/ADNI_068_S_0872_PT_AV45_Coreg,_Avg,_Standardized_Image_and_Voxel_Size_Br_20120207114639293_37_S126384_I283188.nii': 7.398174092970465,\n",
       " '/csc/epitkane/data/ADNI/AD_DL_16_04_22/ADNI_127_S_0112_PT_AV45_Coreg,_Avg,_Standardized_Image_and_Voxel_Size_Br_20110128142407012_48_S98096_I214950.nii': 6.214007918350159,\n",
       " '/csc/epitkane/data/ADNI/AD_DL_16_04_22/ADNI_941_S_5193_PT_AV45_Coreg,_Avg,_Standardized_Image_and_Voxel_Size_Br_20150713123034557_79_S262790_I500613.nii': 6.890100343743416,\n",
       " '/csc/epitkane/data/ADNI/AD_DL_16_04_22/ADNI_019_S_6483_PT_FBB_Coreg,_Avg,_Standardized_Image_and_Voxel_Size_Br_20180730064942377_9_S705923_I1028331.nii': 6.061923010756543,\n",
       " '/csc/epitkane/data/ADNI/AD_DL_16_04_22/ADNI_082_S_6690_PT_AV45_Coreg,_Avg,_Standardized_Image_and_Voxel_Size_Br_20190528092801569_91_S826160_I1168611.nii': 5.919699980878671,\n",
       " '/csc/epitkane/data/ADNI/AD_DL_16_04_22/ADNI_141_S_6178_PT_FBB_Coreg,_Avg,_Standardized_Image_and_Voxel_Size_Br_20180324175111796_78_S669384_I977432.nii': 6.765846032799444,\n",
       " '/csc/epitkane/data/ADNI/AD_DL_16_04_22/ADNI_094_S_6250_PT_FBB_Coreg,_Avg,_Standardized_Image_and_Voxel_Size_Br_20180502094502516_59_S679541_I991540.nii': 6.977281341630747,\n",
       " '/csc/epitkane/data/ADNI/AD_DL_16_04_22/ADNI_027_S_4962_PT_AV45_Coreg,_Avg,_Standardized_Image_and_Voxel_Size_Br_20121106175559915_1_S171081_I344218.nii': 6.538947068282317,\n",
       " '/csc/epitkane/data/ADNI/AD_DL_16_04_22/ADNI_006_S_0731_PT_PIB_Coreg,_Avg,_Standardized_Image_and_Voxel_Size_Br_20070912162944571_1_S39049_I72750.nii': 6.422759831917165,\n",
       " '/csc/epitkane/data/ADNI/AD_DL_16_04_22/ADNI_014_S_6076_PT_FBB_Coreg,_Avg,_Standardized_Image_and_Voxel_Size_Br_20171025084013058_87_S621668_I922534.nii': 7.138073034044347,\n",
       " '/csc/epitkane/data/ADNI/AD_DL_16_04_22/ADNI_941_S_4100_PT_AV45_Coreg,_Avg,_Standardized_Image_and_Voxel_Size_Br_20110923133228569_10_S122328_I257616.nii': 6.409089254862827,\n",
       " '/csc/epitkane/data/ADNI/AD_DL_16_04_22/ADNI_019_S_4548_PT_AV45_Coreg,_Avg,_Standardized_Image_and_Voxel_Size_Br_20120323130937802_95_S144473_I292468.nii': 7.015502977419484,\n",
       " '/csc/epitkane/data/ADNI/AD_DL_16_04_22/ADNI_022_S_6797_PT_FBB_Coreg,_Avg,_Standardized_Image_and_Voxel_Size_Br_20191001081614310_6_S877149_I1234671.nii': 7.1853870155804165,\n",
       " '/csc/epitkane/data/ADNI/AD_DL_16_04_22/ADNI_141_S_4160_PT_AV45_Coreg,_Avg,_Standardized_Image_and_Voxel_Size_Br_20140105133048610_23_S208375_I403895.nii': 7.105786129481271,\n",
       " '/csc/epitkane/data/ADNI/AD_DL_16_04_22/ADNI_099_S_4086_PT_AV45_Coreg,_Avg,_Standardized_Image_and_Voxel_Size_Br_20110729171014346_51_S116715_I247765.nii': 6.850353151632284,\n",
       " '/csc/epitkane/data/ADNI/AD_DL_16_04_22/ADNI_036_S_4562_PT_AV45_Coreg,_Avg,_Standardized_Image_and_Voxel_Size_Br_20140417084227118_71_S215755_I420426.nii': 5.724565013838729,\n",
       " '/csc/epitkane/data/ADNI/AD_DL_16_04_22/ADNI_127_S_5058_PT_AV45_Coreg,_Avg,_Standardized_Image_and_Voxel_Size_Br_20130214165834194_52_S181586_I360031.nii': 5.8365136313637755,\n",
       " '/csc/epitkane/data/ADNI/AD_DL_16_04_22/ADNI_022_S_4173_PT_AV45_Coreg,_Avg,_Standardized_Image_and_Voxel_Size_Br_20161018103647075_27_S504810_I784666.nii': 7.2115567333138015,\n",
       " '/csc/epitkane/data/ADNI/AD_DL_16_04_22/ADNI_137_S_4482_PT_AV45_Coreg,_Avg,_Standardized_Image_and_Voxel_Size_Br_20160502101543980_15_S417032_I698133.nii': 6.862548686144057,\n",
       " '/csc/epitkane/data/ADNI/AD_DL_16_04_22/ADNI_053_S_4557_PT_AV45_Coreg,_Avg,_Standardized_Image_and_Voxel_Size_Br_20140517103440814_44_S213842_I425009.nii': 6.97914527506881,\n",
       " '/csc/epitkane/data/ADNI/AD_DL_16_04_22/ADNI_072_S_2116_PT_AV45_Coreg,_Avg,_Standardized_Image_and_Voxel_Size_Br_20101123162823308_23_S94830_I206386.nii': 7.424165281042028,\n",
       " '/csc/epitkane/data/ADNI/AD_DL_16_04_22/ADNI_941_S_6574_PT_FBB_Coreg,_Avg,_Standardized_Image_and_Voxel_Size_Br_20181127071427645_12_S742700_I1078477.nii': 6.726473181762845,\n",
       " '/csc/epitkane/data/ADNI/AD_DL_16_04_22/ADNI_135_S_4281_PT_AV45_Coreg,_Avg,_Standardized_Image_and_Voxel_Size_Br_20111111143157241_38_S128376_I266108.nii': 7.293936245508351,\n",
       " '/csc/epitkane/data/ADNI/AD_DL_16_04_22/ADNI_082_S_4090_PT_AV45_Coreg,_Avg,_Standardized_Image_and_Voxel_Size_Br_20110707140431028_36_S113808_I243616.nii': 7.476158960188985,\n",
       " '/csc/epitkane/data/ADNI/AD_DL_16_04_22/ADNI_003_S_5154_PT_AV45_Coreg,_Avg,_Standardized_Image_and_Voxel_Size_Br_20130719084220562_28_S194444_I381442.nii': 7.008181082971354,\n",
       " '/csc/epitkane/data/ADNI/AD_DL_16_04_22/ADNI_023_S_4035_PT_AV45_Coreg,_Avg,_Standardized_Image_and_Voxel_Size_Br_20130913082109225_67_S200337_I389838.nii': 6.40704498895724,\n",
       " '/csc/epitkane/data/ADNI/AD_DL_16_04_22/ADNI_128_S_4742_PT_AV45_Coreg,_Avg,_Standardized_Image_and_Voxel_Size_Br_20120720184040542_84_S158091_I317154.nii': 7.0993374407188625,\n",
       " '/csc/epitkane/data/ADNI/AD_DL_16_04_22/ADNI_072_S_4522_PT_AV45_Coreg,_Avg,_Standardized_Image_and_Voxel_Size_Br_20120309141656198_80_S142609_I289611.nii': 7.015502977419484,\n",
       " '/csc/epitkane/data/ADNI/AD_DL_16_04_22/ADNI_127_S_4604_PT_AV45_Coreg,_Avg,_Standardized_Image_and_Voxel_Size_Br_20190829111539145_77_S863767_I1221521.nii': 6.902038971986028,\n",
       " '/csc/epitkane/data/ADNI/AD_DL_16_04_22/ADNI_094_S_2367_PT_AV45_Coreg,_Avg,_Standardized_Image_and_Voxel_Size_Br_20110602191959262_72_S109584_I238676.nii': 6.990256500493881,\n",
       " '/csc/epitkane/data/ADNI/AD_DL_16_04_22/ADNI_022_S_0096_PT_AV45_Coreg,_Avg,_Standardized_Image_and_Voxel_Size_Br_20160613085247984_18_S459024_I733732.nii': 6.465678052377241,\n",
       " '/csc/epitkane/data/ADNI/AD_DL_16_04_22/ADNI_037_S_4302_PT_AV45_Coreg,_Avg,_Standardized_Image_and_Voxel_Size_Br_20160203083754446_71_S321130_I620361.nii': 6.852348271710398,\n",
       " '/csc/epitkane/data/ADNI/AD_DL_16_04_22/ADNI_301_S_6056_PT_AV45_Coreg,_Avg,_Standardized_Image_and_Voxel_Size_Br_20171222093848797_29_S646163_I949008.nii': 7.140453043101158,\n",
       " '/csc/epitkane/data/ADNI/AD_DL_16_04_22/ADNI_129_S_6288_PT_AV45_Coreg,_Avg,_Standardized_Image_and_Voxel_Size_Br_20180502095118211_2_S678616_I991556.nii': 6.423733857968197,\n",
       " '/csc/epitkane/data/ADNI/AD_DL_16_04_22/ADNI_127_S_0259_PT_AV45_Coreg,_Avg,_Standardized_Image_and_Voxel_Size_Br_20150504110557830_24_S257079_I489117.nii': 6.698637899401019,\n",
       " '/csc/epitkane/data/ADNI/AD_DL_16_04_22/ADNI_002_S_4237_PT_AV45_Coreg,_Avg,_Standardized_Image_and_Voxel_Size_Br_20111122162303802_20_S130436_I268108.nii': 7.188105642305828,\n",
       " '/csc/epitkane/data/ADNI/AD_DL_16_04_22/ADNI_116_S_4635_PT_AV45_Coreg,_Avg,_Standardized_Image_and_Voxel_Size_Br_20140508081757918_65_S217338_I423996.nii': 5.783517442675055,\n",
       " '/csc/epitkane/data/ADNI/AD_DL_16_04_22/ADNI_037_S_5162_PT_AV45_Coreg,_Avg,_Standardized_Image_and_Voxel_Size_Br_20130608091002992_30_S191031_I375758.nii': 7.1191610591906755,\n",
       " '/csc/epitkane/data/ADNI/AD_DL_16_04_22/ADNI_168_S_6059_PT_AV45_Coreg,_Avg,_Standardized_Image_and_Voxel_Size_Br_20200217081933882_2_S924141_I1291138.nii': 7.076653815443951,\n",
       " '/csc/epitkane/data/ADNI/AD_DL_16_04_22/ADNI_041_S_4143_PT_AV45_Coreg,_Avg,_Standardized_Image_and_Voxel_Size_Br_20110902153120175_78_S120716_I254409.nii': 7.3337009077609565,\n",
       " '/csc/epitkane/data/ADNI/AD_DL_16_04_22/ADNI_073_S_4559_PT_AV45_Coreg,_Avg,_Standardized_Image_and_Voxel_Size_Br_20140328091723863_91_S214776_I417970.nii': 7.585281078639126,\n",
       " '/csc/epitkane/data/ADNI/AD_DL_16_04_22/ADNI_031_S_4005_PT_AV45_Coreg,_Avg,_Standardized_Image_and_Voxel_Size_Br_20110422130102098_73_S104862_I228650.nii': 6.409089254862827,\n",
       " '/csc/epitkane/data/ADNI/AD_DL_16_04_22/ADNI_073_S_2190_PT_AV45_Coreg,_Avg,_Standardized_Image_and_Voxel_Size_Br_20130328161340703_78_S185364_I364773.nii': 6.9865664594064265,\n",
       " '/csc/epitkane/data/ADNI/AD_DL_16_04_22/ADNI_003_S_6432_PT_AV45_Coreg,_Avg,_Standardized_Image_and_Voxel_Size_Br_20180803074532177_24_S711325_I1030635.nii': 6.229102544572644,\n",
       " '/csc/epitkane/data/ADNI/AD_DL_16_04_22/ADNI_013_S_5171_PT_AV45_Coreg,_Avg,_Standardized_Image_and_Voxel_Size_Br_20130820085447752_46_S197151_I386060.nii': 7.283559533408103,\n",
       " '/csc/epitkane/data/ADNI/AD_DL_16_04_22/ADNI_067_S_4782_PT_AV45_Coreg,_Avg,_Standardized_Image_and_Voxel_Size_Br_20120917115426855_43_S160970_I334522.nii': 5.844060445953493,\n",
       " '/csc/epitkane/data/ADNI/AD_DL_16_04_22/ADNI_036_S_6134_PT_AV45_Coreg,_Avg,_Standardized_Image_and_Voxel_Size_Br_20180127152232570_22_S647811_I957699.nii': 6.220192476716092,\n",
       " '/csc/epitkane/data/ADNI/AD_DL_16_04_22/ADNI_009_S_4530_PT_AV45_Coreg,_Avg,_Standardized_Image_and_Voxel_Size_Br_20120229191419151_43_S141526_I287280.nii': 6.507316234437623,\n",
       " '/csc/epitkane/data/ADNI/AD_DL_16_04_22/ADNI_006_S_6657_PT_FBB_Coreg,_Avg,_Standardized_Image_and_Voxel_Size_Br_20190328082718368_24_S806409_I1148199.nii': 7.1308988302963465,\n",
       " '/csc/epitkane/data/ADNI/AD_DL_16_04_22/ADNI_023_S_2068_PT_AV45_Coreg,_Avg,_Standardized_Image_and_Voxel_Size_Br_20121019175134883_18_S171307_I341341.nii': 6.486160788944089,\n",
       " '/csc/epitkane/data/ADNI/AD_DL_16_04_22/ADNI_002_S_4229_PT_AV45_Coreg,_Avg,_Standardized_Image_and_Voxel_Size_Br_20131025083903876_1_S204776_I395870.nii': 6.75437097208278,\n",
       " '/csc/epitkane/data/ADNI/AD_DL_16_04_22/ADNI_021_S_4276_PT_AV45_Coreg,_Avg,_Standardized_Image_and_Voxel_Size_Br_20111111142509969_26_S128892_I266090.nii': 7.205911793824965,\n",
       " '/csc/epitkane/data/ADNI/AD_DL_16_04_22/ADNI_031_S_4590_PT_AV45_Coreg,_Avg,_Standardized_Image_and_Voxel_Size_Br_20120406081209597_6_S144715_I296372.nii': 6.908111802517708,\n",
       " '/csc/epitkane/data/ADNI/AD_DL_16_04_22/ADNI_016_S_4097_PT_AV45_Coreg,_Avg,_Standardized_Image_and_Voxel_Size_Br_20110817160901482_42_S119107_I251224.nii': 6.442382705842924,\n",
       " '/csc/epitkane/data/ADNI/AD_DL_16_04_22/ADNI_014_S_4263_PT_AV45_Coreg,_Avg,_Standardized_Image_and_Voxel_Size_Br_20111108132928874_79_S127820_I265135.nii': 6.2106154677523255,\n",
       " '/csc/epitkane/data/ADNI/AD_DL_16_04_22/ADNI_041_S_4989_PT_AV45_Coreg,_Avg,_Standardized_Image_and_Voxel_Size_Br_20121119154957426_77_S174653_I347190.nii': 7.138542393289071,\n",
       " '/csc/epitkane/data/ADNI/AD_DL_16_04_22/ADNI_137_S_4596_PT_AV45_Coreg,_Avg,_Standardized_Image_and_Voxel_Size_Br_20120508161453559_37_S149143_I302391.nii': 6.198465093683384,\n",
       " '/csc/epitkane/data/ADNI/AD_DL_16_04_22/ADNI_130_S_4542_PT_AV45_Coreg,_Avg,_Standardized_Image_and_Voxel_Size_Br_20140602092611050_54_S214658_I428937.nii': 5.545958389462633,\n",
       " '/csc/epitkane/data/ADNI/AD_DL_16_04_22/ADNI_014_S_6145_PT_FBB_Coreg,_Avg,_Standardized_Image_and_Voxel_Size_Br_20200313083602602_75_S933374_I1303365.nii': 8.471986598578159,\n",
       " '/csc/epitkane/data/ADNI/AD_DL_16_04_22/ADNI_024_S_4169_PT_AV45_Coreg,_Avg,_Standardized_Image_and_Voxel_Size_Br_20110902153002304_41_S120688_I254405.nii': 7.051329768595267,\n",
       " '/csc/epitkane/data/ADNI/AD_DL_16_04_22/ADNI_052_S_2249_PT_AV45_Coreg,_Avg,_Standardized_Image_and_Voxel_Size_Br_20110128141605442_4_S97955_I214935.nii': 7.533693709848633,\n",
       " '/csc/epitkane/data/ADNI/AD_DL_16_04_22/ADNI_002_S_4251_PT_AV45_Coreg,_Avg,_Standardized_Image_and_Voxel_Size_Br_20111222164104769_32_S134191_I274142.nii': 6.174026222284808,\n",
       " '/csc/epitkane/data/ADNI/AD_DL_16_04_22/ADNI_136_S_4189_PT_AV45_Coreg,_Avg,_Standardized_Image_and_Voxel_Size_Br_20131206082828991_68_S206083_I400400.nii': 6.54405572010644,\n",
       " '/csc/epitkane/data/ADNI/AD_DL_16_04_22/ADNI_128_S_1043_PT_PIB_Coreg,_Avg,_Standardized_Image_and_Voxel_Size_Br_20100909094509033_64_S91537_I192414.nii': 6.529418838262226,\n",
       " '/csc/epitkane/data/ADNI/AD_DL_16_04_22/ADNI_007_S_4911_PT_AV45_Coreg,_Avg,_Standardized_Image_and_Voxel_Size_Br_20120921175247614_62_S167514_I336283.nii': 5.94801866540667,\n",
       " '/csc/epitkane/data/ADNI/AD_DL_16_04_22/ADNI_005_S_4168_PT_AV45_Coreg,_Avg,_Standardized_Image_and_Voxel_Size_Br_20110916121208004_67_S122029_I256381.nii': 6.49664837818128,\n",
       " '/csc/epitkane/data/ADNI/AD_DL_16_04_22/ADNI_021_S_4857_PT_AV45_Coreg,_Avg,_Standardized_Image_and_Voxel_Size_Br_20120821090455079_59_S160902_I325141.nii': 6.55972306626417,\n",
       " '/csc/epitkane/data/ADNI/AD_DL_16_04_22/ADNI_100_S_6578_PT_FBB_Coreg,_Avg,_Standardized_Image_and_Voxel_Size_Br_20181010073803856_89_S734518_I1057982.nii': 7.669961995473577,\n",
       " '/csc/epitkane/data/ADNI/AD_DL_16_04_22/ADNI_941_S_6068_PT_FBB_Coreg,_Avg,_Standardized_Image_and_Voxel_Size_Br_20190925104022392_49_S874232_I1231612.nii': 5.777652323222656,\n",
       " '/csc/epitkane/data/ADNI/AD_DL_16_04_22/ADNI_153_S_6679_PT_AV45_Coreg,_Avg,_Standardized_Image_and_Voxel_Size_Br_20190227085353476_39_S799587_I1135883.nii': 6.48478789573783,\n",
       " '/csc/epitkane/data/ADNI/AD_DL_16_04_22/ADNI_027_S_5079_PT_AV45_Coreg,_Avg,_Standardized_Image_and_Voxel_Size_Br_20130328160307000_48_S184260_I364757.nii': 7.267663209602652,\n",
       " '/csc/epitkane/data/ADNI/AD_DL_16_04_22/ADNI_068_S_2187_PT_AV45_Coreg,_Avg,_Standardized_Image_and_Voxel_Size_Br_20191108090943524_13_S895120_I1254354.nii': 7.094234845924755,\n",
       " '/csc/epitkane/data/ADNI/AD_DL_16_04_22/ADNI_013_S_4616_PT_AV45_Coreg,_Avg,_Standardized_Image_and_Voxel_Size_Br_20120622143823398_71_S154931_I311982.nii': 6.753866626832375,\n",
       " '/csc/epitkane/data/ADNI/AD_DL_16_04_22/ADNI_127_S_4148_PT_AV45_Coreg,_Avg,_Standardized_Image_and_Voxel_Size_Br_20150822160504816_39_S269274_I506130.nii': 7.170888478512505,\n",
       " '/csc/epitkane/data/ADNI/AD_DL_16_04_22/ADNI_003_S_6479_PT_AV45_Coreg,_Avg,_Standardized_Image_and_Voxel_Size_Br_20181031073308586_44_S740822_I1066800.nii': 5.83422577068149,\n",
       " '/csc/epitkane/data/ADNI/AD_DL_16_04_22/ADNI_023_S_4035_PT_AV45_Coreg,_Avg,_Standardized_Image_and_Voxel_Size_Br_20151230090429312_17_S332467_I589623.nii': 6.395261598115449,\n",
       " '/csc/epitkane/data/ADNI/AD_DL_16_04_22/ADNI_053_S_6598_PT_AV45_Coreg,_Avg,_Standardized_Image_and_Voxel_Size_Br_20181030071626637_87_S739825_I1065632.nii': 6.220788957497273,\n",
       " '/csc/epitkane/data/ADNI/AD_DL_16_04_22/ADNI_013_S_4268_PT_AV45_Coreg,_Avg,_Standardized_Image_and_Voxel_Size_Br_20120123165711870_49_S134200_I280195.nii': 7.05834020883328,\n",
       " '/csc/epitkane/data/ADNI/AD_DL_16_04_22/ADNI_114_S_6113_PT_AV45_Coreg,_Avg,_Standardized_Image_and_Voxel_Size_Br_20200915083734038_27_S956974_I1335728.nii': 7.067319848653476,\n",
       " '/csc/epitkane/data/ADNI/AD_DL_16_04_22/ADNI_127_S_6433_PT_FBB_Coreg,_Avg,_Standardized_Image_and_Voxel_Size_Br_20180905091407253_7_S723921_I1045201.nii': 6.473736363455911,\n",
       " '/csc/epitkane/data/ADNI/AD_DL_16_04_22/ADNI_135_S_6359_PT_FBB_Coreg,_Avg,_Standardized_Image_and_Voxel_Size_Br_20180704134709130_59_S692108_I1017097.nii': 6.802728041114431,\n",
       " '/csc/epitkane/data/ADNI/AD_DL_16_04_22/ADNI_033_S_4505_PT_AV45_Coreg,_Avg,_Standardized_Image_and_Voxel_Size_Br_20140311082344145_7_S213671_I416382.nii': 8.176110342237342,\n",
       " '/csc/epitkane/data/ADNI/AD_DL_16_04_22/ADNI_082_S_5278_PT_AV45_Coreg,_Avg,_Standardized_Image_and_Voxel_Size_Br_20140120083502351_46_S210195_I405469.nii': 6.744739783599281,\n",
       " '/csc/epitkane/data/ADNI/AD_DL_16_04_22/ADNI_177_S_6335_PT_AV45_Coreg,_Avg,_Standardized_Image_and_Voxel_Size_Br_20181213133133018_77_S693936_I1085522.nii': 7.6236419465115715,\n",
       " '/csc/epitkane/data/ADNI/AD_DL_16_04_22/ADNI_153_S_5267_PT_AV45_Coreg,_Avg,_Standardized_Image_and_Voxel_Size_Br_20130925084725896_57_S200445_I391930.nii': 6.549366214220032,\n",
       " '/csc/epitkane/data/ADNI/AD_DL_16_04_22/ADNI_027_S_4936_PT_AV45_Coreg,_Avg,_Standardized_Image_and_Voxel_Size_Br_20141001091633583_59_S231873_I445797.nii': 6.157614376902071,\n",
       " '/csc/epitkane/data/ADNI/AD_DL_16_04_22/ADNI_041_S_4014_PT_AV45_Coreg,_Avg,_Standardized_Image_and_Voxel_Size_Br_20130608091652219_81_S189571_I375766.nii': 6.289715570908998,\n",
       " '/csc/epitkane/data/ADNI/AD_DL_16_04_22/ADNI_012_S_4012_PT_AV45_Coreg,_Avg,_Standardized_Image_and_Voxel_Size_Br_20110520134627263_34_S109354_I236330.nii': 6.60052759466379,\n",
       " '/csc/epitkane/data/ADNI/AD_DL_16_04_22/ADNI_037_S_4146_PT_AV45_Coreg,_Avg,_Standardized_Image_and_Voxel_Size_Br_20150915092329137_46_S271367_I511728.nii': 6.230087669270578,\n",
       " '/csc/epitkane/data/ADNI/AD_DL_16_04_22/ADNI_130_S_4405_PT_AV45_Coreg,_Avg,_Standardized_Image_and_Voxel_Size_Br_20160213124956965_70_S366251_I629796.nii': 6.268717424069224,\n",
       " '/csc/epitkane/data/ADNI/AD_DL_16_04_22/ADNI_011_S_4235_PT_AV45_Coreg,_Avg,_Standardized_Image_and_Voxel_Size_Br_20111023170528161_57_S125361_I262023.nii': 6.222718095484271,\n",
       " '/csc/epitkane/data/ADNI/AD_DL_16_04_22/ADNI_168_S_6049_PT_AV45_Coreg,_Avg,_Standardized_Image_and_Voxel_Size_Br_20180405110646620_38_S671403_I981303.nii': 6.446830313669605,\n",
       " '/csc/epitkane/data/ADNI/AD_DL_16_04_22/ADNI_019_S_4680_PT_AV45_Coreg,_Avg,_Standardized_Image_and_Voxel_Size_Br_20120615164038304_25_S153978_I310731.nii': 6.282475886685669,\n",
       " '/csc/epitkane/data/ADNI/AD_DL_16_04_22/ADNI_098_S_2047_PT_AV45_Coreg,_Avg,_Standardized_Image_and_Voxel_Size_Br_20121109120106883_41_S171355_I345759.nii': 6.584653261299096,\n",
       " '/csc/epitkane/data/ADNI/AD_DL_16_04_22/ADNI_006_S_4150_PT_AV45_Coreg,_Avg,_Standardized_Image_and_Voxel_Size_Br_20110912134330135_61_S121455_I255466.nii': 7.176000396371445,\n",
       " '/csc/epitkane/data/ADNI/AD_DL_16_04_22/ADNI_027_S_4729_PT_AV45_Coreg,_Avg,_Standardized_Image_and_Voxel_Size_Br_20141105113522112_76_S233070_I450968.nii': 6.818814769685489,\n",
       " '/csc/epitkane/data/ADNI/AD_DL_16_04_22/ADNI_020_S_5203_PT_AV45_Coreg,_Avg,_Standardized_Image_and_Voxel_Size_Br_20150805085617121_32_S264976_I503841.nii': 7.138866999945524,\n",
       " '/csc/epitkane/data/ADNI/AD_DL_16_04_22/ADNI_128_S_4636_PT_AV45_Coreg,_Avg,_Standardized_Image_and_Voxel_Size_Br_20140607144413797_96_S221612_I430134.nii': 6.591810896812385,\n",
       " '/csc/epitkane/data/ADNI/AD_DL_16_04_22/ADNI_027_S_4926_PT_AV45_Coreg,_Avg,_Standardized_Image_and_Voxel_Size_Br_20121106135229319_12_S168870_I344088.nii': 7.008181082971354,\n",
       " '/csc/epitkane/data/ADNI/AD_DL_16_04_22/ADNI_070_S_4793_PT_AV45_Coreg,_Avg,_Standardized_Image_and_Voxel_Size_Br_20120717134141991_96_S157257_I316534.nii': 6.099711221855781,\n",
       " '/csc/epitkane/data/ADNI/AD_DL_16_04_22/ADNI_135_S_4676_PT_AV45_Coreg,_Avg,_Standardized_Image_and_Voxel_Size_Br_20120524084731222_65_S150770_I306238.nii': 7.429102914491932,\n",
       " '/csc/epitkane/data/ADNI/AD_DL_16_04_22/ADNI_137_S_4520_PT_AV45_Coreg,_Avg,_Standardized_Image_and_Voxel_Size_Br_20120327113601397_55_S143890_I293670.nii': 7.3337009077609565,\n",
       " '/csc/epitkane/data/ADNI/AD_DL_16_04_22/ADNI_067_S_6442_PT_FBB_Coreg,_Avg,_Standardized_Image_and_Voxel_Size_Br_20180910074800070_29_S723711_I1046453.nii': 7.7306140660637395,\n",
       " '/csc/epitkane/data/ADNI/AD_DL_16_04_22/ADNI_020_S_5140_PT_AV45_Coreg,_Avg,_Standardized_Image_and_Voxel_Size_Br_20130715132947753_60_S192925_I380414.nii': 6.850353151632284,\n",
       " '/csc/epitkane/data/ADNI/AD_DL_16_04_22/ADNI_024_S_1393_PT_PIB_Coreg,_Avg,_Standardized_Image_and_Voxel_Size_Br_20080415154352285_1_S48630_I102718.nii': 6.582163633457136,\n",
       " '/csc/epitkane/data/ADNI/AD_DL_16_04_22/ADNI_123_S_6825_PT_FBB_Coreg,_Avg,_Standardized_Image_and_Voxel_Size_Br_20200414090241868_6_S901778_I1308724.nii': 6.3967629746590475,\n",
       " '/csc/epitkane/data/ADNI/AD_DL_16_04_22/ADNI_127_S_6436_PT_FBB_Coreg,_Avg,_Standardized_Image_and_Voxel_Size_Br_20180828065422668_95_S721621_I1043027.nii': 6.914730892718563,\n",
       " '/csc/epitkane/data/ADNI/AD_DL_16_04_22/ADNI_129_S_4371_PT_AV45_Coreg,_Avg,_Standardized_Image_and_Voxel_Size_Br_20111221164946776_95_S133616_I273907.nii': 6.528465655697906,\n",
       " '/csc/epitkane/data/ADNI/AD_DL_16_04_22/ADNI_067_S_5159_PT_AV45_Coreg,_Avg,_Standardized_Image_and_Voxel_Size_Br_20130531142714352_71_S191030_I374751.nii': 7.19408773621922,\n",
       " '/csc/epitkane/data/ADNI/AD_DL_16_04_22/ADNI_023_S_6374_PT_AV45_Coreg,_Avg,_Standardized_Image_and_Voxel_Size_Br_20180704134239701_20_S700647_I1017085.nii': 7.3987862754199485,\n",
       " '/csc/epitkane/data/ADNI/AD_DL_16_04_22/ADNI_130_S_2373_PT_AV45_Coreg,_Avg,_Standardized_Image_and_Voxel_Size_Br_20110609184807236_22_S108663_I239569.nii': 6.659037476548497,\n",
       " '/csc/epitkane/data/ADNI/AD_DL_16_04_22/ADNI_130_S_2373_PT_AV45_Coreg,_Avg,_Standardized_Image_and_Voxel_Size_Br_20130605090648986_53_S189344_I375127.nii': 6.349663329415057,\n",
       " '/csc/epitkane/data/ADNI/AD_DL_16_04_22/ADNI_011_S_4547_PT_AV45_Coreg,_Avg,_Standardized_Image_and_Voxel_Size_Br_20160314100828760_79_S390627_I654454.nii': 6.064715008847575,\n",
       " '/csc/epitkane/data/ADNI/AD_DL_16_04_22/ADNI_114_S_4404_PT_AV45_Coreg,_Avg,_Standardized_Image_and_Voxel_Size_Br_20120228100246461_60_S140460_I286819.nii': 6.49664837818128,\n",
       " '/csc/epitkane/data/ADNI/AD_DL_16_04_22/ADNI_114_S_1106_PT_AV45_Coreg,_Avg,_Standardized_Image_and_Voxel_Size_Br_20140114083044561_62_S209711_I404661.nii': 6.571862874225933,\n",
       " '/csc/epitkane/data/ADNI/AD_DL_16_04_22/ADNI_123_S_2363_PT_AV45_Coreg,_Avg,_Standardized_Image_and_Voxel_Size_Br_20110701170352330_4_S113323_I243104.nii': 7.721348612617949,\n",
       " '/csc/epitkane/data/ADNI/AD_DL_16_04_22/ADNI_126_S_4494_PT_AV45_Coreg,_Avg,_Standardized_Image_and_Voxel_Size_Br_20140225080121542_69_S213036_I415306.nii': 5.706445592075685,\n",
       " '/csc/epitkane/data/ADNI/AD_DL_16_04_22/ADNI_011_S_4120_PT_AV45_Coreg,_Avg,_Standardized_Image_and_Voxel_Size_Br_20110814135114483_3_S117024_I250314.nii': 6.198465093683384,\n",
       " '/csc/epitkane/data/ADNI/AD_DL_16_04_22/ADNI_002_S_4229_PT_AV45_Coreg,_Avg,_Standardized_Image_and_Voxel_Size_Br_20151014093755178_64_S283494_I525614.nii': 6.93537044601511,\n",
       " '/csc/epitkane/data/ADNI/AD_DL_16_04_22/ADNI_037_S_4381_PT_AV45_Coreg,_Avg,_Standardized_Image_and_Voxel_Size_Br_20120425103243209_84_S148040_I300411.nii': 7.182076591629798,\n",
       " '/csc/epitkane/data/ADNI/AD_DL_16_04_22/ADNI_068_S_4274_PT_AV45_Coreg,_Avg,_Standardized_Image_and_Voxel_Size_Br_20111115121920639_43_S128005_I266568.nii': 6.816088204481026,\n",
       " '/csc/epitkane/data/ADNI/AD_DL_16_04_22/ADNI_130_S_6105_PT_FBB_Coreg,_Avg,_Standardized_Image_and_Voxel_Size_Br_20200207090017049_61_S917448_I1286123.nii': 7.366445148327599,\n",
       " '/csc/epitkane/data/ADNI/AD_DL_16_04_22/ADNI_067_S_4782_PT_AV45_Coreg,_Avg,_Standardized_Image_and_Voxel_Size_Br_20191015104339181_37_S880293_I1240812.nii': 5.951943788945699,\n",
       " '/csc/epitkane/data/ADNI/AD_DL_16_04_22/ADNI_127_S_4645_PT_AV45_Coreg,_Avg,_Standardized_Image_and_Voxel_Size_Br_20120514124218035_58_S148877_I303327.nii': 6.431345570161379,\n",
       " '/csc/epitkane/data/ADNI/AD_DL_16_04_22/ADNI_129_S_4422_PT_AV45_Coreg,_Avg,_Standardized_Image_and_Voxel_Size_Br_20160203084302084_57_S348826_I620377.nii': 6.799613120362434,\n",
       " '/csc/epitkane/data/ADNI/AD_DL_16_04_22/ADNI_018_S_4597_PT_AV45_Coreg,_Avg,_Standardized_Image_and_Voxel_Size_Br_20120619172312736_17_S153364_I311321.nii': 6.306008354286792,\n",
       " '/csc/epitkane/data/ADNI/AD_DL_16_04_22/ADNI_099_S_6396_PT_AV45_Coreg,_Avg,_Standardized_Image_and_Voxel_Size_Br_20180727064606758_84_S708420_I1027134.nii': 7.8551570058813445,\n",
       " '/csc/epitkane/data/ADNI/AD_DL_16_04_22/ADNI_130_S_4352_PT_AV45_Coreg,_Avg,_Standardized_Image_and_Voxel_Size_Br_20120116121114982_59_S131998_I278286.nii': 6.744739783599281,\n",
       " '/csc/epitkane/data/ADNI/AD_DL_16_04_22/ADNI_032_S_2119_PT_AV45_Coreg,_Avg,_Standardized_Image_and_Voxel_Size_Br_20160213123916276_84_S322071_I629764.nii': 7.899524472032198,\n",
       " '/csc/epitkane/data/ADNI/AD_DL_16_04_22/ADNI_037_S_4030_PT_AV45_Coreg,_Avg,_Standardized_Image_and_Voxel_Size_Br_20130605090311795_19_S191018_I375121.nii': 6.64287785918362,\n",
       " '/csc/epitkane/data/ADNI/AD_DL_16_04_22/ADNI_126_S_2405_PT_AV45_Coreg,_Avg,_Standardized_Image_and_Voxel_Size_Br_20131025084403968_95_S204622_I395888.nii': 7.4318919168078,\n",
       " '/csc/epitkane/data/ADNI/AD_DL_16_04_22/ADNI_006_S_4679_PT_AV45_Coreg,_Avg,_Standardized_Image_and_Voxel_Size_Br_20140725095114928_67_S225760_I436781.nii': 6.947937068614969,\n",
       " '/csc/epitkane/data/ADNI/AD_DL_16_04_22/ADNI_006_S_4346_PT_AV45_Coreg,_Avg,_Standardized_Image_and_Voxel_Size_Br_20131212083745271_58_S207817_I401301.nii': 6.437431598525476,\n",
       " '/csc/epitkane/data/ADNI/AD_DL_16_04_22/ADNI_052_S_1352_PT_AV45_Coreg,_Avg,_Standardized_Image_and_Voxel_Size_Br_20110510153052096_36_S108358_I234382.nii': 7.627057417018934,\n",
       " '/csc/epitkane/data/ADNI/AD_DL_16_04_22/ADNI_141_S_6061_PT_FBB_Coreg,_Avg,_Standardized_Image_and_Voxel_Size_Br_20170915093033110_88_S607577_I903668.nii': 6.3657829262193095,\n",
       " '/csc/epitkane/data/ADNI/AD_DL_16_04_22/ADNI_031_S_4203_PT_AV45_Coreg,_Avg,_Standardized_Image_and_Voxel_Size_Br_20110929102836496_9_S123701_I258856.nii': 6.375254624614218,\n",
       " '/csc/epitkane/data/ADNI/AD_DL_16_04_22/ADNI_022_S_4291_PT_AV45_Coreg,_Avg,_Standardized_Image_and_Voxel_Size_Br_20120125173841307_47_S136213_I280695.nii': 6.528465655697906,\n",
       " '/csc/epitkane/data/ADNI/AD_DL_16_04_22/ADNI_135_S_6110_PT_FBB_Coreg,_Avg,_Standardized_Image_and_Voxel_Size_Br_20171206100932575_21_S638167_I943078.nii': 7.507141079727608,\n",
       " '/csc/epitkane/data/ADNI/AD_DL_16_04_22/ADNI_131_S_6805_PT_FBB_Coreg,_Avg,_Standardized_Image_and_Voxel_Size_Br_20200218085009021_25_S912075_I1291456.nii': 5.8988008622445625,\n",
       " '/csc/epitkane/data/ADNI/AD_DL_16_04_22/ADNI_019_S_6668_PT_FBB_Coreg,_Avg,_Standardized_Image_and_Voxel_Size_Br_20190208114709408_78_S793324_I1128654.nii': 5.8916442118257715,\n",
       " '/csc/epitkane/data/ADNI/AD_DL_16_04_22/ADNI_036_S_4878_PT_AV45_Coreg,_Avg,_Standardized_Image_and_Voxel_Size_Br_20140814095122082_49_S227053_I439302.nii': 7.595889917718538,\n",
       " '/csc/epitkane/data/ADNI/AD_DL_16_04_22/ADNI_127_S_2213_PT_AV45_Coreg,_Avg,_Standardized_Image_and_Voxel_Size_Br_20130114163415434_96_S176777_I355039.nii': 6.964135612418245,\n",
       " '/csc/epitkane/data/ADNI/AD_DL_16_04_22/ADNI_130_S_5059_PT_AV45_Coreg,_Avg,_Standardized_Image_and_Voxel_Size_Br_20130402160905705_57_S183176_I365180.nii': 6.099711221855781,\n",
       " '/csc/epitkane/data/ADNI/AD_DL_16_04_22/ADNI_031_S_0618_PT_AV45_Coreg,_Avg,_Standardized_Image_and_Voxel_Size_Br_20101129120528668_4_S94881_I206746.nii': 7.0825485693553,\n",
       " '/csc/epitkane/data/ADNI/AD_DL_16_04_22/ADNI_072_S_4226_PT_AV45_Coreg,_Avg,_Standardized_Image_and_Voxel_Size_Br_20111116182534329_71_S129036_I266964.nii': 7.361724188603925,\n",
       " '/csc/epitkane/data/ADNI/AD_DL_16_04_22/ADNI_020_S_4920_PT_AV45_Coreg,_Avg,_Standardized_Image_and_Voxel_Size_Br_20130204172442605_86_S180461_I357705.nii': 6.258727978508186,\n",
       " '/csc/epitkane/data/ADNI/AD_DL_16_04_22/ADNI_013_S_4395_PT_AV45_Coreg,_Avg,_Standardized_Image_and_Voxel_Size_Br_20160623082114698_22_S442001_I743549.nii': 7.044905117129371,\n",
       " '/csc/epitkane/data/ADNI/AD_DL_16_04_22/ADNI_067_S_0056_PT_AV45_Coreg,_Avg,_Standardized_Image_and_Voxel_Size_Br_20110105104035012_26_S97117_I209763.nii': 7.088408778675395,\n",
       " '/csc/epitkane/data/ADNI/AD_DL_16_04_22/ADNI_002_S_5230_PT_AV45_Coreg,_Avg,_Standardized_Image_and_Voxel_Size_Br_20130731090726152_45_S195441_I383833.nii': 6.570017614974209,\n",
       " '/csc/epitkane/data/ADNI/AD_DL_16_04_22/ADNI_016_S_2031_PT_AV45_Coreg,_Avg,_Standardized_Image_and_Voxel_Size_Br_20101007164542501_7_S92299_I195572.nii': 7.160069207596127,\n",
       " '/csc/epitkane/data/ADNI/AD_DL_16_04_22/ADNI_016_S_4646_PT_AV45_Coreg,_Avg,_Standardized_Image_and_Voxel_Size_Br_20120622184549725_9_S153255_I312046.nii': 6.7076293056153915,\n",
       " '/csc/epitkane/data/ADNI/AD_DL_16_04_22/ADNI_941_S_6052_PT_FBB_Coreg,_Avg,_Standardized_Image_and_Voxel_Size_Br_20170809091709386_41_S590404_I884681.nii': 6.705761486390662,\n",
       " '/csc/epitkane/data/ADNI/AD_DL_16_04_22/ADNI_100_S_4469_PT_AV45_Coreg,_Avg,_Standardized_Image_and_Voxel_Size_Br_20120423134930058_65_S148029_I300137.nii': 7.482795713054416,\n",
       " '/csc/epitkane/data/ADNI/AD_DL_16_04_22/ADNI_006_S_4346_PT_AV45_Coreg,_Avg,_Standardized_Image_and_Voxel_Size_Br_20151201100855666_60_S314613_I567407.nii': 6.377746835799372,\n",
       " '/csc/epitkane/data/ADNI/AD_DL_16_04_22/ADNI_002_S_6007_PT_AV45_Coreg,_Avg,_Standardized_Image_and_Voxel_Size_Br_20170527162016932_56_S559507_I856353.nii': 6.159095388491933,\n",
       " '/csc/epitkane/data/ADNI/AD_DL_16_04_22/ADNI_114_S_0416_PT_AV45_Coreg,_Avg,_Standardized_Image_and_Voxel_Size_Br_20120229192837596_60_S141815_I287284.nii': 7.111512116496157,\n",
       " '/csc/epitkane/data/ADNI/AD_DL_16_04_22/ADNI_037_S_4015_PT_AV45_Coreg,_Avg,_Standardized_Image_and_Voxel_Size_Br_20110503121622068_3_S104903_I232372.nii': 5.844060445953493,\n",
       " '/csc/epitkane/data/ADNI/AD_DL_16_04_22/ADNI_021_S_2142_PT_AV45_Coreg,_Avg,_Standardized_Image_and_Voxel_Size_Br_20101124172441135_54_S94123_I206606.nii': 6.449047609478253,\n",
       " '/csc/epitkane/data/ADNI/AD_DL_16_04_22/ADNI_153_S_6694_PT_AV45_Coreg,_Avg,_Standardized_Image_and_Voxel_Size_Br_20190509082033006_30_S821877_I1163214.nii': 6.1167747380734285,\n",
       " '/csc/epitkane/data/ADNI/AD_DL_16_04_22/ADNI_135_S_6544_PT_FBB_Coreg,_Avg,_Standardized_Image_and_Voxel_Size_Br_20181025071711876_20_S737667_I1064192.nii': 6.724553334760875,\n",
       " '/csc/epitkane/data/ADNI/AD_DL_16_04_22/ADNI_005_S_2390_PT_AV45_Coreg,_Avg,_Standardized_Image_and_Voxel_Size_Br_20150818100148630_33_S268726_I505537.nii': 6.639222025369117,\n",
       " '/csc/epitkane/data/ADNI/AD_DL_16_04_22/ADNI_137_S_4536_PT_AV45_Coreg,_Avg,_Standardized_Image_and_Voxel_Size_Br_20120320095432027_36_S143952_I291093.nii': 7.288769875258083,\n",
       " '/csc/epitkane/data/ADNI/AD_DL_16_04_22/ADNI_116_S_4453_PT_AV45_Coreg,_Avg,_Standardized_Image_and_Voxel_Size_Br_20120223160703494_28_S141146_I286313.nii': 7.33847768719049,\n",
       " '/csc/epitkane/data/ADNI/AD_DL_16_04_22/ADNI_036_S_4430_PT_AV45_Coreg,_Avg,_Standardized_Image_and_Voxel_Size_Br_20140212103423294_95_S212020_I413780.nii': 6.447147371376764,\n",
       " '/csc/epitkane/data/ADNI/AD_DL_16_04_22/ADNI_037_S_4146_PT_AV45_Coreg,_Avg,_Standardized_Image_and_Voxel_Size_Br_20111013151946297_49_S123012_I260810.nii': 6.352402772602529,\n",
       " '/csc/epitkane/data/ADNI/AD_DL_16_04_22/ADNI_130_S_4982_PT_AV45_Coreg,_Avg,_Standardized_Image_and_Voxel_Size_Br_20121127103408964_84_S174076_I347953.nii': 6.538947068282317,\n",
       " '/csc/epitkane/data/ADNI/AD_DL_16_04_22/ADNI_057_S_5292_PT_AV45_Coreg,_Avg,_Standardized_Image_and_Voxel_Size_Br_20151108170936193_92_S298411_I546619.nii': 6.819361128219541,\n",
       " '/csc/epitkane/data/ADNI/AD_DL_16_04_22/ADNI_041_S_4720_PT_AV45_Coreg,_Avg,_Standardized_Image_and_Voxel_Size_Br_20120607092043131_2_S152788_I308575.nii': 5.66346311073493,\n",
       " '/csc/epitkane/data/ADNI/AD_DL_16_04_22/ADNI_127_S_0259_PT_AV45_Coreg,_Avg,_Standardized_Image_and_Voxel_Size_Br_20130319130230461_42_S184613_I363639.nii': 6.676201460307957,\n",
       " '/csc/epitkane/data/ADNI/AD_DL_16_04_22/ADNI_116_S_4175_PT_AV45_Coreg,_Avg,_Standardized_Image_and_Voxel_Size_Br_20110920183512107_72_S122298_I257151.nii': 6.716997762076887,\n",
       " '/csc/epitkane/data/ADNI/AD_DL_16_04_22/ADNI_002_S_4225_PT_AV45_Coreg,_Avg,_Standardized_Image_and_Voxel_Size_Br_20131026104518069_49_S204701_I396007.nii': 6.576330283582437,\n",
       " '/csc/epitkane/data/ADNI/AD_DL_16_04_22/ADNI_002_S_4746_PT_AV45_Coreg,_Avg,_Standardized_Image_and_Voxel_Size_Br_20120621104319467_43_S154289_I311757.nii': 6.650135131273682,\n",
       " '/csc/epitkane/data/ADNI/AD_DL_16_04_22/ADNI_023_S_5241_PT_AV45_Coreg,_Avg,_Standardized_Image_and_Voxel_Size_Br_20131108092924459_95_S205513_I397733.nii': 6.780888415219756,\n",
       " '/csc/epitkane/data/ADNI/AD_DL_16_04_22/ADNI_018_S_2133_PT_AV45_Coreg,_Avg,_Standardized_Image_and_Voxel_Size_Br_20130606083508307_81_S190502_I375260.nii': 6.195017448657188,\n",
       " '/csc/epitkane/data/ADNI/AD_DL_16_04_22/ADNI_013_S_4395_PT_AV45_Coreg,_Avg,_Standardized_Image_and_Voxel_Size_Br_20120222190513229_9_S140784_I286179.nii': 7.022772382674803,\n",
       " '/csc/epitkane/data/ADNI/AD_DL_16_04_22/ADNI_127_S_5185_PT_AV45_Coreg,_Avg,_Standardized_Image_and_Voxel_Size_Br_20150610111338719_31_S261668_I496738.nii': 6.389737184634642,\n",
       " '/csc/epitkane/data/ADNI/AD_DL_16_04_22/ADNI_022_S_0096_PT_AV45_Coreg,_Avg,_Standardized_Image_and_Voxel_Size_Br_20130227183622015_46_S181861_I361496.nii': 6.7182882540273114,\n",
       " '/csc/epitkane/data/ADNI/AD_DL_16_04_22/ADNI_009_S_2381_PT_AV45_Coreg,_Avg,_Standardized_Image_and_Voxel_Size_Br_20110610153300432_23_S110956_I239696.nii': 6.5289807861270175,\n",
       " '/csc/epitkane/data/ADNI/AD_DL_16_04_22/ADNI_027_S_4919_PT_AV45_Coreg,_Avg,_Standardized_Image_and_Voxel_Size_Br_20121003095842280_22_S168344_I337885.nii': 6.580249867792227,\n",
       " '/csc/epitkane/data/ADNI/AD_DL_16_04_22/ADNI_013_S_4917_PT_AV45_Coreg,_Avg,_Standardized_Image_and_Voxel_Size_Br_20121016150955617_41_S170667_I340429.nii': 6.924108085787589,\n",
       " '/csc/epitkane/data/ADNI/AD_DL_16_04_22/ADNI_130_S_6037_PT_FBB_Coreg,_Avg,_Standardized_Image_and_Voxel_Size_Br_20170911093249619_19_S590282_I902007.nii': 7.513163545234075,\n",
       " '/csc/epitkane/data/ADNI/AD_DL_16_04_22/ADNI_012_S_4188_PT_AV45_Coreg,_Avg,_Standardized_Image_and_Voxel_Size_Br_20131013163727348_41_S203646_I394259.nii': 6.104346704164654,\n",
       " '/csc/epitkane/data/ADNI/AD_DL_16_04_22/ADNI_053_S_4813_PT_AV45_Coreg,_Avg,_Standardized_Image_and_Voxel_Size_Br_20140910142955298_21_S226527_I443240.nii': 7.753623546559746,\n",
       " '/csc/epitkane/data/ADNI/AD_DL_16_04_22/ADNI_137_S_4211_PT_AV45_Coreg,_Avg,_Standardized_Image_and_Voxel_Size_Br_20111023171006351_72_S124603_I262031.nii': 6.1370438556179545,\n",
       " '/csc/epitkane/data/ADNI/AD_DL_16_04_22/ADNI_098_S_0896_PT_AV45_Coreg,_Avg,_Standardized_Image_and_Voxel_Size_Br_20130416090607588_32_S186890_I367274.nii': 6.832169292025542,\n",
       " '/csc/epitkane/data/ADNI/AD_DL_16_04_22/ADNI_941_S_6345_PT_FBB_Coreg,_Avg,_Standardized_Image_and_Voxel_Size_Br_20180613070423087_17_S693487_I1008982.nii': 6.838619540147275,\n",
       " '/csc/epitkane/data/ADNI/AD_DL_16_04_22/ADNI_037_S_4770_PT_AV45_Coreg,_Avg,_Standardized_Image_and_Voxel_Size_Br_20120723212932030_46_S157595_I317851.nii': 6.294269461818783,\n",
       " '/csc/epitkane/data/ADNI/AD_DL_16_04_22/ADNI_032_S_6717_PT_AV45_Coreg,_Avg,_Standardized_Image_and_Voxel_Size_Br_20190726092406782_16_S843816_I1191352.nii': 6.477126197210423,\n",
       " '/csc/epitkane/data/ADNI/AD_DL_16_04_22/ADNI_073_S_4311_PT_AV45_Coreg,_Avg,_Standardized_Image_and_Voxel_Size_Br_20131221152657629_74_S208255_I403564.nii': 6.9865664594064265,\n",
       " '/csc/epitkane/data/ADNI/AD_DL_16_04_22/ADNI_068_S_4067_PT_AV45_Coreg,_Avg,_Standardized_Image_and_Voxel_Size_Br_20110630154941832_80_S113089_I242750.nii': 5.928941024087439,\n",
       " '/csc/epitkane/data/ADNI/AD_DL_16_04_22/ADNI_027_S_6370_PT_FBB_Coreg,_Avg,_Standardized_Image_and_Voxel_Size_Br_20180803075603909_27_S707845_I1030657.nii': 6.6237995882711695,\n",
       " '/csc/epitkane/data/ADNI/AD_DL_16_04_22/ADNI_127_S_6147_PT_FBB_Coreg,_Avg,_Standardized_Image_and_Voxel_Size_Br_20180406164358457_23_S667389_I982402.nii': 7.294377299288821,\n",
       " '/csc/epitkane/data/ADNI/AD_DL_16_04_22/ADNI_052_S_4945_PT_AV45_Coreg,_Avg,_Standardized_Image_and_Voxel_Size_Br_20150120104238761_94_S244607_I468914.nii': 6.261873290889306,\n",
       " '/csc/epitkane/data/ADNI/AD_DL_16_04_22/ADNI_011_S_4893_PT_AV45_Coreg,_Avg,_Standardized_Image_and_Voxel_Size_Br_20121003094918534_90_S168666_I337871.nii': 6.375254624614218,\n",
       " '/csc/epitkane/data/ADNI/AD_DL_16_04_22/ADNI_053_S_4578_PT_AV45_Coreg,_Avg,_Standardized_Image_and_Voxel_Size_Br_20120412114822450_50_S145380_I297099.nii': 7.352552604425132,\n",
       " '/csc/epitkane/data/ADNI/AD_DL_16_04_22/ADNI_067_S_2195_PT_AV45_Coreg,_Avg,_Standardized_Image_and_Voxel_Size_Br_20110107092803525_67_S97175_I209904.nii': 6.679599185844383,\n",
       " '/csc/epitkane/data/ADNI/AD_DL_16_04_22/ADNI_057_S_1269_PT_AV45_Coreg,_Avg,_Standardized_Image_and_Voxel_Size_Br_20110225154351700_80_S100394_I220235.nii': 6.786604077417986,\n",
       " '/csc/epitkane/data/ADNI/AD_DL_16_04_22/ADNI_305_S_6157_PT_AV45_Coreg,_Avg,_Standardized_Image_and_Voxel_Size_Br_20180410100804654_79_S670005_I983417.nii': 7.501082124259871,\n",
       " '/csc/epitkane/data/ADNI/AD_DL_16_04_22/ADNI_116_S_4453_PT_AV45_Coreg,_Avg,_Standardized_Image_and_Voxel_Size_Br_20140207090947812_26_S211561_I412874.nii': 7.620705086838262,\n",
       " '/csc/epitkane/data/ADNI/AD_DL_16_04_22/ADNI_029_S_4384_PT_AV45_Coreg,_Avg,_Standardized_Image_and_Voxel_Size_Br_20120627113338194_45_S155433_I312948.nii': 6.8836979517647565,\n",
       " '/csc/epitkane/data/ADNI/AD_DL_16_04_22/ADNI_022_S_0096_PT_AV45_Coreg,_Avg,_Standardized_Image_and_Voxel_Size_Br_20190418080406164_88_S815742_I1156088.nii': 6.690220966432438,\n",
       " '/csc/epitkane/data/ADNI/AD_DL_16_04_22/ADNI_036_S_6189_PT_AV45_Coreg,_Avg,_Standardized_Image_and_Voxel_Size_Br_20180312112308913_49_S665200_I972039.nii': 7.922623574217286,\n",
       " '/csc/epitkane/data/ADNI/AD_DL_16_04_22/ADNI_037_S_0566_PT_PIB_Coreg,_Avg,_Standardized_Image_and_Voxel_Size_Br_20100128093040304_96_S78766_I165475.nii': 6.211603589401893,\n",
       " '/csc/epitkane/data/ADNI/AD_DL_16_04_22/ADNI_072_S_4539_PT_AV45_Coreg,_Avg,_Standardized_Image_and_Voxel_Size_Br_20120329135031602_88_S144902_I294197.nii': 7.245843396780722,\n",
       " '/csc/epitkane/data/ADNI/AD_DL_16_04_22/ADNI_037_S_5222_PT_AV45_Coreg,_Avg,_Standardized_Image_and_Voxel_Size_Br_20130825111122570_46_S197954_I387257.nii': 7.256843067699241,\n",
       " '/csc/epitkane/data/ADNI/AD_DL_16_04_22/ADNI_006_S_4960_PT_AV45_Coreg,_Avg,_Standardized_Image_and_Voxel_Size_Br_20121102140425562_59_S173009_I343619.nii': 7.309172946902874,\n",
       " '/csc/epitkane/data/ADNI/AD_DL_16_04_22/ADNI_006_S_4713_PT_AV45_Coreg,_Avg,_Standardized_Image_and_Voxel_Size_Br_20120628160658416_69_S155863_I313331.nii': 6.610573160240232,\n",
       " '/csc/epitkane/data/ADNI/AD_DL_16_04_22/ADNI_123_S_4170_PT_AV45_Coreg,_Avg,_Standardized_Image_and_Voxel_Size_Br_20111021171530170_27_S126056_I262011.nii': 6.762933544731261,\n",
       " '/csc/epitkane/data/ADNI/AD_DL_16_04_22/ADNI_137_S_4587_PT_AV45_Coreg,_Avg,_Standardized_Image_and_Voxel_Size_Br_20120627121740014_81_S154276_I313020.nii': 6.610573160240232,\n",
       " '/csc/epitkane/data/ADNI/AD_DL_16_04_22/ADNI_135_S_4356_PT_AV45_Coreg,_Avg,_Standardized_Image_and_Voxel_Size_Br_20111209130947483_11_S132028_I270734.nii': 7.283559533408103,\n",
       " '/csc/epitkane/data/ADNI/AD_DL_16_04_22/ADNI_129_S_0778_PT_AV45_Coreg,_Avg,_Standardized_Image_and_Voxel_Size_Br_20121003100418708_62_S168321_I337899.nii': 6.4396698088923054,\n",
       " '/csc/epitkane/data/ADNI/AD_DL_16_04_22/ADNI_035_S_2074_PT_AV45_Coreg,_Avg,_Standardized_Image_and_Voxel_Size_Br_20101216171841772_9_S95828_I208917.nii': 7.403061091090091,\n",
       " '/csc/epitkane/data/ADNI/AD_DL_16_04_22/ADNI_153_S_6755_PT_AV45_Coreg,_Avg,_Standardized_Image_and_Voxel_Size_Br_20190722091624684_62_S842680_I1189369.nii': 7.341483852363161,\n",
       " '/csc/epitkane/data/ADNI/AD_DL_16_04_22/ADNI_027_S_2245_PT_AV45_Coreg,_Avg,_Standardized_Image_and_Voxel_Size_Br_20150120103954426_12_S244990_I468906.nii': 6.78694265876539,\n",
       " '/csc/epitkane/data/ADNI/AD_DL_16_04_22/ADNI_024_S_5290_PT_AV45_Coreg,_Avg,_Standardized_Image_and_Voxel_Size_Br_20131008082927725_77_S202891_I393471.nii': 6.282475886685669,\n",
       " '/csc/epitkane/data/ADNI/AD_DL_16_04_22/ADNI_009_S_4324_PT_AV45_Coreg,_Avg,_Standardized_Image_and_Voxel_Size_Br_20111205112550523_49_S129515_I269762.nii': 5.849098596354023,\n",
       " '/csc/epitkane/data/ADNI/AD_DL_16_04_22/ADNI_941_S_6514_PT_FBB_Coreg,_Avg,_Standardized_Image_and_Voxel_Size_Br_20180912083232080_61_S726282_I1047579.nii': 7.050122520269059,\n",
       " '/csc/epitkane/data/ADNI/AD_DL_16_04_22/ADNI_041_S_5253_PT_AV45_Coreg,_Avg,_Standardized_Image_and_Voxel_Size_Br_20130829084404811_19_S197696_I387985.nii': 7.262275500643767,\n",
       " '/csc/epitkane/data/ADNI/AD_DL_16_04_22/ADNI_006_S_6277_PT_FBB_Coreg,_Avg,_Standardized_Image_and_Voxel_Size_Br_20180508092756763_56_S677384_I994456.nii': 7.9294865233142895,\n",
       " '/csc/epitkane/data/ADNI/AD_DL_16_04_22/ADNI_041_S_1260_PT_PIB_Coreg,_Avg,_Standardized_Image_and_Voxel_Size_Br_20070824162638769_1_S32654_I70172.nii': 7.293017679772782,\n",
       " '/csc/epitkane/data/ADNI/AD_DL_16_04_22/ADNI_006_S_1130_PT_PIB_Coreg,_Avg,_Standardized_Image_and_Voxel_Size_Br_20100215143515334_1_S80043_I166269.nii': 6.392084603552947,\n",
       " '/csc/epitkane/data/ADNI/AD_DL_16_04_22/ADNI_135_S_4689_PT_AV45_Coreg,_Avg,_Standardized_Image_and_Voxel_Size_Br_20120525113501531_35_S151296_I306413.nii': 6.4859185622648745,\n",
       " '/csc/epitkane/data/ADNI/AD_DL_16_04_22/ADNI_127_S_5228_PT_AV45_Coreg,_Avg,_Standardized_Image_and_Voxel_Size_Br_20150710090009763_15_S265144_I500340.nii': 7.249925536717988,\n",
       " '/csc/epitkane/data/ADNI/AD_DL_16_04_22/ADNI_114_S_6487_PT_AV45_Coreg,_Avg,_Standardized_Image_and_Voxel_Size_Br_20181203074011051_28_S752477_I1080634.nii': 6.98100574072173,\n",
       " '/csc/epitkane/data/ADNI/AD_DL_16_04_22/ADNI_041_S_4143_PT_AV45_Coreg,_Avg,_Standardized_Image_and_Voxel_Size_Br_20150805090133928_35_S265894_I503857.nii': 7.575584651557793,\n",
       " '/csc/epitkane/data/ADNI/AD_DL_16_04_22/ADNI_041_S_5097_PT_AV45_Coreg,_Avg,_Standardized_Image_and_Voxel_Size_Br_20150330083609558_70_S252891_I480785.nii': 7.001245622069476,\n",
       " '/csc/epitkane/data/ADNI/AD_DL_16_04_22/ADNI_301_S_6056_PT_AV45_Coreg,_Avg,_Standardized_Image_and_Voxel_Size_Br_20191127083141082_20_S899730_I1260810.nii': 7.143617602704121,\n",
       " '/csc/epitkane/data/ADNI/AD_DL_16_04_22/ADNI_011_S_4278_PT_AV45_Coreg,_Avg,_Standardized_Image_and_Voxel_Size_Br_20111111141246042_7_S128018_I266070.nii': 5.9251264417118765,\n",
       " '/csc/epitkane/data/ADNI/AD_DL_16_04_22/ADNI_127_S_4301_PT_AV45_Coreg,_Avg,_Standardized_Image_and_Voxel_Size_Br_20131212084604446_15_S207698_I401315.nii': 6.79413855219517,\n",
       " '/csc/epitkane/data/ADNI/AD_DL_16_04_22/ADNI_009_S_5147_PT_AV45_Coreg,_Avg,_Standardized_Image_and_Voxel_Size_Br_20130517112539450_60_S188585_I372770.nii': 7.205911793824965,\n",
       " '/csc/epitkane/data/ADNI/AD_DL_16_04_22/ADNI_024_S_1171_PT_PIB_Coreg,_Avg,_Standardized_Image_and_Voxel_Size_Br_20080201180920497_1_S45081_I89259.nii': 6.10389997643777,\n",
       " '/csc/epitkane/data/ADNI/AD_DL_16_04_22/ADNI_024_S_4084_PT_AV45_Coreg,_Avg,_Standardized_Image_and_Voxel_Size_Br_20110817161529767_23_S118800_I251259.nii': 7.352552604425132,\n",
       " '/csc/epitkane/data/ADNI/AD_DL_16_04_22/ADNI_130_S_5142_PT_AV45_Coreg,_Avg,_Standardized_Image_and_Voxel_Size_Br_20150512095628365_86_S257613_I491886.nii': 6.8898967606808235,\n",
       " '/csc/epitkane/data/ADNI/AD_DL_16_04_22/ADNI_128_S_4607_PT_AV45_Coreg,_Avg,_Standardized_Image_and_Voxel_Size_Br_20140708091106373_85_S224056_I434731.nii': 6.975413927455952,\n",
       " '/csc/epitkane/data/ADNI/AD_DL_16_04_22/ADNI_031_S_2233_PT_AV45_Coreg,_Avg,_Standardized_Image_and_Voxel_Size_Br_20130202170440021_82_S180167_I357539.nii': 6.950814768442584,\n",
       " '/csc/epitkane/data/ADNI/AD_DL_16_04_22/ADNI_051_S_5005_PT_AV45_Coreg,_Avg,_Standardized_Image_and_Voxel_Size_Br_20121207125313094_1_S175890_I350001.nii': 5.84028542435801,\n",
       " '/csc/epitkane/data/ADNI/AD_DL_16_04_22/ADNI_041_S_4271_PT_AV45_Coreg,_Avg,_Standardized_Image_and_Voxel_Size_Br_20111104184310093_5_S127825_I264756.nii': 6.97077601208756,\n",
       " '/csc/epitkane/data/ADNI/AD_DL_16_04_22/ADNI_027_S_5109_PT_AV45_Coreg,_Avg,_Standardized_Image_and_Voxel_Size_Br_20150519090420422_34_S259460_I493334.nii': 6.6537658474968255,\n",
       " '/csc/epitkane/data/ADNI/AD_DL_16_04_22/ADNI_037_S_4071_PT_AV45_Coreg,_Avg,_Standardized_Image_and_Voxel_Size_Br_20151118095023978_21_S304920_I556827.nii': 6.756118104319177,\n",
       " '/csc/epitkane/data/ADNI/AD_DL_16_04_22/ADNI_130_S_5006_PT_AV45_Coreg,_Avg,_Standardized_Image_and_Voxel_Size_Br_20130111131648707_96_S176016_I354792.nii': 6.161740476202939,\n",
       " '/csc/epitkane/data/ADNI/AD_DL_16_04_22/ADNI_006_S_4515_PT_AV45_Coreg,_Avg,_Standardized_Image_and_Voxel_Size_Br_20140328091253553_89_S214774_I417962.nii': 6.272688309498716,\n",
       " '/csc/epitkane/data/ADNI/AD_DL_16_04_22/ADNI_941_S_4187_PT_AV45_Coreg,_Avg,_Standardized_Image_and_Voxel_Size_Br_20190730090052687_23_S840992_I1192844.nii': 6.93828448401696,\n",
       " '/csc/epitkane/data/ADNI/AD_DL_16_04_22/ADNI_127_S_2213_PT_AV45_Coreg,_Avg,_Standardized_Image_and_Voxel_Size_Br_20101217122323991_13_S96158_I209036.nii': 7.024649030453636,\n",
       " '/csc/epitkane/data/ADNI/AD_DL_16_04_22/ADNI_002_S_1261_PT_AV45_Coreg,_Avg,_Standardized_Image_and_Voxel_Size_Br_20110318161523008_71_S101512_I224336.nii': 7.444833273892193,\n",
       " '/csc/epitkane/data/ADNI/AD_DL_16_04_22/ADNI_023_S_4796_PT_AV45_Coreg,_Avg,_Standardized_Image_and_Voxel_Size_Br_20141112113329359_2_S235949_I453239.nii': 6.589201542863269,\n",
       " '/csc/epitkane/data/ADNI/AD_DL_16_04_22/ADNI_082_S_2307_PT_AV45_Coreg,_Avg,_Standardized_Image_and_Voxel_Size_Br_20130717082826893_64_S195159_I380943.nii': 6.432296799053438,\n",
       " '/csc/epitkane/data/ADNI/AD_DL_16_04_22/ADNI_023_S_0061_PT_AV45_Coreg,_Avg,_Standardized_Image_and_Voxel_Size_Br_20110214120304208_30_S99738_I217430.nii': 6.784457062637643,\n",
       " '/csc/epitkane/data/ADNI/AD_DL_16_04_22/ADNI_013_S_4595_PT_AV45_Coreg,_Avg,_Standardized_Image_and_Voxel_Size_Br_20120516161817775_68_S149328_I304708.nii': 6.716997762076887,\n",
       " '/csc/epitkane/data/ADNI/AD_DL_16_04_22/ADNI_127_S_5200_PT_AV45_Coreg,_Avg,_Standardized_Image_and_Voxel_Size_Br_20150710085859176_67_S265143_I500336.nii': 7.029087564149662,\n",
       " '/csc/epitkane/data/ADNI/AD_DL_16_04_22/ADNI_073_S_2264_PT_AV45_Coreg,_Avg,_Standardized_Image_and_Voxel_Size_Br_20150513111419128_57_S259199_I492078.nii': 6.657882667925903,\n",
       " '/csc/epitkane/data/ADNI/AD_DL_16_04_22/ADNI_072_S_2026_PT_AV45_Coreg,_Avg,_Standardized_Image_and_Voxel_Size_Br_20100901170830590_26_S90978_I191876.nii': 6.983789965258135,\n",
       " '/csc/epitkane/data/ADNI/AD_DL_16_04_22/ADNI_130_S_4660_PT_AV45_Coreg,_Avg,_Standardized_Image_and_Voxel_Size_Br_20120511143152688_30_S148741_I303094.nii': 6.306008354286792,\n",
       " '/csc/epitkane/data/ADNI/AD_DL_16_04_22/ADNI_037_S_4308_PT_AV45_Coreg,_Avg,_Standardized_Image_and_Voxel_Size_Br_20120301161548353_27_S141965_I287358.nii': 7.262275500643767,\n",
       " '/csc/epitkane/data/ADNI/AD_DL_16_04_22/ADNI_127_S_0925_PT_PIB_Coreg,_Avg,_Standardized_Image_and_Voxel_Size_Br_20091119145300360_1_S76085_I159553.nii': 6.093344010929153,\n",
       " '/csc/epitkane/data/ADNI/AD_DL_16_04_22/ADNI_002_S_5018_PT_AV45_Coreg,_Avg,_Standardized_Image_and_Voxel_Size_Br_20121126135530598_36_S174962_I347759.nii': 5.779187014137491,\n",
       " '/csc/epitkane/data/ADNI/AD_DL_16_04_22/ADNI_094_S_6485_PT_FBB_Coreg,_Avg,_Standardized_Image_and_Voxel_Size_Br_20180810100449007_50_S713620_I1033291.nii': 7.233455418621439,\n",
       " '/csc/epitkane/data/ADNI/AD_DL_16_04_22/ADNI_023_S_4115_PT_AV45_Coreg,_Avg,_Standardized_Image_and_Voxel_Size_Br_20160316102838627_58_S378611_I655257.nii': 7.357556200910353,\n",
       " '/csc/epitkane/data/ADNI/AD_DL_16_04_22/ADNI_041_S_1260_PT_PIB_Coreg,_Avg,_Standardized_Image_and_Voxel_Size_Br_20080303150424874_1_S46280_I95007.nii': 6.962243464266207,\n",
       " '/csc/epitkane/data/ADNI/AD_DL_16_04_22/ADNI_041_S_6401_PT_AV45_Coreg,_Avg,_Standardized_Image_and_Voxel_Size_Br_20180928075016019_28_S726719_I1053314.nii': 6.461936816524757,\n",
       " '/csc/epitkane/data/ADNI/AD_DL_16_04_22/ADNI_002_S_6103_PT_AV45_Coreg,_Avg,_Standardized_Image_and_Voxel_Size_Br_20171206100728310_48_S640275_I943072.nii': 7.1846291527173145,\n",
       " '/csc/epitkane/data/ADNI/AD_DL_16_04_22/ADNI_052_S_4626_PT_AV45_Coreg,_Avg,_Standardized_Image_and_Voxel_Size_Br_20120417140202307_81_S147325_I297833.nii': 7.535348714057793,\n",
       " '/csc/epitkane/data/ADNI/AD_DL_16_04_22/ADNI_002_S_1261_PT_AV45_Coreg,_Avg,_Standardized_Image_and_Voxel_Size_Br_20150710085215832_21_S265046_I500316.nii': 7.106606137727303,\n",
       " '/csc/epitkane/data/ADNI/AD_DL_16_04_22/ADNI_016_S_6381_PT_FBB_Coreg,_Avg,_Standardized_Image_and_Voxel_Size_Br_20180710063831020_53_S693486_I1018735.nii': 6.53451531816871,\n",
       " '/csc/epitkane/data/ADNI/AD_DL_16_04_22/ADNI_057_S_4897_PT_AV45_Coreg,_Avg,_Standardized_Image_and_Voxel_Size_Br_20120822150026741_93_S161784_I325855.nii': 6.55972306626417,\n",
       " '/csc/epitkane/data/ADNI/AD_DL_16_04_22/ADNI_135_S_5275_PT_AV45_Coreg,_Avg,_Standardized_Image_and_Voxel_Size_Br_20130920083138244_62_S199753_I391311.nii': 6.317691809739312,\n",
       " '/csc/epitkane/data/ADNI/AD_DL_16_04_22/ADNI_098_S_4050_PT_AV45_Coreg,_Avg,_Standardized_Image_and_Voxel_Size_Br_20130728125329734_74_S195697_I382747.nii': 7.099201743553092,\n",
       " '/csc/epitkane/data/ADNI/AD_DL_16_04_22/ADNI_006_S_4153_PT_AV45_Coreg,_Avg,_Standardized_Image_and_Voxel_Size_Br_20130925080842483_8_S201812_I391862.nii': 6.105239561366827,\n",
       " '/csc/epitkane/data/ADNI/AD_DL_16_04_22/ADNI_114_S_0173_PT_AV45_Coreg,_Avg,_Standardized_Image_and_Voxel_Size_Br_20160308092317678_20_S386691_I648374.nii': 6.4428585871045465,\n",
       " '/csc/epitkane/data/ADNI/AD_DL_16_04_22/ADNI_127_S_5028_PT_AV45_Coreg,_Avg,_Standardized_Image_and_Voxel_Size_Br_20121207164710216_78_S176115_I350084.nii': 5.879425563674543,\n",
       " '/csc/epitkane/data/ADNI/AD_DL_16_04_22/ADNI_137_S_1414_PT_AV45_Coreg,_Avg,_Standardized_Image_and_Voxel_Size_Br_20100916171952918_64_S91660_I192960.nii': 7.00850518208228,\n",
       " '/csc/epitkane/data/ADNI/AD_DL_16_04_22/ADNI_126_S_5243_PT_AV45_Coreg,_Avg,_Standardized_Image_and_Voxel_Size_Br_20130921112745924_48_S199746_I391490.nii': 7.262275500643767,\n",
       " '/csc/epitkane/data/ADNI/AD_DL_16_04_22/ADNI_068_S_2187_PT_AV45_Coreg,_Avg,_Standardized_Image_and_Voxel_Size_Br_20101220115931509_25_S96730_I209200.nii': 7.711548979629146,\n",
       " '/csc/epitkane/data/ADNI/AD_DL_16_04_22/ADNI_009_S_6402_PT_FBB_Coreg,_Avg,_Standardized_Image_and_Voxel_Size_Br_20180827073128413_75_S719441_I1042199.nii': 7.729735331385051,\n",
       " '/csc/epitkane/data/ADNI/AD_DL_16_04_22/ADNI_137_S_4482_PT_AV45_Coreg,_Avg,_Standardized_Image_and_Voxel_Size_Br_20140322125149719_12_S213858_I417612.nii': 6.946975992135418,\n",
       " '/csc/epitkane/data/ADNI/AD_DL_16_04_22/ADNI_036_S_4714_PT_AV45_Coreg,_Avg,_Standardized_Image_and_Voxel_Size_Br_20140612085416903_90_S221716_I430472.nii': 6.9013347111792145,\n",
       " '/csc/epitkane/data/ADNI/AD_DL_16_04_22/ADNI_128_S_0188_PT_PIB_Coreg,_Avg,_Standardized_Image_and_Voxel_Size_Br_20100622134031944_6_S87354_I179840.nii': 6.728628613084702,\n",
       " '/csc/epitkane/data/ADNI/AD_DL_16_04_22/ADNI_041_S_4041_PT_AV45_Coreg,_Avg,_Standardized_Image_and_Voxel_Size_Br_20130608092801981_24_S190767_I375776.nii': 8.013012110368916,\n",
       " '/csc/epitkane/data/ADNI/AD_DL_16_04_22/ADNI_126_S_2407_PT_AV45_Coreg,_Avg,_Standardized_Image_and_Voxel_Size_Br_20111208171937611_38_S131817_I270628.nii': 7.508787170634276,\n",
       " '/csc/epitkane/data/ADNI/AD_DL_16_04_22/ADNI_019_S_6315_PT_FBB_Coreg,_Avg,_Standardized_Image_and_Voxel_Size_Br_20180511085133846_90_S683669_I996225.nii': 7.158513997329321,\n",
       " '/csc/epitkane/data/ADNI/AD_DL_16_04_22/ADNI_005_S_6084_PT_AV45_Coreg,_Avg,_Standardized_Image_and_Voxel_Size_Br_20180524091511475_17_S688323_I1001959.nii': 6.7661917146603505,\n",
       " '/csc/epitkane/data/ADNI/AD_DL_16_04_22/ADNI_031_S_4474_PT_AV45_Coreg,_Avg,_Standardized_Image_and_Voxel_Size_Br_20120309113250703_91_S141668_I289520.nii': 5.84028542435801,\n",
       " '/csc/epitkane/data/ADNI/AD_DL_16_04_22/ADNI_033_S_5198_PT_AV45_Coreg,_Avg,_Standardized_Image_and_Voxel_Size_Br_20191125081222730_25_S899110_I1259807.nii': 6.704536896475197,\n",
       " '/csc/epitkane/data/ADNI/AD_DL_16_04_22/ADNI_031_S_4496_PT_AV45_Coreg,_Avg,_Standardized_Image_and_Voxel_Size_Br_20120329162447918_52_S142314_I294247.nii': 7.4794973311310065,\n",
       " '/csc/epitkane/data/ADNI/AD_DL_16_04_22/ADNI_941_S_6058_PT_FBB_Coreg,_Avg,_Standardized_Image_and_Voxel_Size_Br_20170925092136589_75_S597069_I907997.nii': 7.875119281040293,\n",
       " '/csc/epitkane/data/ADNI/AD_DL_16_04_22/ADNI_127_S_4940_PT_AV45_Coreg,_Avg,_Standardized_Image_and_Voxel_Size_Br_20121018122126946_58_S169893_I341011.nii': 6.610573160240232,\n",
       " '/csc/epitkane/data/ADNI/AD_DL_16_04_22/ADNI_033_S_5017_PT_AV45_Coreg,_Avg,_Standardized_Image_and_Voxel_Size_Br_20121203152913350_62_S175835_I348848.nii': 6.174026222284808,\n",
       " '/csc/epitkane/data/ADNI/AD_DL_16_04_22/ADNI_041_S_1418_PT_AV45_Coreg,_Avg,_Standardized_Image_and_Voxel_Size_Br_20110726175434186_90_S116062_I246839.nii': 7.233455418621439,\n",
       " '/csc/epitkane/data/ADNI/AD_DL_16_04_22/ADNI_126_S_4507_PT_AV45_Coreg,_Avg,_Standardized_Image_and_Voxel_Size_Br_20120229164534404_52_S141741_I287191.nii': 6.363857937188993,\n",
       " '/csc/epitkane/data/ADNI/AD_DL_16_04_22/ADNI_099_S_4022_PT_AV45_Coreg,_Avg,_Standardized_Image_and_Voxel_Size_Br_20110517150544400_24_S108726_I235430.nii': 5.860452906535727,\n",
       " '/csc/epitkane/data/ADNI/AD_DL_16_04_22/ADNI_032_S_4429_PT_AV45_Coreg,_Avg,_Standardized_Image_and_Voxel_Size_Br_20160330095740730_63_S401751_I665205.nii': 7.734558844354756,\n",
       " '/csc/epitkane/data/ADNI/AD_DL_16_04_22/ADNI_168_S_6843_PT_AV45_Coreg,_Avg,_Standardized_Image_and_Voxel_Size_Br_20200228104047051_35_S928912_I1297154.nii': 6.731972299027765,\n",
       " '/csc/epitkane/data/ADNI/AD_DL_16_04_22/ADNI_002_S_4171_PT_AV45_Coreg,_Avg,_Standardized_Image_and_Voxel_Size_Br_20111013150948585_77_S124446_I260798.nii': 6.528465655697906,\n",
       " '/csc/epitkane/data/ADNI/AD_DL_16_04_22/ADNI_012_S_6760_PT_AV45_Coreg,_Avg,_Standardized_Image_and_Voxel_Size_Br_20190828102948160_76_S851919_I1220820.nii': 7.236339342754344,\n",
       " '/csc/epitkane/data/ADNI/AD_DL_16_04_22/ADNI_024_S_6385_PT_FBB_Coreg,_Avg,_Standardized_Image_and_Voxel_Size_Br_20180618064312980_68_S696120_I1011134.nii': 7.380879035564116,\n",
       " '/csc/epitkane/data/ADNI/AD_DL_16_04_22/ADNI_114_S_6063_PT_AV45_Coreg,_Avg,_Standardized_Image_and_Voxel_Size_Br_20201003142114594_27_S963771_I1345194.nii': 6.156131168663216,\n",
       " '/csc/epitkane/data/ADNI/AD_DL_16_04_22/ADNI_041_S_4513_PT_AV45_Coreg,_Avg,_Standardized_Image_and_Voxel_Size_Br_20120319143413028_43_S143843_I290909.nii': 7.051329768595267,\n",
       " '/csc/epitkane/data/ADNI/AD_DL_16_04_22/ADNI_141_S_2333_PT_AV45_Coreg,_Avg,_Standardized_Image_and_Voxel_Size_Br_20110419145052947_89_S103783_I228234.nii': 6.496171489865795,\n",
       " '/csc/epitkane/data/ADNI/AD_DL_16_04_22/ADNI_037_S_6031_PT_AV45_Coreg,_Avg,_Standardized_Image_and_Voxel_Size_Br_20191017073812524_46_S881928_I1241742.nii': 6.366126746061101,\n",
       " '/csc/epitkane/data/ADNI/AD_DL_16_04_22/ADNI_082_S_6197_PT_AV45_Coreg,_Avg,_Standardized_Image_and_Voxel_Size_Br_20180731071527753_52_S708780_I1028999.nii': 7.0326242610280065,\n",
       " '/csc/epitkane/data/ADNI/AD_DL_16_04_22/ADNI_027_S_2183_PT_AV45_Coreg,_Avg,_Standardized_Image_and_Voxel_Size_Br_20130124171743428_77_S179248_I356080.nii': 7.084226422097916,\n",
       " '/csc/epitkane/data/ADNI/AD_DL_16_04_22/ADNI_021_S_5236_PT_AV45_Coreg,_Avg,_Standardized_Image_and_Voxel_Size_Br_20130731092258670_72_S195447_I383857.nii': 6.726305539779933,\n",
       " '/csc/epitkane/data/ADNI/AD_DL_16_04_22/ADNI_127_S_2234_PT_AV45_Coreg,_Avg,_Standardized_Image_and_Voxel_Size_Br_20141216114620362_5_S242757_I462162.nii': 7.609862200913554,\n",
       " '/csc/epitkane/data/ADNI/AD_DL_16_04_22/ADNI_941_S_6044_PT_FBB_Coreg,_Avg,_Standardized_Image_and_Voxel_Size_Br_20170721094811898_49_S585819_I877236.nii': 6.382492607418377,\n",
       " '/csc/epitkane/data/ADNI/AD_DL_16_04_22/ADNI_014_S_2185_PT_AV45_Coreg,_Avg,_Standardized_Image_and_Voxel_Size_Br_20110121141419955_27_S97636_I213658.nii': 7.473069088032197,\n",
       " '/csc/epitkane/data/ADNI/AD_DL_16_04_22/ADNI_135_S_4657_PT_AV45_Coreg,_Avg,_Standardized_Image_and_Voxel_Size_Br_20120517164722708_61_S149591_I305138.nii': 6.4642736021903815,\n",
       " '/csc/epitkane/data/ADNI/AD_DL_16_04_22/ADNI_009_S_5176_PT_AV45_Coreg,_Avg,_Standardized_Image_and_Voxel_Size_Br_20130614085850958_31_S192001_I376528.nii': 6.630478027412372,\n",
       " '/csc/epitkane/data/ADNI/AD_DL_16_04_22/ADNI_127_S_5185_PT_AV45_Coreg,_Avg,_Standardized_Image_and_Voxel_Size_Br_20190829111816129_36_S866741_I1221525.nii': 6.12029741895095,\n",
       " '/csc/epitkane/data/ADNI/AD_DL_16_04_22/ADNI_068_S_4217_PT_AV45_Coreg,_Avg,_Standardized_Image_and_Voxel_Size_Br_20111013152144629_87_S124653_I260816.nii': 7.283559533408103,\n",
       " '/csc/epitkane/data/ADNI/AD_DL_16_04_22/ADNI_037_S_4381_PT_AV45_Coreg,_Avg,_Standardized_Image_and_Voxel_Size_Br_20140411091847547_56_S214645_I419834.nii': 7.52456122628536,\n",
       " '/csc/epitkane/data/ADNI/AD_DL_16_04_22/ADNI_137_S_0973_PT_PIB_Coreg,_Avg,_Standardized_Image_and_Voxel_Size_Br_20071218191733702_1_S43959_I85448.nii': 7.088408778675395,\n",
       " '/csc/epitkane/data/ADNI/AD_DL_16_04_22/ADNI_035_S_4784_PT_AV45_Coreg,_Avg,_Standardized_Image_and_Voxel_Size_Br_20120914172741495_85_S162321_I334283.nii': 6.978363897788424,\n",
       " '/csc/epitkane/data/ADNI/AD_DL_16_04_22/ADNI_141_S_2210_PT_AV45_Coreg,_Avg,_Standardized_Image_and_Voxel_Size_Br_20110329154840344_8_S102182_I225165.nii': 5.756058619221572,\n",
       " '/csc/epitkane/data/ADNI/AD_DL_16_04_22/ADNI_037_S_0454_PT_PIB_Coreg,_Avg,_Standardized_Image_and_Voxel_Size_Br_20090710161304905_1_S69697_I148553.nii': 7.1929342212158,\n",
       " '/csc/epitkane/data/ADNI/AD_DL_16_04_22/ADNI_037_S_4146_PT_AV45_Coreg,_Avg,_Standardized_Image_and_Voxel_Size_Br_20131003064155821_60_S202132_I393125.nii': 6.472346294500901,\n",
       " '/csc/epitkane/data/ADNI/AD_DL_16_04_22/ADNI_022_S_2379_PT_AV45_Coreg,_Avg,_Standardized_Image_and_Voxel_Size_Br_20110610180751379_6_S111022_I239748.nii': 6.690593799345475,\n",
       " '/csc/epitkane/data/ADNI/AD_DL_16_04_22/ADNI_016_S_2284_PT_AV45_Coreg,_Avg,_Standardized_Image_and_Voxel_Size_Br_20110309150423697_62_S100798_I223308.nii': 6.67405621372841,\n",
       " '/csc/epitkane/data/ADNI/AD_DL_16_04_22/ADNI_022_S_4173_PT_AV45_Coreg,_Avg,_Standardized_Image_and_Voxel_Size_Br_20111020184728116_17_S125712_I261895.nii': 6.98589810931039,\n",
       " '/csc/epitkane/data/ADNI/AD_DL_16_04_22/ADNI_098_S_4215_PT_AV45_Coreg,_Avg,_Standardized_Image_and_Voxel_Size_Br_20111025155450127_48_S126232_I262312.nii': 6.294269461818783,\n",
       " '/csc/epitkane/data/ADNI/AD_DL_16_04_22/ADNI_016_S_4583_PT_AV45_Coreg,_Avg,_Standardized_Image_and_Voxel_Size_Br_20120622184126311_89_S153173_I312038.nii': 6.549366214220032,\n",
       " '/csc/epitkane/data/ADNI/AD_DL_16_04_22/ADNI_011_S_6367_PT_AV45_Coreg,_Avg,_Standardized_Image_and_Voxel_Size_Br_20180606092655999_78_S691947_I1005973.nii': 7.067319848653476,\n",
       " '/csc/epitkane/data/ADNI/AD_DL_16_04_22/ADNI_126_S_2407_PT_AV45_Coreg,_Avg,_Standardized_Image_and_Voxel_Size_Br_20151215105254024_50_S316613_I580972.nii': 7.640123172695364,\n",
       " '/csc/epitkane/data/ADNI/AD_DL_16_04_22/ADNI_126_S_0680_PT_AV45_Coreg,_Avg,_Standardized_Image_and_Voxel_Size_Br_20130728125517296_7_S195634_I382751.nii': 7.7336835707759,\n",
       " '/csc/epitkane/data/ADNI/AD_DL_16_04_22/ADNI_035_S_2199_PT_AV45_Coreg,_Avg,_Standardized_Image_and_Voxel_Size_Br_20110120173407114_92_S96680_I213487.nii': 7.328437352895162,\n",
       " '/csc/epitkane/data/ADNI/AD_DL_16_04_22/ADNI_037_S_6141_PT_FBB_Coreg,_Avg,_Standardized_Image_and_Voxel_Size_Br_20180502094306707_23_S679414_I991536.nii': 6.597282118229541,\n",
       " '/csc/epitkane/data/ADNI/AD_DL_16_04_22/ADNI_099_S_4994_PT_AV45_Coreg,_Avg,_Standardized_Image_and_Voxel_Size_Br_20130117110755599_46_S179936_I355452.nii': 5.837770528533239,\n",
       " '/csc/epitkane/data/ADNI/AD_DL_16_04_22/ADNI_073_S_0089_PT_AV45_Coreg,_Avg,_Standardized_Image_and_Voxel_Size_Br_20150805090458365_83_S267276_I503869.nii': 7.38025578842646,\n",
       " '/csc/epitkane/data/ADNI/AD_DL_16_04_22/ADNI_005_S_5038_PT_AV45_Coreg,_Avg,_Standardized_Image_and_Voxel_Size_Br_20130121144417590_48_S180383_I355582.nii': 6.49664837818128,\n",
       " '/csc/epitkane/data/ADNI/AD_DL_16_04_22/ADNI_098_S_6593_PT_FBB_Coreg,_Avg,_Standardized_Image_and_Voxel_Size_Br_20190218094857452_78_S797068_I1131503.nii': 7.516977224604321,\n",
       " '/csc/epitkane/data/ADNI/AD_DL_16_04_22/ADNI_114_S_4404_PT_AV45_Coreg,_Avg,_Standardized_Image_and_Voxel_Size_Br_20160213124644337_92_S367064_I629784.nii': 6.4454023086669245,\n",
       " '/csc/epitkane/data/ADNI/AD_DL_16_04_22/ADNI_130_S_0232_PT_AV45_Coreg,_Avg,_Standardized_Image_and_Voxel_Size_Br_20110505133616187_23_S103205_I233337.nii': 6.933423025730715,\n",
       " '/csc/epitkane/data/ADNI/AD_DL_16_04_22/ADNI_033_S_4177_PT_AV45_Coreg,_Avg,_Standardized_Image_and_Voxel_Size_Br_20160128081335895_30_S292203_I614509.nii': 6.768378262513495,\n",
       " '/csc/epitkane/data/ADNI/AD_DL_16_04_22/ADNI_012_S_4643_PT_AV45_Coreg,_Avg,_Standardized_Image_and_Voxel_Size_Br_20191018115050721_85_S884625_I1242333.nii': 7.418180822726788,\n",
       " '/csc/epitkane/data/ADNI/AD_DL_16_04_22/ADNI_027_S_5197_PT_AV45_Coreg,_Avg,_Standardized_Image_and_Voxel_Size_Br_20130814093318882_56_S196861_I385410.nii': 7.072207995040144,\n",
       " '/csc/epitkane/data/ADNI/AD_DL_16_04_22/ADNI_037_S_4381_PT_AV45_Coreg,_Avg,_Standardized_Image_and_Voxel_Size_Br_20160213124426230_34_S366176_I629776.nii': 7.324489979348532,\n",
       " '/csc/epitkane/data/ADNI/AD_DL_16_04_22/ADNI_023_S_4034_PT_AV45_Coreg,_Avg,_Standardized_Image_and_Voxel_Size_Br_20110718174555378_64_S114562_I245413.nii': 6.099711221855781,\n",
       " '/csc/epitkane/data/ADNI/AD_DL_16_04_22/ADNI_130_S_2373_PT_AV45_Coreg,_Avg,_Standardized_Image_and_Voxel_Size_Br_20190816124438846_24_S842683_I1211649.nii': 6.60907966505549,\n",
       " '/csc/epitkane/data/ADNI/AD_DL_16_04_22/ADNI_053_S_4557_PT_AV45_Coreg,_Avg,_Standardized_Image_and_Voxel_Size_Br_20120322172656158_74_S144365_I291864.nii': 6.735552818378036,\n",
       " '/csc/epitkane/data/ADNI/AD_DL_16_04_22/ADNI_023_S_1190_PT_AV45_Coreg,_Avg,_Standardized_Image_and_Voxel_Size_Br_20140226085246837_66_S213219_I415373.nii': 7.117205503164344,\n",
       " '/csc/epitkane/data/ADNI/AD_DL_16_04_22/ADNI_006_S_6651_PT_FBB_Coreg,_Avg,_Standardized_Image_and_Voxel_Size_Br_20190322102238694_95_S805026_I1145815.nii': 7.141245122350491,\n",
       " '/csc/epitkane/data/ADNI/AD_DL_16_04_22/ADNI_072_S_4206_PT_AV45_Coreg,_Avg,_Standardized_Image_and_Voxel_Size_Br_20111117182745951_78_S130038_I267509.nii': 7.229004441455763,\n",
       " '/csc/epitkane/data/ADNI/AD_DL_16_04_22/ADNI_116_S_4043_PT_AV45_Coreg,_Avg,_Standardized_Image_and_Voxel_Size_Br_20110615152639107_50_S111103_I240263.nii': 7.409180773263825,\n",
       " '/csc/epitkane/data/ADNI/AD_DL_16_04_22/ADNI_082_S_4208_PT_AV45_Coreg,_Avg,_Standardized_Image_and_Voxel_Size_Br_20110913200431617_23_S121673_I255934.nii': 7.188105642305828,\n",
       " '/csc/epitkane/data/ADNI/AD_DL_16_04_22/ADNI_128_S_4832_PT_AV45_Coreg,_Avg,_Standardized_Image_and_Voxel_Size_Br_20120818102223617_40_S160671_I324540.nii': 7.182076591629798,\n",
       " '/csc/epitkane/data/ADNI/AD_DL_16_04_22/ADNI_032_S_0214_PT_AV45_Coreg,_Avg,_Standardized_Image_and_Voxel_Size_Br_20110614163914047_70_S111434_I240023.nii': 6.681732586917084,\n",
       " '/csc/epitkane/data/ADNI/AD_DL_16_04_22/ADNI_073_S_4360_PT_AV45_Coreg,_Avg,_Standardized_Image_and_Voxel_Size_Br_20111220135318499_43_S133648_I273387.nii': 7.029989532537949,\n",
       " '/csc/epitkane/data/ADNI/AD_DL_16_04_22/ADNI_029_S_4585_PT_AV45_Coreg,_Avg,_Standardized_Image_and_Voxel_Size_Br_20120627115046634_36_S155431_I312974.nii': 7.262275500643767,\n",
       " '/csc/epitkane/data/ADNI/AD_DL_16_04_22/ADNI_072_S_4394_PT_AV45_Coreg,_Avg,_Standardized_Image_and_Voxel_Size_Br_20120126174000593_69_S138483_I280945.nii': 7.079065789977765,\n",
       " '/csc/epitkane/data/ADNI/AD_DL_16_04_22/ADNI_006_S_6689_PT_FBB_Coreg,_Avg,_Standardized_Image_and_Voxel_Size_Br_20190611094442867_25_S827880_I1174675.nii': 6.825351452727321,\n",
       " '/csc/epitkane/data/ADNI/AD_DL_16_04_22/ADNI_019_S_6573_PT_FBB_Coreg,_Avg,_Standardized_Image_and_Voxel_Size_Br_20180925080358401_58_S727896_I1051561.nii': 6.748759547491679,\n",
       " '/csc/epitkane/data/ADNI/AD_DL_16_04_22/ADNI_128_S_2036_PT_AV45_Coreg,_Avg,_Standardized_Image_and_Voxel_Size_Br_20101022152609173_39_S93510_I198999.nii': 7.597396320212795,\n",
       " '/csc/epitkane/data/ADNI/AD_DL_16_04_22/ADNI_037_S_0327_PT_PIB_Coreg,_Avg,_Standardized_Image_and_Voxel_Size_Br_20080605165347451_1_S50236_I108524.nii': 7.2305631534092925,\n",
       " '/csc/epitkane/data/ADNI/AD_DL_16_04_22/ADNI_116_S_4338_PT_AV45_Coreg,_Avg,_Standardized_Image_and_Voxel_Size_Br_20120103111352273_31_S134562_I274802.nii': 7.03715465955881,\n",
       " '/csc/epitkane/data/ADNI/AD_DL_16_04_22/ADNI_128_S_4842_PT_AV45_Coreg,_Avg,_Standardized_Image_and_Voxel_Size_Br_20140912084713081_95_S230529_I443408.nii': 7.087573705557973,\n",
       " '/csc/epitkane/data/ADNI/AD_DL_16_04_22/ADNI_099_S_2042_PT_AV45_Coreg,_Avg,_Standardized_Image_and_Voxel_Size_Br_20120910110751426_28_S162965_I332384.nii': 6.78502251359984,\n",
       " '/csc/epitkane/data/ADNI/AD_DL_16_04_22/ADNI_041_S_4004_PT_AV45_Coreg,_Avg,_Standardized_Image_and_Voxel_Size_Br_20110701170236894_78_S110190_I243100.nii': 7.132130742952916,\n",
       " '/csc/epitkane/data/ADNI/AD_DL_16_04_22/ADNI_033_S_4176_PT_AV45_Coreg,_Avg,_Standardized_Image_and_Voxel_Size_Br_20130914093952252_86_S200232_I390083.nii': 7.110696122978827,\n",
       " '/csc/epitkane/data/ADNI/AD_DL_16_04_22/ADNI_305_S_6877_PT_AV45_Coreg,_Avg,_Standardized_Image_and_Voxel_Size_Br_20201102093755732_65_S970049_I1360009.nii': 6.271555378863942,\n",
       " '/csc/epitkane/data/ADNI/AD_DL_16_04_22/ADNI_067_S_5205_PT_AV45_Coreg,_Avg,_Standardized_Image_and_Voxel_Size_Br_20130802090008826_71_S197035_I384149.nii': 6.363857937188993,\n",
       " '/csc/epitkane/data/ADNI/AD_DL_16_04_22/ADNI_012_S_5157_PT_AV45_Coreg,_Avg,_Standardized_Image_and_Voxel_Size_Br_20150806090012245_37_S264065_I504173.nii': 7.198931240688173,\n",
       " '/csc/epitkane/data/ADNI/AD_DL_16_04_22/ADNI_027_S_2336_PT_AV45_Coreg,_Avg,_Standardized_Image_and_Voxel_Size_Br_20110505132931849_33_S105270_I233321.nii': 6.81278504139091,\n",
       " '/csc/epitkane/data/ADNI/AD_DL_16_04_22/ADNI_116_S_4855_PT_AV45_Coreg,_Avg,_Standardized_Image_and_Voxel_Size_Br_20120824130559653_28_S162324_I326247.nii': 6.55972306626417,\n",
       " '/csc/epitkane/data/ADNI/AD_DL_16_04_22/ADNI_114_S_6039_PT_AV45_Coreg,_Avg,_Standardized_Image_and_Voxel_Size_Br_20170906091535587_22_S603394_I900775.nii': 6.512784907966614,\n",
       " '/csc/epitkane/data/ADNI/AD_DL_16_04_22/ADNI_073_S_2225_PT_AV45_Coreg,_Avg,_Standardized_Image_and_Voxel_Size_Br_20130503132358386_50_S188604_I370040.nii': 7.001245622069476,\n",
       " '/csc/epitkane/data/ADNI/AD_DL_16_04_22/ADNI_041_S_5097_PT_AV45_Coreg,_Avg,_Standardized_Image_and_Voxel_Size_Br_20130418163126814_68_S187027_I367881.nii': 6.97077601208756,\n",
       " '/csc/epitkane/data/ADNI/AD_DL_16_04_22/ADNI_041_S_5141_PT_AV45_Coreg,_Avg,_Standardized_Image_and_Voxel_Size_Br_20130523142240488_35_S188409_I373646.nii': 7.413246987310045,\n",
       " '/csc/epitkane/data/ADNI/AD_DL_16_04_22/ADNI_141_S_6008_PT_AV45_Coreg,_Avg,_Standardized_Image_and_Voxel_Size_Br_20170531092553654_20_S567722_I857584.nii': 6.835614601204455,\n",
       " '/csc/epitkane/data/ADNI/AD_DL_16_04_22/ADNI_014_S_4576_PT_AV45_Coreg,_Avg,_Standardized_Image_and_Voxel_Size_Br_20120405134410224_77_S145229_I296021.nii': 6.993378885495651,\n",
       " '/csc/epitkane/data/ADNI/AD_DL_16_04_22/ADNI_019_S_4549_PT_AV45_Coreg,_Avg,_Standardized_Image_and_Voxel_Size_Br_20120515093523931_72_S150157_I304077.nii': 6.375254624614218,\n",
       " '/csc/epitkane/data/ADNI/AD_DL_16_04_22/ADNI_011_S_4278_PT_AV45_Coreg,_Avg,_Standardized_Image_and_Voxel_Size_Br_20131101083408407_53_S204868_I396660.nii': 5.929855065476291,\n",
       " '/csc/epitkane/data/ADNI/AD_DL_16_04_22/ADNI_098_S_2079_PT_AV45_Coreg,_Avg,_Standardized_Image_and_Voxel_Size_Br_20101014175433440_74_S93094_I196530.nii': 6.251132873104564,\n",
       " '/csc/epitkane/data/ADNI/AD_DL_16_04_22/ADNI_002_S_4447_PT_AV45_Coreg,_Avg,_Standardized_Image_and_Voxel_Size_Br_20140221082515960_43_S212628_I415083.nii': 6.815420667779341,\n",
       " '/csc/epitkane/data/ADNI/AD_DL_16_04_22/ADNI_137_S_4852_PT_AV45_Coreg,_Avg,_Standardized_Image_and_Voxel_Size_Br_20120920113357542_51_S167440_I335913.nii': 6.397870701733002,\n",
       " '/csc/epitkane/data/ADNI/AD_DL_16_04_22/ADNI_072_S_4694_PT_AV45_Coreg,_Avg,_Standardized_Image_and_Voxel_Size_Br_20120717134335757_15_S156580_I316543.nii': 7.2346629069319945,\n",
       " '/csc/epitkane/data/ADNI/AD_DL_16_04_22/ADNI_041_S_4014_PT_AV45_Coreg,_Avg,_Standardized_Image_and_Voxel_Size_Br_20110718175028848_67_S110318_I245431.nii': 5.97345173590158,\n",
       " '/csc/epitkane/data/ADNI/AD_DL_16_04_22/ADNI_033_S_6298_PT_FBB_Coreg,_Avg,_Standardized_Image_and_Voxel_Size_Br_20180606093057638_67_S690742_I1005981.nii': 7.959625305098115,\n",
       " '/csc/epitkane/data/ADNI/AD_DL_16_04_22/ADNI_130_S_6019_PT_FBB_Coreg,_Avg,_Standardized_Image_and_Voxel_Size_Br_20190710101234136_26_S838983_I1185255.nii': 7.212294468500341,\n",
       " '/csc/epitkane/data/ADNI/AD_DL_16_04_22/ADNI_012_S_4094_PT_AV45_Coreg,_Avg,_Standardized_Image_and_Voxel_Size_Br_20150924082248160_12_S270209_I517383.nii': 7.132497551660044,\n",
       " '/csc/epitkane/data/ADNI/AD_DL_16_04_22/ADNI_168_S_6151_PT_AV45_Coreg,_Avg,_Standardized_Image_and_Voxel_Size_Br_20200618064337888_4_S947094_I1318124.nii': 7.134093721192866,\n",
       " '/csc/epitkane/data/ADNI/AD_DL_16_04_22/ADNI_137_S_4678_PT_AV45_Coreg,_Avg,_Standardized_Image_and_Voxel_Size_Br_20120605135610168_96_S151397_I308137.nii': 7.283559533408103,\n",
       " '/csc/epitkane/data/ADNI/AD_DL_16_04_22/ADNI_041_S_1010_PT_PIB_Coreg,_Avg,_Standardized_Image_and_Voxel_Size_Br_20080117130838363_1_S43532_I87759.nii': 5.942799375126701,\n",
       " '/csc/epitkane/data/ADNI/AD_DL_16_04_22/ADNI_135_S_4722_PT_AV45_Coreg,_Avg,_Standardized_Image_and_Voxel_Size_Br_20120608133704148_14_S152910_I308815.nii': 7.421256587927304,\n",
       " '/csc/epitkane/data/ADNI/AD_DL_16_04_22/ADNI_035_S_2074_PT_AV45_Coreg,_Avg,_Standardized_Image_and_Voxel_Size_Br_20130111125912225_1_S176720_I354760.nii': 7.272398392570047,\n",
       " '/csc/epitkane/data/ADNI/AD_DL_16_04_22/ADNI_129_S_6304_PT_AV45_Coreg,_Avg,_Standardized_Image_and_Voxel_Size_Br_20180524091809337_76_S684114_I1001967.nii': 6.7763929607853095,\n",
       " '/csc/epitkane/data/ADNI/AD_DL_16_04_22/ADNI_024_S_1393_PT_PIB_Coreg,_Avg,_Standardized_Image_and_Voxel_Size_Br_20090514111846664_1_S67195_I143794.nii': 6.142467420644509,\n",
       " '/csc/epitkane/data/ADNI/AD_DL_16_04_22/ADNI_032_S_6293_PT_AV45_Coreg,_Avg,_Standardized_Image_and_Voxel_Size_Br_20180829064659214_66_S721557_I1043476.nii': 8.027802848370312,\n",
       " '/csc/epitkane/data/ADNI/AD_DL_16_04_22/ADNI_094_S_4434_PT_AV45_Coreg,_Avg,_Standardized_Image_and_Voxel_Size_Br_20120301161806092_93_S142223_I287364.nii': 7.245843396780722,\n",
       " '/csc/epitkane/data/ADNI/AD_DL_16_04_22/ADNI_098_S_4506_PT_AV45_Coreg,_Avg,_Standardized_Image_and_Voxel_Size_Br_20120419133338517_94_S143984_I298495.nii': 7.079065789977765,\n",
       " '/csc/epitkane/data/ADNI/AD_DL_16_04_22/ADNI_009_S_6163_PT_AV45_Coreg,_Avg,_Standardized_Image_and_Voxel_Size_Br_20180316092707296_20_S666887_I974241.nii': 6.77923985674671,\n",
       " '/csc/epitkane/data/ADNI/AD_DL_16_04_22/ADNI_067_S_2304_PT_AV45_Coreg,_Avg,_Standardized_Image_and_Voxel_Size_Br_20150316085534758_62_S251090_I477692.nii': 7.255591274253665,\n",
       " '/csc/epitkane/data/ADNI/AD_DL_16_04_22/ADNI_019_S_4367_PT_AV45_Coreg,_Avg,_Standardized_Image_and_Voxel_Size_Br_20111220135010447_92_S133446_I273381.nii': 6.8333366280062755,\n",
       " '/csc/epitkane/data/ADNI/AD_DL_16_04_22/ADNI_136_S_0186_PT_AV45_Coreg,_Avg,_Standardized_Image_and_Voxel_Size_Br_20110630155316091_42_S109076_I242760.nii': 6.74146453926071,\n",
       " '/csc/epitkane/data/ADNI/AD_DL_16_04_22/ADNI_006_S_4363_PT_AV45_Coreg,_Avg,_Standardized_Image_and_Voxel_Size_Br_20140123085710175_12_S210776_I406042.nii': 6.46412090475647,\n",
       " '/csc/epitkane/data/ADNI/AD_DL_16_04_22/ADNI_127_S_0754_PT_PIB_Coreg,_Avg,_Standardized_Image_and_Voxel_Size_Br_20071002171622252_1_S40807_I76545.nii': 6.0090588555089335,\n",
       " '/csc/epitkane/data/ADNI/AD_DL_16_04_22/ADNI_007_S_4516_PT_AV45_Coreg,_Avg,_Standardized_Image_and_Voxel_Size_Br_20140226084729485_24_S212947_I415357.nii': 7.179307969504034,\n",
       " '/csc/epitkane/data/ADNI/AD_DL_16_04_22/ADNI_031_S_4218_PT_AV45_Coreg,_Avg,_Standardized_Image_and_Voxel_Size_Br_20131013163933841_48_S201448_I394267.nii': 7.583756300707112,\n",
       " '/csc/epitkane/data/ADNI/AD_DL_16_04_22/ADNI_057_S_5199_PT_AV45_Coreg,_Avg,_Standardized_Image_and_Voxel_Size_Br_20130628085248358_86_S192923_I378532.nii': 6.2467754342304405,\n",
       " '/csc/epitkane/data/ADNI/AD_DL_16_04_22/ADNI_018_S_4313_PT_AV45_Coreg,_Avg,_Standardized_Image_and_Voxel_Size_Br_20140129091639864_38_S211460_I410137.nii': 7.198931240688173,\n",
       " '/csc/epitkane/data/ADNI/AD_DL_16_04_22/ADNI_024_S_6184_PT_FBB_Coreg,_Avg,_Standardized_Image_and_Voxel_Size_Br_20200210081441701_36_S920376_I1286964.nii': 7.344719054149673,\n",
       " '/csc/epitkane/data/ADNI/AD_DL_16_04_22/ADNI_010_S_0422_PT_PIB_Coreg,_Avg,_Standardized_Image_and_Voxel_Size_Br_20071005134440356_1_S40792_I76894.nii': 7.442492722794441,\n",
       " '/csc/epitkane/data/ADNI/AD_DL_16_04_22/ADNI_006_S_4449_PT_AV45_Coreg,_Avg,_Standardized_Image_and_Voxel_Size_Br_20120203153503752_8_S139588_I282607.nii': 6.744739783599281,\n",
       " '/csc/epitkane/data/ADNI/AD_DL_16_04_22/ADNI_100_S_4469_PT_AV45_Coreg,_Avg,_Standardized_Image_and_Voxel_Size_Br_20140505085420502_96_S216474_I423509.nii': 8.067462667010057,\n",
       " '/csc/epitkane/data/ADNI/AD_DL_16_04_22/ADNI_007_S_2394_PT_AV45_Coreg,_Avg,_Standardized_Image_and_Voxel_Size_Br_20110825142810313_64_S115783_I252749.nii': 5.887214525734183,\n",
       " '/csc/epitkane/data/ADNI/AD_DL_16_04_22/ADNI_027_S_5110_PT_AV45_Coreg,_Avg,_Standardized_Image_and_Voxel_Size_Br_20150519090545401_52_S259859_I493338.nii': 7.66105638236183,\n",
       " '/csc/epitkane/data/ADNI/AD_DL_16_04_22/ADNI_027_S_6516_PT_FBB_Coreg,_Avg,_Standardized_Image_and_Voxel_Size_Br_20180911062117023_16_S724621_I1047197.nii': 7.465082736399547,\n",
       " '/csc/epitkane/data/ADNI/AD_DL_16_04_22/ADNI_023_S_4020_PT_AV45_Coreg,_Avg,_Standardized_Image_and_Voxel_Size_Br_20110627144341041_23_S112354_I241898.nii': 7.22330027039934,\n",
       " '/csc/epitkane/data/ADNI/AD_DL_16_04_22/ADNI_033_S_1098_PT_AV45_Coreg,_Avg,_Standardized_Image_and_Voxel_Size_Br_20101123161032864_27_S94578_I206370.nii': 6.249009525139524,\n",
       " '/csc/epitkane/data/ADNI/AD_DL_16_04_22/ADNI_057_S_4888_PT_AV45_Coreg,_Avg,_Standardized_Image_and_Voxel_Size_Br_20120914174008154_73_S166303_I334305.nii': 6.580249867792227,\n",
       " '/csc/epitkane/data/ADNI/AD_DL_16_04_22/ADNI_007_S_4272_PT_AV45_Coreg,_Avg,_Standardized_Image_and_Voxel_Size_Br_20151028114153919_17_S289580_I535762.nii': 6.5841005460715385,\n",
       " '/csc/epitkane/data/ADNI/AD_DL_16_04_22/ADNI_005_S_4910_PT_AV45_Coreg,_Avg,_Standardized_Image_and_Voxel_Size_Br_20121029112142573_79_S172324_I342828.nii': 6.517922022484526,\n",
       " '/csc/epitkane/data/ADNI/AD_DL_16_04_22/ADNI_067_S_2196_PT_AV45_Coreg,_Avg,_Standardized_Image_and_Voxel_Size_Br_20101210175110453_86_S96140_I208256.nii': 6.544343407104972,\n",
       " '/csc/epitkane/data/ADNI/AD_DL_16_04_22/ADNI_116_S_6133_PT_FBB_Coreg,_Avg,_Standardized_Image_and_Voxel_Size_Br_20180327093638818_28_S661157_I977851.nii': 6.384857073981877,\n",
       " '/csc/epitkane/data/ADNI/AD_DL_16_04_22/ADNI_022_S_4320_PT_AV45_Coreg,_Avg,_Standardized_Image_and_Voxel_Size_Br_20131223080844926_6_S209153_I403592.nii': 6.827087375914682,\n",
       " '/csc/epitkane/data/ADNI/AD_DL_16_04_22/ADNI_032_S_6804_PT_AV45_Coreg,_Avg,_Standardized_Image_and_Voxel_Size_Br_20191120083204408_70_S898030_I1258357.nii': 5.9979435132056915,\n",
       " '/csc/epitkane/data/ADNI/AD_DL_16_04_22/ADNI_098_S_6534_PT_FBB_Coreg,_Avg,_Standardized_Image_and_Voxel_Size_Br_20181030072324746_12_S740220_I1065642.nii': 7.462214939768189,\n",
       " '/csc/epitkane/data/ADNI/AD_DL_16_04_22/ADNI_168_S_6085_PT_AV45_Coreg,_Avg,_Standardized_Image_and_Voxel_Size_Br_20180109095822409_6_S648352_I951555.nii': 7.440146680662688,\n",
       " '/csc/epitkane/data/ADNI/AD_DL_16_04_22/ADNI_070_S_6548_PT_FBB_Coreg,_Avg,_Standardized_Image_and_Voxel_Size_Br_20180925081136792_59_S726316_I1051581.nii': 7.337587743538596,\n",
       " '/csc/epitkane/data/ADNI/AD_DL_16_04_22/ADNI_094_S_4858_PT_AV45_Coreg,_Avg,_Standardized_Image_and_Voxel_Size_Br_20121126143826068_92_S174902_I347851.nii': 6.11219140577398,\n",
       " '/csc/epitkane/data/ADNI/AD_DL_16_04_22/ADNI_006_S_1130_PT_AV45_Coreg,_Avg,_Standardized_Image_and_Voxel_Size_Br_20110307145315892_56_S101024_I222685.nii': 6.687357953335953,\n",
       " '/csc/epitkane/data/ADNI/AD_DL_16_04_22/ADNI_123_S_4127_PT_AV45_Coreg,_Avg,_Standardized_Image_and_Voxel_Size_Br_20110825144010853_76_S119226_I252784.nii': 6.932023065896986,\n",
       " '/csc/epitkane/data/ADNI/AD_DL_16_04_22/ADNI_126_S_0680_PT_AV45_Coreg,_Avg,_Standardized_Image_and_Voxel_Size_Br_20110817162039806_76_S119089_I251273.nii': 7.6324011266014535,\n",
       " '/csc/epitkane/data/ADNI/AD_DL_16_04_22/ADNI_018_S_4809_PT_AV45_Coreg,_Avg,_Standardized_Image_and_Voxel_Size_Br_20140627090544407_5_S222988_I433029.nii': 7.035268599281097,\n",
       " '/csc/epitkane/data/ADNI/AD_DL_16_04_22/ADNI_019_S_5012_PT_AV45_Coreg,_Avg,_Standardized_Image_and_Voxel_Size_Br_20121130132914149_50_S174990_I348548.nii': 6.087197649308485,\n",
       " '/csc/epitkane/data/ADNI/AD_DL_16_04_22/ADNI_029_S_4279_PT_AV45_Coreg,_Avg,_Standardized_Image_and_Voxel_Size_Br_20120202161023641_90_S138984_I282448.nii': 7.46240490420942,\n",
       " '/csc/epitkane/data/ADNI/AD_DL_16_04_22/ADNI_072_S_4462_PT_AV45_Coreg,_Avg,_Standardized_Image_and_Voxel_Size_Br_20120224152510847_25_S141527_I286484.nii': 6.55972306626417,\n",
       " '/csc/epitkane/data/ADNI/AD_DL_16_04_22/ADNI_052_S_0671_PT_AV45_Coreg,_Avg,_Standardized_Image_and_Voxel_Size_Br_20110726114031223_4_S114038_I246703.nii': 6.321307717081248,\n",
       " '/csc/epitkane/data/ADNI/AD_DL_16_04_22/ADNI_036_S_4430_PT_AV45_Coreg,_Avg,_Standardized_Image_and_Voxel_Size_Br_20160218120302938_84_S375946_I634509.nii': 6.5141199226275495,\n",
       " '/csc/epitkane/data/ADNI/AD_DL_16_04_22/ADNI_041_S_4510_PT_AV45_Coreg,_Avg,_Standardized_Image_and_Voxel_Size_Br_20140322124123829_41_S213604_I417594.nii': 6.628834712198929,\n",
       " '/csc/epitkane/data/ADNI/AD_DL_16_04_22/ADNI_153_S_4077_PT_AV45_Coreg,_Avg,_Standardized_Image_and_Voxel_Size_Br_20110718175301803_35_S114310_I245453.nii': 7.2346629069319945,\n",
       " '/csc/epitkane/data/ADNI/AD_DL_16_04_22/ADNI_127_S_6330_PT_FBB_Coreg,_Avg,_Standardized_Image_and_Voxel_Size_Br_20180619064619619_86_S696264_I1011596.nii': 6.5355315046537745,\n",
       " '/csc/epitkane/data/ADNI/AD_DL_16_04_22/ADNI_126_S_6559_PT_FBB_Coreg,_Avg,_Standardized_Image_and_Voxel_Size_Br_20190104074227375_37_S764263_I1111054.nii': 6.848429812897322,\n",
       " '/csc/epitkane/data/ADNI/AD_DL_16_04_22/ADNI_067_S_6528_PT_FBB_Coreg,_Avg,_Standardized_Image_and_Voxel_Size_Br_20181130071722084_87_S745501_I1080069.nii': 6.9985096422506015,\n",
       " '/csc/epitkane/data/ADNI/AD_DL_16_04_22/ADNI_014_S_2308_PT_AV45_Coreg,_Avg,_Standardized_Image_and_Voxel_Size_Br_20160525110427772_6_S434466_I715549.nii': 7.346010209913293,\n",
       " '/csc/epitkane/data/ADNI/AD_DL_16_04_22/ADNI_051_S_5285_PT_AV45_Coreg,_Avg,_Standardized_Image_and_Voxel_Size_Br_20160627091331418_58_S472228_I747965.nii': 6.889693136163729,\n",
       " '/csc/epitkane/data/ADNI/AD_DL_16_04_22/ADNI_053_S_5070_PT_AV45_Coreg,_Avg,_Standardized_Image_and_Voxel_Size_Br_20130306181041731_51_S183352_I362189.nii': 6.036852468109911,\n",
       " '/csc/epitkane/data/ADNI/AD_DL_16_04_22/ADNI_033_S_1016_PT_AV45_Coreg,_Avg,_Standardized_Image_and_Voxel_Size_Br_20141211101744901_69_S239741_I461131.nii': 6.7721646246757885,\n",
       " '/csc/epitkane/data/ADNI/AD_DL_16_04_22/ADNI_127_S_4148_PT_AV45_Coreg,_Avg,_Standardized_Image_and_Voxel_Size_Br_20130819090628292_40_S197846_I385875.nii': 7.036148493750536,\n",
       " '/csc/epitkane/data/ADNI/AD_DL_16_04_22/ADNI_068_S_2168_PT_AV45_Coreg,_Avg,_Standardized_Image_and_Voxel_Size_Br_20101124104632633_18_S95049_I206543.nii': 7.688913336864796,\n",
       " '/csc/epitkane/data/ADNI/AD_DL_16_04_22/ADNI_024_S_2239_PT_AV45_Coreg,_Avg,_Standardized_Image_and_Voxel_Size_Br_20141124095739594_45_S237107_I454701.nii': 7.277247726631484,\n",
       " '/csc/epitkane/data/ADNI/AD_DL_16_04_22/ADNI_114_S_5234_PT_AV45_Coreg,_Avg,_Standardized_Image_and_Voxel_Size_Br_20150805090924021_17_S266706_I503889.nii': 6.054674060505866,\n",
       " '/csc/epitkane/data/ADNI/AD_DL_16_04_22/ADNI_128_S_2130_PT_AV45_Coreg,_Avg,_Standardized_Image_and_Voxel_Size_Br_20110204125233648_48_S98820_I215878.nii': 6.166677564664642,\n",
       " '/csc/epitkane/data/ADNI/AD_DL_16_04_22/ADNI_094_S_4560_PT_AV45_Coreg,_Avg,_Standardized_Image_and_Voxel_Size_Br_20120426101625430_26_S147936_I300560.nii': 7.400925123560446,\n",
       " '/csc/epitkane/data/ADNI/AD_DL_16_04_22/ADNI_051_S_4980_PT_AV45_Coreg,_Avg,_Standardized_Image_and_Voxel_Size_Br_20130201142046092_14_S179731_I357470.nii': 6.149412492743344,\n",
       " '/csc/epitkane/data/ADNI/AD_DL_16_04_22/ADNI_137_S_4623_PT_AV45_Coreg,_Avg,_Standardized_Image_and_Voxel_Size_Br_20120514124506980_40_S149735_I303335.nii': 6.442382705842924,\n",
       " '/csc/epitkane/data/ADNI/AD_DL_16_04_22/ADNI_073_S_4259_PT_AV45_Coreg,_Avg,_Standardized_Image_and_Voxel_Size_Br_20131118075548859_36_S206117_I398626.nii': 6.1516682986483175,\n",
       " '/csc/epitkane/data/ADNI/AD_DL_16_04_22/ADNI_033_S_4505_PT_AV45_Coreg,_Avg,_Standardized_Image_and_Voxel_Size_Br_20160302102539639_18_S382183_I643353.nii': 8.165932137321585,\n",
       " '/csc/epitkane/data/ADNI/AD_DL_16_04_22/ADNI_021_S_4419_PT_AV45_Coreg,_Avg,_Standardized_Image_and_Voxel_Size_Br_20120127112619363_35_S135030_I280980.nii': 6.375254624614218,\n",
       " '/csc/epitkane/data/ADNI/AD_DL_16_04_22/ADNI_128_S_4607_PT_AV45_Coreg,_Avg,_Standardized_Image_and_Voxel_Size_Br_20120707144649550_49_S154235_I315411.nii': 7.352552604425132,\n",
       " '/csc/epitkane/data/ADNI/AD_DL_16_04_22/ADNI_127_S_6549_PT_FBB_Coreg,_Avg,_Standardized_Image_and_Voxel_Size_Br_20181023073511654_39_S737206_I1062869.nii': 6.063552623502236,\n",
       " '/csc/epitkane/data/ADNI/AD_DL_16_04_22/ADNI_126_S_4896_PT_AV45_Coreg,_Avg,_Standardized_Image_and_Voxel_Size_Br_20120905170806807_96_S165675_I330780.nii': 7.361724188603925,\n",
       " '/csc/epitkane/data/ADNI/AD_DL_16_04_22/ADNI_130_S_4984_PT_AV45_Coreg,_Avg,_Standardized_Image_and_Voxel_Size_Br_20121127103923408_58_S174859_I347961.nii': 6.453358795303845,\n",
       " '/csc/epitkane/data/ADNI/AD_DL_16_04_22/ADNI_129_S_1246_PT_AV45_Coreg,_Avg,_Standardized_Image_and_Voxel_Size_Br_20110705150851758_48_S108724_I243303.nii': 7.014814351275545,\n",
       " '/csc/epitkane/data/ADNI/AD_DL_16_04_22/ADNI_023_S_5120_PT_AV45_Coreg,_Avg,_Standardized_Image_and_Voxel_Size_Br_20130630121524077_41_S193653_I378787.nii': 6.2467754342304405,\n",
       " '/csc/epitkane/data/ADNI/AD_DL_16_04_22/ADNI_018_S_2155_PT_AV45_Coreg,_Avg,_Standardized_Image_and_Voxel_Size_Br_20191001080947416_56_S877894_I1234659.nii': 6.206777519307003,\n",
       " '/csc/epitkane/data/ADNI/AD_DL_16_04_22/ADNI_041_S_6354_PT_AV45_Coreg,_Avg,_Standardized_Image_and_Voxel_Size_Br_20180710064434342_63_S691945_I1018747.nii': 6.76596127336425,\n",
       " '/csc/epitkane/data/ADNI/AD_DL_16_04_22/ADNI_123_S_2055_PT_AV45_Coreg,_Avg,_Standardized_Image_and_Voxel_Size_Br_20100921182423964_61_S92294_I193171.nii': 6.456926629122442,\n",
       " '/csc/epitkane/data/ADNI/AD_DL_16_04_22/ADNI_127_S_5228_PT_AV45_Coreg,_Avg,_Standardized_Image_and_Voxel_Size_Br_20130731094433892_50_S194752_I383882.nii': 7.288769875258083,\n",
       " '/csc/epitkane/data/ADNI/AD_DL_16_04_22/ADNI_006_S_4679_PT_AV45_Coreg,_Avg,_Standardized_Image_and_Voxel_Size_Br_20120629125809224_52_S155952_I313477.nii': 6.841873762017173,\n",
       " '/csc/epitkane/data/ADNI/AD_DL_16_04_22/ADNI_128_S_2151_PT_AV45_Coreg,_Avg,_Standardized_Image_and_Voxel_Size_Br_20130204172642707_55_S181246_I357710.nii': 7.091742115095153,\n",
       " '/csc/epitkane/data/ADNI/AD_DL_16_04_22/ADNI_006_S_5153_PT_AV45_Coreg,_Avg,_Standardized_Image_and_Voxel_Size_Br_20150820083649833_8_S269191_I505817.nii': 7.311218384419629,\n",
       " '/csc/epitkane/data/ADNI/AD_DL_16_04_22/ADNI_094_S_4630_PT_AV45_Coreg,_Avg,_Standardized_Image_and_Voxel_Size_Br_20120705173754056_88_S155953_I315133.nii': 7.436786526435046,\n",
       " '/csc/epitkane/data/ADNI/AD_DL_16_04_22/ADNI_109_S_2200_PT_AV45_Coreg,_Avg,_Standardized_Image_and_Voxel_Size_Br_20110214153959837_94_S99789_I217519.nii': 7.136483208590247,\n",
       " '/csc/epitkane/data/ADNI/AD_DL_16_04_22/ADNI_021_S_5237_PT_AV45_Coreg,_Avg,_Standardized_Image_and_Voxel_Size_Br_20130813085953215_45_S197606_I385213.nii': 6.620556611383769,\n",
       " '/csc/epitkane/data/ADNI/AD_DL_16_04_22/ADNI_033_S_5198_PT_AV45_Coreg,_Avg,_Standardized_Image_and_Voxel_Size_Br_20130705101932267_12_S192942_I379205.nii': 6.97077601208756,\n",
       " '/csc/epitkane/data/ADNI/AD_DL_16_04_22/ADNI_002_S_4473_PT_AV45_Coreg,_Avg,_Standardized_Image_and_Voxel_Size_Br_20160525110319859_61_S386887_I715545.nii': 6.657497435176356,\n",
       " '/csc/epitkane/data/ADNI/AD_DL_16_04_22/ADNI_052_S_0671_PT_AV45_Coreg,_Avg,_Standardized_Image_and_Voxel_Size_Br_20130912083411421_49_S197199_I389669.nii': 6.129268051255177,\n",
       " '/csc/epitkane/data/ADNI/AD_DL_16_04_22/ADNI_129_S_0778_PT_AV45_Coreg,_Avg,_Standardized_Image_and_Voxel_Size_Br_20100921183458748_66_S92225_I193211.nii': 6.341240749355558,\n",
       " '/csc/epitkane/data/ADNI/AD_DL_16_04_22/ADNI_057_S_4909_PT_AV45_Coreg,_Avg,_Standardized_Image_and_Voxel_Size_Br_20120920112635711_48_S167029_I335899.nii': 6.32931912553131,\n",
       " '/csc/epitkane/data/ADNI/AD_DL_16_04_22/ADNI_027_S_5277_PT_AV45_Coreg,_Avg,_Standardized_Image_and_Voxel_Size_Br_20150909091513786_50_S271650_I509947.nii': 6.633450003571995,\n",
       " '/csc/epitkane/data/ADNI/AD_DL_16_04_22/ADNI_012_S_4188_PT_AV45_Coreg,_Avg,_Standardized_Image_and_Voxel_Size_Br_20190906105725956_2_S870608_I1223794.nii': 5.995705541365236,\n",
       " '/csc/epitkane/data/ADNI/AD_DL_16_04_22/ADNI_007_S_0344_PT_PIB_Coreg,_Avg,_Standardized_Image_and_Voxel_Size_Br_20090706085056926_1_S68471_I147816.nii': 6.227721737567575,\n",
       " '/csc/epitkane/data/ADNI/AD_DL_16_04_22/ADNI_009_S_5125_PT_AV45_Coreg,_Avg,_Standardized_Image_and_Voxel_Size_Br_20130425172158285_36_S187667_I368821.nii': 6.9631342126309566,\n",
       " '/csc/epitkane/data/ADNI/AD_DL_16_04_22/ADNI_002_S_4237_PT_AV45_Coreg,_Avg,_Standardized_Image_and_Voxel_Size_Br_20131121084539477_90_S204869_I398954.nii': 7.65491704784832,\n",
       " '/csc/epitkane/data/ADNI/AD_DL_16_04_22/ADNI_037_S_4410_PT_AV45_Coreg,_Avg,_Standardized_Image_and_Voxel_Size_Br_20140218090022647_92_S210244_I414538.nii': 7.326465613840322,\n",
       " '/csc/epitkane/data/ADNI/AD_DL_16_04_22/ADNI_135_S_5113_PT_AV45_Coreg,_Avg,_Standardized_Image_and_Voxel_Size_Br_20130503092650625_89_S187270_I369988.nii': 7.169876866489757,\n",
       " '/csc/epitkane/data/ADNI/AD_DL_16_04_22/ADNI_002_S_4262_PT_AV45_Coreg,_Avg,_Standardized_Image_and_Voxel_Size_Br_20131121084807763_66_S206115_I398962.nii': 6.743352222690527,\n",
       " '/csc/epitkane/data/ADNI/AD_DL_16_04_22/ADNI_100_S_6308_PT_FBB_Coreg,_Avg,_Standardized_Image_and_Voxel_Size_Br_20180510092430882_96_S683683_I995813.nii': 7.545389749611823,\n",
       " '/csc/epitkane/data/ADNI/AD_DL_16_04_22/ADNI_116_S_4898_PT_AV45_Coreg,_Avg,_Standardized_Image_and_Voxel_Size_Br_20120928180119165_46_S168208_I337251.nii': 6.453358795303845,\n",
       " '/csc/epitkane/data/ADNI/AD_DL_16_04_22/ADNI_137_S_4631_PT_AV45_Coreg,_Avg,_Standardized_Image_and_Voxel_Size_Br_20140708091458893_87_S221873_I434737.nii': 6.417385663783529,\n",
       " '/csc/epitkane/data/ADNI/AD_DL_16_04_22/ADNI_305_S_6188_PT_AV45_Coreg,_Avg,_Standardized_Image_and_Voxel_Size_Br_20180412132622452_12_S673457_I984823.nii': 7.210079628170788,\n",
       " '/csc/epitkane/data/ADNI/AD_DL_16_04_22/ADNI_027_S_6648_PT_FBB_Coreg,_Avg,_Standardized_Image_and_Voxel_Size_Br_20190213105959974_11_S793541_I1130053.nii': 5.945682354452854,\n",
       " '/csc/epitkane/data/ADNI/AD_DL_16_04_22/ADNI_130_S_4405_PT_AV45_Coreg,_Avg,_Standardized_Image_and_Voxel_Size_Br_20120306083753730_15_S141157_I288221.nii': 6.258727978508186,\n",
       " '/csc/epitkane/data/ADNI/AD_DL_16_04_22/ADNI_067_S_6443_PT_FBB_Coreg,_Avg,_Standardized_Image_and_Voxel_Size_Br_20180910074958521_55_S723714_I1046457.nii': 7.047517221357296,\n",
       " '/csc/epitkane/data/ADNI/AD_DL_16_04_22/ADNI_130_S_4589_PT_AV45_Coreg,_Avg,_Standardized_Image_and_Voxel_Size_Br_20120419133624063_30_S147097_I298503.nii': 6.744739783599281,\n",
       " '/csc/epitkane/data/ADNI/AD_DL_16_04_22/ADNI_153_S_6274_PT_AV45_Coreg,_Avg,_Standardized_Image_and_Voxel_Size_Br_20180416091422363_22_S676283_I985471.nii': 7.613818684808629,\n",
       " '/csc/epitkane/data/ADNI/AD_DL_16_04_22/ADNI_041_S_1423_PT_PIB_Coreg,_Avg,_Standardized_Image_and_Voxel_Size_Br_20070924175419740_1_S39557_I74961.nii': 6.329720905522696,\n",
       " '/csc/epitkane/data/ADNI/AD_DL_16_04_22/ADNI_005_S_5119_PT_AV45_Coreg,_Avg,_Standardized_Image_and_Voxel_Size_Br_20130429153738143_46_S188101_I369199.nii': 6.49664837818128,\n",
       " '/csc/epitkane/data/ADNI/AD_DL_16_04_22/ADNI_129_S_2347_PT_AV45_Coreg,_Avg,_Standardized_Image_and_Voxel_Size_Br_20110517150640292_58_S108771_I235432.nii': 6.917705609835305,\n",
       " '/csc/epitkane/data/ADNI/AD_DL_16_04_22/ADNI_057_S_2398_PT_AV45_Coreg,_Avg,_Standardized_Image_and_Voxel_Size_Br_20110729170906667_33_S116729_I247752.nii': 6.309372674866615,\n",
       " '/csc/epitkane/data/ADNI/AD_DL_16_04_22/ADNI_073_S_4762_PT_AV45_Coreg,_Avg,_Standardized_Image_and_Voxel_Size_Br_20120803192115179_90_S159437_I321659.nii': 7.079065789977765,\n",
       " '/csc/epitkane/data/ADNI/AD_DL_16_04_22/ADNI_035_S_4114_PT_AV45_Coreg,_Avg,_Standardized_Image_and_Voxel_Size_Br_20110916121322762_92_S118069_I256385.nii': 6.431345570161379,\n",
       " '/csc/epitkane/data/ADNI/AD_DL_16_04_22/ADNI_128_S_2045_PT_AV45_Coreg,_Avg,_Standardized_Image_and_Voxel_Size_Br_20121106142441713_63_S173293_I344107.nii': 6.566531772935438,\n",
       " '/csc/epitkane/data/ADNI/AD_DL_16_04_22/ADNI_130_S_4641_PT_AV45_Coreg,_Avg,_Standardized_Image_and_Voxel_Size_Br_20140501084210165_35_S216810_I423169.nii': 6.133831788394904,\n",
       " '/csc/epitkane/data/ADNI/AD_DL_16_04_22/ADNI_007_S_2058_PT_AV45_Coreg,_Avg,_Standardized_Image_and_Voxel_Size_Br_20100928143038715_84_S92380_I193849.nii': 7.347299700743164,\n",
       " '/csc/epitkane/data/ADNI/AD_DL_16_04_22/ADNI_005_S_1224_PT_PIB_Coreg,_Avg,_Standardized_Image_and_Voxel_Size_Br_20080429090924144_1_S49291_I104140.nii': 6.03667688992953,\n",
       " '/csc/epitkane/data/ADNI/AD_DL_16_04_22/ADNI_130_S_6823_PT_FBB_Coreg,_Avg,_Standardized_Image_and_Voxel_Size_Br_20200122080540219_27_S912913_I1278123.nii': 6.715262166866686,\n",
       " '/csc/epitkane/data/ADNI/AD_DL_16_04_22/ADNI_127_S_6168_PT_FBB_Coreg,_Avg,_Standardized_Image_and_Voxel_Size_Br_20180223092952173_35_S661085_I966863.nii': 7.1316985104669115,\n",
       " '/csc/epitkane/data/ADNI/AD_DL_16_04_22/ADNI_130_S_2391_PT_AV45_Coreg,_Avg,_Standardized_Image_and_Voxel_Size_Br_20110711180012402_18_S112531_I244048.nii': 6.022720936758536,\n",
       " '/csc/epitkane/data/ADNI/AD_DL_16_04_22/ADNI_141_S_4426_PT_AV45_Coreg,_Avg,_Standardized_Image_and_Voxel_Size_Br_20120220172246083_16_S140717_I285759.nii': 6.9631342126309566,\n",
       " '/csc/epitkane/data/ADNI/AD_DL_16_04_22/ADNI_022_S_4266_PT_AV45_Coreg,_Avg,_Standardized_Image_and_Voxel_Size_Br_20140207090715369_64_S209118_I412866.nii': 6.820562067279759,\n",
       " '/csc/epitkane/data/ADNI/AD_DL_16_04_22/ADNI_137_S_4211_PT_AV45_Coreg,_Avg,_Standardized_Image_and_Voxel_Size_Br_20131018082435386_84_S203686_I394997.nii': 6.1435416499883315,\n",
       " '/csc/epitkane/data/ADNI/AD_DL_16_04_22/ADNI_037_S_4015_PT_AV45_Coreg,_Avg,_Standardized_Image_and_Voxel_Size_Br_20150501103052971_25_S255390_I488931.nii': 5.763936397475948,\n",
       " '/csc/epitkane/data/ADNI/AD_DL_16_04_22/ADNI_021_S_2100_PT_AV45_Coreg,_Avg,_Standardized_Image_and_Voxel_Size_Br_20101028134135058_55_S93315_I200192.nii': 6.512784907966614,\n",
       " '/csc/epitkane/data/ADNI/AD_DL_16_04_22/ADNI_114_S_2392_PT_AV45_Coreg,_Avg,_Standardized_Image_and_Voxel_Size_Br_20130814111912003_36_S197425_I385444.nii': 6.52458967836874,\n",
       " '/csc/epitkane/data/ADNI/AD_DL_16_04_22/ADNI_027_S_1045_PT_AV45_Coreg,_Avg,_Standardized_Image_and_Voxel_Size_Br_20110131110810184_60_S97173_I215060.nii': 7.656337166430183,\n",
       " '/csc/epitkane/data/ADNI/AD_DL_16_04_22/ADNI_012_S_4545_PT_AV45_Coreg,_Avg,_Standardized_Image_and_Voxel_Size_Br_20160407083404177_96_S396464_I673829.nii': 7.150701457592526,\n",
       " '/csc/epitkane/data/ADNI/AD_DL_16_04_22/ADNI_022_S_0096_PT_AV45_Coreg,_Avg,_Standardized_Image_and_Voxel_Size_Br_20110210141516142_58_S99258_I216742.nii': 6.5782785168733104,\n",
       " '/csc/epitkane/data/ADNI/AD_DL_16_04_22/ADNI_114_S_6462_PT_AV45_Coreg,_Avg,_Standardized_Image_and_Voxel_Size_Br_20181224085211671_28_S763151_I1097404.nii': 6.900126251817646,\n",
       " '/csc/epitkane/data/ADNI/AD_DL_16_04_22/ADNI_094_S_6417_PT_FBB_Coreg,_Avg,_Standardized_Image_and_Voxel_Size_Br_20180803081005832_25_S706634_I1030693.nii': 6.462717395754149,\n",
       " '/csc/epitkane/data/ADNI/AD_DL_16_04_22/ADNI_072_S_4391_PT_AV45_Coreg,_Avg,_Standardized_Image_and_Voxel_Size_Br_20120124113508249_5_S137744_I280222.nii': 7.044267994965208,\n",
       " '/csc/epitkane/data/ADNI/AD_DL_16_04_22/ADNI_027_S_5288_PT_AV45_Coreg,_Avg,_Standardized_Image_and_Voxel_Size_Br_20131021084259070_27_S202713_I395140.nii': 7.256843067699241,\n",
       " '/csc/epitkane/data/ADNI/AD_DL_16_04_22/ADNI_011_S_4105_PT_AV45_Coreg,_Avg,_Standardized_Image_and_Voxel_Size_Br_20150903085128703_38_S271166_I508687.nii': 7.034387929915503,\n",
       " '/csc/epitkane/data/ADNI/AD_DL_16_04_22/ADNI_123_S_6118_PT_FBB_Coreg,_Avg,_Standardized_Image_and_Voxel_Size_Br_20200414161203996_25_S922863_I1309082.nii': 7.5443321080536885,\n",
       " '/csc/epitkane/data/ADNI/AD_DL_16_04_22/ADNI_027_S_4955_PT_AV45_Coreg,_Avg,_Standardized_Image_and_Voxel_Size_Br_20121106135639520_3_S171341_I344096.nii': 6.186268233196032,\n",
       " '/csc/epitkane/data/ADNI/AD_DL_16_04_22/ADNI_098_S_2079_PT_AV45_Coreg,_Avg,_Standardized_Image_and_Voxel_Size_Br_20141013090803060_32_S232891_I448012.nii': 6.197258460087078,\n",
       " '/csc/epitkane/data/ADNI/AD_DL_16_04_22/ADNI_114_S_5047_PT_AV45_Coreg,_Avg,_Standardized_Image_and_Voxel_Size_Br_20150109102311268_55_S244122_I468024.nii': 6.759255270663693,\n",
       " '/csc/epitkane/data/ADNI/AD_DL_16_04_22/ADNI_067_S_2304_PT_AV45_Coreg,_Avg,_Standardized_Image_and_Voxel_Size_Br_20130311172803907_11_S183976_I362605.nii': 7.255591274253665,\n",
       " '/csc/epitkane/data/ADNI/AD_DL_16_04_22/ADNI_041_S_4143_PT_AV45_Coreg,_Avg,_Standardized_Image_and_Voxel_Size_Br_20131002083023261_48_S201889_I393011.nii': 7.687080155783135,\n",
       " '/csc/epitkane/data/ADNI/AD_DL_16_04_22/ADNI_130_S_4250_PT_AV45_Coreg,_Avg,_Standardized_Image_and_Voxel_Size_Br_20131122083355175_23_S204827_I399249.nii': 6.370927852677146,\n",
       " '/csc/epitkane/data/ADNI/AD_DL_16_04_22/ADNI_021_S_5194_PT_AV45_Coreg,_Avg,_Standardized_Image_and_Voxel_Size_Br_20130630121239472_14_S192064_I378781.nii': 7.19408773621922,\n",
       " '/csc/epitkane/data/ADNI/AD_DL_16_04_22/ADNI_073_S_2264_PT_AV45_Coreg,_Avg,_Standardized_Image_and_Voxel_Size_Br_20130521143649259_72_S186892_I373376.nii': 6.752620782032146,\n",
       " '/csc/epitkane/data/ADNI/AD_DL_16_04_22/ADNI_007_S_6310_PT_FBB_Coreg,_Avg,_Standardized_Image_and_Voxel_Size_Br_20180606092328459_19_S686438_I1005965.nii': 7.745002803515839,\n",
       " '/csc/epitkane/data/ADNI/AD_DL_16_04_22/ADNI_014_S_4401_PT_AV45_Coreg,_Avg,_Standardized_Image_and_Voxel_Size_Br_20120106140039295_3_S135456_I275673.nii': 7.065299542549019,\n",
       " '/csc/epitkane/data/ADNI/AD_DL_16_04_22/ADNI_013_S_4595_PT_AV45_Coreg,_Avg,_Standardized_Image_and_Voxel_Size_Br_20140516082854457_59_S218092_I424898.nii': 6.660831199002524,\n",
       " '/csc/epitkane/data/ADNI/AD_DL_16_04_22/ADNI_068_S_4134_PT_AV45_Coreg,_Avg,_Standardized_Image_and_Voxel_Size_Br_20110909194534688_12_S120180_I255367.nii': 6.4642736021903815,\n",
       " '/csc/epitkane/data/ADNI/AD_DL_16_04_22/ADNI_012_S_6073_PT_AV45_Coreg,_Avg,_Standardized_Image_and_Voxel_Size_Br_20171031094021513_1_S619459_I925008.nii': 5.765191102784844,\n",
       " '/csc/epitkane/data/ADNI/AD_DL_16_04_22/ADNI_109_S_4455_PT_AV45_Coreg,_Avg,_Standardized_Image_and_Voxel_Size_Br_20120301162146008_4_S141825_I287388.nii': 7.240275836323785,\n",
       " '/csc/epitkane/data/ADNI/AD_DL_16_04_22/ADNI_129_S_2332_PT_AV45_Coreg,_Avg,_Standardized_Image_and_Voxel_Size_Br_20110331164310700_41_S102515_I225630.nii': 7.4770384723196965,\n",
       " '/csc/epitkane/data/ADNI/AD_DL_16_04_22/ADNI_003_S_6264_PT_AV45_Coreg,_Avg,_Standardized_Image_and_Voxel_Size_Br_20180927064535376_27_S729917_I1052641.nii': 5.840641657373398,\n",
       " '/csc/epitkane/data/ADNI/AD_DL_16_04_22/ADNI_019_S_6533_PT_FBB_Coreg,_Avg,_Standardized_Image_and_Voxel_Size_Br_20180904071210888_10_S723433_I1044842.nii': 7.390798521735676,\n",
       " '/csc/epitkane/data/ADNI/AD_DL_16_04_22/ADNI_012_S_4128_PT_AV45_Coreg,_Avg,_Standardized_Image_and_Voxel_Size_Br_20110912153701191_49_S120383_I255521.nii': 6.60052759466379,\n",
       " '/csc/epitkane/data/ADNI/AD_DL_16_04_22/ADNI_007_S_5265_PT_AV45_Coreg,_Avg,_Standardized_Image_and_Voxel_Size_Br_20150903084932185_79_S270144_I508683.nii': 5.931714542702208,\n",
       " '/csc/epitkane/data/ADNI/AD_DL_16_04_22/ADNI_067_S_4782_PT_AV45_Coreg,_Avg,_Standardized_Image_and_Voxel_Size_Br_20140727192400010_22_S225761_I437148.nii': 5.5506312951620265,\n",
       " '/csc/epitkane/data/ADNI/AD_DL_16_04_22/ADNI_002_S_4229_PT_AV45_Coreg,_Avg,_Standardized_Image_and_Voxel_Size_Br_20111107164710857_94_S127836_I265027.nii': 6.908111802517708,\n",
       " '/csc/epitkane/data/ADNI/AD_DL_16_04_22/ADNI_127_S_5266_PT_AV45_Coreg,_Avg,_Standardized_Image_and_Voxel_Size_Br_20150808131356606_9_S268248_I504674.nii': 7.837948916025283,\n",
       " '/csc/epitkane/data/ADNI/AD_DL_16_04_22/ADNI_053_S_5202_PT_AV45_Coreg,_Avg,_Standardized_Image_and_Voxel_Size_Br_20130628084519543_13_S192878_I378526.nii': 6.32931912553131,\n",
       " '/csc/epitkane/data/ADNI/AD_DL_16_04_22/ADNI_041_S_5253_PT_AV45_Coreg,_Avg,_Standardized_Image_and_Voxel_Size_Br_20150805090232153_87_S266854_I503861.nii': 7.322510433997394,\n",
       " '/csc/epitkane/data/ADNI/AD_DL_16_04_22/ADNI_006_S_6682_PT_FBB_Coreg,_Avg,_Standardized_Image_and_Voxel_Size_Br_20190401075744700_95_S810362_I1148978.nii': 6.62087288670092,\n",
       " '/csc/epitkane/data/ADNI/AD_DL_16_04_22/ADNI_100_S_6164_PT_FBB_Coreg,_Avg,_Standardized_Image_and_Voxel_Size_Br_20200214081749280_23_S922749_I1290860.nii': 6.97166860472579,\n",
       " '/csc/epitkane/data/ADNI/AD_DL_16_04_22/ADNI_127_S_4148_PT_AV45_Coreg,_Avg,_Standardized_Image_and_Voxel_Size_Br_20190711104654280_4_S839857_I1185733.nii': 7.014814351275545,\n",
       " '/csc/epitkane/data/ADNI/AD_DL_16_04_22/ADNI_129_S_1246_PT_AV45_Coreg,_Avg,_Standardized_Image_and_Voxel_Size_Br_20130302145515010_76_S182958_I361850.nii': 6.700608100752526,\n",
       " '/csc/epitkane/data/ADNI/AD_DL_16_04_22/ADNI_127_S_5228_PT_AV45_Coreg,_Avg,_Standardized_Image_and_Voxel_Size_Br_20191003082747343_7_S877557_I1235999.nii': 7.093404625868766,\n",
       " '/csc/epitkane/data/ADNI/AD_DL_16_04_22/ADNI_006_S_4363_PT_AV45_Coreg,_Avg,_Standardized_Image_and_Voxel_Size_Br_20111221164358717_49_S133524_I273889.nii': 6.397870701733002,\n",
       " '/csc/epitkane/data/ADNI/AD_DL_16_04_22/ADNI_027_S_4919_PT_AV45_Coreg,_Avg,_Standardized_Image_and_Voxel_Size_Br_20140925130511755_44_S231073_I445039.nii': 6.80550104494338,\n",
       " '/csc/epitkane/data/ADNI/AD_DL_16_04_22/ADNI_009_S_4388_PT_AV45_Coreg,_Avg,_Standardized_Image_and_Voxel_Size_Br_20120117133912320_68_S136391_I278410.nii': 6.630478027412372,\n",
       " '/csc/epitkane/data/ADNI/AD_DL_16_04_22/ADNI_019_S_4293_PT_AV45_Coreg,_Avg,_Standardized_Image_and_Voxel_Size_Br_20111111141815565_91_S128081_I266076.nii': 7.5378897490437735,\n",
       " '/csc/epitkane/data/ADNI/AD_DL_16_04_22/ADNI_098_S_2047_PT_AV45_Coreg,_Avg,_Standardized_Image_and_Voxel_Size_Br_20100916181030736_60_S92159_I192966.nii': 6.5641375742000525,\n",
       " '/csc/epitkane/data/ADNI/AD_DL_16_04_22/ADNI_099_S_4205_PT_AV45_Coreg,_Avg,_Standardized_Image_and_Voxel_Size_Br_20111209130816756_30_S132036_I270730.nii': 6.538947068282317,\n",
       " '/csc/epitkane/data/ADNI/AD_DL_16_04_22/ADNI_057_S_5199_PT_AV45_Coreg,_Avg,_Standardized_Image_and_Voxel_Size_Br_20150621172827533_67_S263199_I498261.nii': 6.171074096398463,\n",
       " '/csc/epitkane/data/ADNI/AD_DL_16_04_22/ADNI_033_S_5259_PT_AV45_Coreg,_Avg,_Standardized_Image_and_Voxel_Size_Br_20130910092748307_87_S199492_I389072.nii': 7.08587314935487,\n",
       " '/csc/epitkane/data/ADNI/AD_DL_16_04_22/ADNI_021_S_4718_PT_AV45_Coreg,_Avg,_Standardized_Image_and_Voxel_Size_Br_20120615164232137_1_S151581_I310737.nii': 6.011538629570783,\n",
       " '/csc/epitkane/data/ADNI/AD_DL_16_04_22/ADNI_031_S_4032_PT_AV45_Coreg,_Avg,_Standardized_Image_and_Voxel_Size_Br_20110615152204872_87_S111105_I240255.nii': 7.051329768595267,\n",
       " '/csc/epitkane/data/ADNI/AD_DL_16_04_22/ADNI_016_S_4121_PT_AV45_Coreg,_Avg,_Standardized_Image_and_Voxel_Size_Br_20110817161116710_65_S118939_I251230.nii': 6.726305539779933,\n",
       " '/csc/epitkane/data/ADNI/AD_DL_16_04_22/ADNI_135_S_4406_PT_AV45_Coreg,_Avg,_Standardized_Image_and_Voxel_Size_Br_20111221165135589_90_S134009_I273913.nii': 6.397870701733002,\n",
       " '/csc/epitkane/data/ADNI/AD_DL_16_04_22/ADNI_051_S_5285_PT_AV45_Coreg,_Avg,_Standardized_Image_and_Voxel_Size_Br_20131210134153402_29_S207326_I401105.nii': 6.8836979517647565,\n",
       " '/csc/epitkane/data/ADNI/AD_DL_16_04_22/ADNI_127_S_0754_PT_PIB_Coreg,_Avg,_Standardized_Image_and_Voxel_Size_Br_20081030153202247_1_S58053_I124604.nii': 5.840641657373398,\n",
       " '/csc/epitkane/data/ADNI/AD_DL_16_04_22/ADNI_137_S_4299_PT_AV45_Coreg,_Avg,_Standardized_Image_and_Voxel_Size_Br_20120123170422725_11_S137743_I280207.nii': 7.112602609725235,\n",
       " '/csc/epitkane/data/ADNI/AD_DL_16_04_22/ADNI_023_S_4796_PT_AV45_Coreg,_Avg,_Standardized_Image_and_Voxel_Size_Br_20121006122250825_42_S169513_I338566.nii': 6.282475886685669,\n",
       " '/csc/epitkane/data/ADNI/AD_DL_16_04_22/ADNI_116_S_4199_PT_AV45_Coreg,_Avg,_Standardized_Image_and_Voxel_Size_Br_20131029082406227_72_S203812_I396265.nii': 7.351799869057777,\n",
       " '/csc/epitkane/data/ADNI/AD_DL_16_04_22/ADNI_100_S_6493_PT_FBB_Coreg,_Avg,_Standardized_Image_and_Voxel_Size_Br_20181010073509430_57_S734516_I1057974.nii': 6.555783543313972,\n",
       " '/csc/epitkane/data/ADNI/AD_DL_16_04_22/ADNI_018_S_2180_PT_AV45_Coreg,_Avg,_Standardized_Image_and_Voxel_Size_Br_20130121144756779_68_S180460_I355586.nii': 7.696212639346407,\n",
       " '/csc/epitkane/data/ADNI/AD_DL_16_04_22/ADNI_100_S_5091_PT_AV45_Coreg,_Avg,_Standardized_Image_and_Voxel_Size_Br_20150616100657562_17_S261313_I497671.nii': 7.520234556474628,\n",
       " '/csc/epitkane/data/ADNI/AD_DL_16_04_22/ADNI_033_S_4505_PT_AV45_Coreg,_Avg,_Standardized_Image_and_Voxel_Size_Br_20120221170847147_8_S141249_I285975.nii': 7.211754121895947,\n",
       " '/csc/epitkane/data/ADNI/AD_DL_16_04_22/ADNI_011_S_4075_PT_AV45_Coreg,_Avg,_Standardized_Image_and_Voxel_Size_Br_20110624184615640_68_S112184_I241702.nii': 7.051329768595267,\n",
       " '/csc/epitkane/data/ADNI/AD_DL_16_04_22/ADNI_130_S_4417_PT_AV45_Coreg,_Avg,_Standardized_Image_and_Voxel_Size_Br_20160608115659035_67_S376847_I728310.nii': 6.671906355170373,\n",
       " '/csc/epitkane/data/ADNI/AD_DL_16_04_22/ADNI_002_S_2010_PT_AV45_Coreg,_Avg,_Standardized_Image_and_Voxel_Size_Br_20120725083938165_32_S157128_I318310.nii': 7.7475968386928855,\n",
       " '/csc/epitkane/data/ADNI/AD_DL_16_04_22/ADNI_127_S_2234_PT_AV45_Coreg,_Avg,_Standardized_Image_and_Voxel_Size_Br_20121210123241535_69_S176123_I350224.nii': 7.526717561352706,\n",
       " '/csc/epitkane/data/ADNI/AD_DL_16_04_22/ADNI_068_S_2316_PT_AV45_Coreg,_Avg,_Standardized_Image_and_Voxel_Size_Br_20110421155720190_40_S104558_I228549.nii': 6.379444340875127,\n",
       " '/csc/epitkane/data/ADNI/AD_DL_16_04_22/ADNI_067_S_2301_PT_AV45_Coreg,_Avg,_Standardized_Image_and_Voxel_Size_Br_20130311172505680_93_S183977_I362601.nii': 7.578145472419466,\n",
       " '/csc/epitkane/data/ADNI/AD_DL_16_04_22/ADNI_098_S_4018_PT_AV45_Coreg,_Avg,_Standardized_Image_and_Voxel_Size_Br_20150805090830142_82_S267211_I503885.nii': 7.406103381237015,\n",
       " '/csc/epitkane/data/ADNI/AD_DL_16_04_22/ADNI_016_S_4951_PT_AV45_Coreg,_Avg,_Standardized_Image_and_Voxel_Size_Br_20121126141302262_59_S175052_I347799.nii': 7.015502977419484,\n",
       " '/csc/epitkane/data/ADNI/AD_DL_16_04_22/ADNI_037_S_4706_PT_AV45_Coreg,_Avg,_Standardized_Image_and_Voxel_Size_Br_20200103094345126_7_S905475_I1271648.nii': 7.115582126184454,\n",
       " '/csc/epitkane/data/ADNI/AD_DL_16_04_22/ADNI_041_S_4629_PT_AV45_Coreg,_Avg,_Standardized_Image_and_Voxel_Size_Br_20120511093526619_83_S148167_I303015.nii': 7.132130742952916,\n",
       " '/csc/epitkane/data/ADNI/AD_DL_16_04_22/ADNI_018_S_2155_PT_AV45_Coreg,_Avg,_Standardized_Image_and_Voxel_Size_Br_20110325100336434_63_S102185_I224843.nii': 6.290828124333601,\n",
       " '/csc/epitkane/data/ADNI/AD_DL_16_04_22/ADNI_007_S_4637_PT_AV45_Coreg,_Avg,_Standardized_Image_and_Voxel_Size_Br_20120427091141821_59_S148267_I300772.nii': 6.024205188481965,\n",
       " '/csc/epitkane/data/ADNI/AD_DL_16_04_22/ADNI_024_S_4392_PT_AV45_Coreg,_Avg,_Standardized_Image_and_Voxel_Size_Br_20140114082510426_46_S209995_I404645.nii': 7.002155954403621,\n",
       " '/csc/epitkane/data/ADNI/AD_DL_16_04_22/ADNI_127_S_4500_PT_AV45_Coreg,_Avg,_Standardized_Image_and_Voxel_Size_Br_20140301104457717_3_S211898_I415684.nii': 6.109025335847127,\n",
       " '/csc/epitkane/data/ADNI/AD_DL_16_04_22/ADNI_036_S_5210_PT_AV45_Coreg,_Avg,_Standardized_Image_and_Voxel_Size_Br_20130628083917974_49_S192876_I378514.nii': 6.363857937188993,\n",
       " '/csc/epitkane/data/ADNI/AD_DL_16_04_22/ADNI_014_S_6437_PT_FBB_Coreg,_Avg,_Standardized_Image_and_Voxel_Size_Br_20180928074537240_37_S730240_I1053302.nii': 7.315218389752975,\n",
       " '/csc/epitkane/data/ADNI/AD_DL_16_04_22/ADNI_082_S_2121_PT_AV45_Coreg,_Avg,_Standardized_Image_and_Voxel_Size_Br_20101103171715600_93_S93357_I202025.nii': 6.923628628138427,\n",
       " '/csc/epitkane/data/ADNI/AD_DL_16_04_22/ADNI_135_S_4281_PT_AV45_Coreg,_Avg,_Standardized_Image_and_Voxel_Size_Br_20131115084351247_39_S205477_I398489.nii': 7.791522819150732,\n",
       " '/csc/epitkane/data/ADNI/AD_DL_16_04_22/ADNI_041_S_1418_PT_AV45_Coreg,_Avg,_Standardized_Image_and_Voxel_Size_Br_20150903085610623_5_S271263_I508695.nii': 7.167809184316444,\n",
       " '/csc/epitkane/data/ADNI/AD_DL_16_04_22/ADNI_137_S_4536_PT_AV45_Coreg,_Avg,_Standardized_Image_and_Voxel_Size_Br_20160502101638217_70_S424434_I698137.nii': 7.455876687491824,\n",
       " '/csc/epitkane/data/ADNI/AD_DL_16_04_22/ADNI_016_S_4353_PT_AV45_Coreg,_Avg,_Standardized_Image_and_Voxel_Size_Br_20120209134738810_60_S140125_I283645.nii': 6.087197649308485,\n",
       " '/csc/epitkane/data/ADNI/AD_DL_16_04_22/ADNI_032_S_0978_PT_PIB_Coreg,_Avg,_Standardized_Image_and_Voxel_Size_Br_20071220173231475_1_S44116_I85792.nii': 6.482648530618684,\n",
       " '/csc/epitkane/data/ADNI/AD_DL_16_04_22/ADNI_073_S_4739_PT_AV45_Coreg,_Avg,_Standardized_Image_and_Voxel_Size_Br_20140721170717593_52_S225301_I436109.nii': 7.166265974133638,\n",
       " '/csc/epitkane/data/ADNI/AD_DL_16_04_22/ADNI_012_S_4643_PT_AV45_Coreg,_Avg,_Standardized_Image_and_Voxel_Size_Br_20140617085121880_31_S218062_I431022.nii': 7.3777589082278725,\n",
       " '/csc/epitkane/data/ADNI/AD_DL_16_04_22/ADNI_099_S_4202_PT_AV45_Coreg,_Avg,_Standardized_Image_and_Voxel_Size_Br_20111121125632750_60_S129637_I267793.nii': 6.2106154677523255,\n",
       " '/csc/epitkane/data/ADNI/AD_DL_16_04_22/ADNI_094_S_1398_PT_PIB_Coreg,_Avg,_Standardized_Image_and_Voxel_Size_Br_20080721180210419_1_S52516_I113709.nii': 6.5489351786970165,\n",
       " '/csc/epitkane/data/ADNI/AD_DL_16_04_22/ADNI_035_S_2061_PT_AV45_Coreg,_Avg,_Standardized_Image_and_Voxel_Size_Br_20121204143609724_7_S174321_I349150.nii': 8.021256180143997,\n",
       " '/csc/epitkane/data/ADNI/AD_DL_16_04_22/ADNI_127_S_0260_PT_AV45_Coreg,_Avg,_Standardized_Image_and_Voxel_Size_Br_20150501103208031_86_S256867_I488935.nii': 7.20414929203594,\n",
       " '/csc/epitkane/data/ADNI/AD_DL_16_04_22/ADNI_023_S_0061_PT_AV45_Coreg,_Avg,_Standardized_Image_and_Voxel_Size_Br_20150227095431495_13_S249496_I474965.nii': 6.7301824292103865,\n",
       " '/csc/epitkane/data/ADNI/AD_DL_16_04_22/ADNI_130_S_4417_PT_AV45_Coreg,_Avg,_Standardized_Image_and_Voxel_Size_Br_20140321084456929_69_S212210_I417534.nii': 6.531023389696845,\n",
       " '/csc/epitkane/data/ADNI/AD_DL_16_04_22/ADNI_099_S_2146_PT_AV45_Coreg,_Avg,_Standardized_Image_and_Voxel_Size_Br_20121204145854875_16_S175755_I349182.nii': 7.682021510826875,\n",
       " '/csc/epitkane/data/ADNI/AD_DL_16_04_22/ADNI_037_S_6222_PT_FBB_Coreg,_Avg,_Standardized_Image_and_Voxel_Size_Br_20180807073738543_77_S708464_I1031744.nii': 6.574517804870854,\n",
       " '/csc/epitkane/data/ADNI/AD_DL_16_04_22/ADNI_123_S_2055_PT_AV45_Coreg,_Avg,_Standardized_Image_and_Voxel_Size_Br_20121009131123296_31_S168123_I339000.nii': 6.306640183868685,\n",
       " '/csc/epitkane/data/ADNI/AD_DL_16_04_22/ADNI_005_S_4168_PT_AV45_Coreg,_Avg,_Standardized_Image_and_Voxel_Size_Br_20131014072130213_76_S203089_I394275.nii': 6.646000828540272,\n",
       " '/csc/epitkane/data/ADNI/AD_DL_16_04_22/ADNI_127_S_4500_PT_AV45_Coreg,_Avg,_Standardized_Image_and_Voxel_Size_Br_20120312111152185_16_S143204_I289801.nii': 6.11219140577398,\n",
       " '/csc/epitkane/data/ADNI/AD_DL_16_04_22/ADNI_007_S_4611_PT_AV45_Coreg,_Avg,_Standardized_Image_and_Voxel_Size_Br_20140529082347801_74_S218987_I427799.nii': 6.238715173765425,\n",
       " '/csc/epitkane/data/ADNI/AD_DL_16_04_22/ADNI_035_S_4783_PT_AV45_Coreg,_Avg,_Standardized_Image_and_Voxel_Size_Br_20121009130546680_94_S167502_I338994.nii': 6.2467754342304405,\n",
       " '/csc/epitkane/data/ADNI/AD_DL_16_04_22/ADNI_052_S_5062_PT_AV45_Coreg,_Avg,_Standardized_Image_and_Voxel_Size_Br_20130417184724467_83_S185118_I367687.nii': 6.198465093683384,\n",
       " '/csc/epitkane/data/ADNI/AD_DL_16_04_22/ADNI_005_S_6393_PT_AV45_Coreg,_Avg,_Standardized_Image_and_Voxel_Size_Br_20180704134127166_10_S699659_I1017081.nii': 6.146115101976891,\n",
       " '/csc/epitkane/data/ADNI/AD_DL_16_04_22/ADNI_114_S_6057_PT_AV45_Coreg,_Avg,_Standardized_Image_and_Voxel_Size_Br_20180309104926396_45_S664021_I971646.nii': 6.917705609835305,\n",
       " '/csc/epitkane/data/ADNI/AD_DL_16_04_22/ADNI_018_S_4349_PT_AV45_Coreg,_Avg,_Standardized_Image_and_Voxel_Size_Br_20120813154636313_81_S160507_I323285.nii': 6.698199997249846,\n",
       " '/csc/epitkane/data/ADNI/AD_DL_16_04_22/ADNI_129_S_4396_PT_AV45_Coreg,_Avg,_Standardized_Image_and_Voxel_Size_Br_20111215145610472_62_S132833_I272176.nii': 6.762933544731261,\n",
       " '/csc/epitkane/data/ADNI/AD_DL_16_04_22/ADNI_067_S_4310_PT_AV45_Coreg,_Avg,_Standardized_Image_and_Voxel_Size_Br_20111118130658329_96_S129636_I267574.nii': 6.68870967079612,\n",
       " '/csc/epitkane/data/ADNI/AD_DL_16_04_22/ADNI_014_S_4263_PT_AV45_Coreg,_Avg,_Standardized_Image_and_Voxel_Size_Br_20131221151850245_1_S206388_I403540.nii': 6.418854212631938,\n",
       " '/csc/epitkane/data/ADNI/AD_DL_16_04_22/ADNI_036_S_4538_PT_AV45_Coreg,_Avg,_Standardized_Image_and_Voxel_Size_Br_20140611180837579_29_S221594_I430468.nii': 6.448731153779409,\n",
       " '/csc/epitkane/data/ADNI/AD_DL_16_04_22/ADNI_114_S_4404_PT_AV45_Coreg,_Avg,_Standardized_Image_and_Voxel_Size_Br_20140129092016154_91_S211029_I410151.nii': 6.567094281739469,\n",
       " '/csc/epitkane/data/ADNI/AD_DL_16_04_22/ADNI_003_S_5150_PT_AV45_Coreg,_Avg,_Standardized_Image_and_Voxel_Size_Br_20131231093310398_58_S209440_I403774.nii': 7.245843396780722,\n",
       " '/csc/epitkane/data/ADNI/AD_DL_16_04_22/ADNI_006_S_6291_PT_FBB_Coreg,_Avg,_Standardized_Image_and_Voxel_Size_Br_20180522090654589_42_S685660_I1000526.nii': 5.919699980878671,\n",
       " '/csc/epitkane/data/ADNI/AD_DL_16_04_22/ADNI_041_S_4037_PT_AV45_Coreg,_Avg,_Standardized_Image_and_Voxel_Size_Br_20150602102737080_30_S261514_I495336.nii': 7.495541943884256,\n",
       " '/csc/epitkane/data/ADNI/AD_DL_16_04_22/ADNI_037_S_1421_PT_PIB_Coreg,_Avg,_Standardized_Image_and_Voxel_Size_Br_20071017111932296_96_S41500_I78017.nii': 6.25613384525069,\n",
       " '/csc/epitkane/data/ADNI/AD_DL_16_04_22/ADNI_012_S_6837_PT_AV45_Coreg,_Avg,_Standardized_Image_and_Voxel_Size_Br_20200122080039682_78_S911318_I1278111.nii': 6.373490423482384,\n",
       " '/csc/epitkane/data/ADNI/AD_DL_16_04_22/ADNI_023_S_0042_PT_AV45_Coreg,_Avg,_Standardized_Image_and_Voxel_Size_Br_20130205120009678_90_S180812_I357834.nii': 7.037905963447182,\n",
       " '/csc/epitkane/data/ADNI/AD_DL_16_04_22/ADNI_006_S_4713_PT_AV45_Coreg,_Avg,_Standardized_Image_and_Voxel_Size_Br_20160619162404378_31_S455176_I740355.nii': 6.835292107248422,\n",
       " '/csc/epitkane/data/ADNI/AD_DL_16_04_22/ADNI_053_S_4661_PT_AV45_Coreg,_Avg,_Standardized_Image_and_Voxel_Size_Br_20140708090836155_88_S222536_I434725.nii': 6.310100079881413,\n",
       " '/csc/epitkane/data/ADNI/AD_DL_16_04_22/ADNI_129_S_4369_PT_AV45_Coreg,_Avg,_Standardized_Image_and_Voxel_Size_Br_20111213124658649_74_S132387_I271488.nii': 7.288769875258083,\n",
       " '/csc/epitkane/data/ADNI/AD_DL_16_04_22/ADNI_041_S_5026_PT_AV45_Coreg,_Avg,_Standardized_Image_and_Voxel_Size_Br_20130103141642666_46_S178721_I353198.nii': 5.98615892213013,\n",
       " '/csc/epitkane/data/ADNI/AD_DL_16_04_22/ADNI_019_S_6186_PT_FBB_Coreg,_Avg,_Standardized_Image_and_Voxel_Size_Br_20180308080514810_36_S663695_I971277.nii': 6.794810519966003,\n",
       " '/csc/epitkane/data/ADNI/AD_DL_16_04_22/ADNI_114_S_4379_PT_AV45_Coreg,_Avg,_Standardized_Image_and_Voxel_Size_Br_20120424161112597_2_S148195_I300317.nii': 7.388232336774622,\n",
       " '/csc/epitkane/data/ADNI/AD_DL_16_04_22/ADNI_068_S_2315_PT_AV45_Coreg,_Avg,_Standardized_Image_and_Voxel_Size_Br_20110421155334350_29_S104548_I228541.nii': 7.213031659834869,\n",
       " '/csc/epitkane/data/ADNI/AD_DL_16_04_22/ADNI_137_S_4351_PT_AV45_Coreg,_Avg,_Standardized_Image_and_Voxel_Size_Br_20120116122254190_2_S136015_I278292.nii': 6.49664837818128,\n",
       " '/csc/epitkane/data/ADNI/AD_DL_16_04_22/ADNI_010_S_6748_PT_FBB_Coreg,_Avg,_Standardized_Image_and_Voxel_Size_Br_20190826091956022_17_S863254_I1217072.nii': 7.669028288589683,\n",
       " '/csc/epitkane/data/ADNI/AD_DL_16_04_22/ADNI_123_S_4170_PT_AV45_Coreg,_Avg,_Standardized_Image_and_Voxel_Size_Br_20131030085047936_54_S203805_I396480.nii': 6.720581971457158,\n",
       " '/csc/epitkane/data/ADNI/AD_DL_16_04_22/ADNI_002_S_6009_PT_AV45_Coreg,_Avg,_Standardized_Image_and_Voxel_Size_Br_20170609093448684_68_S565099_I860656.nii': 6.458024754575957,\n",
       " '/csc/epitkane/data/ADNI/AD_DL_16_04_22/ADNI_009_S_2381_PT_AV45_Coreg,_Avg,_Standardized_Image_and_Voxel_Size_Br_20130615105705972_84_S192177_I376699.nii': 6.6452210000630085,\n",
       " '/csc/epitkane/data/ADNI/AD_DL_16_04_22/ADNI_003_S_6268_PT_AV45_Coreg,_Avg,_Standardized_Image_and_Voxel_Size_Br_20180824064215566_60_S713779_I1041208.nii': 6.102111067195046,\n",
       " '/csc/epitkane/data/ADNI/AD_DL_16_04_22/ADNI_002_S_4521_PT_AV45_Coreg,_Avg,_Standardized_Image_and_Voxel_Size_Br_20120312151540125_83_S143109_I289811.nii': 6.570017614974209,\n",
       " '/csc/epitkane/data/ADNI/AD_DL_16_04_22/ADNI_128_S_0227_PT_AV45_Coreg,_Avg,_Standardized_Image_and_Voxel_Size_Br_20110308171941035_1_S100694_I223040.nii': 5.777652323222656,\n",
       " '/csc/epitkane/data/ADNI/AD_DL_16_04_22/ADNI_002_S_6695_PT_AV45_Coreg,_Avg,_Standardized_Image_and_Voxel_Size_Br_20190515085546401_1_S823318_I1165381.nii': 6.576190978713507,\n",
       " '/csc/epitkane/data/ADNI/AD_DL_16_04_22/ADNI_005_S_4185_PT_AV45_Coreg,_Avg,_Standardized_Image_and_Voxel_Size_Br_20111027140225610_28_S125152_I262701.nii': 6.8587750299125645,\n",
       " '/csc/epitkane/data/ADNI/AD_DL_16_04_22/ADNI_005_S_2390_PT_AV45_Coreg,_Avg,_Standardized_Image_and_Voxel_Size_Br_20110718174307577_27_S114869_I245405.nii': 6.793578233919738,\n",
       " '/csc/epitkane/data/ADNI/AD_DL_16_04_22/ADNI_137_S_0722_PT_PIB_Coreg,_Avg,_Standardized_Image_and_Voxel_Size_Br_20071016173747872_96_S41414_I77970.nii': 7.619233416226805,\n",
       " '/csc/epitkane/data/ADNI/AD_DL_16_04_22/ADNI_018_S_6207_PT_AV45_Coreg,_Avg,_Standardized_Image_and_Voxel_Size_Br_20180301105530832_86_S661217_I968918.nii': 7.317876198626496,\n",
       " '/csc/epitkane/data/ADNI/AD_DL_16_04_22/ADNI_130_S_4468_PT_AV45_Coreg,_Avg,_Standardized_Image_and_Voxel_Size_Br_20120229164724361_13_S141043_I287197.nii': 7.469362120177067,\n",
       " '/csc/epitkane/data/ADNI/AD_DL_16_04_22/ADNI_011_S_2274_PT_AV45_Coreg,_Avg,_Standardized_Image_and_Voxel_Size_Br_20150504123627045_19_S256968_I489190.nii': 6.5384292174898455,\n",
       " '/csc/epitkane/data/ADNI/AD_DL_16_04_22/ADNI_027_S_4936_PT_AV45_Coreg,_Avg,_Standardized_Image_and_Voxel_Size_Br_20121108105516220_43_S170452_I345470.nii': 6.270628437288027,\n",
       " '/csc/epitkane/data/ADNI/AD_DL_16_04_22/ADNI_032_S_5289_PT_AV45_Coreg,_Avg,_Standardized_Image_and_Voxel_Size_Br_20151124101116292_18_S310984_I561121.nii': 7.2875606403097235,\n",
       " '/csc/epitkane/data/ADNI/AD_DL_16_04_22/ADNI_031_S_4032_PT_AV45_Coreg,_Avg,_Standardized_Image_and_Voxel_Size_Br_20130524153846216_62_S189305_I373858.nii': 7.095893221097532,\n",
       " '/csc/epitkane/data/ADNI/AD_DL_16_04_22/ADNI_037_S_6204_PT_FBB_Coreg,_Avg,_Standardized_Image_and_Voxel_Size_Br_20180508093218740_17_S681199_I994464.nii': 7.410347097821024,\n",
       " '/csc/epitkane/data/ADNI/AD_DL_16_04_22/ADNI_052_S_4807_PT_AV45_Coreg,_Avg,_Standardized_Image_and_Voxel_Size_Br_20120907154337966_2_S160470_I332301.nii': 6.420247654181435,\n",
       " '/csc/epitkane/data/ADNI/AD_DL_16_04_22/ADNI_023_S_4122_PT_AV45_Coreg,_Avg,_Standardized_Image_and_Voxel_Size_Br_20111028153359214_7_S126449_I263196.nii': 6.409089254862827,\n",
       " '/csc/epitkane/data/ADNI/AD_DL_16_04_22/ADNI_127_S_1419_PT_PIB_Coreg,_Avg,_Standardized_Image_and_Voxel_Size_Br_20080911121952046_1_S56280_I117811.nii': 5.992713766508414,\n",
       " '/csc/epitkane/data/ADNI/AD_DL_16_04_22/ADNI_024_S_1063_PT_PIB_Coreg,_Avg,_Standardized_Image_and_Voxel_Size_Br_20081118123201684_1_S59440_I127195.nii': 6.403739747144695,\n",
       " '/csc/epitkane/data/ADNI/AD_DL_16_04_22/ADNI_129_S_4369_PT_AV45_Coreg,_Avg,_Standardized_Image_and_Voxel_Size_Br_20190611095707210_6_S830818_I1174703.nii': 7.668561108015897,\n",
       " '/csc/epitkane/data/ADNI/AD_DL_16_04_22/ADNI_073_S_4393_PT_AV45_Coreg,_Avg,_Standardized_Image_and_Voxel_Size_Br_20131217090620262_76_S208253_I401864.nii': 7.584773077612199,\n",
       " '/csc/epitkane/data/ADNI/AD_DL_16_04_22/ADNI_041_S_4427_PT_AV45_Coreg,_Avg,_Standardized_Image_and_Voxel_Size_Br_20160202094826551_90_S341896_I619348.nii': 7.502738210754851,\n",
       " '/csc/epitkane/data/ADNI/AD_DL_16_04_22/ADNI_129_S_4422_PT_AV45_Coreg,_Avg,_Standardized_Image_and_Voxel_Size_Br_20120110150123858_76_S135016_I277006.nii': 6.8333366280062755,\n",
       " '/csc/epitkane/data/ADNI/AD_DL_16_04_22/ADNI_073_S_5090_PT_AV45_Coreg,_Avg,_Standardized_Image_and_Voxel_Size_Br_20130730094800921_7_S195597_I383044.nii': 6.2106154677523255,\n",
       " '/csc/epitkane/data/ADNI/AD_DL_16_04_22/ADNI_052_S_4807_PT_AV45_Coreg,_Avg,_Standardized_Image_and_Voxel_Size_Br_20140821094856474_20_S227132_I440348.nii': 6.654410218934806,\n",
       " '/csc/epitkane/data/ADNI/AD_DL_16_04_22/ADNI_082_S_4224_PT_AV45_Coreg,_Avg,_Standardized_Image_and_Voxel_Size_Br_20111011123155966_90_S124367_I260479.nii': 7.092630293437552,\n",
       " '/csc/epitkane/data/ADNI/AD_DL_16_04_22/ADNI_082_S_4208_PT_AV45_Coreg,_Avg,_Standardized_Image_and_Voxel_Size_Br_20131105090454039_4_S205460_I397118.nii': 7.29641326877392,\n",
       " '/csc/epitkane/data/ADNI/AD_DL_16_04_22/ADNI_099_S_6038_PT_AV45_Coreg,_Avg,_Standardized_Image_and_Voxel_Size_Br_20200203081201901_65_S916755_I1283691.nii': 7.821643126239982,\n",
       " '/csc/epitkane/data/ADNI/AD_DL_16_04_22/ADNI_099_S_4076_PT_AV45_Coreg,_Avg,_Standardized_Image_and_Voxel_Size_Br_20110712150409397_85_S113749_I244168.nii': 7.304137641734675,\n",
       " '/csc/epitkane/data/ADNI/AD_DL_16_04_22/ADNI_052_S_4945_PT_AV45_Coreg,_Avg,_Standardized_Image_and_Voxel_Size_Br_20130125164948039_22_S179802_I356272.nii': 6.698199997249846,\n",
       " '/csc/epitkane/data/ADNI/AD_DL_16_04_22/ADNI_129_S_4371_PT_AV45_Coreg,_Avg,_Standardized_Image_and_Voxel_Size_Br_20131206082654514_47_S206896_I400394.nii': 6.646130740849646,\n",
       " '/csc/epitkane/data/ADNI/AD_DL_16_04_22/ADNI_032_S_4348_PT_AV45_Coreg,_Avg,_Standardized_Image_and_Voxel_Size_Br_20120622184802511_80_S154278_I312050.nii': 6.475126918307275,\n",
       " '/csc/epitkane/data/ADNI/AD_DL_16_04_22/ADNI_014_S_4577_PT_AV45_Coreg,_Avg,_Standardized_Image_and_Voxel_Size_Br_20120427182400404_10_S147940_I300999.nii': 5.9251264417118765,\n",
       " '/csc/epitkane/data/ADNI/AD_DL_16_04_22/ADNI_098_S_6601_PT_FBB_Coreg,_Avg,_Standardized_Image_and_Voxel_Size_Br_20181220073632002_65_S755731_I1092123.nii': 6.204759762367377,\n",
       " '/csc/epitkane/data/ADNI/AD_DL_16_04_22/ADNI_135_S_4489_PT_AV45_Coreg,_Avg,_Standardized_Image_and_Voxel_Size_Br_20120224152728459_84_S141372_I286495.nii': 7.079065789977765,\n",
       " '/csc/epitkane/data/ADNI/AD_DL_16_04_22/ADNI_053_S_4661_PT_AV45_Coreg,_Avg,_Standardized_Image_and_Voxel_Size_Br_20120904124756507_69_S159147_I330035.nii': 6.352402772602529,\n",
       " '/csc/epitkane/data/ADNI/AD_DL_16_04_22/ADNI_022_S_2263_PT_AV45_Coreg,_Avg,_Standardized_Image_and_Voxel_Size_Br_20110210141835198_75_S99392_I216748.nii': 6.655311641956375,\n",
       " '/csc/epitkane/data/ADNI/AD_DL_16_04_22/ADNI_006_S_4515_PT_AV45_Coreg,_Avg,_Standardized_Image_and_Voxel_Size_Br_20120313135034101_18_S143559_I290036.nii': 6.375254624614218,\n",
       " '/csc/epitkane/data/ADNI/AD_DL_16_04_22/ADNI_941_S_4187_PT_AV45_Coreg,_Avg,_Standardized_Image_and_Voxel_Size_Br_20131118080013834_91_S201432_I398642.nii': 6.962243464266207,\n",
       " '/csc/epitkane/data/ADNI/AD_DL_16_04_22/ADNI_003_S_4350_PT_AV45_Coreg,_Avg,_Standardized_Image_and_Voxel_Size_Br_20120123165122736_80_S137745_I280187.nii': 7.092630293437552,\n",
       " '/csc/epitkane/data/ADNI/AD_DL_16_04_22/ADNI_099_S_6632_PT_AV45_Coreg,_Avg,_Standardized_Image_and_Voxel_Size_Br_20190123090746076_20_S786632_I1119323.nii': 6.019565977218857,\n",
       " '/csc/epitkane/data/ADNI/AD_DL_16_04_22/ADNI_127_S_5266_PT_AV45_Coreg,_Avg,_Standardized_Image_and_Voxel_Size_Br_20130916085007729_10_S199818_I390131.nii': 7.370727451186988,\n",
       " '/csc/epitkane/data/ADNI/AD_DL_16_04_22/ADNI_032_S_4921_PT_AV45_Coreg,_Avg,_Standardized_Image_and_Voxel_Size_Br_20121019091809476_67_S170632_I341163.nii': 7.1059948078752315,\n",
       " '/csc/epitkane/data/ADNI/AD_DL_16_04_22/ADNI_130_S_6604_PT_FBB_Coreg,_Avg,_Standardized_Image_and_Voxel_Size_Br_20181204072458886_28_S749177_I1081285.nii': 6.198072129782092,\n",
       " '/csc/epitkane/data/ADNI/AD_DL_16_04_22/ADNI_072_S_4007_PT_AV45_Coreg,_Avg,_Standardized_Image_and_Voxel_Size_Br_20110503122422722_30_S103271_I232384.nii': 6.4642736021903815,\n",
       " '/csc/epitkane/data/ADNI/AD_DL_16_04_22/ADNI_006_S_6610_PT_FBB_Coreg,_Avg,_Standardized_Image_and_Voxel_Size_Br_20190110095013005_39_S761393_I1115203.nii': 6.07718342251052,\n",
       " '/csc/epitkane/data/ADNI/AD_DL_16_04_22/ADNI_098_S_4003_PT_AV45_Coreg,_Avg,_Standardized_Image_and_Voxel_Size_Br_20160512090023934_87_S435021_I704934.nii': 7.023758954738443,\n",
       " '/csc/epitkane/data/ADNI/AD_DL_16_04_22/ADNI_068_S_4174_PT_AV45_Coreg,_Avg,_Standardized_Image_and_Voxel_Size_Br_20110922162625200_78_S121996_I257495.nii': 6.258727978508186,\n",
       " '/csc/epitkane/data/ADNI/AD_DL_16_04_22/ADNI_041_S_5078_PT_AV45_Coreg,_Avg,_Standardized_Image_and_Voxel_Size_Br_20150310084649682_26_S249728_I476834.nii': 6.942156705699469,\n",
       " '/csc/epitkane/data/ADNI/AD_DL_16_04_22/ADNI_130_S_4641_PT_AV45_Coreg,_Avg,_Standardized_Image_and_Voxel_Size_Br_20120501123052262_93_S148317_I301235.nii': 6.55972306626417,\n",
       " '/csc/epitkane/data/ADNI/AD_DL_16_04_22/ADNI_002_S_6053_PT_AV45_Coreg,_Avg,_Standardized_Image_and_Voxel_Size_Br_20170831150009302_24_S601497_I898781.nii': 7.517520850603031,\n",
       " '/csc/epitkane/data/ADNI/AD_DL_16_04_22/ADNI_129_S_6452_PT_AV45_Coreg,_Avg,_Standardized_Image_and_Voxel_Size_Br_20180807074721382_26_S707052_I1031764.nii': 6.599326133385567,\n",
       " '/csc/epitkane/data/ADNI/AD_DL_16_04_22/ADNI_082_S_4428_PT_AV45_Coreg,_Avg,_Standardized_Image_and_Voxel_Size_Br_20120206143850646_23_S135536_I282944.nii': 6.978363897788424,\n",
       " '/csc/epitkane/data/ADNI/AD_DL_16_04_22/ADNI_018_S_4313_PT_AV45_Coreg,_Avg,_Standardized_Image_and_Voxel_Size_Br_20120803191457629_45_S157646_I321647.nii': 7.092630293437552,\n",
       " '/csc/epitkane/data/ADNI/AD_DL_16_04_22/ADNI_073_S_5023_PT_AV45_Coreg,_Avg,_Standardized_Image_and_Voxel_Size_Br_20121217173624608_41_S176009_I351888.nii': 7.217550221931332,\n",
       " '/csc/epitkane/data/ADNI/AD_DL_16_04_22/ADNI_007_S_4488_PT_AV45_Coreg,_Avg,_Standardized_Image_and_Voxel_Size_Br_20120229163927466_64_S141635_I287173.nii': 7.383918571439664,\n",
       " '/csc/epitkane/data/ADNI/AD_DL_16_04_22/ADNI_027_S_2245_PT_AV45_Coreg,_Avg,_Standardized_Image_and_Voxel_Size_Br_20130128135905478_35_S180559_I356378.nii': 6.9440872082295275,\n",
       " '/csc/epitkane/data/ADNI/AD_DL_16_04_22/ADNI_032_S_6600_PT_AV45_Coreg,_Avg,_Standardized_Image_and_Voxel_Size_Br_20181113074103678_42_S745722_I1072195.nii': 6.582025138892826,\n",
       " '/csc/epitkane/data/ADNI/AD_DL_16_04_22/ADNI_073_S_5023_PT_AV45_Coreg,_Avg,_Standardized_Image_and_Voxel_Size_Br_20141216114512531_46_S242883_I462158.nii': 7.526717561352706,\n",
       " '/csc/epitkane/data/ADNI/AD_DL_16_04_22/ADNI_053_S_5202_PT_AV45_Coreg,_Avg,_Standardized_Image_and_Voxel_Size_Br_20151016081449206_61_S278920_I526993.nii': 6.26530121273771,\n",
       " '/csc/epitkane/data/ADNI/AD_DL_16_04_22/ADNI_024_S_6033_PT_FBB_Coreg,_Avg,_Standardized_Image_and_Voxel_Size_Br_20170701124609382_20_S578292_I869926.nii': 7.629489916393995,\n",
       " '/csc/epitkane/data/ADNI/AD_DL_16_04_22/ADNI_123_S_4096_PT_AV45_Coreg,_Avg,_Standardized_Image_and_Voxel_Size_Br_20110825143843685_24_S118522_I252780.nii': 5.717221362229445,\n",
       " '/csc/epitkane/data/ADNI/AD_DL_16_04_22/ADNI_041_S_4138_PT_AV45_Coreg,_Avg,_Standardized_Image_and_Voxel_Size_Br_20110923175224557_68_S123104_I257870.nii': 7.267663209602652,\n",
       " '/csc/epitkane/data/ADNI/AD_DL_16_04_22/ADNI_114_S_6429_PT_AV45_Coreg,_Avg,_Standardized_Image_and_Voxel_Size_Br_20181030072550075_56_S740218_I1065650.nii': 6.771362654076582,\n",
       " '/csc/epitkane/data/ADNI/AD_DL_16_04_22/ADNI_002_S_0295_PT_AV45_Coreg,_Avg,_Standardized_Image_and_Voxel_Size_Br_20110616145834650_51_S111274_I240520.nii': 6.432779308109843,\n",
       " '/csc/epitkane/data/ADNI/AD_DL_16_04_22/ADNI_941_S_4036_PT_AV45_Coreg,_Avg,_Standardized_Image_and_Voxel_Size_Br_20110908165635581_94_S120774_I255193.nii': 7.267663209602652,\n",
       " '/csc/epitkane/data/ADNI/AD_DL_16_04_22/ADNI_014_S_0658_PT_AV45_Coreg,_Avg,_Standardized_Image_and_Voxel_Size_Br_20101130134737689_36_S95081_I206927.nii': 6.334167333479831,\n",
       " '/csc/epitkane/data/ADNI/AD_DL_16_04_22/ADNI_073_S_4762_PT_AV45_Coreg,_Avg,_Standardized_Image_and_Voxel_Size_Br_20140727192545498_76_S225822_I437152.nii': 6.844069727296004,\n",
       " '/csc/epitkane/data/ADNI/AD_DL_16_04_22/ADNI_141_S_4438_PT_AV45_Coreg,_Avg,_Standardized_Image_and_Voxel_Size_Br_20120224152942992_7_S140406_I286501.nii': 6.375254624614218,\n",
       " ...}"
      ]
     },
     "execution_count": 100,
     "metadata": {},
     "output_type": "execute_result"
    }
   ],
   "source": [
    "abeta_labels"
   ]
  },
  {
   "cell_type": "code",
   "execution_count": 101,
   "metadata": {},
   "outputs": [
    {
     "name": "stdout",
     "output_type": "stream",
     "text": [
      "0.026941537857055664\n"
     ]
    }
   ],
   "source": [
    "#example of image\n",
    "start = time.time()\n",
    "img = nib.load('/csc/epitkane/data/ADNI/AD_DL_03_11_2021/ADNI_128_S_0188_PT_PIB_Coreg,_Avg,_Standardized_Image_and_Voxel_Size_Br_20100622134348255_53_S87355_I179844.nii')\n",
    "end = time.time()\n",
    "print(end - start)"
   ]
  },
  {
   "cell_type": "code",
   "execution_count": 102,
   "metadata": {},
   "outputs": [
    {
     "data": {
      "text/plain": [
       "(160, 160, 96, 1)"
      ]
     },
     "execution_count": 102,
     "metadata": {},
     "output_type": "execute_result"
    }
   ],
   "source": [
    "np.shape(img)"
   ]
  },
  {
   "cell_type": "code",
   "execution_count": 103,
   "metadata": {},
   "outputs": [
    {
     "name": "stdout",
     "output_type": "stream",
     "text": [
      "<class 'numpy.memmap'>\n"
     ]
    },
    {
     "data": {
      "text/plain": [
       "(160, 160, 96, 1)"
      ]
     },
     "execution_count": 103,
     "metadata": {},
     "output_type": "execute_result"
    }
   ],
   "source": [
    "image2 = img.get_fdata()\n",
    "print(type(image2))\n",
    "np.shape(image2)"
   ]
  },
  {
   "cell_type": "code",
   "execution_count": 51,
   "metadata": {},
   "outputs": [
    {
     "data": {
      "text/plain": [
       "<matplotlib.image.AxesImage at 0x7f188534bb20>"
      ]
     },
     "execution_count": 51,
     "metadata": {},
     "output_type": "execute_result"
    },
    {
     "data": {
      "image/png": "[encoded data removed]",
      "text/plain": [
       "<Figure size 432x288 with 1 Axes>"
      ]
     },
     "metadata": {
      "needs_background": "light"
     },
     "output_type": "display_data"
    }
   ],
   "source": [
    "plt.imshow(image2[:,100,:,0])\n"
   ]
  },
  {
   "cell_type": "code",
   "execution_count": 59,
   "metadata": {},
   "outputs": [
    {
     "data": {
      "text/plain": [
       "<matplotlib.image.AxesImage at 0x7f1885174370>"
      ]
     },
     "execution_count": 59,
     "metadata": {},
     "output_type": "execute_result"
    },
    {
     "data": {
      "image/png": "[encoded data removed]",
      "text/plain": [
       "<Figure size 432x288 with 1 Axes>"
      ]
     },
     "metadata": {
      "needs_background": "light"
     },
     "output_type": "display_data"
    }
   ],
   "source": [
    "plt.imshow(image2[:,:,25,0])"
   ]
  },
  {
   "cell_type": "code",
   "execution_count": 104,
   "metadata": {},
   "outputs": [],
   "source": [
    "# augmentation function\n",
    "def aug_random(scan):\n",
    "    # add different level of noise\n",
    "    def aug_noise0(scan):\n",
    "        t1_noise = add_gaussian_noise(scan.copy(), sigma=0)\n",
    "        return t1_noise\n",
    "    def aug_noise5(scan):\n",
    "        t1_noise = add_gaussian_noise(scan.copy(), sigma=0.05)\n",
    "        return t1_noise\n",
    "    def aug_noise10(scan):\n",
    "        t1_noise = add_gaussian_noise(scan.copy(), sigma=0.1)\n",
    "        return t1_noise\n",
    "    def aug_noise15(scan):\n",
    "        t1_noise = add_gaussian_noise(scan.copy(), sigma=0.15)\n",
    "        return t1_noise\n",
    "    def aug_noise20(scan):\n",
    "        t1_noise = add_gaussian_noise(scan.copy(), sigma=0.2)\n",
    "        return t1_noise\n",
    "    def aug_noise25(scan):\n",
    "        t1_noise = add_gaussian_noise(scan.copy(), sigma=0.25)\n",
    "        return t1_noise\n",
    "    # flip an image\n",
    "    def aug_flipx(scan):# 0 - flip by x axis, 1 - y axis,2 - by z, but it's seems useless\n",
    "        t1_flip = flip(scan.copy(), axis=0)\n",
    "        return t1_flip\n",
    "    def aug_flipy(scan):\n",
    "        t1_flip = flip(scan.copy(), axis=1)\n",
    "        return t1_flip\n",
    "    fns = [aug_noise0,aug_noise5,aug_noise10,aug_noise15,aug_noise20,aug_noise25,aug_flipx,aug_flipy]\n",
    "    return choice(fns)(scan)"
   ]
  },
  {
   "cell_type": "code",
   "execution_count": 105,
   "metadata": {},
   "outputs": [],
   "source": [
    "# data generator\n",
    "class DataGenerator(Sequence):\n",
    "    'Generates data for Keras'\n",
    "    def __init__(self, list_IDs, labels, mode_train=True, batch_size=32, dim=(512,512), shuffle=True,\n",
    "                 n_channels = 3):\n",
    "        'Initialization'\n",
    "        self.dim = dim\n",
    "        self.batch_size = batch_size\n",
    "        self.labels = labels\n",
    "        self.list_IDs = list_IDs\n",
    "        self.n_channels = n_channels\n",
    "        #self.n_classes = n_classes\n",
    "        self.shuffle = shuffle\n",
    "        self.mode_train = mode_train\n",
    "        self.on_epoch_end()\n",
    "\n",
    "    def __len__(self):\n",
    "        'Denotes the number of batches per epoch'\n",
    "        return int(np.floor(len(self.list_IDs) / self.batch_size))\n",
    "\n",
    "    def __getitem__(self, index):\n",
    "        'Generate one batch of data'\n",
    "        # Generate indexes of the batch\n",
    "        indexes = self.indexes[index*self.batch_size:(index+1)*self.batch_size]\n",
    "\n",
    "        # Find list of IDs\n",
    "        list_IDs_temp = [self.list_IDs[k] for k in indexes]\n",
    "\n",
    "        # Generate data\n",
    "        X, y = self.__data_generation(list_IDs_temp)\n",
    "\n",
    "        return X, y\n",
    "\n",
    "    def on_epoch_end(self):\n",
    "        'Updates indexes after each epoch'\n",
    "        self.indexes = np.arange(len(self.list_IDs))\n",
    "        if self.shuffle == True:\n",
    "            np.random.shuffle(self.indexes)\n",
    "\n",
    "    def __data_generation(self, list_IDs_temp): #~!!!!!\n",
    "        \n",
    "        'Generates data containing batch_size samples' # X : (n_samples, *dim, n_channels)\n",
    "        # Initialization\n",
    "        X = np.empty((self.batch_size, *self.dim, self.n_channels))\n",
    "        y = np.empty((self.batch_size,1), dtype=float) #!!!!\n",
    "        \n",
    "        # Generate data\n",
    "        for i, ID in enumerate(list_IDs_temp):\n",
    "            # Store sample\n",
    "            img=nib.load(ID)\n",
    "            image =  np.asarray(img.get_fdata())\n",
    "            if self.mode_train == True:\n",
    "                image = aug_random(image)\n",
    "            #X[i,] = np.divide(image, 255) #?\n",
    "            X[i,] = image\n",
    "            # Store class\n",
    "            y[i] = self.labels[ID]\n",
    "            \n",
    "\n",
    "        return X, y #keras.utils.to_categorical(y, num_classes=self.n_classes)"
   ]
  },
  {
   "cell_type": "code",
   "execution_count": 106,
   "metadata": {},
   "outputs": [],
   "source": [
    "params = {'dim': (160,160,96),\n",
    "          'batch_size': 4,\n",
    "          #'n_classes': 4,\n",
    "          'n_channels': 1,\n",
    "          'shuffle': False}\n",
    "\n",
    "\n",
    "\n",
    "# Generators\n",
    "abeta_training_generator = DataGenerator(abeta_partition['train']*12, abeta_labels,mode_train=True, **params)\n",
    "abeta_validation_generator = DataGenerator(abeta_partition['validation'], abeta_labels, mode_train=False, **params)\n",
    "abeta_all_generator = DataGenerator(abeta_partition['all'], abeta_labels,mode_train=False, **params)\n"
   ]
  },
  {
   "cell_type": "code",
   "execution_count": 124,
   "metadata": {},
   "outputs": [
    {
     "data": {
      "text/plain": [
       "2805.0"
      ]
     },
     "execution_count": 124,
     "metadata": {},
     "output_type": "execute_result"
    }
   ],
   "source": [
    "len(abeta_perm)*12/8"
   ]
  },
  {
   "cell_type": "code",
   "execution_count": 107,
   "metadata": {},
   "outputs": [],
   "source": [
    "# IMPORT test set \n",
    "abeta_test_x_or = []\n",
    "abeta_test_label = []\n",
    "index = 0\n",
    "#DATADIR = r\"/csc/epitkane/data/ADNI/AD_DL_03_11_2021/\"\n",
    "\n",
    "for img in abeta_test.iloc[:,-1]: #!!\n",
    "    imag=nib.load(img)\n",
    "    image = imag.get_fdata()\n",
    "    abeta_test_x_or.append(image)\n",
    "\n",
    "abeta_test_x = np.asarray(abeta_test_x_or)\n"
   ]
  },
  {
   "cell_type": "code",
   "execution_count": 108,
   "metadata": {
    "scrolled": false
   },
   "outputs": [],
   "source": [
    "abeta_test_label = np.log(abeta_test.iloc[:,-5].values)\n",
    "\n",
    "abeta_test_label = abeta_test_label.reshape((abeta_test_label.shape[0],1))\n",
    "\n",
    "\n"
   ]
  },
  {
   "cell_type": "code",
   "execution_count": 45,
   "metadata": {},
   "outputs": [
    {
     "data": {
      "text/plain": [
       "(374, 160, 160, 96, 1)"
      ]
     },
     "execution_count": 45,
     "metadata": {},
     "output_type": "execute_result"
    }
   ],
   "source": [
    "abeta_test_x.shape"
   ]
  },
  {
   "cell_type": "code",
   "execution_count": 88,
   "metadata": {},
   "outputs": [
    {
     "name": "stdout",
     "output_type": "stream",
     "text": [
      "<class 'numpy.ndarray'>\n",
      "float64\n"
     ]
    }
   ],
   "source": [
    "print(type(abeta_test_label))\n",
    "print(abeta_test_label.dtype)"
   ]
  },
  {
   "cell_type": "code",
   "execution_count": 45,
   "metadata": {},
   "outputs": [],
   "source": [
    "def identity_block(X, f, filters, stage, block):\n",
    "   \n",
    "    conv_name_base = 'res' + str(stage) + block + '_branch'\n",
    "    bn_name_base = 'bn' + str(stage) + block + '_branch'\n",
    "    F1, F2, F3 = filters\n",
    "\n",
    "    X_shortcut = X\n",
    "   \n",
    "    X = keras.layers.Conv3D(filters=F1, kernel_size=(1, 1,1), strides=(1, 1,1), padding='valid', name=conv_name_base + '2a', kernel_initializer=glorot_uniform(seed=0))(X)\n",
    "    X = keras.layers.BatchNormalization( name=bn_name_base + '2a')(X)\n",
    "    X = keras.layers.Activation('relu')(X)\n",
    "\n",
    "    X = keras.layers.Conv3D(filters=F2, kernel_size=(f, f,f), strides=(1, 1,1), padding='same', name=conv_name_base + '2b', kernel_initializer=glorot_uniform(seed=0))(X)\n",
    "    X = keras.layers.BatchNormalization( name=bn_name_base + '2b')(X)\n",
    "    X = keras.layers.Activation('relu')(X)\n",
    "\n",
    "    X = keras.layers.Conv3D(filters=F3, kernel_size=(1, 1,1), strides=(1, 1,1), padding='valid', name=conv_name_base + '2c', kernel_initializer=glorot_uniform(seed=0))(X)\n",
    "    X = keras.layers.BatchNormalization( name=bn_name_base + '2c')(X)\n",
    "\n",
    "    X = keras.layers.Add()([X, X_shortcut])# SKIP Connection\n",
    "    X = keras.layers.Activation('relu')(X)\n",
    "\n",
    "    return X"
   ]
  },
  {
   "cell_type": "code",
   "execution_count": 46,
   "metadata": {},
   "outputs": [],
   "source": [
    "def convolutional_block(X, f, filters, stage, block, s=2):\n",
    "   \n",
    "    conv_name_base = 'res' + str(stage) + block + '_branch'\n",
    "    bn_name_base = 'bn' + str(stage) + block + '_branch'\n",
    "\n",
    "    F1, F2, F3 = filters\n",
    "\n",
    "    X_shortcut = X\n",
    "\n",
    "    X = keras.layers.Conv3D(filters=F1, kernel_size=(1, 1,1), strides=(s, s,s), padding='valid', name=conv_name_base + '2a', kernel_initializer=glorot_uniform(seed=0))(X)\n",
    "    X = keras.layers.BatchNormalization( name=bn_name_base + '2a')(X)\n",
    "    X = keras.layers.Activation('relu')(X)\n",
    "\n",
    "    X = keras.layers.Conv3D(filters=F2, kernel_size=(f, f,f), strides=(1, 1,1), padding='same', name=conv_name_base + '2b', kernel_initializer=glorot_uniform(seed=0))(X)\n",
    "    X = keras.layers.BatchNormalization( name=bn_name_base + '2b')(X)\n",
    "    X = keras.layers.Activation('relu')(X)\n",
    "\n",
    "    X = keras.layers.Conv3D(filters=F3, kernel_size=(1, 1,1), strides=(1, 1,1), padding='valid', name=conv_name_base + '2c', kernel_initializer=glorot_uniform(seed=0))(X)\n",
    "    X = keras.layers.BatchNormalization( name=bn_name_base + '2c')(X)\n",
    "\n",
    "    X_shortcut = keras.layers.Conv3D(filters=F3, kernel_size=(1, 1,1), strides=(s, s,s), padding='valid', name=conv_name_base + '1', kernel_initializer=glorot_uniform(seed=0))(X_shortcut)\n",
    "    X_shortcut = keras.layers.BatchNormalization( name=bn_name_base + '1')(X_shortcut)\n",
    "\n",
    "    X = keras.layers.Add()([X, X_shortcut])\n",
    "    X = keras.layers.Activation('relu')(X)\n",
    "\n",
    "    return X"
   ]
  },
  {
   "cell_type": "code",
   "execution_count": 47,
   "metadata": {},
   "outputs": [],
   "source": [
    "# ArcheD model architecture\n",
    "def ResNet(input_shape=(160,160,96,1)):\n",
    "\n",
    "    X_input = keras.Input(input_shape)\n",
    "\n",
    "\n",
    "    X = keras.layers.Conv3D(64, (7, 7,3), strides=(2, 2,2), name='conv1', kernel_initializer=glorot_uniform(seed=0))(X_input)\n",
    "    X = keras.layers.BatchNormalization( name='bn_conv1')(X)\n",
    "    X = keras.layers.Activation('relu')(X)\n",
    "    X = keras.layers.MaxPooling3D((3, 3,3), strides=(2, 2,2))(X)\n",
    "\n",
    "    X = convolutional_block(X, f=3, filters=[64, 64, 256], stage=2, block='a', s=1)\n",
    "\n",
    "    \n",
    "    X = keras.layers.MaxPooling3D(pool_size=(2, 2,2), padding='same')(X)\n",
    "\n",
    "\n",
    "    X = convolutional_block(X, f=3, filters=[128, 128, 512], stage=3, block='a', s=2)\n",
    "\n",
    "\n",
    "\n",
    "    X = keras.layers.MaxPooling3D(pool_size=(2, 2,2), padding='same')(X)\n",
    "    X = keras.layers.Flatten()(X)\n",
    "    X=keras.layers.Dense(256, activation='relu', name='fc1',kernel_initializer=glorot_uniform(seed=0))(X)\n",
    "\n",
    "    X=keras.layers.Dense(32, activation='relu', name='fc2',kernel_initializer=glorot_uniform(seed=0))(X)\n",
    "    X = keras.layers.Dense( 1, activation='linear', name='fc3',kernel_initializer=glorot_uniform(seed=0))(X)\n",
    "    model = keras.Model(inputs=X_input, outputs=X, name='ResNet')\n",
    "\n",
    "    return model\n",
    "\n"
   ]
  },
  {
   "cell_type": "code",
   "execution_count": 48,
   "metadata": {},
   "outputs": [],
   "source": [
    "# model_abeta = ArcheD model\n",
    "model_abeta = ResNet(input_shape=(160,160,96,1))"
   ]
  },
  {
   "cell_type": "code",
   "execution_count": 49,
   "metadata": {
    "scrolled": true
   },
   "outputs": [
    {
     "name": "stdout",
     "output_type": "stream",
     "text": [
      "Model: \"ResNet\"\n",
      "__________________________________________________________________________________________________\n",
      "Layer (type)                    Output Shape         Param #     Connected to                     \n",
      "==================================================================================================\n",
      "input_1 (InputLayer)            [(None, 160, 160, 96 0                                            \n",
      "__________________________________________________________________________________________________\n",
      "conv1 (Conv3D)                  (None, 77, 77, 47, 6 9472        input_1[0][0]                    \n",
      "__________________________________________________________________________________________________\n",
      "bn_conv1 (BatchNormalization)   (None, 77, 77, 47, 6 256         conv1[0][0]                      \n",
      "__________________________________________________________________________________________________\n",
      "activation (Activation)         (None, 77, 77, 47, 6 0           bn_conv1[0][0]                   \n",
      "__________________________________________________________________________________________________\n",
      "max_pooling3d (MaxPooling3D)    (None, 38, 38, 23, 6 0           activation[0][0]                 \n",
      "__________________________________________________________________________________________________\n",
      "res2a_branch2a (Conv3D)         (None, 38, 38, 23, 6 4160        max_pooling3d[0][0]              \n",
      "__________________________________________________________________________________________________\n",
      "bn2a_branch2a (BatchNormalizati (None, 38, 38, 23, 6 256         res2a_branch2a[0][0]             \n",
      "__________________________________________________________________________________________________\n",
      "activation_1 (Activation)       (None, 38, 38, 23, 6 0           bn2a_branch2a[0][0]              \n",
      "__________________________________________________________________________________________________\n",
      "res2a_branch2b (Conv3D)         (None, 38, 38, 23, 6 110656      activation_1[0][0]               \n",
      "__________________________________________________________________________________________________\n",
      "bn2a_branch2b (BatchNormalizati (None, 38, 38, 23, 6 256         res2a_branch2b[0][0]             \n",
      "__________________________________________________________________________________________________\n",
      "activation_2 (Activation)       (None, 38, 38, 23, 6 0           bn2a_branch2b[0][0]              \n",
      "__________________________________________________________________________________________________\n",
      "res2a_branch2c (Conv3D)         (None, 38, 38, 23, 2 16640       activation_2[0][0]               \n",
      "__________________________________________________________________________________________________\n",
      "res2a_branch1 (Conv3D)          (None, 38, 38, 23, 2 16640       max_pooling3d[0][0]              \n",
      "__________________________________________________________________________________________________\n",
      "bn2a_branch2c (BatchNormalizati (None, 38, 38, 23, 2 1024        res2a_branch2c[0][0]             \n",
      "__________________________________________________________________________________________________\n",
      "bn2a_branch1 (BatchNormalizatio (None, 38, 38, 23, 2 1024        res2a_branch1[0][0]              \n",
      "__________________________________________________________________________________________________\n",
      "add (Add)                       (None, 38, 38, 23, 2 0           bn2a_branch2c[0][0]              \n",
      "                                                                 bn2a_branch1[0][0]               \n",
      "__________________________________________________________________________________________________\n",
      "activation_3 (Activation)       (None, 38, 38, 23, 2 0           add[0][0]                        \n",
      "__________________________________________________________________________________________________\n",
      "max_pooling3d_1 (MaxPooling3D)  (None, 19, 19, 12, 2 0           activation_3[0][0]               \n",
      "__________________________________________________________________________________________________\n",
      "res3a_branch2a (Conv3D)         (None, 10, 10, 6, 12 32896       max_pooling3d_1[0][0]            \n",
      "__________________________________________________________________________________________________\n",
      "bn3a_branch2a (BatchNormalizati (None, 10, 10, 6, 12 512         res3a_branch2a[0][0]             \n",
      "__________________________________________________________________________________________________\n",
      "activation_4 (Activation)       (None, 10, 10, 6, 12 0           bn3a_branch2a[0][0]              \n",
      "__________________________________________________________________________________________________\n",
      "res3a_branch2b (Conv3D)         (None, 10, 10, 6, 12 442496      activation_4[0][0]               \n",
      "__________________________________________________________________________________________________\n",
      "bn3a_branch2b (BatchNormalizati (None, 10, 10, 6, 12 512         res3a_branch2b[0][0]             \n",
      "__________________________________________________________________________________________________\n",
      "activation_5 (Activation)       (None, 10, 10, 6, 12 0           bn3a_branch2b[0][0]              \n",
      "__________________________________________________________________________________________________\n",
      "res3a_branch2c (Conv3D)         (None, 10, 10, 6, 51 66048       activation_5[0][0]               \n",
      "__________________________________________________________________________________________________\n",
      "res3a_branch1 (Conv3D)          (None, 10, 10, 6, 51 131584      max_pooling3d_1[0][0]            \n",
      "__________________________________________________________________________________________________\n",
      "bn3a_branch2c (BatchNormalizati (None, 10, 10, 6, 51 2048        res3a_branch2c[0][0]             \n",
      "__________________________________________________________________________________________________\n",
      "bn3a_branch1 (BatchNormalizatio (None, 10, 10, 6, 51 2048        res3a_branch1[0][0]              \n",
      "__________________________________________________________________________________________________\n",
      "add_1 (Add)                     (None, 10, 10, 6, 51 0           bn3a_branch2c[0][0]              \n",
      "                                                                 bn3a_branch1[0][0]               \n",
      "__________________________________________________________________________________________________\n",
      "activation_6 (Activation)       (None, 10, 10, 6, 51 0           add_1[0][0]                      \n",
      "__________________________________________________________________________________________________\n",
      "max_pooling3d_2 (MaxPooling3D)  (None, 5, 5, 3, 512) 0           activation_6[0][0]               \n",
      "__________________________________________________________________________________________________\n",
      "flatten (Flatten)               (None, 38400)        0           max_pooling3d_2[0][0]            \n",
      "__________________________________________________________________________________________________\n",
      "fc1 (Dense)                     (None, 256)          9830656     flatten[0][0]                    \n",
      "__________________________________________________________________________________________________\n",
      "fc2 (Dense)                     (None, 32)           8224        fc1[0][0]                        \n",
      "__________________________________________________________________________________________________\n",
      "fc3 (Dense)                     (None, 1)            33          fc2[0][0]                        \n",
      "==================================================================================================\n",
      "Total params: 10,677,441\n",
      "Trainable params: 10,673,473\n",
      "Non-trainable params: 3,968\n",
      "__________________________________________________________________________________________________\n"
     ]
    }
   ],
   "source": [
    "model_abeta.summary()"
   ]
  },
  {
   "cell_type": "code",
   "execution_count": 42,
   "metadata": {},
   "outputs": [
    {
     "data": {
      "text/plain": [
       "35"
      ]
     },
     "execution_count": 42,
     "metadata": {},
     "output_type": "execute_result"
    }
   ],
   "source": [
    "len(model_abeta.layers)"
   ]
  },
  {
   "cell_type": "code",
   "execution_count": 138,
   "metadata": {},
   "outputs": [],
   "source": [
    "model_abeta.compile(loss= 'mse',optimizer= keras.optimizers.Adam(lr=0.0001),metrics=['mse','mae'])"
   ]
  },
  {
   "cell_type": "code",
   "execution_count": null,
   "metadata": {},
   "outputs": [],
   "source": [
    "es = keras.callbacks.EarlyStopping(monitor='val_loss', mode='min', verbose=1, patience=15)\n",
    "mc = keras.callbacks.ModelCheckpoint(date+'/model_{epoch:02d}-{val_loss:.2f}_'+date+'.h5', monitor='val_loss', mode='min', save_best_only=False)\n",
    "reduce_lr = keras.callbacks.ReduceLROnPlateau(monitor='val_loss', factor=0.2,\n",
    "                              patience=5, min_lr=0.000001)"
   ]
  },
  {
   "cell_type": "code",
   "execution_count": 94,
   "metadata": {},
   "outputs": [],
   "source": [
    "\n",
    "history = model_abeta.fit_generator(generator=abeta_training_generator,\n",
    "                                    validation_data=abeta_validation_generator, epochs=150, \n",
    "                                    callbacks=[es, mc,reduce_lr],\n",
    "                                    verbose=1) \n"
   ]
  },
  {
   "cell_type": "code",
   "execution_count": null,
   "metadata": {},
   "outputs": [],
   "source": [
    "# save model\n",
    "model_abeta.save(date+'/abeta_cnn_'+date+'.h5') #!!"
   ]
  },
  {
   "cell_type": "code",
   "execution_count": null,
   "metadata": {},
   "outputs": [],
   "source": [
    "# evaluate model on test data\n",
    "test_acc = model_abeta.evaluate(abeta_test_x, abeta_test_label, verbose=0, batch_size = 4) #!!\n",
    "print(test_acc)"
   ]
  },
  {
   "cell_type": "code",
   "execution_count": null,
   "metadata": {},
   "outputs": [],
   "source": [
    "# predict test \n",
    "ynew2= model_abeta.predict(abeta_test_x, batch_size = 4) #!!\n"
   ]
  },
  {
   "cell_type": "code",
   "execution_count": null,
   "metadata": {},
   "outputs": [],
   "source": [
    "#predict train\n",
    "yold2 =  model_abeta.predict(abeta_training_generator)\n",
    "\n"
   ]
  },
  {
   "cell_type": "code",
   "execution_count": null,
   "metadata": {},
   "outputs": [],
   "source": []
  },
  {
   "cell_type": "code",
   "execution_count": null,
   "metadata": {},
   "outputs": [],
   "source": [
    "\n",
    "stat = stats.linregress(abeta_test_label.flatten(), ynew2.flatten()) # slope intersept rvalue pvalue stderr intercept_stderr\n",
    "print(stat)\n",
    "print(stat[3])\n",
    "print(stat[2]**2)\n"
   ]
  },
  {
   "cell_type": "code",
   "execution_count": null,
   "metadata": {},
   "outputs": [],
   "source": [
    "# save files\n",
    "np.save(date+'/abeta_history_'+date+'.npy',history.history)\n",
    "np.save(date+'/abeta_stat_'+date+'.npy',stat)\n",
    "np.save(date+'/abeta_test_acc_'+date+'.npy',test_acc)\n",
    "np.save(date+'/abeta_prediction_'+date+'.npy',ynew2)\n",
    "np.save(date+'/abeta_train_prediction_'+date+'.npy',yold2)\n",
    "np.save(date+'/abeta_testlab_'+date+'.npy',abeta_test_label)\n",
    "abeta_perm.to_csv(date+'/abeta_info_'+date+'.csv')\n"
   ]
  },
  {
   "cell_type": "code",
   "execution_count": null,
   "metadata": {},
   "outputs": [],
   "source": [
    "print('1st part saved')"
   ]
  },
  {
   "cell_type": "code",
   "execution_count": null,
   "metadata": {},
   "outputs": [],
   "source": [
    "#predict all\n",
    "yall =  model_abeta.predict(abeta_all_generator)\n",
    " \n",
    "\n"
   ]
  },
  {
   "cell_type": "code",
   "execution_count": null,
   "metadata": {},
   "outputs": [],
   "source": [
    "np.save(date+'/abeta_all_prediction_'+date+'.npy',yall)"
   ]
  },
  {
   "cell_type": "code",
   "execution_count": null,
   "metadata": {},
   "outputs": [],
   "source": [
    "#print('the end')\n",
    "#sys.exit()"
   ]
  },
  {
   "cell_type": "code",
   "execution_count": 109,
   "metadata": {},
   "outputs": [
    {
     "ename": "NameError",
     "evalue": "name 'model_abeta' is not defined",
     "output_type": "error",
     "traceback": [
      "\u001b[0;31m---------------------------------------------------------------------------\u001b[0m",
      "\u001b[0;31mNameError\u001b[0m                                 Traceback (most recent call last)",
      "\u001b[0;32m/tmp/ipykernel_46896/1835138302.py\u001b[0m in \u001b[0;36m<module>\u001b[0;34m\u001b[0m\n\u001b[1;32m      1\u001b[0m \u001b[0;31m# model for dense layer output extraction\u001b[0m\u001b[0;34m\u001b[0m\u001b[0;34m\u001b[0m\u001b[0m\n\u001b[0;32m----> 2\u001b[0;31m \u001b[0mmodel2\u001b[0m \u001b[0;34m=\u001b[0m \u001b[0mkeras\u001b[0m\u001b[0;34m.\u001b[0m\u001b[0mModel\u001b[0m\u001b[0;34m(\u001b[0m\u001b[0mmodel_abeta\u001b[0m\u001b[0;34m.\u001b[0m\u001b[0minput\u001b[0m\u001b[0;34m,\u001b[0m \u001b[0mmodel_abeta\u001b[0m\u001b[0;34m.\u001b[0m\u001b[0mlayers\u001b[0m\u001b[0;34m[\u001b[0m\u001b[0;34m-\u001b[0m\u001b[0;36m2\u001b[0m\u001b[0;34m]\u001b[0m\u001b[0;34m.\u001b[0m\u001b[0moutput\u001b[0m\u001b[0;34m)\u001b[0m\u001b[0;34m\u001b[0m\u001b[0;34m\u001b[0m\u001b[0m\n\u001b[0m",
      "\u001b[0;31mNameError\u001b[0m: name 'model_abeta' is not defined"
     ]
    }
   ],
   "source": [
    "# model for dense layer output extraction\n",
    "model2 = keras.Model(model_abeta.input, model_abeta.layers[-2].output)"
   ]
  },
  {
   "cell_type": "code",
   "execution_count": 110,
   "metadata": {},
   "outputs": [
    {
     "ename": "NameError",
     "evalue": "name 'model2' is not defined",
     "output_type": "error",
     "traceback": [
      "\u001b[0;31m---------------------------------------------------------------------------\u001b[0m",
      "\u001b[0;31mNameError\u001b[0m                                 Traceback (most recent call last)",
      "\u001b[0;32m/tmp/ipykernel_46896/2319067009.py\u001b[0m in \u001b[0;36m<module>\u001b[0;34m\u001b[0m\n\u001b[0;32m----> 1\u001b[0;31m model2.compile(loss= 'mse',optimizer= keras.optimizers.Adam(lr=0.0001), #learning_rate\n\u001b[0m\u001b[1;32m      2\u001b[0m                metrics=['mse','mae'])\n",
      "\u001b[0;31mNameError\u001b[0m: name 'model2' is not defined"
     ]
    }
   ],
   "source": [
    "model2.compile(loss= 'mse',optimizer= keras.optimizers.Adam(lr=0.0001), #check the learning rate\n",
    "               metrics=['mse','mae'])"
   ]
  },
  {
   "cell_type": "code",
   "execution_count": 53,
   "metadata": {},
   "outputs": [
    {
     "name": "stdout",
     "output_type": "stream",
     "text": [
      "Model: \"model\"\n",
      "_________________________________________________________________\n",
      "Layer (type)                 Output Shape              Param #   \n",
      "=================================================================\n",
      "conv3d_input (InputLayer)    [(None, 160, 160, 96, 1)] 0         \n",
      "_________________________________________________________________\n",
      "conv3d (Conv3D)              (None, 158, 158, 94, 8)   224       \n",
      "_________________________________________________________________\n",
      "max_pooling3d (MaxPooling3D) (None, 52, 52, 31, 8)     0         \n",
      "_________________________________________________________________\n",
      "conv3d_1 (Conv3D)            (None, 50, 50, 29, 8)     1736      \n",
      "_________________________________________________________________\n",
      "max_pooling3d_1 (MaxPooling3 (None, 16, 16, 9, 8)      0         \n",
      "_________________________________________________________________\n",
      "flatten (Flatten)            (None, 18432)             0         \n",
      "_________________________________________________________________\n",
      "dense (Dense)                (None, 64)                1179712   \n",
      "=================================================================\n",
      "Total params: 1,181,672\n",
      "Trainable params: 1,181,672\n",
      "Non-trainable params: 0\n",
      "_________________________________________________________________\n"
     ]
    }
   ],
   "source": [
    "model2.summary()"
   ]
  },
  {
   "cell_type": "code",
   "execution_count": 71,
   "metadata": {},
   "outputs": [],
   "source": [
    "dense = model2.predict(abeta_training_generator)"
   ]
  },
  {
   "cell_type": "code",
   "execution_count": null,
   "metadata": {},
   "outputs": [],
   "source": [
    "np.save(date+'/abeta_dense_out_'+date+'.npy',dense)"
   ]
  },
  {
   "cell_type": "code",
   "execution_count": null,
   "metadata": {},
   "outputs": [],
   "source": [
    "dense_all = model2.predict(abeta_all_generator)"
   ]
  },
  {
   "cell_type": "code",
   "execution_count": null,
   "metadata": {},
   "outputs": [],
   "source": [
    "np.save(date+'/abeta_dense_all_out_'+date+'.npy',dense_all)"
   ]
  },
  {
   "cell_type": "code",
   "execution_count": null,
   "metadata": {},
   "outputs": [],
   "source": [
    "# BEST MODEL by validation loss\n",
    "# in case we saved model from each epoch we first need to identify the best one by validation lost"
   ]
  },
  {
   "cell_type": "code",
   "execution_count": 126,
   "metadata": {},
   "outputs": [],
   "source": [
    "hist=np.load(date+'/abeta_history_'+date+'.npy',allow_pickle='TRUE').item()"
   ]
  },
  {
   "cell_type": "code",
   "execution_count": 127,
   "metadata": {},
   "outputs": [
    {
     "data": {
      "text/plain": [
       "[0.9034926295280457,\n",
       " 0.2063860297203064,\n",
       " 0.15910622477531433,\n",
       " 0.17502473294734955,\n",
       " 0.13335280120372772,\n",
       " 0.13246940076351166,\n",
       " 0.16599689424037933,\n",
       " 0.12361481040716171,\n",
       " 0.13889099657535553,\n",
       " 0.13170093297958374,\n",
       " 0.13778942823410034,\n",
       " 0.12977942824363708,\n",
       " 0.13153661787509918,\n",
       " 0.129241481423378,\n",
       " 0.12836560606956482,\n",
       " 0.12592819333076477,\n",
       " 0.126034215092659,\n",
       " 0.12687534093856812,\n",
       " 0.12658947706222534,\n",
       " 0.12651196122169495,\n",
       " 0.1264016479253769,\n",
       " 0.1254587173461914,\n",
       " 0.12651775777339935]"
      ]
     },
     "execution_count": 127,
     "metadata": {},
     "output_type": "execute_result"
    }
   ],
   "source": [
    "hist['val_loss']"
   ]
  },
  {
   "cell_type": "code",
   "execution_count": 128,
   "metadata": {},
   "outputs": [],
   "source": [
    "best_model_number = np.where(hist['val_loss']==np.min(hist['val_loss']))[0].tolist()[0]\n",
    "np.where(hist['val_loss']==np.min(hist['val_loss']))[0].astype(int)[0]\n",
    "\n",
    "print(glob.glob(date+'/*')[best_model_number])\n",
    "best_model_name = glob.glob(date+'/*')[best_model_number]\n",
    "saved_model = keras.models.load_model( best_model_name)"
   ]
  },
  {
   "cell_type": "code",
   "execution_count": 65,
   "metadata": {},
   "outputs": [
    {
     "name": "stderr",
     "output_type": "stream",
     "text": [
      "2022-08-18 09:39:16.878072: I tensorflow/compiler/jit/xla_cpu_device.cc:41] Not creating XLA devices, tf_xla_enable_xla_devices not set\n",
      "2022-08-18 09:39:16.879991: W tensorflow/stream_executor/platform/default/dso_loader.cc:60] Could not load dynamic library 'libcuda.so.1'; dlerror: libcuda.so.1: cannot open shared object file: No such file or directory\n",
      "2022-08-18 09:39:16.880039: W tensorflow/stream_executor/cuda/cuda_driver.cc:326] failed call to cuInit: UNKNOWN ERROR (303)\n",
      "2022-08-18 09:39:16.880100: I tensorflow/stream_executor/cuda/cuda_diagnostics.cc:156] kernel driver does not appear to be running on this host (a0): /proc/driver/nvidia/version does not exist\n",
      "2022-08-18 09:39:16.880477: I tensorflow/core/platform/cpu_feature_guard.cc:142] This TensorFlow binary is optimized with oneAPI Deep Neural Network Library (oneDNN) to use the following CPU instructions in performance-critical operations:  SSE4.1 SSE4.2 AVX AVX2 FMA\n",
      "To enable them in other operations, rebuild TensorFlow with the appropriate compiler flags.\n",
      "2022-08-18 09:39:16.964630: I tensorflow/compiler/jit/xla_gpu_device.cc:99] Not creating XLA devices, tf_xla_enable_xla_devices not set\n"
     ]
    }
   ],
   "source": [
    "#saved_model = keras.models.load_model(date+'/best_model_'+date+'.h5')"
   ]
  },
  {
   "cell_type": "code",
   "execution_count": 133,
   "metadata": {
    "scrolled": true
   },
   "outputs": [
    {
     "name": "stdout",
     "output_type": "stream",
     "text": [
      "Model: \"ResNet\"\n",
      "__________________________________________________________________________________________________\n",
      "Layer (type)                    Output Shape         Param #     Connected to                     \n",
      "==================================================================================================\n",
      "input_1 (InputLayer)            [(None, 160, 160, 96 0                                            \n",
      "__________________________________________________________________________________________________\n",
      "conv1 (Conv3D)                  (None, 77, 77, 47, 6 9472        input_1[0][0]                    \n",
      "__________________________________________________________________________________________________\n",
      "bn_conv1 (BatchNormalization)   (None, 77, 77, 47, 6 256         conv1[0][0]                      \n",
      "__________________________________________________________________________________________________\n",
      "activation (Activation)         (None, 77, 77, 47, 6 0           bn_conv1[0][0]                   \n",
      "__________________________________________________________________________________________________\n",
      "max_pooling3d (MaxPooling3D)    (None, 38, 38, 23, 6 0           activation[0][0]                 \n",
      "__________________________________________________________________________________________________\n",
      "res2a_branch2a (Conv3D)         (None, 38, 38, 23, 6 4160        max_pooling3d[0][0]              \n",
      "__________________________________________________________________________________________________\n",
      "bn2a_branch2a (BatchNormalizati (None, 38, 38, 23, 6 256         res2a_branch2a[0][0]             \n",
      "__________________________________________________________________________________________________\n",
      "activation_1 (Activation)       (None, 38, 38, 23, 6 0           bn2a_branch2a[0][0]              \n",
      "__________________________________________________________________________________________________\n",
      "res2a_branch2b (Conv3D)         (None, 38, 38, 23, 6 110656      activation_1[0][0]               \n",
      "__________________________________________________________________________________________________\n",
      "bn2a_branch2b (BatchNormalizati (None, 38, 38, 23, 6 256         res2a_branch2b[0][0]             \n",
      "__________________________________________________________________________________________________\n",
      "activation_2 (Activation)       (None, 38, 38, 23, 6 0           bn2a_branch2b[0][0]              \n",
      "__________________________________________________________________________________________________\n",
      "res2a_branch2c (Conv3D)         (None, 38, 38, 23, 2 16640       activation_2[0][0]               \n",
      "__________________________________________________________________________________________________\n",
      "res2a_branch1 (Conv3D)          (None, 38, 38, 23, 2 16640       max_pooling3d[0][0]              \n",
      "__________________________________________________________________________________________________\n",
      "bn2a_branch2c (BatchNormalizati (None, 38, 38, 23, 2 1024        res2a_branch2c[0][0]             \n",
      "__________________________________________________________________________________________________\n",
      "bn2a_branch1 (BatchNormalizatio (None, 38, 38, 23, 2 1024        res2a_branch1[0][0]              \n",
      "__________________________________________________________________________________________________\n",
      "add (Add)                       (None, 38, 38, 23, 2 0           bn2a_branch2c[0][0]              \n",
      "                                                                 bn2a_branch1[0][0]               \n",
      "__________________________________________________________________________________________________\n",
      "activation_3 (Activation)       (None, 38, 38, 23, 2 0           add[0][0]                        \n",
      "__________________________________________________________________________________________________\n",
      "max_pooling3d_1 (MaxPooling3D)  (None, 19, 19, 12, 2 0           activation_3[0][0]               \n",
      "__________________________________________________________________________________________________\n",
      "res3a_branch2a (Conv3D)         (None, 10, 10, 6, 12 32896       max_pooling3d_1[0][0]            \n",
      "__________________________________________________________________________________________________\n",
      "bn3a_branch2a (BatchNormalizati (None, 10, 10, 6, 12 512         res3a_branch2a[0][0]             \n",
      "__________________________________________________________________________________________________\n",
      "activation_4 (Activation)       (None, 10, 10, 6, 12 0           bn3a_branch2a[0][0]              \n",
      "__________________________________________________________________________________________________\n",
      "res3a_branch2b (Conv3D)         (None, 10, 10, 6, 12 442496      activation_4[0][0]               \n",
      "__________________________________________________________________________________________________\n",
      "bn3a_branch2b (BatchNormalizati (None, 10, 10, 6, 12 512         res3a_branch2b[0][0]             \n",
      "__________________________________________________________________________________________________\n",
      "activation_5 (Activation)       (None, 10, 10, 6, 12 0           bn3a_branch2b[0][0]              \n",
      "__________________________________________________________________________________________________\n",
      "res3a_branch2c (Conv3D)         (None, 10, 10, 6, 51 66048       activation_5[0][0]               \n",
      "__________________________________________________________________________________________________\n",
      "res3a_branch1 (Conv3D)          (None, 10, 10, 6, 51 131584      max_pooling3d_1[0][0]            \n",
      "__________________________________________________________________________________________________\n",
      "bn3a_branch2c (BatchNormalizati (None, 10, 10, 6, 51 2048        res3a_branch2c[0][0]             \n",
      "__________________________________________________________________________________________________\n",
      "bn3a_branch1 (BatchNormalizatio (None, 10, 10, 6, 51 2048        res3a_branch1[0][0]              \n",
      "__________________________________________________________________________________________________\n",
      "add_1 (Add)                     (None, 10, 10, 6, 51 0           bn3a_branch2c[0][0]              \n",
      "                                                                 bn3a_branch1[0][0]               \n",
      "__________________________________________________________________________________________________\n",
      "activation_6 (Activation)       (None, 10, 10, 6, 51 0           add_1[0][0]                      \n",
      "__________________________________________________________________________________________________\n",
      "max_pooling3d_2 (MaxPooling3D)  (None, 5, 5, 3, 512) 0           activation_6[0][0]               \n",
      "__________________________________________________________________________________________________\n",
      "flatten (Flatten)               (None, 38400)        0           max_pooling3d_2[0][0]            \n",
      "__________________________________________________________________________________________________\n",
      "fc1 (Dense)                     (None, 256)          9830656     flatten[0][0]                    \n",
      "__________________________________________________________________________________________________\n",
      "fc2 (Dense)                     (None, 32)           8224        fc1[0][0]                        \n",
      "__________________________________________________________________________________________________\n",
      "fc3 (Dense)                     (None, 1)            33          fc2[0][0]                        \n",
      "==================================================================================================\n",
      "Total params: 10,677,441\n",
      "Trainable params: 10,673,473\n",
      "Non-trainable params: 3,968\n",
      "__________________________________________________________________________________________________\n"
     ]
    }
   ],
   "source": [
    "saved_model.summary()"
   ]
  },
  {
   "cell_type": "code",
   "execution_count": 134,
   "metadata": {
    "scrolled": true
   },
   "outputs": [
    {
     "name": "stderr",
     "output_type": "stream",
     "text": [
      "2022-10-24 10:45:35.074953: W tensorflow/core/framework/cpu_allocator_impl.cc:80] Allocation of 3676569600 exceeds 10% of free system memory.\n"
     ]
    },
    {
     "ename": "KeyboardInterrupt",
     "evalue": "",
     "output_type": "error",
     "traceback": [
      "\u001b[0;31m---------------------------------------------------------------------------\u001b[0m",
      "\u001b[0;31mKeyboardInterrupt\u001b[0m                         Traceback (most recent call last)",
      "\u001b[0;32m/tmp/ipykernel_46896/1231327382.py\u001b[0m in \u001b[0;36m<module>\u001b[0;34m\u001b[0m\n\u001b[0;32m----> 1\u001b[0;31m \u001b[0mtest_acc_best\u001b[0m \u001b[0;34m=\u001b[0m \u001b[0msaved_model\u001b[0m\u001b[0;34m.\u001b[0m\u001b[0mevaluate\u001b[0m\u001b[0;34m(\u001b[0m\u001b[0mabeta_test_x\u001b[0m\u001b[0;34m,\u001b[0m \u001b[0mabeta_test_label\u001b[0m\u001b[0;34m,\u001b[0m \u001b[0mverbose\u001b[0m\u001b[0;34m=\u001b[0m\u001b[0;36m0\u001b[0m\u001b[0;34m,\u001b[0m \u001b[0mbatch_size\u001b[0m \u001b[0;34m=\u001b[0m \u001b[0;36m4\u001b[0m\u001b[0;34m)\u001b[0m \u001b[0;31m#!!\u001b[0m\u001b[0;34m\u001b[0m\u001b[0;34m\u001b[0m\u001b[0m\n\u001b[0m\u001b[1;32m      2\u001b[0m \u001b[0mprint\u001b[0m\u001b[0;34m(\u001b[0m\u001b[0mtest_acc_best\u001b[0m\u001b[0;34m)\u001b[0m\u001b[0;31m#\u001b[0m\u001b[0;34m\u001b[0m\u001b[0;34m\u001b[0m\u001b[0m\n",
      "\u001b[0;32m~/.conda/envs/atagmazi_gpu5/lib/python3.9/site-packages/tensorflow/python/keras/engine/training.py\u001b[0m in \u001b[0;36mevaluate\u001b[0;34m(self, x, y, batch_size, verbose, sample_weight, steps, callbacks, max_queue_size, workers, use_multiprocessing, return_dict)\u001b[0m\n\u001b[1;32m   1387\u001b[0m             \u001b[0;32mwith\u001b[0m \u001b[0mtrace\u001b[0m\u001b[0;34m.\u001b[0m\u001b[0mTrace\u001b[0m\u001b[0;34m(\u001b[0m\u001b[0;34m'test'\u001b[0m\u001b[0;34m,\u001b[0m \u001b[0mstep_num\u001b[0m\u001b[0;34m=\u001b[0m\u001b[0mstep\u001b[0m\u001b[0;34m,\u001b[0m \u001b[0m_r\u001b[0m\u001b[0;34m=\u001b[0m\u001b[0;36m1\u001b[0m\u001b[0;34m)\u001b[0m\u001b[0;34m:\u001b[0m\u001b[0;34m\u001b[0m\u001b[0;34m\u001b[0m\u001b[0m\n\u001b[1;32m   1388\u001b[0m               \u001b[0mcallbacks\u001b[0m\u001b[0;34m.\u001b[0m\u001b[0mon_test_batch_begin\u001b[0m\u001b[0;34m(\u001b[0m\u001b[0mstep\u001b[0m\u001b[0;34m)\u001b[0m\u001b[0;34m\u001b[0m\u001b[0;34m\u001b[0m\u001b[0m\n\u001b[0;32m-> 1389\u001b[0;31m               \u001b[0mtmp_logs\u001b[0m \u001b[0;34m=\u001b[0m \u001b[0mself\u001b[0m\u001b[0;34m.\u001b[0m\u001b[0mtest_function\u001b[0m\u001b[0;34m(\u001b[0m\u001b[0miterator\u001b[0m\u001b[0;34m)\u001b[0m\u001b[0;34m\u001b[0m\u001b[0;34m\u001b[0m\u001b[0m\n\u001b[0m\u001b[1;32m   1390\u001b[0m               \u001b[0;32mif\u001b[0m \u001b[0mdata_handler\u001b[0m\u001b[0;34m.\u001b[0m\u001b[0mshould_sync\u001b[0m\u001b[0;34m:\u001b[0m\u001b[0;34m\u001b[0m\u001b[0;34m\u001b[0m\u001b[0m\n\u001b[1;32m   1391\u001b[0m                 \u001b[0mcontext\u001b[0m\u001b[0;34m.\u001b[0m\u001b[0masync_wait\u001b[0m\u001b[0;34m(\u001b[0m\u001b[0;34m)\u001b[0m\u001b[0;34m\u001b[0m\u001b[0;34m\u001b[0m\u001b[0m\n",
      "\u001b[0;32m~/.conda/envs/atagmazi_gpu5/lib/python3.9/site-packages/tensorflow/python/eager/def_function.py\u001b[0m in \u001b[0;36m__call__\u001b[0;34m(self, *args, **kwds)\u001b[0m\n\u001b[1;32m    826\u001b[0m     \u001b[0mtracing_count\u001b[0m \u001b[0;34m=\u001b[0m \u001b[0mself\u001b[0m\u001b[0;34m.\u001b[0m\u001b[0mexperimental_get_tracing_count\u001b[0m\u001b[0;34m(\u001b[0m\u001b[0;34m)\u001b[0m\u001b[0;34m\u001b[0m\u001b[0;34m\u001b[0m\u001b[0m\n\u001b[1;32m    827\u001b[0m     \u001b[0;32mwith\u001b[0m \u001b[0mtrace\u001b[0m\u001b[0;34m.\u001b[0m\u001b[0mTrace\u001b[0m\u001b[0;34m(\u001b[0m\u001b[0mself\u001b[0m\u001b[0;34m.\u001b[0m\u001b[0m_name\u001b[0m\u001b[0;34m)\u001b[0m \u001b[0;32mas\u001b[0m \u001b[0mtm\u001b[0m\u001b[0;34m:\u001b[0m\u001b[0;34m\u001b[0m\u001b[0;34m\u001b[0m\u001b[0m\n\u001b[0;32m--> 828\u001b[0;31m       \u001b[0mresult\u001b[0m \u001b[0;34m=\u001b[0m \u001b[0mself\u001b[0m\u001b[0;34m.\u001b[0m\u001b[0m_call\u001b[0m\u001b[0;34m(\u001b[0m\u001b[0;34m*\u001b[0m\u001b[0margs\u001b[0m\u001b[0;34m,\u001b[0m \u001b[0;34m**\u001b[0m\u001b[0mkwds\u001b[0m\u001b[0;34m)\u001b[0m\u001b[0;34m\u001b[0m\u001b[0;34m\u001b[0m\u001b[0m\n\u001b[0m\u001b[1;32m    829\u001b[0m       \u001b[0mcompiler\u001b[0m \u001b[0;34m=\u001b[0m \u001b[0;34m\"xla\"\u001b[0m \u001b[0;32mif\u001b[0m \u001b[0mself\u001b[0m\u001b[0;34m.\u001b[0m\u001b[0m_experimental_compile\u001b[0m \u001b[0;32melse\u001b[0m \u001b[0;34m\"nonXla\"\u001b[0m\u001b[0;34m\u001b[0m\u001b[0;34m\u001b[0m\u001b[0m\n\u001b[1;32m    830\u001b[0m       \u001b[0mnew_tracing_count\u001b[0m \u001b[0;34m=\u001b[0m \u001b[0mself\u001b[0m\u001b[0;34m.\u001b[0m\u001b[0mexperimental_get_tracing_count\u001b[0m\u001b[0;34m(\u001b[0m\u001b[0;34m)\u001b[0m\u001b[0;34m\u001b[0m\u001b[0;34m\u001b[0m\u001b[0m\n",
      "\u001b[0;32m~/.conda/envs/atagmazi_gpu5/lib/python3.9/site-packages/tensorflow/python/eager/def_function.py\u001b[0m in \u001b[0;36m_call\u001b[0;34m(self, *args, **kwds)\u001b[0m\n\u001b[1;32m    860\u001b[0m       \u001b[0;31m# In this case we have not created variables on the first call. So we can\u001b[0m\u001b[0;34m\u001b[0m\u001b[0;34m\u001b[0m\u001b[0m\n\u001b[1;32m    861\u001b[0m       \u001b[0;31m# run the first trace but we should fail if variables are created.\u001b[0m\u001b[0;34m\u001b[0m\u001b[0;34m\u001b[0m\u001b[0m\n\u001b[0;32m--> 862\u001b[0;31m       \u001b[0mresults\u001b[0m \u001b[0;34m=\u001b[0m \u001b[0mself\u001b[0m\u001b[0;34m.\u001b[0m\u001b[0m_stateful_fn\u001b[0m\u001b[0;34m(\u001b[0m\u001b[0;34m*\u001b[0m\u001b[0margs\u001b[0m\u001b[0;34m,\u001b[0m \u001b[0;34m**\u001b[0m\u001b[0mkwds\u001b[0m\u001b[0;34m)\u001b[0m\u001b[0;34m\u001b[0m\u001b[0;34m\u001b[0m\u001b[0m\n\u001b[0m\u001b[1;32m    863\u001b[0m       \u001b[0;32mif\u001b[0m \u001b[0mself\u001b[0m\u001b[0;34m.\u001b[0m\u001b[0m_created_variables\u001b[0m\u001b[0;34m:\u001b[0m\u001b[0;34m\u001b[0m\u001b[0;34m\u001b[0m\u001b[0m\n\u001b[1;32m    864\u001b[0m         raise ValueError(\"Creating variables on a non-first call to a function\"\n",
      "\u001b[0;32m~/.conda/envs/atagmazi_gpu5/lib/python3.9/site-packages/tensorflow/python/eager/function.py\u001b[0m in \u001b[0;36m__call__\u001b[0;34m(self, *args, **kwargs)\u001b[0m\n\u001b[1;32m   2940\u001b[0m       (graph_function,\n\u001b[1;32m   2941\u001b[0m        filtered_flat_args) = self._maybe_define_function(args, kwargs)\n\u001b[0;32m-> 2942\u001b[0;31m     return graph_function._call_flat(\n\u001b[0m\u001b[1;32m   2943\u001b[0m         filtered_flat_args, captured_inputs=graph_function.captured_inputs)  # pylint: disable=protected-access\n\u001b[1;32m   2944\u001b[0m \u001b[0;34m\u001b[0m\u001b[0m\n",
      "\u001b[0;32m~/.conda/envs/atagmazi_gpu5/lib/python3.9/site-packages/tensorflow/python/eager/function.py\u001b[0m in \u001b[0;36m_call_flat\u001b[0;34m(self, args, captured_inputs, cancellation_manager)\u001b[0m\n\u001b[1;32m   1916\u001b[0m         and executing_eagerly):\n\u001b[1;32m   1917\u001b[0m       \u001b[0;31m# No tape is watching; skip to running the function.\u001b[0m\u001b[0;34m\u001b[0m\u001b[0;34m\u001b[0m\u001b[0m\n\u001b[0;32m-> 1918\u001b[0;31m       return self._build_call_outputs(self._inference_function.call(\n\u001b[0m\u001b[1;32m   1919\u001b[0m           ctx, args, cancellation_manager=cancellation_manager))\n\u001b[1;32m   1920\u001b[0m     forward_backward = self._select_forward_and_backward_functions(\n",
      "\u001b[0;32m~/.conda/envs/atagmazi_gpu5/lib/python3.9/site-packages/tensorflow/python/eager/function.py\u001b[0m in \u001b[0;36mcall\u001b[0;34m(self, ctx, args, cancellation_manager)\u001b[0m\n\u001b[1;32m    553\u001b[0m       \u001b[0;32mwith\u001b[0m \u001b[0m_InterpolateFunctionError\u001b[0m\u001b[0;34m(\u001b[0m\u001b[0mself\u001b[0m\u001b[0;34m)\u001b[0m\u001b[0;34m:\u001b[0m\u001b[0;34m\u001b[0m\u001b[0;34m\u001b[0m\u001b[0m\n\u001b[1;32m    554\u001b[0m         \u001b[0;32mif\u001b[0m \u001b[0mcancellation_manager\u001b[0m \u001b[0;32mis\u001b[0m \u001b[0;32mNone\u001b[0m\u001b[0;34m:\u001b[0m\u001b[0;34m\u001b[0m\u001b[0;34m\u001b[0m\u001b[0m\n\u001b[0;32m--> 555\u001b[0;31m           outputs = execute.execute(\n\u001b[0m\u001b[1;32m    556\u001b[0m               \u001b[0mstr\u001b[0m\u001b[0;34m(\u001b[0m\u001b[0mself\u001b[0m\u001b[0;34m.\u001b[0m\u001b[0msignature\u001b[0m\u001b[0;34m.\u001b[0m\u001b[0mname\u001b[0m\u001b[0;34m)\u001b[0m\u001b[0;34m,\u001b[0m\u001b[0;34m\u001b[0m\u001b[0;34m\u001b[0m\u001b[0m\n\u001b[1;32m    557\u001b[0m               \u001b[0mnum_outputs\u001b[0m\u001b[0;34m=\u001b[0m\u001b[0mself\u001b[0m\u001b[0;34m.\u001b[0m\u001b[0m_num_outputs\u001b[0m\u001b[0;34m,\u001b[0m\u001b[0;34m\u001b[0m\u001b[0;34m\u001b[0m\u001b[0m\n",
      "\u001b[0;32m~/.conda/envs/atagmazi_gpu5/lib/python3.9/site-packages/tensorflow/python/eager/execute.py\u001b[0m in \u001b[0;36mquick_execute\u001b[0;34m(op_name, num_outputs, inputs, attrs, ctx, name)\u001b[0m\n\u001b[1;32m     57\u001b[0m   \u001b[0;32mtry\u001b[0m\u001b[0;34m:\u001b[0m\u001b[0;34m\u001b[0m\u001b[0;34m\u001b[0m\u001b[0m\n\u001b[1;32m     58\u001b[0m     \u001b[0mctx\u001b[0m\u001b[0;34m.\u001b[0m\u001b[0mensure_initialized\u001b[0m\u001b[0;34m(\u001b[0m\u001b[0;34m)\u001b[0m\u001b[0;34m\u001b[0m\u001b[0;34m\u001b[0m\u001b[0m\n\u001b[0;32m---> 59\u001b[0;31m     tensors = pywrap_tfe.TFE_Py_Execute(ctx._handle, device_name, op_name,\n\u001b[0m\u001b[1;32m     60\u001b[0m                                         inputs, attrs, num_outputs)\n\u001b[1;32m     61\u001b[0m   \u001b[0;32mexcept\u001b[0m \u001b[0mcore\u001b[0m\u001b[0;34m.\u001b[0m\u001b[0m_NotOkStatusException\u001b[0m \u001b[0;32mas\u001b[0m \u001b[0me\u001b[0m\u001b[0;34m:\u001b[0m\u001b[0;34m\u001b[0m\u001b[0;34m\u001b[0m\u001b[0m\n",
      "\u001b[0;31mKeyboardInterrupt\u001b[0m: "
     ]
    }
   ],
   "source": [
    "test_acc_best = saved_model.evaluate(abeta_test_x, abeta_test_label, verbose=0, batch_size = 4) #!!\n",
    "print(test_acc_best)#"
   ]
  },
  {
   "cell_type": "markdown",
   "metadata": {},
   "source": [
    "# Evaluation of the best model"
   ]
  },
  {
   "cell_type": "code",
   "execution_count": 119,
   "metadata": {},
   "outputs": [
    {
     "name": "stderr",
     "output_type": "stream",
     "text": [
      "2022-10-19 15:14:09.552788: W tensorflow/core/framework/cpu_allocator_impl.cc:80] Allocation of 3676569600 exceeds 10% of free system memory.\n"
     ]
    },
    {
     "ename": "KeyboardInterrupt",
     "evalue": "",
     "output_type": "error",
     "traceback": [
      "\u001b[0;31m---------------------------------------------------------------------------\u001b[0m",
      "\u001b[0;31mKeyboardInterrupt\u001b[0m                         Traceback (most recent call last)",
      "\u001b[0;32m/tmp/ipykernel_46896/1064347334.py\u001b[0m in \u001b[0;36m<module>\u001b[0;34m\u001b[0m\n\u001b[0;32m----> 1\u001b[0;31m \u001b[0mynew2_best\u001b[0m\u001b[0;34m=\u001b[0m \u001b[0msaved_model\u001b[0m\u001b[0;34m.\u001b[0m\u001b[0mpredict\u001b[0m\u001b[0;34m(\u001b[0m\u001b[0mabeta_test_x\u001b[0m\u001b[0;34m,\u001b[0m \u001b[0mbatch_size\u001b[0m \u001b[0;34m=\u001b[0m \u001b[0;36m4\u001b[0m\u001b[0;34m)\u001b[0m \u001b[0;31m#!!\u001b[0m\u001b[0;34m\u001b[0m\u001b[0;34m\u001b[0m\u001b[0m\n\u001b[0m",
      "\u001b[0;32m~/.conda/envs/atagmazi_gpu5/lib/python3.9/site-packages/tensorflow/python/keras/engine/training.py\u001b[0m in \u001b[0;36mpredict\u001b[0;34m(self, x, batch_size, verbose, steps, callbacks, max_queue_size, workers, use_multiprocessing)\u001b[0m\n\u001b[1;32m   1627\u001b[0m           \u001b[0;32mfor\u001b[0m \u001b[0mstep\u001b[0m \u001b[0;32min\u001b[0m \u001b[0mdata_handler\u001b[0m\u001b[0;34m.\u001b[0m\u001b[0msteps\u001b[0m\u001b[0;34m(\u001b[0m\u001b[0;34m)\u001b[0m\u001b[0;34m:\u001b[0m\u001b[0;34m\u001b[0m\u001b[0;34m\u001b[0m\u001b[0m\n\u001b[1;32m   1628\u001b[0m             \u001b[0mcallbacks\u001b[0m\u001b[0;34m.\u001b[0m\u001b[0mon_predict_batch_begin\u001b[0m\u001b[0;34m(\u001b[0m\u001b[0mstep\u001b[0m\u001b[0;34m)\u001b[0m\u001b[0;34m\u001b[0m\u001b[0;34m\u001b[0m\u001b[0m\n\u001b[0;32m-> 1629\u001b[0;31m             \u001b[0mtmp_batch_outputs\u001b[0m \u001b[0;34m=\u001b[0m \u001b[0mself\u001b[0m\u001b[0;34m.\u001b[0m\u001b[0mpredict_function\u001b[0m\u001b[0;34m(\u001b[0m\u001b[0miterator\u001b[0m\u001b[0;34m)\u001b[0m\u001b[0;34m\u001b[0m\u001b[0;34m\u001b[0m\u001b[0m\n\u001b[0m\u001b[1;32m   1630\u001b[0m             \u001b[0;32mif\u001b[0m \u001b[0mdata_handler\u001b[0m\u001b[0;34m.\u001b[0m\u001b[0mshould_sync\u001b[0m\u001b[0;34m:\u001b[0m\u001b[0;34m\u001b[0m\u001b[0;34m\u001b[0m\u001b[0m\n\u001b[1;32m   1631\u001b[0m               \u001b[0mcontext\u001b[0m\u001b[0;34m.\u001b[0m\u001b[0masync_wait\u001b[0m\u001b[0;34m(\u001b[0m\u001b[0;34m)\u001b[0m\u001b[0;34m\u001b[0m\u001b[0;34m\u001b[0m\u001b[0m\n",
      "\u001b[0;32m~/.conda/envs/atagmazi_gpu5/lib/python3.9/site-packages/tensorflow/python/eager/def_function.py\u001b[0m in \u001b[0;36m__call__\u001b[0;34m(self, *args, **kwds)\u001b[0m\n\u001b[1;32m    826\u001b[0m     \u001b[0mtracing_count\u001b[0m \u001b[0;34m=\u001b[0m \u001b[0mself\u001b[0m\u001b[0;34m.\u001b[0m\u001b[0mexperimental_get_tracing_count\u001b[0m\u001b[0;34m(\u001b[0m\u001b[0;34m)\u001b[0m\u001b[0;34m\u001b[0m\u001b[0;34m\u001b[0m\u001b[0m\n\u001b[1;32m    827\u001b[0m     \u001b[0;32mwith\u001b[0m \u001b[0mtrace\u001b[0m\u001b[0;34m.\u001b[0m\u001b[0mTrace\u001b[0m\u001b[0;34m(\u001b[0m\u001b[0mself\u001b[0m\u001b[0;34m.\u001b[0m\u001b[0m_name\u001b[0m\u001b[0;34m)\u001b[0m \u001b[0;32mas\u001b[0m \u001b[0mtm\u001b[0m\u001b[0;34m:\u001b[0m\u001b[0;34m\u001b[0m\u001b[0;34m\u001b[0m\u001b[0m\n\u001b[0;32m--> 828\u001b[0;31m       \u001b[0mresult\u001b[0m \u001b[0;34m=\u001b[0m \u001b[0mself\u001b[0m\u001b[0;34m.\u001b[0m\u001b[0m_call\u001b[0m\u001b[0;34m(\u001b[0m\u001b[0;34m*\u001b[0m\u001b[0margs\u001b[0m\u001b[0;34m,\u001b[0m \u001b[0;34m**\u001b[0m\u001b[0mkwds\u001b[0m\u001b[0;34m)\u001b[0m\u001b[0;34m\u001b[0m\u001b[0;34m\u001b[0m\u001b[0m\n\u001b[0m\u001b[1;32m    829\u001b[0m       \u001b[0mcompiler\u001b[0m \u001b[0;34m=\u001b[0m \u001b[0;34m\"xla\"\u001b[0m \u001b[0;32mif\u001b[0m \u001b[0mself\u001b[0m\u001b[0;34m.\u001b[0m\u001b[0m_experimental_compile\u001b[0m \u001b[0;32melse\u001b[0m \u001b[0;34m\"nonXla\"\u001b[0m\u001b[0;34m\u001b[0m\u001b[0;34m\u001b[0m\u001b[0m\n\u001b[1;32m    830\u001b[0m       \u001b[0mnew_tracing_count\u001b[0m \u001b[0;34m=\u001b[0m \u001b[0mself\u001b[0m\u001b[0;34m.\u001b[0m\u001b[0mexperimental_get_tracing_count\u001b[0m\u001b[0;34m(\u001b[0m\u001b[0;34m)\u001b[0m\u001b[0;34m\u001b[0m\u001b[0;34m\u001b[0m\u001b[0m\n",
      "\u001b[0;32m~/.conda/envs/atagmazi_gpu5/lib/python3.9/site-packages/tensorflow/python/eager/def_function.py\u001b[0m in \u001b[0;36m_call\u001b[0;34m(self, *args, **kwds)\u001b[0m\n\u001b[1;32m    860\u001b[0m       \u001b[0;31m# In this case we have not created variables on the first call. So we can\u001b[0m\u001b[0;34m\u001b[0m\u001b[0;34m\u001b[0m\u001b[0m\n\u001b[1;32m    861\u001b[0m       \u001b[0;31m# run the first trace but we should fail if variables are created.\u001b[0m\u001b[0;34m\u001b[0m\u001b[0;34m\u001b[0m\u001b[0m\n\u001b[0;32m--> 862\u001b[0;31m       \u001b[0mresults\u001b[0m \u001b[0;34m=\u001b[0m \u001b[0mself\u001b[0m\u001b[0;34m.\u001b[0m\u001b[0m_stateful_fn\u001b[0m\u001b[0;34m(\u001b[0m\u001b[0;34m*\u001b[0m\u001b[0margs\u001b[0m\u001b[0;34m,\u001b[0m \u001b[0;34m**\u001b[0m\u001b[0mkwds\u001b[0m\u001b[0;34m)\u001b[0m\u001b[0;34m\u001b[0m\u001b[0;34m\u001b[0m\u001b[0m\n\u001b[0m\u001b[1;32m    863\u001b[0m       \u001b[0;32mif\u001b[0m \u001b[0mself\u001b[0m\u001b[0;34m.\u001b[0m\u001b[0m_created_variables\u001b[0m\u001b[0;34m:\u001b[0m\u001b[0;34m\u001b[0m\u001b[0;34m\u001b[0m\u001b[0m\n\u001b[1;32m    864\u001b[0m         raise ValueError(\"Creating variables on a non-first call to a function\"\n",
      "\u001b[0;32m~/.conda/envs/atagmazi_gpu5/lib/python3.9/site-packages/tensorflow/python/eager/function.py\u001b[0m in \u001b[0;36m__call__\u001b[0;34m(self, *args, **kwargs)\u001b[0m\n\u001b[1;32m   2940\u001b[0m       (graph_function,\n\u001b[1;32m   2941\u001b[0m        filtered_flat_args) = self._maybe_define_function(args, kwargs)\n\u001b[0;32m-> 2942\u001b[0;31m     return graph_function._call_flat(\n\u001b[0m\u001b[1;32m   2943\u001b[0m         filtered_flat_args, captured_inputs=graph_function.captured_inputs)  # pylint: disable=protected-access\n\u001b[1;32m   2944\u001b[0m \u001b[0;34m\u001b[0m\u001b[0m\n",
      "\u001b[0;32m~/.conda/envs/atagmazi_gpu5/lib/python3.9/site-packages/tensorflow/python/eager/function.py\u001b[0m in \u001b[0;36m_call_flat\u001b[0;34m(self, args, captured_inputs, cancellation_manager)\u001b[0m\n\u001b[1;32m   1916\u001b[0m         and executing_eagerly):\n\u001b[1;32m   1917\u001b[0m       \u001b[0;31m# No tape is watching; skip to running the function.\u001b[0m\u001b[0;34m\u001b[0m\u001b[0;34m\u001b[0m\u001b[0m\n\u001b[0;32m-> 1918\u001b[0;31m       return self._build_call_outputs(self._inference_function.call(\n\u001b[0m\u001b[1;32m   1919\u001b[0m           ctx, args, cancellation_manager=cancellation_manager))\n\u001b[1;32m   1920\u001b[0m     forward_backward = self._select_forward_and_backward_functions(\n",
      "\u001b[0;32m~/.conda/envs/atagmazi_gpu5/lib/python3.9/site-packages/tensorflow/python/eager/function.py\u001b[0m in \u001b[0;36mcall\u001b[0;34m(self, ctx, args, cancellation_manager)\u001b[0m\n\u001b[1;32m    553\u001b[0m       \u001b[0;32mwith\u001b[0m \u001b[0m_InterpolateFunctionError\u001b[0m\u001b[0;34m(\u001b[0m\u001b[0mself\u001b[0m\u001b[0;34m)\u001b[0m\u001b[0;34m:\u001b[0m\u001b[0;34m\u001b[0m\u001b[0;34m\u001b[0m\u001b[0m\n\u001b[1;32m    554\u001b[0m         \u001b[0;32mif\u001b[0m \u001b[0mcancellation_manager\u001b[0m \u001b[0;32mis\u001b[0m \u001b[0;32mNone\u001b[0m\u001b[0;34m:\u001b[0m\u001b[0;34m\u001b[0m\u001b[0;34m\u001b[0m\u001b[0m\n\u001b[0;32m--> 555\u001b[0;31m           outputs = execute.execute(\n\u001b[0m\u001b[1;32m    556\u001b[0m               \u001b[0mstr\u001b[0m\u001b[0;34m(\u001b[0m\u001b[0mself\u001b[0m\u001b[0;34m.\u001b[0m\u001b[0msignature\u001b[0m\u001b[0;34m.\u001b[0m\u001b[0mname\u001b[0m\u001b[0;34m)\u001b[0m\u001b[0;34m,\u001b[0m\u001b[0;34m\u001b[0m\u001b[0;34m\u001b[0m\u001b[0m\n\u001b[1;32m    557\u001b[0m               \u001b[0mnum_outputs\u001b[0m\u001b[0;34m=\u001b[0m\u001b[0mself\u001b[0m\u001b[0;34m.\u001b[0m\u001b[0m_num_outputs\u001b[0m\u001b[0;34m,\u001b[0m\u001b[0;34m\u001b[0m\u001b[0;34m\u001b[0m\u001b[0m\n",
      "\u001b[0;32m~/.conda/envs/atagmazi_gpu5/lib/python3.9/site-packages/tensorflow/python/eager/execute.py\u001b[0m in \u001b[0;36mquick_execute\u001b[0;34m(op_name, num_outputs, inputs, attrs, ctx, name)\u001b[0m\n\u001b[1;32m     57\u001b[0m   \u001b[0;32mtry\u001b[0m\u001b[0;34m:\u001b[0m\u001b[0;34m\u001b[0m\u001b[0;34m\u001b[0m\u001b[0m\n\u001b[1;32m     58\u001b[0m     \u001b[0mctx\u001b[0m\u001b[0;34m.\u001b[0m\u001b[0mensure_initialized\u001b[0m\u001b[0;34m(\u001b[0m\u001b[0;34m)\u001b[0m\u001b[0;34m\u001b[0m\u001b[0;34m\u001b[0m\u001b[0m\n\u001b[0;32m---> 59\u001b[0;31m     tensors = pywrap_tfe.TFE_Py_Execute(ctx._handle, device_name, op_name,\n\u001b[0m\u001b[1;32m     60\u001b[0m                                         inputs, attrs, num_outputs)\n\u001b[1;32m     61\u001b[0m   \u001b[0;32mexcept\u001b[0m \u001b[0mcore\u001b[0m\u001b[0;34m.\u001b[0m\u001b[0m_NotOkStatusException\u001b[0m \u001b[0;32mas\u001b[0m \u001b[0me\u001b[0m\u001b[0;34m:\u001b[0m\u001b[0;34m\u001b[0m\u001b[0;34m\u001b[0m\u001b[0m\n",
      "\u001b[0;31mKeyboardInterrupt\u001b[0m: "
     ]
    }
   ],
   "source": [
    "ynew2_best= saved_model.predict(abeta_test_x, batch_size = 4) #!!\n"
   ]
  },
  {
   "cell_type": "code",
   "execution_count": null,
   "metadata": {},
   "outputs": [],
   "source": [
    "yold2_best =  saved_model.predict(abeta_training_generator)\n"
   ]
  },
  {
   "cell_type": "code",
   "execution_count": null,
   "metadata": {},
   "outputs": [],
   "source": [
    "yall_best =  saved_model.predict(abeta_all_generator)\n"
   ]
  },
  {
   "cell_type": "code",
   "execution_count": null,
   "metadata": {},
   "outputs": [],
   "source": [
    "stat_best = stats.linregress(abeta_test_label.flatten(), ynew2_best.flatten()) # slope intersept rvalue pvalue stderr intercept_stderr"
   ]
  },
  {
   "cell_type": "code",
   "execution_count": null,
   "metadata": {},
   "outputs": [],
   "source": [
    "# save files\n",
    "np.save(date+'/abeta_stat_best_'+date+'.npy',stat_best)\n",
    "np.save(date+'/abeta_test_acc_best_'+date+'.npy',test_acc_best)\n",
    "np.save(date+'/abeta_prediction_best_'+date+'.npy',ynew2_best)\n",
    "np.save(date+'/abeta_train_prediction_best_'+date+'.npy',yold2_best)\n",
    "np.save(date+'/abeta_all_prediction_best_'+date+'.npy',yall_best)\n"
   ]
  },
  {
   "cell_type": "code",
   "execution_count": null,
   "metadata": {},
   "outputs": [],
   "source": []
  },
  {
   "cell_type": "code",
   "execution_count": 16,
   "metadata": {},
   "outputs": [],
   "source": [
    "model3 = keras.Model(saved_model.input, saved_model.layers[-2].output)"
   ]
  },
  {
   "cell_type": "code",
   "execution_count": null,
   "metadata": {},
   "outputs": [],
   "source": [
    "dense_best = model3.predict(abeta_training_generator)"
   ]
  },
  {
   "cell_type": "code",
   "execution_count": null,
   "metadata": {},
   "outputs": [],
   "source": [
    "np.save(date+'/abeta_dense_out_best_'+date+'.npy',dense_best)"
   ]
  },
  {
   "cell_type": "code",
   "execution_count": null,
   "metadata": {},
   "outputs": [],
   "source": [
    "dense_all_best = model3.predict(abeta_all_generator)"
   ]
  },
  {
   "cell_type": "code",
   "execution_count": null,
   "metadata": {},
   "outputs": [],
   "source": [
    "np.save(date+'/abeta_dense_all_out_best_'+date+'.npy',dense_all_best)"
   ]
  },
  {
   "cell_type": "code",
   "execution_count": 9,
   "metadata": {},
   "outputs": [],
   "source": []
  },
  {
   "cell_type": "code",
   "execution_count": null,
   "metadata": {},
   "outputs": [
    {
     "name": "stdout",
     "output_type": "stream",
     "text": [
      "Epoch 1/10\n"
     ]
    }
   ],
   "source": [
    "print('DONE')"
   ]
  },
  {
   "cell_type": "code",
   "execution_count": null,
   "metadata": {},
   "outputs": [],
   "source": []
  }
 ],
 "metadata": {
  "kernelspec": {
   "display_name": "Python 3 (ipykernel)",
   "language": "python",
   "name": "python3"
  },
  "language_info": {
   "codemirror_mode": {
    "name": "ipython",
    "version": 3
   },
   "file_extension": ".py",
   "mimetype": "text/x-python",
   "name": "python",
   "nbconvert_exporter": "python",
   "pygments_lexer": "ipython3",
   "version": "3.9.7"
  }
 },
 "nbformat": 4,
 "nbformat_minor": 4
}
