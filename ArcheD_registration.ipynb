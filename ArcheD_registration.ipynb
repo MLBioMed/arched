{
 "cells": [
  {
   "cell_type": "markdown",
   "metadata": {},
   "source": [
    "# Registration PET and relevance maps to MRI and MNI152 template"
   ]
  },
  {
   "cell_type": "code",
   "execution_count": 28,
   "metadata": {},
   "outputs": [],
   "source": [
    "# import libraries\n",
    "import pandas as pd\n",
    "import numpy as np\n",
    "import nibabel as nib\n",
    "from tensorflow.keras import Input, Model\n",
    "from tensorflow.keras.layers import Dense, concatenate\n",
    "from tensorflow import keras \n",
    "import keract\n",
    "from keract import get_activations\n",
    "import matplotlib.pyplot as plt"
   ]
  },
  {
   "cell_type": "code",
   "execution_count": 29,
   "metadata": {},
   "outputs": [],
   "source": [
    "import os, fnmatch, glob"
   ]
  },
  {
   "cell_type": "code",
   "execution_count": 30,
   "metadata": {},
   "outputs": [],
   "source": [
    "import scipy\n",
    "import tensorflow as tf"
   ]
  },
  {
   "cell_type": "code",
   "execution_count": 31,
   "metadata": {},
   "outputs": [],
   "source": [
    "import itk \n",
    "\n",
    "import matplotlib.pyplot as plt\n",
    "\n",
    "# %matplotlib inline\n",
    "import seaborn as sns\n",
    "sns.set_style('darkgrid')\n",
    "\n",
    "import ants\n",
    "import pickle"
   ]
  },
  {
   "cell_type": "code",
   "execution_count": 32,
   "metadata": {},
   "outputs": [],
   "source": [
    "from PIL import Image\n",
    "from sklearn.preprocessing import MinMaxScaler\n",
    "import math"
   ]
  },
  {
   "cell_type": "code",
   "execution_count": 33,
   "metadata": {},
   "outputs": [],
   "source": [
    "os.environ['CUDA_VISIBLE_DEVICES'] = \"0\"\n",
    "os.environ['TF_XLA_FLAGS'] = '--tf_xla_enable_xla_devices'\n",
    "os.environ[\"ITK_GLOBAL_DEFAULT_NUMBER_OF_THREADS\"] = \"8\"\n",
    "os.environ['TF_CPP_MIN_LOG_LEVEL'] = '3'"
   ]
  },
  {
   "cell_type": "code",
   "execution_count": 34,
   "metadata": {},
   "outputs": [],
   "source": [
    "# path to files\n",
    "date = '20_10_22'"
   ]
  },
  {
   "cell_type": "code",
   "execution_count": 35,
   "metadata": {},
   "outputs": [
    {
     "data": {
      "text/plain": [
       "23"
      ]
     },
     "execution_count": 35,
     "metadata": {},
     "output_type": "execute_result"
    }
   ],
   "source": [
    "len(glob.glob(date+'/*model*.h5'))"
   ]
  },
  {
   "cell_type": "code",
   "execution_count": 36,
   "metadata": {},
   "outputs": [
    {
     "name": "stdout",
     "output_type": "stream",
     "text": [
      "20_10_22/model_08-0.12_20_10_22.h5\n"
     ]
    }
   ],
   "source": [
    "# load the best model from training\n",
    "if len(glob.glob(date+'/*model*.h5'))>2:\n",
    "    hist=np.load(date+'/abeta_history_'+date+'.npy',allow_pickle='TRUE').item()\n",
    "    best_model_number = np.where(hist['val_loss']==np.min(hist['val_loss']))[0].tolist()[0]\n",
    "    np.where(hist['val_loss']==np.min(hist['val_loss']))[0].astype(int)[0]\n",
    "\n",
    "    print(glob.glob(date+'/*')[best_model_number])\n",
    "    best_model_name = glob.glob(date+'/*')[best_model_number]\n",
    "    saved_model = keras.models.load_model( best_model_name)\n",
    "else:\n",
    "    saved_model = keras.models.load_model(date+'/best_model_'+date+'.h5')"
   ]
  },
  {
   "cell_type": "code",
   "execution_count": 37,
   "metadata": {},
   "outputs": [],
   "source": [
    "meta_full = pd.read_csv('/csc/epitkane/home/atagmazi/AD_DL_ADNI/metafile_completing/metafile_completed_adni_all_04_10_2022.csv')\n",
    "abeta_perm = pd.read_csv(date+'/abeta_info_'+date+'.csv')"
   ]
  },
  {
   "cell_type": "code",
   "execution_count": 38,
   "metadata": {},
   "outputs": [],
   "source": [
    "meta_full['year'] = ''\n",
    "for i in range(meta_full.shape[0]):\n",
    "    meta_full['year'][i] = meta_full['Study.Date'].values[i].split('/')[2]"
   ]
  },
  {
   "cell_type": "code",
   "execution_count": 39,
   "metadata": {},
   "outputs": [
    {
     "data": {
      "text/plain": [
       "(31431, 28)"
      ]
     },
     "execution_count": 39,
     "metadata": {},
     "output_type": "execute_result"
    }
   ],
   "source": [
    "meta_full.shape"
   ]
  },
  {
   "cell_type": "code",
   "execution_count": 40,
   "metadata": {},
   "outputs": [],
   "source": [
    "abeta_perm['year'] = ''\n",
    "for i in range(abeta_perm.shape[0]):\n",
    "    abeta_perm['year'][i] = abeta_perm['Study.Date'].values[i].split('/')[2]"
   ]
  },
  {
   "cell_type": "code",
   "execution_count": 41,
   "metadata": {},
   "outputs": [
    {
     "data": {
      "text/plain": [
       "(1870, 29)"
      ]
     },
     "execution_count": 41,
     "metadata": {},
     "output_type": "execute_result"
    }
   ],
   "source": [
    "abeta_perm.shape"
   ]
  },
  {
   "cell_type": "code",
   "execution_count": 42,
   "metadata": {},
   "outputs": [],
   "source": [
    "\n",
    "train_size = 0.8\n",
    "train_end = int(len(abeta_perm)*train_size)\n",
    "abeta_train = abeta_perm.loc[:train_end]\n",
    "abeta_test = abeta_perm.loc[train_end:]\n",
    "\n"
   ]
  },
  {
   "cell_type": "code",
   "execution_count": 45,
   "metadata": {},
   "outputs": [
    {
     "name": "stdout",
     "output_type": "stream",
     "text": [
      "changed\n",
      "changed\n",
      "changed\n",
      "changed\n",
      "changed\n",
      "changed\n",
      "changed\n",
      "changed\n",
      "changed\n"
     ]
    }
   ],
   "source": [
    "# change activation layers from ReLu to guided ReLu (replace negative gradients with zero)\n",
    "@tf.custom_gradient\n",
    "def guidedRelu(x):\n",
    "    def grad(dy):\n",
    "        return tf.cast(dy>0,tf.float32)  * tf.cast(x>0,tf.float32) * dy\n",
    "    return tf.nn.relu(x), grad\n",
    "\n",
    "\n",
    "layer_dict = [layer for layer in saved_model.layers[1:] if hasattr(layer,'activation')]\n",
    "for layer in layer_dict:\n",
    "    if layer.activation == tf.keras.activations.relu:\n",
    "        layer.activation = guidedRelu\n",
    "        print(\"changed\")\n",
    "        \n",
    "\n"
   ]
  },
  {
   "cell_type": "code",
   "execution_count": 146,
   "metadata": {},
   "outputs": [
    {
     "name": "stdout",
     "output_type": "stream",
     "text": [
      "Model: \"ResNet\"\n",
      "__________________________________________________________________________________________________\n",
      "Layer (type)                    Output Shape         Param #     Connected to                     \n",
      "==================================================================================================\n",
      "input_1 (InputLayer)            [(None, 160, 160, 96 0                                            \n",
      "__________________________________________________________________________________________________\n",
      "conv1 (Conv3D)                  (None, 77, 77, 47, 6 9472        input_1[0][0]                    \n",
      "__________________________________________________________________________________________________\n",
      "bn_conv1 (BatchNormalization)   (None, 77, 77, 47, 6 256         conv1[0][0]                      \n",
      "__________________________________________________________________________________________________\n",
      "activation (Activation)         (None, 77, 77, 47, 6 0           bn_conv1[0][0]                   \n",
      "__________________________________________________________________________________________________\n",
      "max_pooling3d (MaxPooling3D)    (None, 38, 38, 23, 6 0           activation[0][0]                 \n",
      "__________________________________________________________________________________________________\n",
      "res2a_branch2a (Conv3D)         (None, 38, 38, 23, 6 4160        max_pooling3d[0][0]              \n",
      "__________________________________________________________________________________________________\n",
      "bn2a_branch2a (BatchNormalizati (None, 38, 38, 23, 6 256         res2a_branch2a[0][0]             \n",
      "__________________________________________________________________________________________________\n",
      "activation_1 (Activation)       (None, 38, 38, 23, 6 0           bn2a_branch2a[0][0]              \n",
      "__________________________________________________________________________________________________\n",
      "res2a_branch2b (Conv3D)         (None, 38, 38, 23, 6 110656      activation_1[0][0]               \n",
      "__________________________________________________________________________________________________\n",
      "bn2a_branch2b (BatchNormalizati (None, 38, 38, 23, 6 256         res2a_branch2b[0][0]             \n",
      "__________________________________________________________________________________________________\n",
      "activation_2 (Activation)       (None, 38, 38, 23, 6 0           bn2a_branch2b[0][0]              \n",
      "__________________________________________________________________________________________________\n",
      "res2a_branch2c (Conv3D)         (None, 38, 38, 23, 2 16640       activation_2[0][0]               \n",
      "__________________________________________________________________________________________________\n",
      "res2a_branch1 (Conv3D)          (None, 38, 38, 23, 2 16640       max_pooling3d[0][0]              \n",
      "__________________________________________________________________________________________________\n",
      "bn2a_branch2c (BatchNormalizati (None, 38, 38, 23, 2 1024        res2a_branch2c[0][0]             \n",
      "__________________________________________________________________________________________________\n",
      "bn2a_branch1 (BatchNormalizatio (None, 38, 38, 23, 2 1024        res2a_branch1[0][0]              \n",
      "__________________________________________________________________________________________________\n",
      "add (Add)                       (None, 38, 38, 23, 2 0           bn2a_branch2c[0][0]              \n",
      "                                                                 bn2a_branch1[0][0]               \n",
      "__________________________________________________________________________________________________\n",
      "activation_3 (Activation)       (None, 38, 38, 23, 2 0           add[0][0]                        \n",
      "__________________________________________________________________________________________________\n",
      "max_pooling3d_1 (MaxPooling3D)  (None, 19, 19, 12, 2 0           activation_3[0][0]               \n",
      "__________________________________________________________________________________________________\n",
      "res3a_branch2a (Conv3D)         (None, 10, 10, 6, 12 32896       max_pooling3d_1[0][0]            \n",
      "__________________________________________________________________________________________________\n",
      "bn3a_branch2a (BatchNormalizati (None, 10, 10, 6, 12 512         res3a_branch2a[0][0]             \n",
      "__________________________________________________________________________________________________\n",
      "activation_4 (Activation)       (None, 10, 10, 6, 12 0           bn3a_branch2a[0][0]              \n",
      "__________________________________________________________________________________________________\n",
      "res3a_branch2b (Conv3D)         (None, 10, 10, 6, 12 442496      activation_4[0][0]               \n",
      "__________________________________________________________________________________________________\n",
      "bn3a_branch2b (BatchNormalizati (None, 10, 10, 6, 12 512         res3a_branch2b[0][0]             \n",
      "__________________________________________________________________________________________________\n",
      "activation_5 (Activation)       (None, 10, 10, 6, 12 0           bn3a_branch2b[0][0]              \n",
      "__________________________________________________________________________________________________\n",
      "res3a_branch2c (Conv3D)         (None, 10, 10, 6, 51 66048       activation_5[0][0]               \n",
      "__________________________________________________________________________________________________\n",
      "res3a_branch1 (Conv3D)          (None, 10, 10, 6, 51 131584      max_pooling3d_1[0][0]            \n",
      "__________________________________________________________________________________________________\n",
      "bn3a_branch2c (BatchNormalizati (None, 10, 10, 6, 51 2048        res3a_branch2c[0][0]             \n",
      "__________________________________________________________________________________________________\n",
      "bn3a_branch1 (BatchNormalizatio (None, 10, 10, 6, 51 2048        res3a_branch1[0][0]              \n",
      "__________________________________________________________________________________________________\n",
      "add_1 (Add)                     (None, 10, 10, 6, 51 0           bn3a_branch2c[0][0]              \n",
      "                                                                 bn3a_branch1[0][0]               \n",
      "__________________________________________________________________________________________________\n",
      "activation_6 (Activation)       (None, 10, 10, 6, 51 0           add_1[0][0]                      \n",
      "__________________________________________________________________________________________________\n",
      "max_pooling3d_2 (MaxPooling3D)  (None, 5, 5, 3, 512) 0           activation_6[0][0]               \n",
      "__________________________________________________________________________________________________\n",
      "flatten (Flatten)               (None, 38400)        0           max_pooling3d_2[0][0]            \n",
      "__________________________________________________________________________________________________\n",
      "fc1 (Dense)                     (None, 256)          9830656     flatten[0][0]                    \n",
      "__________________________________________________________________________________________________\n",
      "fc2 (Dense)                     (None, 32)           8224        fc1[0][0]                        \n",
      "__________________________________________________________________________________________________\n",
      "fc3 (Dense)                     (None, 1)            33          fc2[0][0]                        \n",
      "==================================================================================================\n",
      "Total params: 10,677,441\n",
      "Trainable params: 10,673,473\n",
      "Non-trainable params: 3,968\n",
      "__________________________________________________________________________________________________\n"
     ]
    }
   ],
   "source": [
    "saved_model.summary()"
   ]
  },
  {
   "cell_type": "code",
   "execution_count": 22,
   "metadata": {},
   "outputs": [],
   "source": [
    "img=nib.load('/csc/epitkane/data/ADNI/AD_DL_03_11_2021/ADNI_002_S_0295_PT_AV45_Coreg,_Avg,_Standardized_Image_and_Voxel_Size_Br_20110616145834650_51_S111274_I240520.nii')\n",
    "image = img.get_fdata()"
   ]
  },
  {
   "cell_type": "code",
   "execution_count": 23,
   "metadata": {},
   "outputs": [],
   "source": [
    "image = image.reshape([1,160, 160, 96, 1])"
   ]
  },
  {
   "cell_type": "code",
   "execution_count": 149,
   "metadata": {},
   "outputs": [],
   "source": [
    "# example of relevance map calculation\n",
    "input_img = tf.convert_to_tensor(image[:1], dtype = 'float32')\n",
    "with tf.GradientTape() as tape:\n",
    "    tape.watch(input_img)\n",
    "    predicted_csf = saved_model(input_img)\n",
    "grads = tape.gradient(predicted_csf, input_img)"
   ]
  },
  {
   "cell_type": "code",
   "execution_count": 25,
   "metadata": {},
   "outputs": [
    {
     "data": {
      "text/plain": [
       "<matplotlib.image.AxesImage at 0x7f0c2c3f03a0>"
      ]
     },
     "execution_count": 25,
     "metadata": {},
     "output_type": "execute_result"
    },
    {
     "data": {
      "image/png": "[encoded data removed]",
      "text/plain": [
       "<Figure size 432x288 with 1 Axes>"
      ]
     },
     "metadata": {},
     "output_type": "display_data"
    }
   ],
   "source": [
    "plt.imshow(np.rot90(grads[0][60,:,:]), cmap = 'jet')"
   ]
  },
  {
   "cell_type": "code",
   "execution_count": 26,
   "metadata": {},
   "outputs": [],
   "source": [
    "# mni https://www.bic.mni.mcgill.ca/ServicesAtlases/ICBM152NLin2009\n",
    "mni_t1 = ants.image_read('/csc/epitkane/home/atagmazi/Downloads/mni_icbm152_nlin_sym_09a_nifti/mni_icbm152_nlin_sym_09a/mni_icbm152_t1_tal_nlin_sym_09a.nii')\n",
    "brain_mask = ants.image_read('/csc/epitkane/home/atagmazi/Downloads/mni_icbm152_nlin_sym_09a_nifti/mni_icbm152_nlin_sym_09a/mni_icbm152_t1_tal_nlin_sym_09a_mask.nii')\n",
    "\n"
   ]
  },
  {
   "cell_type": "markdown",
   "metadata": {},
   "source": [
    "## Automatization, require enough computational power"
   ]
  },
  {
   "cell_type": "code",
   "execution_count": 27,
   "metadata": {},
   "outputs": [],
   "source": [
    "id = abeta_perm['Image_id'].unique()\n",
    "wrap_grad_all = dict()\n",
    "wrap_pet_all = dict()"
   ]
  },
  {
   "cell_type": "code",
   "execution_count": 40,
   "metadata": {},
   "outputs": [
    {
     "data": {
      "text/plain": [
       "374"
      ]
     },
     "execution_count": 40,
     "metadata": {},
     "output_type": "execute_result"
    }
   ],
   "source": [
    "abeta_test.shape[0]"
   ]
  },
  {
   "cell_type": "code",
   "execution_count": 41,
   "metadata": {
    "scrolled": true
   },
   "outputs": [
    {
     "data": {
      "text/plain": [
       "'I194763'"
      ]
     },
     "execution_count": 41,
     "metadata": {},
     "output_type": "execute_result"
    }
   ],
   "source": [
    "id[15]"
   ]
  },
  {
   "cell_type": "code",
   "execution_count": 139,
   "metadata": {
    "scrolled": true
   },
   "outputs": [
    {
     "name": "stdout",
     "output_type": "stream",
     "text": [
      "0    0 I323924 done\n",
      "Name: Image_id, dtype: object\n",
      "1    1 I364745 error\n",
      "Name: Image_id, dtype: object\n",
      "2    2 I641244 done\n",
      "Name: Image_id, dtype: object\n",
      "3    3 I1208983 error\n",
      "Name: Image_id, dtype: object\n",
      "4    4 I269770 done\n",
      "Name: Image_id, dtype: object\n",
      "5    5 I1054691 error\n",
      "Name: Image_id, dtype: object\n",
      "6    6 I421684 done\n",
      "Name: Image_id, dtype: object\n",
      "7    7 I316555 done\n",
      "Name: Image_id, dtype: object\n",
      "8    8 I1021704 error\n",
      "Name: Image_id, dtype: object\n",
      "9    9 I399239 error\n",
      "Name: Image_id, dtype: object\n",
      "10    10 I858357 done\n",
      "Name: Image_id, dtype: object\n",
      "11    11 I337259 done\n",
      "Name: Image_id, dtype: object\n",
      "12    12 I495336 done\n",
      "Name: Image_id, dtype: object\n",
      "13    13 I247735 done\n",
      "Name: Image_id, dtype: object\n",
      "14    14 I1057212 error\n",
      "Name: Image_id, dtype: object\n"
     ]
    },
    {
     "ename": "IndexError",
     "evalue": "index 0 is out of bounds for axis 0 with size 0",
     "output_type": "error",
     "traceback": [
      "\u001b[0;31m---------------------------------------------------------------------------\u001b[0m",
      "\u001b[0;31mIndexError\u001b[0m                                Traceback (most recent call last)",
      "\u001b[0;32m/tmp/ipykernel_46980/588444316.py\u001b[0m in \u001b[0;36m<module>\u001b[0;34m\u001b[0m\n\u001b[1;32m     18\u001b[0m         \u001b[0;31m#if ' MPRAGE' in mri_data['Description'].values:\u001b[0m\u001b[0;34m\u001b[0m\u001b[0;34m\u001b[0m\u001b[0m\n\u001b[1;32m     19\u001b[0m         \u001b[0;32mif\u001b[0m \u001b[0;34m(\u001b[0m\u001b[0mmri_data\u001b[0m\u001b[0;34m[\u001b[0m\u001b[0;34m'Description'\u001b[0m\u001b[0;34m]\u001b[0m\u001b[0;34m.\u001b[0m\u001b[0mvalues\u001b[0m \u001b[0;34m==\u001b[0m \u001b[0;34m' MPRAGE'\u001b[0m\u001b[0;34m)\u001b[0m\u001b[0;34m.\u001b[0m\u001b[0many\u001b[0m\u001b[0;34m:\u001b[0m\u001b[0;34m\u001b[0m\u001b[0;34m\u001b[0m\u001b[0m\n\u001b[0;32m---> 20\u001b[0;31m             \u001b[0mmri\u001b[0m\u001b[0;34m=\u001b[0m\u001b[0mants\u001b[0m\u001b[0;34m.\u001b[0m\u001b[0mimage_read\u001b[0m\u001b[0;34m(\u001b[0m\u001b[0mmri_data\u001b[0m\u001b[0;34m[\u001b[0m\u001b[0;34m'PATH'\u001b[0m\u001b[0;34m]\u001b[0m\u001b[0;34m.\u001b[0m\u001b[0mloc\u001b[0m\u001b[0;34m[\u001b[0m\u001b[0mmri_data\u001b[0m\u001b[0;34m[\u001b[0m\u001b[0;34m'Description'\u001b[0m\u001b[0;34m]\u001b[0m \u001b[0;34m==\u001b[0m \u001b[0;34m' MPRAGE'\u001b[0m\u001b[0;34m]\u001b[0m\u001b[0;34m.\u001b[0m\u001b[0mvalues\u001b[0m\u001b[0;34m[\u001b[0m\u001b[0;36m0\u001b[0m\u001b[0;34m]\u001b[0m\u001b[0;34m)\u001b[0m\u001b[0;34m\u001b[0m\u001b[0;34m\u001b[0m\u001b[0m\n\u001b[0m\u001b[1;32m     21\u001b[0m             \u001b[0;32mif\u001b[0m \u001b[0mnp\u001b[0m\u001b[0;34m.\u001b[0m\u001b[0msum\u001b[0m\u001b[0;34m(\u001b[0m\u001b[0mnp\u001b[0m\u001b[0;34m.\u001b[0m\u001b[0misnan\u001b[0m\u001b[0;34m(\u001b[0m\u001b[0mmri\u001b[0m\u001b[0;34m.\u001b[0m\u001b[0mnumpy\u001b[0m\u001b[0;34m(\u001b[0m\u001b[0;34m)\u001b[0m\u001b[0;34m)\u001b[0m\u001b[0;34m)\u001b[0m \u001b[0;34m>\u001b[0m \u001b[0;36m0\u001b[0m\u001b[0;34m:\u001b[0m\u001b[0;34m\u001b[0m\u001b[0;34m\u001b[0m\u001b[0m\n\u001b[1;32m     22\u001b[0m                 \u001b[0mmri\u001b[0m\u001b[0;34m=\u001b[0m\u001b[0mants\u001b[0m\u001b[0;34m.\u001b[0m\u001b[0mimage_read\u001b[0m\u001b[0;34m(\u001b[0m\u001b[0mmri_data\u001b[0m\u001b[0;34m[\u001b[0m\u001b[0;34m'PATH'\u001b[0m\u001b[0;34m]\u001b[0m\u001b[0;34m.\u001b[0m\u001b[0mloc\u001b[0m\u001b[0;34m[\u001b[0m\u001b[0mmri_data\u001b[0m\u001b[0;34m[\u001b[0m\u001b[0;34m'Modality'\u001b[0m\u001b[0;34m]\u001b[0m \u001b[0;34m==\u001b[0m \u001b[0;34m'MRI'\u001b[0m\u001b[0;34m]\u001b[0m\u001b[0;34m.\u001b[0m\u001b[0mvalues\u001b[0m\u001b[0;34m[\u001b[0m\u001b[0;36m0\u001b[0m\u001b[0;34m]\u001b[0m\u001b[0;34m)\u001b[0m\u001b[0;34m\u001b[0m\u001b[0;34m\u001b[0m\u001b[0m\n",
      "\u001b[0;31mIndexError\u001b[0m: index 0 is out of bounds for axis 0 with size 0"
     ]
    }
   ],
   "source": [
    "suc = 0 \n",
    "er = 0\n",
    "for i in range(abeta_perm.shape[0]):\n",
    "    #finding the matching MRI and PET scans\n",
    "    pet_id = abeta_perm[abeta_perm['Image_id']==id[i]] # all data\n",
    "    mri_data = meta_full.copy()\n",
    "    mri_data = mri_data[mri_data['RID'].isin(pet_id['RID'])]\n",
    "    mri_data = mri_data.loc[(mri_data['Image_id']==pet_id['Image_id'].values[0]) |\n",
    "                            ((mri_data['Modality'].isin(['MRI'])) & (mri_data['Age'].values == pet_id['Age'].values[0]))|\n",
    "                            ((mri_data['Modality'].isin(['MRI'])) & (mri_data['VISITCODE'].isin(pet_id['VISITCODE'])))|\n",
    "                       ((mri_data['Modality'].isin(['MRI'])) & (mri_data['year'].values == pet_id['year'].values[0]))]\n",
    "    \n",
    "    \n",
    "    if mri_data.shape[0]>1: #1 because one of the line is for PET scan\n",
    "        if (mri_data['Description'].values == ' MPRAGE').any():\n",
    "            mri=ants.image_read(mri_data['PATH'].loc[mri_data['Description'] == ' MPRAGE'].values[0])\n",
    "            if np.sum(np.isnan(mri.numpy())) > 0:\n",
    "                mri=ants.image_read(mri_data['PATH'].loc[mri_data['Modality'] == 'MRI'].values[0])\n",
    "                if np.sum(np.isnan(mri.numpy())) > 0:\n",
    "                    er += 1\n",
    "                    print(str(i) + ' '+ pet_id['Image_id']+' error')\n",
    "                    continue\n",
    "        else:\n",
    "            mri=ants.image_read(mri_data['PATH'].loc[mri_data['Modality'] == 'MRI'].values[0])\n",
    "            if np.sum(np.isnan(mri.numpy())) > 0:\n",
    "                er += 1\n",
    "                print(str(i) + ' '+ pet_id['Image_id']+' error')\n",
    "                continue\n",
    "    \n",
    "  \n",
    "        # co-registration to MNI152 template    \n",
    "        pet = ants.image_read(pet_id['PATH'].values[0])\n",
    "\n",
    "        pet_numpy=pet.numpy()\n",
    "    \n",
    "        image = pet_numpy.reshape([1,160, 160, 96, 1])\n",
    "        input_img = tf.convert_to_tensor(image[:1], dtype = 'float32')\n",
    "        with tf.GradientTape() as tape:\n",
    "            tape.watch(input_img)\n",
    "            predicted_csf = saved_model(input_img)\n",
    "        grads = tape.gradient(predicted_csf, input_img)\n",
    "    \n",
    "        grad = ants.from_numpy(np.array(grads).reshape([160, 160, 96]),origin=pet.origin, spacing=pet.spacing, \n",
    "                       direction=pet.direction)\n",
    "    \n",
    "        pet_to_mri = ants.registration(fixed=mri, moving=pet, type_of_transform = 'SyN')\n",
    "    \n",
    "        mri_to_mni = ants.registration(fixed=mni_t1, moving=mri, type_of_transform = 'SyN')\n",
    "    \n",
    "        transf_list = mri_to_mni[ 'fwdtransforms'] + pet_to_mri[ 'fwdtransforms']\n",
    "    \n",
    "        wrap_grad = ants.apply_transforms(fixed = mni_t1, moving = grad,\n",
    "                             transformlist=transf_list)\n",
    "        wrap_grad_all[pet_id['Image_id'].values[0]] = wrap_grad.numpy()\n",
    "        \n",
    "        wrap_pet = ants.apply_transforms(fixed = mni_t1, moving = pet,\n",
    "                             transformlist=transf_list)\n",
    "        wrap_pet_all[pet_id['Image_id'].values[0]] = wrap_pet.numpy()\n",
    "        \n",
    "        suc += 1\n",
    "        print(str(i) + ' '+ pet_id['Image_id']+' done')\n",
    "        \n",
    "        #remove temporaly files from /tmp directory\n",
    "        for filename in fnmatch.filter(os.listdir('/tmp/'), 'tmp*Warp.nii.gz')+fnmatch.filter(os.listdir('/tmp/'), '*Affine.mat'):\n",
    "            os.remove(os.path.join('/tmp/', filename))\n",
    "    else: \n",
    "        er += 1\n",
    "        print(str(i) + ' '+ pet_id['Image_id']+' error')\n",
    "    #print(mri_data)"
   ]
  },
  {
   "cell_type": "code",
   "execution_count": 50,
   "metadata": {},
   "outputs": [],
   "source": [
    "# save files with registered pet and relevance maps\n",
    "with open('wrap_grad_all.pkl', 'wb') as f:\n",
    "    pickle.dump(wrap_grad_all, f)\n",
    "    \n",
    "with open('wrap_pet_all.pkl', 'wb') as f:\n",
    "    pickle.dump(wrap_pet_all, f)\n"
   ]
  },
  {
   "cell_type": "code",
   "execution_count": 51,
   "metadata": {},
   "outputs": [
    {
     "name": "stdout",
     "output_type": "stream",
     "text": [
      "DONE\n"
     ]
    }
   ],
   "source": [
    "#srun --time=16:00:00 --mem=20G --cpus-per-task=8 python abeta_registration.py > reg_out.txt 2> reg_log.txt\n",
    "\n",
    "print('DONE')"
   ]
  },
  {
   "cell_type": "code",
   "execution_count": null,
   "metadata": {},
   "outputs": [],
   "source": []
  }
 ],
 "metadata": {
  "kernelspec": {
   "display_name": "Python 3 (ipykernel)",
   "language": "python",
   "name": "python3"
  },
  "language_info": {
   "codemirror_mode": {
    "name": "ipython",
    "version": 3
   },
   "file_extension": ".py",
   "mimetype": "text/x-python",
   "name": "python",
   "nbconvert_exporter": "python",
   "pygments_lexer": "ipython3",
   "version": "3.9.7"
  }
 },
 "nbformat": 4,
 "nbformat_minor": 4
}
